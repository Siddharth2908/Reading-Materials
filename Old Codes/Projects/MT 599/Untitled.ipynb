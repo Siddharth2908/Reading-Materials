{
 "cells": [
  {
   "cell_type": "code",
   "execution_count": 4,
   "metadata": {},
   "outputs": [
    {
     "ename": "ModuleNotFoundError",
     "evalue": "No module named 'spacy'",
     "output_type": "error",
     "traceback": [
      "\u001b[1;31m---------------------------------------------------------------------------\u001b[0m",
      "\u001b[1;31mModuleNotFoundError\u001b[0m                       Traceback (most recent call last)",
      "\u001b[1;32m<ipython-input-4-ea51a6437854>\u001b[0m in \u001b[0;36m<module>\u001b[1;34m()\u001b[0m\n\u001b[0;32m      1\u001b[0m \u001b[1;32mimport\u001b[0m \u001b[0mpandas\u001b[0m \u001b[1;32mas\u001b[0m \u001b[0mpd\u001b[0m\u001b[1;33m\u001b[0m\u001b[0m\n\u001b[1;32m----> 2\u001b[1;33m \u001b[1;32mimport\u001b[0m \u001b[0mspacy\u001b[0m\u001b[1;33m\u001b[0m\u001b[0m\n\u001b[0m\u001b[0;32m      3\u001b[0m \u001b[1;32mimport\u001b[0m \u001b[0mnumpy\u001b[0m \u001b[1;32mas\u001b[0m \u001b[0mnp\u001b[0m\u001b[1;33m\u001b[0m\u001b[0m\n\u001b[0;32m      4\u001b[0m \u001b[1;32mimport\u001b[0m \u001b[0mscattertext\u001b[0m \u001b[1;32mas\u001b[0m \u001b[0mst\u001b[0m\u001b[1;33m\u001b[0m\u001b[0m\n\u001b[0;32m      5\u001b[0m \u001b[1;33m\u001b[0m\u001b[0m\n",
      "\u001b[1;31mModuleNotFoundError\u001b[0m: No module named 'spacy'"
     ]
    }
   ],
   "source": [
    "import pandas as pd  \n",
    "import spacy\n",
    "import numpy as np\n",
    "import scattertext as st\n",
    "\n",
    "#load the data and create a spaCy model:\n",
    "nlp = spacy.load('en')\n",
    "df= pd.read_csv('coffeedataFULYCLEAN.csv')\n",
    "\n",
    "#add a type column and a assign it an arbitary value.\n",
    "df['type'] = ''\n",
    "#Use some conditional logic to populate this new field:\n",
    "df['type'] = np.where(df.roast == 'Light', 'Light',  np.where(df.roast == 'Very Dark', 'Dark',np.where(df.roast == 'Dark', 'Dark','')))\n",
    "#you can check if this has worked using df.type.value_counts()\n",
    "\n",
    "\n",
    "#combine text fields to get a full review\n",
    "df['full_review'] = df.blind_assesment +\" \"+ df.notes +\" \"+ df.bottom_line\n",
    "\n",
    "#filter out reviews which are neither for light roasts or dark:\n",
    "df = df.loc[df['type'] != '']\n",
    "\n",
    "#Create a Scattertext corpus:\n",
    "\n",
    "corpus = st.CorpusFromPandas(df, \n",
    "                                 category_col='type', \n",
    "                                 text_col='full_review',\n",
    "                                 nlp=nlp).build()\n",
    "\n",
    "#Create an HTML vis, then save and open:\n",
    "html = st.produce_scattertext_explorer(corpus,\n",
    "                                           category='Light',\n",
    "                                           category_name='Light',\n",
    "                                           not_category_name='Dark',\n",
    "                                           width_in_pixels=1000,\n",
    "                                           metadata=df['coffee_name'])\n",
    "open(\"Coffee-Visualization.html\", 'wb').write(html.encode('utf-8'))"
   ]
  },
  {
   "cell_type": "code",
   "execution_count": null,
   "metadata": {
    "collapsed": true
   },
   "outputs": [],
   "source": []
  }
 ],
 "metadata": {
  "kernelspec": {
   "display_name": "Python 3",
   "language": "python",
   "name": "python3"
  },
  "language_info": {
   "codemirror_mode": {
    "name": "ipython",
    "version": 3
   },
   "file_extension": ".py",
   "mimetype": "text/x-python",
   "name": "python",
   "nbconvert_exporter": "python",
   "pygments_lexer": "ipython3",
   "version": "3.6.1"
  }
 },
 "nbformat": 4,
 "nbformat_minor": 2
}
