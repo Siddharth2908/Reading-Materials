{
 "cells": [
  {
   "cell_type": "code",
   "execution_count": 1,
   "metadata": {
    "collapsed": true
   },
   "outputs": [],
   "source": [
    "import pandas as pd\n",
    "import os\n",
    "os.chdir(\"C:\\\\Siddhartha\\\\Confidential Documents\\\\Data Science\\\\MT 599\\\\\")\n",
    "dataset=pd.read_csv(\"MT599.csv\")"
   ]
  },
  {
   "cell_type": "code",
   "execution_count": 2,
   "metadata": {},
   "outputs": [
    {
     "name": "stderr",
     "output_type": "stream",
     "text": [
      "C:\\ProgramData\\Anaconda3\\lib\\site-packages\\gensim\\utils.py:1209: UserWarning: detected Windows; aliasing chunkize to chunkize_serial\n",
      "  warnings.warn(\"detected Windows; aliasing chunkize to chunkize_serial\")\n"
     ]
    }
   ],
   "source": [
    "# import dependencies\n",
    "import numpy as np\n",
    "\n",
    "import nltk\n",
    "from nltk.corpus import stopwords\n",
    "from nltk.stem.porter import PorterStemmer\n",
    "from nltk import FreqDist\n",
    "\n",
    "import gensim\n",
    "from gensim.models import LdaModel\n",
    "from gensim import models, corpora, similarities\n",
    "from gensim.models import CoherenceModel\n",
    "\n",
    "import re\n",
    "\n",
    "import logging\n",
    "logging.basicConfig(format='%(asctime)s : %(levelname)s : %(message)s', level=logging.ERROR)\n",
    "\n",
    "import warnings\n",
    "warnings.filterwarnings(\"ignore\",category=DeprecationWarning)"
   ]
  },
  {
   "cell_type": "code",
   "execution_count": 3,
   "metadata": {
    "collapsed": true
   },
   "outputs": [],
   "source": [
    "# Splitting the dataset into the Training set and Test set\n",
    "df=pd.DataFrame(dataset[\"Text\"])"
   ]
  },
  {
   "cell_type": "code",
   "execution_count": 4,
   "metadata": {
    "collapsed": true
   },
   "outputs": [],
   "source": [
    "# document length\n",
    "df['TextLength'] = df['Text'].str.len()"
   ]
  },
  {
   "cell_type": "code",
   "execution_count": 5,
   "metadata": {
    "collapsed": true
   },
   "outputs": [],
   "source": [
    "mean = np.average(df['TextLength'])\n",
    "sd = np.std(df['TextLength'])\n",
    "\n",
    "data = df[df['Text'].map(len) >= mean-2*sd]\n",
    "data = data[data['Text'].map(len) <= mean+2*sd]"
   ]
  },
  {
   "cell_type": "code",
   "execution_count": 6,
   "metadata": {
    "collapsed": true
   },
   "outputs": [],
   "source": [
    "def initial_clean(text):\n",
    "    \"\"\"\n",
    "    Function to clean text of websites, email addresess and any punctuation\n",
    "    We also lower case the text\n",
    "    \"\"\"\n",
    "    text = re.sub(\"((\\S+)?(http(s)?)(\\S+))|((\\S+)?(www)(\\S+))|((\\S+)?(\\@)(\\S+)?)\", \" \", text)\n",
    "    text = re.sub(\"[^a-zA-Z ]\", \" \", text)\n",
    "    text = text.lower() # lower case the text\n",
    "    text = nltk.word_tokenize(text)\n",
    "    return text\n",
    "\n",
    "stop_words = pd.read_csv(\"stop word list - V1.csv\")\n",
    "stop_words = stop_words['i'].tolist()\n",
    "def remove_stop_words(text):\n",
    "    \"\"\"\n",
    "    Function that removes all stopwords from text\n",
    "    \"\"\"\n",
    "    return [word for word in text if word not in stop_words]\n",
    "\n",
    "\n",
    "stemmer = PorterStemmer()\n",
    "def stem_words(text):\n",
    "    \"\"\"\n",
    "    Function to stem words, so plural and singular are treated the same\n",
    "    \"\"\"\n",
    "    text = [stemmer.stem(word) for word in text]\n",
    "    text = [word for word in text if len(word) > 1] # make sure we have no 1 letter words\n",
    "    \n",
    "    return text\n",
    "\n",
    "def apply_all(text):\n",
    "    \"\"\"\n",
    "    This function applies all the functions above into one\n",
    "    \"\"\"\n",
    "    return remove_stop_words(stem_words(remove_stop_words(initial_clean(text))))"
   ]
  },
  {
   "cell_type": "code",
   "execution_count": 7,
   "metadata": {
    "collapsed": true
   },
   "outputs": [],
   "source": [
    "# clean text and title and create new column \"tokenized\"\n",
    "data['tokenized'] = data['Text'].apply(apply_all)"
   ]
  },
  {
   "cell_type": "code",
   "execution_count": 8,
   "metadata": {
    "collapsed": true
   },
   "outputs": [],
   "source": [
    "# first get a list of all words\n",
    "all_words = [word for item in list(data['tokenized']) for word in item]\n",
    "\n",
    "# use nltk fdist to get a frequency distribution of all words\n",
    "fdist = FreqDist(all_words)"
   ]
  },
  {
   "cell_type": "code",
   "execution_count": 9,
   "metadata": {
    "collapsed": true
   },
   "outputs": [],
   "source": [
    "k = 10000\n",
    "# define a function only to keep words in the top k words\n",
    "top_k_words,_ = zip(*fdist.most_common(k))\n",
    "top_k_words = set(top_k_words)\n",
    "def keep_top_k_words(text):\n",
    "    return [word for word in text if word in top_k_words]\n",
    "\n",
    "data['tokenized'] = data['tokenized'].apply(keep_top_k_words)"
   ]
  },
  {
   "cell_type": "code",
   "execution_count": 10,
   "metadata": {
    "collapsed": true
   },
   "outputs": [],
   "source": [
    "# document length\n",
    "data['token_len'] = data['tokenized'].apply(lambda x: len(x))"
   ]
  },
  {
   "cell_type": "code",
   "execution_count": 11,
   "metadata": {
    "collapsed": true
   },
   "outputs": [],
   "source": [
    "# only keep articles with more than 10 tokens, otherwise too short\n",
    "data = data[data['tokenized'].map(len) >= 10]\n",
    "# make sure all tokenized items are lists\n",
    "data = data[data['tokenized'].map(type) == list]\n",
    "data.reset_index(drop=True,inplace=True)"
   ]
  },
  {
   "cell_type": "code",
   "execution_count": 12,
   "metadata": {
    "collapsed": true
   },
   "outputs": [],
   "source": [
    "#text = data['tokenized']"
   ]
  },
  {
   "cell_type": "code",
   "execution_count": 13,
   "metadata": {
    "collapsed": true
   },
   "outputs": [],
   "source": [
    "dictionary = gensim.corpora.Dictionary(data['tokenized'])\n",
    "dictionary.filter_extremes(keep_n=8000)\n",
    "bow_corpus = [dictionary.doc2bow(doc) for doc in data['tokenized']]"
   ]
  },
  {
   "cell_type": "code",
   "execution_count": 14,
   "metadata": {},
   "outputs": [
    {
     "name": "stdout",
     "output_type": "stream",
     "text": [
      "5 100\n",
      "5 300\n",
      "5 500\n",
      "10 100\n",
      "10 300\n",
      "10 500\n",
      "15 100\n",
      "15 300\n",
      "15 500\n",
      "20 100\n",
      "20 300\n",
      "20 500\n"
     ]
    }
   ],
   "source": [
    "coherence_lda = []\n",
    "for i in range(5,25,5):\n",
    "    for j in range(100,600,200):\n",
    "        print(i,j)\n",
    "        lda_model = gensim.models.LdaMulticore(bow_corpus, num_topics= i, id2word=dictionary, random_state=100, chunksize=j, passes=15, workers=4)\n",
    "        coherence_model_lda = CoherenceModel(model=lda_model, texts=data['tokenized'], dictionary=dictionary, coherence='c_v')\n",
    "        coherence_lda.append(coherence_model_lda.get_coherence())"
   ]
  },
  {
   "cell_type": "code",
   "execution_count": 15,
   "metadata": {},
   "outputs": [
    {
     "data": {
      "text/html": [
       "<div>\n",
       "<style>\n",
       "    .dataframe thead tr:only-child th {\n",
       "        text-align: right;\n",
       "    }\n",
       "\n",
       "    .dataframe thead th {\n",
       "        text-align: left;\n",
       "    }\n",
       "\n",
       "    .dataframe tbody tr th {\n",
       "        vertical-align: top;\n",
       "    }\n",
       "</style>\n",
       "<table border=\"1\" class=\"dataframe\">\n",
       "  <thead>\n",
       "    <tr style=\"text-align: right;\">\n",
       "      <th></th>\n",
       "      <th>0</th>\n",
       "      <th>Chunk_Size</th>\n",
       "      <th>Coherence_Score</th>\n",
       "    </tr>\n",
       "  </thead>\n",
       "  <tbody>\n",
       "    <tr>\n",
       "      <th>0</th>\n",
       "      <td>5</td>\n",
       "      <td>100</td>\n",
       "      <td>0.004747</td>\n",
       "    </tr>\n",
       "    <tr>\n",
       "      <th>1</th>\n",
       "      <td>5</td>\n",
       "      <td>300</td>\n",
       "      <td>0.005010</td>\n",
       "    </tr>\n",
       "    <tr>\n",
       "      <th>2</th>\n",
       "      <td>5</td>\n",
       "      <td>500</td>\n",
       "      <td>0.005124</td>\n",
       "    </tr>\n",
       "    <tr>\n",
       "      <th>3</th>\n",
       "      <td>10</td>\n",
       "      <td>100</td>\n",
       "      <td>0.005657</td>\n",
       "    </tr>\n",
       "    <tr>\n",
       "      <th>4</th>\n",
       "      <td>10</td>\n",
       "      <td>300</td>\n",
       "      <td>0.006646</td>\n",
       "    </tr>\n",
       "    <tr>\n",
       "      <th>5</th>\n",
       "      <td>10</td>\n",
       "      <td>500</td>\n",
       "      <td>0.007388</td>\n",
       "    </tr>\n",
       "    <tr>\n",
       "      <th>6</th>\n",
       "      <td>15</td>\n",
       "      <td>100</td>\n",
       "      <td>0.006545</td>\n",
       "    </tr>\n",
       "    <tr>\n",
       "      <th>7</th>\n",
       "      <td>15</td>\n",
       "      <td>300</td>\n",
       "      <td>0.006224</td>\n",
       "    </tr>\n",
       "    <tr>\n",
       "      <th>8</th>\n",
       "      <td>15</td>\n",
       "      <td>500</td>\n",
       "      <td>0.005880</td>\n",
       "    </tr>\n",
       "    <tr>\n",
       "      <th>9</th>\n",
       "      <td>20</td>\n",
       "      <td>100</td>\n",
       "      <td>0.006693</td>\n",
       "    </tr>\n",
       "    <tr>\n",
       "      <th>10</th>\n",
       "      <td>20</td>\n",
       "      <td>300</td>\n",
       "      <td>0.006147</td>\n",
       "    </tr>\n",
       "    <tr>\n",
       "      <th>11</th>\n",
       "      <td>20</td>\n",
       "      <td>500</td>\n",
       "      <td>0.005788</td>\n",
       "    </tr>\n",
       "  </tbody>\n",
       "</table>\n",
       "</div>"
      ],
      "text/plain": [
       "     0  Chunk_Size  Coherence_Score\n",
       "0    5         100         0.004747\n",
       "1    5         300         0.005010\n",
       "2    5         500         0.005124\n",
       "3   10         100         0.005657\n",
       "4   10         300         0.006646\n",
       "5   10         500         0.007388\n",
       "6   15         100         0.006545\n",
       "7   15         300         0.006224\n",
       "8   15         500         0.005880\n",
       "9   20         100         0.006693\n",
       "10  20         300         0.006147\n",
       "11  20         500         0.005788"
      ]
     },
     "execution_count": 15,
     "metadata": {},
     "output_type": "execute_result"
    }
   ],
   "source": [
    "Coh_DF = pd.DataFrame([5,5,5,10,10,10,15,15,15,20,20,20])\n",
    "Chunk_Size = pd.DataFrame([100,300,500,100,300,500,100,300,500,100,300,500])\n",
    "coherence_lda = pd.DataFrame(coherence_lda)\n",
    "Coh_DF[\"Chunk_Size\"] = Chunk_Size\n",
    "Coh_DF[\"Coherence_Score\"] = coherence_lda/100\n",
    "Coh_DF"
   ]
  },
  {
   "cell_type": "code",
   "execution_count": 16,
   "metadata": {
    "collapsed": true
   },
   "outputs": [],
   "source": [
    "lda_model = gensim.models.LdaMulticore(bow_corpus, num_topics=10, id2word=dictionary, random_state=100, chunksize=500, passes=15, workers=4)"
   ]
  },
  {
   "cell_type": "code",
   "execution_count": 17,
   "metadata": {},
   "outputs": [
    {
     "name": "stdout",
     "output_type": "stream",
     "text": [
      "\n",
      "Coherence Score : 74%\n"
     ]
    }
   ],
   "source": [
    "# Compute Perplexity\n",
    "#print('\\nPerplexity: ', lda_model.log_perplexity(bow_corpus))  # a measure of how good the model is. lower the better.\n",
    "\n",
    "# Compute Coherence Score\n",
    "coherence_model_lda = CoherenceModel(model=lda_model, texts=data['tokenized'], dictionary=dictionary, coherence='c_v')\n",
    "coherence_lda = coherence_model_lda.get_coherence()\n",
    "print ('\\nCoherence Score : %.0f' % (100*coherence_lda) + r'%')"
   ]
  },
  {
   "cell_type": "code",
   "execution_count": 18,
   "metadata": {
    "scrolled": false
   },
   "outputs": [
    {
     "name": "stdout",
     "output_type": "stream",
     "text": [
      "Topic: 0 \n",
      "Words: 0.047*\"mauritiu\" + 0.029*\"credit\" + 0.027*\"amount\" + 0.026*\"valu\" + 0.025*\"favour\" + 0.025*\"code\" + 0.024*\"debit\" + 0.024*\"asap\" + 0.024*\"scblmumu\" + 0.024*\"arrang\"\n",
      "Topic: 1 \n",
      "Words: 0.061*\"cash\" + 0.044*\"per\" + 0.044*\"request\" + 0.043*\"inform\" + 0.042*\"advis\" + 0.040*\"open\" + 0.026*\"record\" + 0.026*\"deal\" + 0.025*\"link\" + 0.025*\"daili\"\n",
      "Topic: 2 \n",
      "Words: 0.039*\"custodi\" + 0.031*\"cash\" + 0.030*\"bp\" + 0.027*\"depositori\" + 0.026*\"advis\" + 0.021*\"id\" + 0.021*\"investor\" + 0.021*\"th\" + 0.017*\"winoto\" + 0.017*\"fmo\"\n",
      "Topic: 3 \n",
      "Words: 0.065*\"address\" + 0.052*\"swift\" + 0.033*\"custodian\" + 0.030*\"settlement\" + 0.029*\"mark\" + 0.028*\"twyman\" + 0.023*\"euroclear\" + 0.021*\"fedwir\" + 0.018*\"bkengb\" + 0.018*\"co\"\n",
      "Topic: 4 \n",
      "Words: 0.060*\"forward\" + 0.058*\"deal\" + 0.043*\"amount\" + 0.038*\"detail\" + 0.038*\"follow\" + 0.033*\"advis\" + 0.032*\"market\" + 0.032*\"request\" + 0.032*\"nigeria\" + 0.030*\"fund\"\n",
      "Topic: 5 \n",
      "Words: 0.071*\"fx\" + 0.051*\"amount\" + 0.051*\"note\" + 0.028*\"request\" + 0.025*\"remit\" + 0.024*\"deal\" + 0.024*\"matur\" + 0.024*\"aforesaid\" + 0.024*\"due\" + 0.024*\"rate\"\n",
      "Topic: 6 \n",
      "Words: 0.054*\"claim\" + 0.035*\"de\" + 0.034*\"isin\" + 0.029*\"repo\" + 0.028*\"norddeutsch\" + 0.028*\"landesbank\" + 0.028*\"hannov\" + 0.028*\"dwpbank\" + 0.026*\"field\" + 0.021*\"pay\"\n",
      "Topic: 7 \n",
      "Words: 0.042*\"tax\" + 0.036*\"jun\" + 0.026*\"per\" + 0.024*\"follow\" + 0.020*\"messag\" + 0.019*\"custodian\" + 0.019*\"pte\" + 0.016*\"trade\" + 0.015*\"instruct\" + 0.015*\"valu\"\n",
      "Topic: 8 \n",
      "Words: 0.062*\"repatri\" + 0.056*\"fund\" + 0.046*\"instruct\" + 0.044*\"valu\" + 0.043*\"per\" + 0.041*\"sent\" + 0.037*\"stand\" + 0.037*\"ch\" + 0.035*\"specifi\" + 0.035*\"bran\"\n",
      "Topic: 9 \n",
      "Words: 0.073*\"audxcci\" + 0.042*\"follow\" + 0.040*\"question\" + 0.039*\"limit\" + 0.039*\"lender\" + 0.039*\"elig\" + 0.039*\"among\" + 0.039*\"dear\" + 0.039*\"effect\" + 0.039*\"privat\"\n"
     ]
    }
   ],
   "source": [
    "for idx, topic in lda_model.print_topics(-1):\n",
    "    print('Topic: {} \\nWords: {}'.format(idx, topic))"
   ]
  },
  {
   "cell_type": "code",
   "execution_count": 19,
   "metadata": {
    "scrolled": true
   },
   "outputs": [
    {
     "data": {
      "text/html": [
       "\n",
       "<link rel=\"stylesheet\" type=\"text/css\" href=\"https://cdn.rawgit.com/bmabey/pyLDAvis/files/ldavis.v1.0.0.css\">\n",
       "\n",
       "\n",
       "<div id=\"ldavis_el1313222929776605767588506589\"></div>\n",
       "<script type=\"text/javascript\">\n",
       "\n",
       "var ldavis_el1313222929776605767588506589_data = {\"mdsDat\": {\"Freq\": [19.12696203710686, 12.245743029598849, 10.840320259557094, 10.584936523261646, 9.994891750200793, 8.999731282187692, 8.481299982385154, 7.304005722752136, 6.476415218125872, 5.945694194823897], \"cluster\": [1, 1, 1, 1, 1, 1, 1, 1, 1, 1], \"topics\": [1, 2, 3, 4, 5, 6, 7, 8, 9, 10], \"x\": [-0.20451785422240612, -0.029575586567577767, -0.25360257265696695, -0.2129702653402534, 0.17824748863009912, 0.1401948159260687, 0.14515470382419468, -0.025857492998099498, 0.21387585985579347, 0.0490509035491481], \"y\": [0.3709431163810423, -0.147021264604548, -0.12765327814039965, -0.15693856039186632, -0.023100800474258047, -0.12154379648324025, 0.11741831565527946, 0.07766455482475416, 0.06879897704221928, -0.05856726380898271]}, \"tinfo\": {\"Category\": [\"Default\", \"Default\", \"Default\", \"Default\", \"Default\", \"Default\", \"Default\", \"Default\", \"Default\", \"Default\", \"Default\", \"Default\", \"Default\", \"Default\", \"Default\", \"Default\", \"Default\", \"Default\", \"Default\", \"Default\", \"Default\", \"Default\", \"Default\", \"Default\", \"Default\", \"Default\", \"Default\", \"Default\", \"Default\", \"Default\", \"Topic1\", \"Topic1\", \"Topic1\", \"Topic1\", \"Topic1\", \"Topic1\", \"Topic1\", \"Topic1\", \"Topic1\", \"Topic1\", \"Topic1\", \"Topic1\", \"Topic1\", \"Topic1\", \"Topic1\", \"Topic1\", \"Topic1\", \"Topic1\", \"Topic1\", \"Topic1\", \"Topic1\", \"Topic1\", \"Topic1\", \"Topic1\", \"Topic1\", \"Topic1\", \"Topic1\", \"Topic1\", \"Topic1\", \"Topic1\", \"Topic1\", \"Topic1\", \"Topic1\", \"Topic1\", \"Topic1\", \"Topic1\", \"Topic1\", \"Topic1\", \"Topic1\", \"Topic1\", \"Topic2\", \"Topic2\", \"Topic2\", \"Topic2\", \"Topic2\", \"Topic2\", \"Topic2\", \"Topic2\", \"Topic2\", \"Topic2\", \"Topic2\", \"Topic2\", \"Topic2\", \"Topic2\", \"Topic2\", \"Topic2\", \"Topic2\", \"Topic2\", \"Topic2\", \"Topic2\", \"Topic2\", \"Topic2\", \"Topic2\", \"Topic2\", \"Topic2\", \"Topic2\", \"Topic2\", \"Topic2\", \"Topic2\", \"Topic2\", \"Topic2\", \"Topic2\", \"Topic2\", \"Topic2\", \"Topic2\", \"Topic2\", \"Topic2\", \"Topic2\", \"Topic2\", \"Topic2\", \"Topic2\", \"Topic2\", \"Topic2\", \"Topic2\", \"Topic2\", \"Topic2\", \"Topic2\", \"Topic2\", \"Topic2\", \"Topic2\", \"Topic2\", \"Topic2\", \"Topic2\", \"Topic2\", \"Topic2\", \"Topic2\", \"Topic3\", \"Topic3\", \"Topic3\", \"Topic3\", \"Topic3\", \"Topic3\", \"Topic3\", \"Topic3\", \"Topic3\", \"Topic3\", \"Topic3\", \"Topic3\", \"Topic3\", \"Topic3\", \"Topic3\", \"Topic3\", \"Topic3\", \"Topic3\", \"Topic3\", \"Topic3\", \"Topic3\", \"Topic3\", \"Topic3\", \"Topic3\", \"Topic3\", \"Topic3\", \"Topic3\", \"Topic3\", \"Topic3\", \"Topic3\", \"Topic3\", \"Topic3\", \"Topic3\", \"Topic3\", \"Topic3\", \"Topic3\", \"Topic3\", \"Topic3\", \"Topic3\", \"Topic3\", \"Topic3\", \"Topic3\", \"Topic3\", \"Topic3\", \"Topic4\", \"Topic4\", \"Topic4\", \"Topic4\", \"Topic4\", \"Topic4\", \"Topic4\", \"Topic4\", \"Topic4\", \"Topic4\", \"Topic4\", \"Topic4\", \"Topic4\", \"Topic4\", \"Topic4\", \"Topic4\", \"Topic4\", \"Topic4\", \"Topic4\", \"Topic4\", \"Topic4\", \"Topic4\", \"Topic4\", \"Topic4\", \"Topic4\", \"Topic4\", \"Topic4\", \"Topic4\", \"Topic4\", \"Topic4\", \"Topic4\", \"Topic4\", \"Topic4\", \"Topic4\", \"Topic4\", \"Topic4\", \"Topic4\", \"Topic4\", \"Topic4\", \"Topic4\", \"Topic4\", \"Topic4\", \"Topic4\", \"Topic4\", \"Topic4\", \"Topic4\", \"Topic5\", \"Topic5\", \"Topic5\", \"Topic5\", \"Topic5\", \"Topic5\", \"Topic5\", \"Topic5\", \"Topic5\", \"Topic5\", \"Topic5\", \"Topic5\", \"Topic5\", \"Topic5\", \"Topic5\", \"Topic5\", \"Topic5\", \"Topic5\", \"Topic5\", \"Topic5\", \"Topic5\", \"Topic5\", \"Topic5\", \"Topic5\", \"Topic5\", \"Topic5\", \"Topic5\", \"Topic5\", \"Topic5\", \"Topic5\", \"Topic5\", \"Topic5\", \"Topic5\", \"Topic5\", \"Topic5\", \"Topic5\", \"Topic5\", \"Topic5\", \"Topic5\", \"Topic5\", \"Topic5\", \"Topic5\", \"Topic5\", \"Topic5\", \"Topic5\", \"Topic5\", \"Topic5\", \"Topic5\", \"Topic5\", \"Topic5\", \"Topic5\", \"Topic5\", \"Topic6\", \"Topic6\", \"Topic6\", \"Topic6\", \"Topic6\", \"Topic6\", \"Topic6\", \"Topic6\", \"Topic6\", \"Topic6\", \"Topic6\", \"Topic6\", \"Topic6\", \"Topic6\", \"Topic6\", \"Topic6\", \"Topic6\", \"Topic6\", \"Topic6\", \"Topic6\", \"Topic6\", \"Topic6\", \"Topic6\", \"Topic6\", \"Topic6\", \"Topic6\", \"Topic6\", \"Topic6\", \"Topic6\", \"Topic6\", \"Topic6\", \"Topic6\", \"Topic6\", \"Topic6\", \"Topic6\", \"Topic6\", \"Topic6\", \"Topic6\", \"Topic6\", \"Topic6\", \"Topic6\", \"Topic6\", \"Topic6\", \"Topic6\", \"Topic6\", \"Topic6\", \"Topic6\", \"Topic6\", \"Topic6\", \"Topic6\", \"Topic6\", \"Topic6\", \"Topic6\", \"Topic6\", \"Topic6\", \"Topic6\", \"Topic6\", \"Topic6\", \"Topic6\", \"Topic7\", \"Topic7\", \"Topic7\", \"Topic7\", \"Topic7\", \"Topic7\", \"Topic7\", \"Topic7\", \"Topic7\", \"Topic7\", \"Topic7\", \"Topic7\", \"Topic7\", \"Topic7\", \"Topic7\", \"Topic7\", \"Topic7\", \"Topic7\", \"Topic7\", \"Topic7\", \"Topic7\", \"Topic7\", \"Topic7\", \"Topic7\", \"Topic7\", \"Topic7\", \"Topic7\", \"Topic7\", \"Topic7\", \"Topic7\", \"Topic7\", \"Topic7\", \"Topic7\", \"Topic7\", \"Topic7\", \"Topic7\", \"Topic7\", \"Topic7\", \"Topic7\", \"Topic7\", \"Topic7\", \"Topic7\", \"Topic7\", \"Topic7\", \"Topic7\", \"Topic7\", \"Topic7\", \"Topic7\", \"Topic7\", \"Topic7\", \"Topic7\", \"Topic7\", \"Topic7\", \"Topic7\", \"Topic7\", \"Topic8\", \"Topic8\", \"Topic8\", \"Topic8\", \"Topic8\", \"Topic8\", \"Topic8\", \"Topic8\", \"Topic8\", \"Topic8\", \"Topic8\", \"Topic8\", \"Topic8\", \"Topic8\", \"Topic8\", \"Topic8\", \"Topic8\", \"Topic8\", \"Topic8\", \"Topic8\", \"Topic8\", \"Topic8\", \"Topic8\", \"Topic8\", \"Topic8\", \"Topic8\", \"Topic8\", \"Topic8\", \"Topic8\", \"Topic8\", \"Topic8\", \"Topic8\", \"Topic8\", \"Topic8\", \"Topic8\", \"Topic8\", \"Topic8\", \"Topic8\", \"Topic8\", \"Topic8\", \"Topic8\", \"Topic8\", \"Topic8\", \"Topic8\", \"Topic8\", \"Topic8\", \"Topic8\", \"Topic8\", \"Topic8\", \"Topic8\", \"Topic8\", \"Topic8\", \"Topic8\", \"Topic8\", \"Topic9\", \"Topic9\", \"Topic9\", \"Topic9\", \"Topic9\", \"Topic9\", \"Topic9\", \"Topic9\", \"Topic9\", \"Topic9\", \"Topic9\", \"Topic9\", \"Topic9\", \"Topic9\", \"Topic9\", \"Topic9\", \"Topic9\", \"Topic9\", \"Topic9\", \"Topic9\", \"Topic9\", \"Topic9\", \"Topic9\", \"Topic9\", \"Topic9\", \"Topic9\", \"Topic9\", \"Topic9\", \"Topic9\", \"Topic9\", \"Topic9\", \"Topic9\", \"Topic9\", \"Topic9\", \"Topic9\", \"Topic9\", \"Topic9\", \"Topic9\", \"Topic9\", \"Topic9\", \"Topic9\", \"Topic9\", \"Topic9\", \"Topic9\", \"Topic9\", \"Topic9\", \"Topic9\", \"Topic9\", \"Topic9\", \"Topic9\", \"Topic10\", \"Topic10\", \"Topic10\", \"Topic10\", \"Topic10\", \"Topic10\", \"Topic10\", \"Topic10\", \"Topic10\", \"Topic10\", \"Topic10\", \"Topic10\", \"Topic10\", \"Topic10\", \"Topic10\", \"Topic10\", \"Topic10\", \"Topic10\", \"Topic10\", \"Topic10\", \"Topic10\", \"Topic10\", \"Topic10\", \"Topic10\", \"Topic10\", \"Topic10\", \"Topic10\", \"Topic10\", \"Topic10\", \"Topic10\", \"Topic10\", \"Topic10\", \"Topic10\", \"Topic10\", \"Topic10\", \"Topic10\", \"Topic10\", \"Topic10\", \"Topic10\", \"Topic10\", \"Topic10\", \"Topic10\", \"Topic10\", \"Topic10\", \"Topic10\", \"Topic10\", \"Topic10\"], \"Freq\": [480.0, 339.0, 291.0, 191.0, 242.0, 395.0, 306.0, 222.0, 261.0, 258.0, 258.0, 258.0, 258.0, 258.0, 258.0, 258.0, 258.0, 258.0, 258.0, 258.0, 258.0, 258.0, 258.0, 539.0, 246.0, 377.0, 330.0, 251.0, 182.0, 278.0, 477.40093964034617, 257.05182886428344, 257.0454654740872, 257.0439538641556, 257.02264504028017, 257.02125533437527, 257.0170374550498, 257.0168911702177, 257.0132340494153, 257.012307578812, 257.0105765416322, 257.00682189760835, 257.00582228458904, 256.9805150086363, 256.9768578878339, 259.7715077010139, 29.031041686562034, 29.031035591360695, 30.878003500607818, 257.02447360068135, 20.305188023204092, 18.40697775631378, 15.49020144153774, 13.573013765283552, 257.0011167891566, 9.736420521388544, 36.71739533304108, 6.836450200499945, 6.836275725361663, 257.01879287303495, 257.033518879466, 36.72065017055523, 257.06345850843513, 277.95239615412095, 36.71956827231785, 29.030807021310544, 29.04075134229245, 32.146433184516646, 29.101758212478096, 29.056626294175604, 58.3004449127417, 55.375853302769585, 58.28998659106407, 55.3753967267859, 55.37436650405348, 59.260573475771686, 55.372177280747074, 55.3712641287797, 55.365352055144776, 55.364189152211964, 55.364017448423226, 55.363783306893126, 55.36243309073624, 55.36015411317664, 55.35903413619101, 55.355920053840734, 55.3551239726384, 55.354800076855106, 39.58313977798393, 39.58186370664491, 39.5729155978364, 39.57166684300922, 39.56988736738049, 39.569641518773885, 39.568345935640686, 39.56463479238867, 39.56230898652304, 177.55670261217497, 83.84011131841771, 11.947773997746891, 55.38925400300876, 79.03806365408721, 55.3831936397381, 58.05169685352637, 59.68861931401698, 150.13694996228583, 48.379435120736694, 55.37373041956338, 56.91205978408933, 55.37117827688533, 55.378475687906665, 110.93258874225613, 79.24065071064408, 102.15828319153823, 68.26997273214147, 58.70598584758592, 63.30617229410286, 57.617071638285374, 61.25808950204572, 59.78978016209503, 57.79042612480974, 59.412371332091865, 55.889563722159394, 55.7497383027448, 55.38118392493811, 55.3783352029886, 102.21341875616291, 102.20910755032948, 102.20415380901125, 102.19230490195301, 108.95111493951543, 54.070815386209226, 51.16068581329573, 51.156115520573266, 51.15474408730734, 51.15205649264515, 51.14824964262236, 51.14795946530665, 51.146978389620195, 51.145372050908215, 51.142339007060656, 51.136380008613, 46.25612264109999, 43.34961683014104, 43.34896047668883, 43.33249982300589, 29.52621204510917, 29.51985923459019, 23.723684805967284, 23.723684805967284, 23.723684805967284, 23.723684805967284, 23.723684805967284, 23.723684805967284, 23.723563898752403, 33.123640408253806, 61.30361279652784, 131.6219708087346, 201.05051390027813, 43.859264922303105, 72.77933109980857, 125.86023766389322, 94.59962198480639, 77.68712767637939, 56.94938817603905, 51.149769619038, 62.89715607067847, 51.1504259724902, 51.15709314176787, 58.407657003690126, 103.22763909377849, 103.19935895166479, 75.57619719095976, 65.39369995305466, 51.67425890595332, 51.669934580787555, 51.661839120258826, 51.661434347232394, 51.65941722831732, 51.65451272848033, 51.65482980068437, 40.75909887843828, 37.8473270085732, 37.84668611794801, 41.72499525898949, 82.40960240812925, 27.92727785479243, 27.919512958901954, 44.05270663657512, 18.978862739212605, 18.973433720995523, 18.971708375970337, 18.967970971692907, 18.964812055532427, 16.990663170321977, 16.036179702561995, 16.02928000901553, 16.028155077312892, 16.024793774639193, 14.983584312856637, 51.64668037041878, 235.36258912084892, 64.44804222382528, 107.72679247587682, 188.3082510025398, 119.4142897958097, 64.32167883118892, 41.78837259560379, 63.916386346035154, 62.69367497264419, 29.50440849013119, 43.34178690470192, 60.27902172208856, 51.247884492339324, 39.6617895617459, 37.88535543440691, 81.17945524854204, 81.17713651131761, 81.17354374265119, 81.16832658389625, 54.16109593886948, 34.85156326635184, 34.83403259371004, 27.127645726766538, 27.127005525966936, 20.37752934224909, 84.62642375673498, 16.467445627274536, 16.467181265750323, 16.466625469533753, 16.463050218799665, 15.547477078248708, 15.547306676543341, 15.54729871384683, 15.547150607691698, 15.546782731112824, 14.58281550623784, 13.61384611541374, 13.613334910297642, 13.613115139873898, 13.613013217358539, 13.61242557035592, 13.607925054287087, 13.605842012879432, 10.720284218565945, 10.720284218565945, 81.16902730118935, 54.16114690012716, 31.967859984056098, 243.32703578018587, 172.88748085306818, 27.111236201793695, 81.16872153364326, 81.23564003513384, 81.23353788325456, 81.17440371387454, 81.2181475834353, 73.22384872107348, 81.1570959967351, 75.41702377673153, 175.10941716852918, 76.02007381948351, 94.776097161871, 81.20702528894672, 81.32827486128099, 53.917564828732914, 37.792282640755275, 28.06794144744933, 190.07170011011956, 106.8059634659428, 32.211654860777, 17.694608733174395, 17.691306288546343, 17.688165883103256, 15.723627182188997, 12.833296956652635, 11.828115552236763, 112.61846103192302, 11.821402397861506, 9.882401359292423, 9.882401359292423, 9.882401359292423, 8.902731805670141, 5.963552143274033, 5.963364292537483, 5.962772777813614, 5.962178395139568, 5.962012771016885, 5.961931751424403, 5.961628107199483, 5.961609465523337, 5.9612151223740915, 5.961056309633077, 5.961058102101937, 5.960933704763038, 5.960695664898402, 5.960493115917199, 5.960464794909208, 172.59413641231512, 106.80978357557767, 115.42610395195037, 127.26320120715187, 18.989826655910605, 134.2310467657684, 140.2582505537498, 13.811148946850665, 83.41864427577826, 78.95170862992964, 132.63357557394824, 45.31568344612552, 86.13517815460379, 13.341837579995152, 56.92542681904821, 38.80585813452024, 82.25312653181665, 83.44581523574887, 91.7985881986174, 26.54603649512762, 20.6260295148622, 29.747276897355228, 28.363026329344866, 33.98205484437968, 30.45374766814244, 28.316381987676948, 20.672779970686644, 19.631434431534725, 19.22052887002028, 69.53954544563447, 71.11335172757836, 39.902102848187546, 39.89179729546034, 24.017708207149738, 21.99494280446154, 15.052278691569384, 15.050175958807316, 15.049332703509418, 15.049213782890483, 15.048585395529068, 15.047951602684973, 15.046035359075326, 15.038787958173673, 15.03865822658938, 66.58723297093312, 13.043022941466276, 12.057757505370322, 12.038341011587933, 12.038341011587933, 8.030183037767697, 33.987520999690425, 26.080216069863425, 5.0752087006896875, 5.074858695686232, 5.074835046699513, 5.074019494500343, 5.073670840867558, 5.072451904523479, 35.45427169717992, 75.31844427341005, 49.534805416203795, 67.80869367542226, 125.99382275129686, 117.34309368042516, 12.03840317463874, 176.5017231593452, 62.95172694593602, 68.83506510454946, 72.41917039475348, 120.81047297766233, 126.24012897504083, 128.06439289142605, 33.88053298376951, 48.980138027562795, 74.91016276119468, 36.087769942467766, 58.37634262015584, 27.773029458464634, 46.79358244559378, 34.05014892200745, 49.36671652682263, 45.17952423688191, 50.92424149493786, 31.432089874234773, 53.44115587983245, 43.66528739284706, 41.55779178334066, 38.62275580264488, 35.6557436348203, 35.65453795241145, 35.65227787978792, 21.884220369198836, 21.882847101590304, 21.881424954965198, 21.881182887454543, 75.17228716911896, 22.699973914677035, 18.862538185121426, 17.885900520373326, 17.882659376059973, 17.882037914277806, 17.879837194745832, 17.87669264467952, 13.92112215099312, 13.920269095775279, 13.917827472518756, 12.954993474808607, 11.967288204164637, 10.992713932187659, 10.99252889019634, 10.991693291770133, 10.991380233306833, 10.990080284223165, 10.990074465292619, 31.684183883783387, 97.22213292219546, 35.7245350317188, 24.74307723877666, 67.2686107058488, 53.31570904757929, 35.65135616118965, 35.65691905879031, 38.56701277559963, 35.65538984384318, 53.44674205315529, 77.60210963449744, 65.42473127059148, 38.0364706194077, 41.507316052224404, 43.487051222693104, 36.34936015573912, 35.66009852243989, 37.717095125107846, 39.62188479773405, 35.68861128210853, 35.65255486088184, 36.24225226499039, 39.48250046304042, 71.39446930179002, 48.577214991477796, 42.67417702698488, 35.746577019322814, 35.74652748708079, 35.746490337899274, 35.742544269284835, 17.91214655352784, 14.006121661000707, 14.004720311320161, 12.020810581212672, 9.001714142022271, 9.00065126266221, 7.051546703909855, 5.0679166245854494, 5.0679166245854494, 5.0679166245854494, 5.0679166245854494, 5.0679155926637405, 5.0679155926637405, 132.20706029154707, 44.450126670883776, 35.74672974373571, 9.002716138001512, 13.856517779346257, 9.988119848086964, 5.067929007645954, 35.7465398701413, 71.39994261453347, 127.81644806033434, 85.28073428823575, 47.65316625043224, 42.67894450527952, 42.67419766541905, 67.37276495378512, 42.67460630641573, 35.7501185746274, 72.24901605190473, 35.752789188009764, 71.3946674307581, 95.23567475761979, 42.67941918926556, 85.27993351698973, 42.67284791182394, 42.671238113958225, 35.751753138614134, 42.67681874655939, 42.67934489090253, 37.8130745395504, 35.75134862530429, 96.43004608618548, 51.181412814460366, 48.2715917498677, 48.26707474166327, 48.266438116345874, 48.26542633682357, 48.26193247645068, 42.35370469223599, 31.55276124097495, 31.552382297333637, 25.64666312002443, 22.76301948217356, 22.703947852647733, 22.702820495314832, 22.702416920336837, 22.69823148781855, 19.763411511208577, 19.761757422214252, 19.760404593414773, 19.759110500879693, 19.75786377629978, 16.812950635803475, 16.810712973601532, 16.808132367404202, 28.16359731202365, 28.161029968853764, 10.898962908240856, 7.952727254436376, 48.26611980368717, 25.61523542913227, 48.266881480406205, 58.70808615409752, 51.13112699325835, 48.26366045945506, 48.31575763126255, 52.782805906023825, 34.56052407910095, 31.558464342776684, 32.545116112222736, 30.844930518651196, 54.77181665884829, 31.289145307460267, 30.530610031210845, 28.91039101954704, 28.586274838978788, 30.60054408021486, 30.384303680736927], \"Term\": [\"audxcci\", \"fx\", \"address\", \"repatri\", \"fund\", \"per\", \"deal\", \"claim\", \"question\", \"lender\", \"elig\", \"among\", \"privat\", \"lend\", \"revert\", \"activ\", \"context\", \"agreement\", \"borrow\", \"track\", \"triparti\", \"fast\", \"gic\", \"amount\", \"swift\", \"cash\", \"request\", \"note\", \"forward\", \"hesit\", \"audxcci\", \"lender\", \"elig\", \"among\", \"privat\", \"lend\", \"activ\", \"revert\", \"context\", \"agreement\", \"track\", \"borrow\", \"triparti\", \"gic\", \"fast\", \"question\", \"hello\", \"ount\", \"usdigcor\", \"effect\", \"cic\", \"long\", \"ev\", \"opssecur\", \"hesit\", \"uovbsgsg\", \"hous\", \"cmcisgsg\", \"futur\", \"herebi\", \"dear\", \"phillip\", \"limit\", \"follow\", \"sec\", \"invoic\", \"acc\", \"cash\", \"debit\", \"pay\", \"toward\", \"rcvd\", \"feel\", \"sakhalkar\", \"govern\", \"advic\", \"young\", \"ben\", \"consult\", \"ernst\", \"typ\", \"clarif\", \"liabil\", \"comput\", \"recd\", \"govt\", \"central\", \"end\", \"abovement\", \"trikomsel\", \"success\", \"tf\", \"physic\", \"hex\", \"church\", \"nomine\", \"squar\", \"tax\", \"messag\", \"broker\", \"dt\", \"pte\", \"intr\", \"mention\", \"free\", \"jun\", \"citibank\", \"pvt\", \"compani\", \"amt\", \"benefit\", \"per\", \"custodian\", \"follow\", \"trade\", \"authoris\", \"instruct\", \"page\", \"valu\", \"debit\", \"contact\", \"stand\", \"note\", \"amount\", \"proce\", \"branch\", \"norddeutsch\", \"landesbank\", \"hannov\", \"dwpbank\", \"repo\", \"nom\", \"girozentral\", \"main\", \"deutdeff\", \"germani\", \"cedelul\", \"pd\", \"frankfurt\", \"zinsen\", \"nolad\", \"interest\", \"phone\", \"santoshkumar\", \"xs\", \"saranya\", \"empfaeng\", \"sld\", \"jpmorgan\", \"mansuri\", \"mkt\", \"hsbchkhh\", \"chasgb\", \"aadil\", \"basi\", \"tel\", \"deutsch\", \"de\", \"claim\", \"depart\", \"mail\", \"isin\", \"field\", \"pay\", \"clearstream\", \"correspond\", \"coupon\", \"scblsgsg\", \"euro\", \"amount\", \"mark\", \"twyman\", \"fedwir\", \"bkengb\", \"moka\", \"act\", \"afternoon\", \"robert\", \"mani\", \"bankofengland\", \"see\", \"reserv\", \"feder\", \"frnyu\", \"princip\", \"euroclear\", \"mgtcbebe\", \"ecl\", \"aba\", \"collater\", \"bcancaw\", \"bocb\", \"cuid\", \"bojpjpjt\", \"current\", \"db\", \"idg\", \"ino\", \"refund\", \"ms\", \"good\", \"address\", \"co\", \"settlement\", \"swift\", \"custodian\", \"ssi\", \"intermediari\", \"email\", \"coupon\", \"beneficiari\", \"mgtcbebeecl\", \"team\", \"market\", \"isin\", \"euro\", \"equival\", \"uid\", \"total\", \"mumbai\", \"report\", \"tom\", \"spot\", \"qlcsh\", \"fhk\", \"bill\", \"remit\", \"morgan\", \"add\", \"stanley\", \"addit\", \"financi\", \"relat\", \"ifast\", \"staff\", \"corp\", \"net\", \"cc\", \"jasmin\", \"flore\", \"asiald\", \"schedul\", \"botkjpjt\", \"irvtu\", \"sid\", \"pff\", \"provid\", \"group\", \"reactiv\", \"fx\", \"note\", \"final\", \"book\", \"matur\", \"aforesaid\", \"execut\", \"due\", \"scbsb\", \"equal\", \"id\", \"amount\", \"branch\", \"request\", \"rate\", \"deal\", \"jul\", \"jun\", \"cash\", \"repatri\", \"bran\", \"foreign\", \"cvr\", \"gain\", \"event\", \"charg\", \"recipi\", \"eoc\", \"ch\", \"gross\", \"done\", \"appli\", \"od\", \"ldn\", \"counterparti\", \"cl\", \"receipt\", \"republ\", \"entitl\", \"detect\", \"pc\", \"offer\", \"statu\", \"bk\", \"french\", \"fc\", \"instr\", \"div\", \"glob\", \"fund\", \"specifi\", \"stand\", \"sent\", \"support\", \"valu\", \"instruct\", \"list\", \"equal\", \"jul\", \"per\", \"proce\", \"rate\", \"control\", \"sale\", \"currenc\", \"jun\", \"fx\", \"amount\", \"invoic\", \"type\", \"corpor\", \"email\", \"trade\", \"inform\", \"follow\", \"market\", \"claim\", \"forward\", \"also\", \"daili\", \"nv\", \"kbc\", \"rollov\", \"august\", \"buy\", \"vs\", \"differ\", \"henc\", \"vide\", \"sell\", \"separ\", \"andrew\", \"liew\", \"exist\", \"coll\", \"fulli\", \"ukpb\", \"pvb\", \"nzd\", \"vd\", \"proprietari\", \"erwin\", \"aif\", \"networkmanag\", \"proceed\", \"ucit\", \"thewi\", \"scbhk\", \"record\", \"close\", \"updat\", \"inform\", \"open\", \"si\", \"cash\", \"receiv\", \"fmo\", \"link\", \"advis\", \"request\", \"per\", \"cdp\", \"aug\", \"deal\", \"jpi\", \"detail\", \"equiti\", \"sent\", \"complet\", \"dear\", \"rate\", \"limit\", \"book\", \"investor\", \"winoto\", \"accopenth\", \"fee\", \"sh\", \"pertain\", \"calendar\", \"wijayanti\", \"bene\", \"jamin\", \"heni\", \"bp\", \"queri\", \"trn\", \"continu\", \"huarong\", \"hold\", \"next\", \"sz\", \"connect\", \"full\", \"waritsara\", \"kr\", \"ccass\", \"belinda\", \"tanglin\", \"cheong\", \"offic\", \"wmo\", \"post\", \"eq\", \"custodi\", \"remitt\", \"acct\", \"depositori\", \"th\", \"month\", \"ac\", \"setup\", \"sgx\", \"id\", \"cash\", \"advis\", \"bond\", \"receiv\", \"fmo\", \"page\", \"amend\", \"aug\", \"debit\", \"link\", \"trade\", \"open\", \"limit\", \"nigeria\", \"cover\", \"transact\", \"frontier\", \"pleas\", \"rwc\", \"uig\", \"opportun\", \"nra\", \"monetari\", \"correct\", \"back\", \"apr\", \"gokbb\", \"kick\", \"incorrect\", \"scblu\", \"ot\", \"paid\", \"hkrc\", \"forward\", \"convers\", \"master\", \"sep\", \"bic\", \"intl\", \"held\", \"agent\", \"market\", \"deal\", \"detail\", \"due\", \"aforesaid\", \"matur\", \"fund\", \"scbsb\", \"juli\", \"advis\", \"complet\", \"request\", \"amount\", \"specifi\", \"follow\", \"sale\", \"branch\", \"link\", \"swift\", \"rate\", \"limit\", \"open\", \"mauritiu\", \"favour\", \"asap\", \"scblmumu\", \"could\", \"grate\", \"upon\", \"certif\", \"xix\", \"radec\", \"unlist\", \"ebb\", \"demat\", \"scbfd\", \"icfp\", \"arc\", \"outward\", \"initi\", \"ccp\", \"phi\", \"demateril\", \"afrasia\", \"hongkong\", \"scblhkhh\", \"fmsosg\", \"domest\", \"fax\", \"changefax\", \"nostro\", \"sr\", \"arrang\", \"credit\", \"code\", \"execut\", \"debit\", \"valu\", \"amend\", \"scblsgsg\", \"currenc\", \"action\", \"amount\", \"ssi\", \"corpor\", \"juli\", \"complet\", \"detail\", \"cash\"], \"Total\": [480.0, 339.0, 291.0, 191.0, 242.0, 395.0, 306.0, 222.0, 261.0, 258.0, 258.0, 258.0, 258.0, 258.0, 258.0, 258.0, 258.0, 258.0, 258.0, 258.0, 258.0, 258.0, 258.0, 539.0, 246.0, 377.0, 330.0, 251.0, 182.0, 278.0, 480.03636578690566, 258.8624806829711, 258.8622940259793, 258.8624502251459, 258.86222946487544, 258.86241222919693, 258.8623828082305, 258.8622921146045, 258.86232271057264, 258.8625750785081, 258.8625576421147, 258.8623820091142, 258.86232625505784, 258.86287230409596, 258.8624993156891, 261.76236670411413, 29.960561422409913, 29.960561324219757, 31.893127465313658, 267.8126958976851, 21.26856781027803, 19.336369952833284, 16.438911082420017, 14.507238942899358, 278.67648884667597, 10.643406523981387, 40.64415526769925, 7.745983150998405, 7.7459893706119685, 301.32658552074537, 312.70941911277976, 43.67194219783853, 407.8162408870245, 545.0516409422665, 80.18846165353006, 61.383802969444815, 66.47288546417876, 377.754592964183, 184.90292761270754, 110.71931012324409, 59.29119784927227, 56.326390391938865, 59.29097231476581, 56.326366610146486, 56.32643773087521, 60.27973652933689, 56.32643733472782, 56.326382277520054, 56.32631250132203, 56.32629604208529, 56.326286802450525, 56.3262045080528, 56.326340037465194, 56.32629465564291, 56.32614409728421, 56.32620574014024, 56.32628899934663, 56.326268996412374, 40.51527929244062, 40.515273158214455, 40.515362794833756, 40.51536155022371, 40.5153832382972, 40.515389140367276, 40.515396102470426, 40.51542883372467, 40.51544792438031, 181.8573440369351, 88.92854441830141, 12.843843361553315, 62.20541513285605, 95.49872699599425, 62.2053270789237, 69.04819701754445, 73.93074712703032, 312.9975031376824, 55.3720158606662, 69.91743167344735, 74.20197957381997, 71.02345295569359, 73.96311214448761, 395.3940725359294, 199.62895491009948, 545.0516409422665, 176.99171815733163, 90.86373092373938, 289.1298407472308, 94.95729198574519, 266.5898964593201, 184.90292761270754, 105.53901361273049, 175.89987781700282, 251.8702643731118, 539.8658332681171, 102.36542217963999, 202.19352118089617, 103.36126278508488, 103.36106963063507, 103.36120650200401, 103.36107614125943, 110.25003036702189, 55.12579044756581, 52.17293025820274, 52.17284792609375, 52.17287605738265, 52.17308827206611, 52.173012561744756, 52.172981721347995, 52.17299106764898, 52.17290140028705, 52.17297836706, 52.17305595664156, 47.25089859732209, 44.29768858007804, 44.29767419834029, 44.297672595981425, 30.51669263358888, 30.516278526923728, 24.610049222936418, 24.61004923222658, 24.610049257659625, 24.610049278639806, 24.610049378647638, 24.610049419644472, 24.610051419466775, 34.458432723502824, 64.00592913405343, 138.7724409503568, 222.3780830876386, 47.260427271287995, 85.78778628892543, 188.50860507898392, 135.30387479600353, 110.71931012324409, 78.92801759345832, 80.0529458857994, 126.76368664819687, 83.70556059899158, 90.0406832044373, 539.8658332681171, 104.61544709656317, 104.61505415522237, 76.7200599292676, 66.74561582088992, 52.80061967331157, 52.800906428717106, 52.80023618589256, 52.80016673576554, 52.80040513830975, 52.799955540409634, 52.80030433640024, 41.83980913732854, 38.852714830424766, 38.852676212552126, 42.834982073816384, 84.65484827325818, 28.887510097450857, 28.887320732585827, 45.82232577220369, 19.91852227515292, 19.91897691820411, 19.91889518843334, 19.918890129562534, 19.918894250274143, 17.92604173258946, 16.92985338091375, 16.929579772010346, 16.929564635955423, 16.929468255597147, 15.93168169699229, 56.74176938200284, 291.5444030277501, 74.65473584141394, 134.15057982225838, 246.6525261164099, 199.62895491009948, 98.25210830332566, 56.35734762772571, 103.0754003209597, 126.76368664819687, 39.74633741910078, 80.03044690478222, 165.39115814834926, 165.55433133979378, 188.50860507898392, 90.0406832044373, 82.11200660566905, 82.11203060394739, 82.11209853068056, 82.11217816317617, 55.06916531479069, 35.75351591167095, 35.75378093898174, 28.026986030242117, 28.02698225867478, 21.266455487320098, 88.92148343936886, 17.40333436768952, 17.4033349773591, 17.403338294056134, 17.403481069293214, 16.43752239527239, 16.437524544305145, 16.437526268639076, 16.437529786130362, 16.437541357872, 15.47170129904459, 14.505894291046896, 14.505894780752676, 14.505895050819124, 14.50589393129798, 14.505895991244694, 14.506056834269502, 14.506087830459865, 11.608516990497389, 11.608517457328801, 88.04166870100937, 59.0108229284147, 35.809098597978554, 339.6211786921131, 251.8702643731118, 31.990258441452337, 123.91480133123596, 124.83951705665172, 124.8396505035368, 130.39612791762966, 135.7383252095275, 132.08530960101044, 165.3956217583328, 151.6370898750387, 539.8658332681171, 202.19352118089617, 330.26050953098206, 255.9565868641793, 306.7683109529939, 166.33243311366863, 312.9975031376824, 377.754592964183, 191.06769477663036, 107.78446997430366, 33.32204713037867, 18.621869232473422, 18.621923790848093, 18.621702921953247, 16.662270663130176, 13.722232539904462, 12.742700616810927, 121.38996262311127, 12.742774461196126, 10.782783954617175, 10.78278403446248, 10.782784365998577, 9.803147579786412, 6.863749102679472, 6.863703876502426, 6.863737203834191, 6.863755852888993, 6.86376768276375, 6.86376487252612, 6.863703836448341, 6.863770405837704, 6.8637720405754505, 6.863770863712231, 6.863775682138879, 6.863764044285551, 6.863761121712343, 6.863778818784143, 6.863775273901203, 242.97564084690822, 150.5121607261053, 175.89987781700282, 216.74691439188436, 26.5238578805883, 266.5898964593201, 289.1298407472308, 18.688267474895838, 165.3956217583328, 166.33243311366863, 395.3940725359294, 102.36542217963999, 255.9565868641793, 20.651486658774132, 155.8821877558648, 96.37528895250655, 312.9975031376824, 339.6211786921131, 539.8658332681171, 61.383802969444815, 41.269083833799584, 102.42790004339466, 103.0754003209597, 176.99171815733163, 190.62772264525927, 545.0516409422665, 165.55433133979378, 222.3780830876386, 182.67283049560902, 70.80434089286558, 72.79868277250763, 40.88631065357424, 40.88616974681076, 24.926198950483027, 22.93018037610688, 15.948227864499607, 15.948199499882586, 15.948191312482473, 15.948185173195812, 15.948180116855115, 15.948171535210983, 15.948145307415263, 15.948171339133168, 15.94817112872092, 70.75187936967998, 13.953035493587192, 12.955484745368327, 12.955211938253928, 12.955215605317798, 8.963817981006883, 38.887924616649045, 29.87538543541769, 5.972492103762575, 5.972488100822913, 5.972487957680816, 5.972476836197782, 5.9724715704471585, 5.972456113500021, 41.83700674403902, 90.5138779344302, 61.483920993953234, 89.37115493479601, 190.62772264525927, 192.08723372770032, 15.94462464393303, 377.754592964183, 120.25355937755225, 135.06049175845564, 145.2288871704139, 299.45360290734845, 330.26050953098206, 395.3940725359294, 57.56294018801674, 126.38211983915197, 306.7683109529939, 81.5422439942597, 226.72540908145277, 56.66025923392152, 216.74691439188436, 109.1593496209988, 312.70941911277976, 255.9565868641793, 407.8162408870245, 123.91480133123596, 54.48143784109271, 44.57559685223305, 42.59342136678368, 39.62213202976825, 36.64912176905871, 36.65006862687416, 36.650047295057746, 22.78022572802393, 22.780207567194275, 22.780193735131423, 22.780190131156537, 78.27326249558615, 23.769185946727454, 19.807740579744735, 18.817076013400452, 18.817048936180864, 18.81701898229608, 18.81699825455249, 18.81697953663806, 14.854364268171834, 14.854355341621678, 14.854338429028523, 13.863802370128022, 12.873023466452226, 11.882523652293958, 11.882522456334081, 11.882512742017147, 11.882509497281028, 11.882493735192146, 11.882496499908727, 34.68172757951364, 109.83321435209272, 41.6181526384986, 28.703198960216206, 89.59843888927045, 73.4158162462108, 46.44804615856234, 47.49665061429281, 54.584653101501274, 58.59545723356933, 151.6370898750387, 377.754592964183, 299.45360290734845, 97.99843464381617, 120.25355937755225, 135.06049175845564, 94.95729198574519, 98.96293875678387, 126.38211983915197, 184.90292761270754, 145.2288871704139, 176.99171815733163, 192.08723372770032, 407.8162408870245, 72.53081198775061, 49.674653609389004, 43.71233100461409, 36.7578134532331, 36.75781665334131, 36.75781388076329, 36.7578158016288, 18.871310687460895, 14.896647782242137, 14.896613309417246, 12.909257990657386, 9.927851958639836, 9.927844269740401, 7.940699165977889, 5.953347840305983, 5.953347866885546, 5.953347885819453, 5.953347936609388, 5.9533469158411165, 5.953346963222896, 182.67283049560902, 61.549831708115704, 50.27888166840737, 12.920621393892603, 20.823334983683573, 16.799655079893263, 8.850725008267318, 71.5768472304806, 165.55433133979378, 306.7683109529939, 226.72540908145277, 135.7383252095275, 124.8396505035368, 124.83951705665172, 242.97564084690822, 132.08530960101044, 104.19995580844684, 299.45360290734845, 109.1593496209988, 330.26050953098206, 539.8658332681171, 150.5121607261053, 545.0516409422665, 155.8821877558648, 202.19352118089617, 145.2288871704139, 246.6525261164099, 255.9565868641793, 407.8162408870245, 192.08723372770032, 97.5528819198337, 52.2243301544114, 49.268976496229826, 49.268936711319284, 49.26892371619725, 49.2688694386085, 49.26885537051385, 43.356557143533124, 32.51742345350006, 32.517383027835024, 26.60523370260913, 23.64928220677346, 23.649013107416103, 23.649017258086833, 23.649035308673003, 23.648988227956497, 20.692837684621786, 20.692830105408213, 20.69278452991727, 20.69275634986339, 20.692757883233156, 17.736309251198755, 17.736269403062753, 17.73622956634917, 30.517820424464574, 30.517719937436116, 11.824234960287823, 8.86799189536818, 54.2374666109235, 29.544486121622835, 68.14928838220871, 89.98534507091944, 86.61123956079811, 130.39612791762966, 184.90292761270754, 266.5898964593201, 98.96293875678387, 83.70556059899158, 96.37528895250655, 83.80822416307834, 539.8658332681171, 98.25210830332566, 102.42790004339466, 104.19995580844684, 109.1593496209988, 226.72540908145277, 377.754592964183], \"loglift\": [30.0, 29.0, 28.0, 27.0, 26.0, 25.0, 24.0, 23.0, 22.0, 21.0, 20.0, 19.0, 18.0, 17.0, 16.0, 15.0, 14.0, 13.0, 12.0, 11.0, 10.0, 9.0, 8.0, 7.0, 6.0, 5.0, 4.0, 3.0, 2.0, 1.0, 1.6486, 1.6471, 1.647, 1.647, 1.6469, 1.6469, 1.6469, 1.6469, 1.6469, 1.6469, 1.6469, 1.6469, 1.6469, 1.6468, 1.6468, 1.6464, 1.6226, 1.6226, 1.6217, 1.613, 1.6077, 1.6048, 1.5946, 1.5875, 1.5731, 1.565, 1.5525, 1.5292, 1.5291, 1.495, 1.458, 1.4807, 1.1926, 0.9806, 0.873, 0.9053, 0.826, -0.8099, -0.195, 0.3163, 2.0831, 2.083, 2.083, 2.083, 2.0829, 2.0829, 2.0829, 2.0829, 2.0828, 2.0828, 2.0828, 2.0828, 2.0827, 2.0827, 2.0827, 2.0826, 2.0826, 2.0826, 2.0767, 2.0767, 2.0765, 2.0764, 2.0764, 2.0764, 2.0763, 2.0762, 2.0762, 2.0761, 2.0411, 2.0277, 1.9839, 1.9108, 1.9838, 1.9265, 1.886, 1.3653, 1.965, 1.8668, 1.8347, 1.851, 1.8106, 0.829, 1.176, 0.4256, 1.1474, 1.6632, 0.5811, 1.6004, 0.6294, 0.971, 1.4977, 1.0146, 0.5945, -0.1705, 1.4857, 0.805, 2.2107, 2.2107, 2.2106, 2.2105, 2.21, 2.2026, 2.2023, 2.2022, 2.2022, 2.2021, 2.2021, 2.2021, 2.202, 2.202, 2.2019, 2.2018, 2.2006, 2.2003, 2.2002, 2.1999, 2.1889, 2.1887, 2.1852, 2.1852, 2.1852, 2.1852, 2.1852, 2.1852, 2.1852, 2.1824, 2.1788, 2.169, 2.1211, 2.1472, 2.0575, 1.8179, 1.864, 1.8676, 1.8955, 1.774, 1.5211, 1.7294, 1.6565, -0.002, 2.2324, 2.2321, 2.2307, 2.2253, 2.2242, 2.2241, 2.2239, 2.2239, 2.2239, 2.2238, 2.2238, 2.2196, 2.2195, 2.2195, 2.2195, 2.2189, 2.2119, 2.2117, 2.2064, 2.1974, 2.1971, 2.197, 2.1968, 2.1967, 2.1921, 2.1915, 2.1911, 2.191, 2.1908, 2.1844, 2.1517, 2.0317, 2.0987, 2.0264, 1.9758, 1.7319, 1.8221, 1.9466, 1.7679, 1.5417, 1.9478, 1.6324, 1.2364, 1.0731, 0.687, 1.38, 2.2917, 2.2916, 2.2916, 2.2915, 2.2865, 2.2775, 2.277, 2.2705, 2.2705, 2.2604, 2.2536, 2.2478, 2.2478, 2.2478, 2.2475, 2.2474, 2.2474, 2.2474, 2.2474, 2.2474, 2.2439, 2.2396, 2.2396, 2.2396, 2.2396, 2.2395, 2.2392, 2.239, 2.2235, 2.2235, 2.2218, 2.2173, 2.1896, 1.9697, 1.9268, 2.1376, 1.88, 1.8734, 1.8734, 1.8291, 1.7895, 1.7132, 1.5911, 1.6046, 1.1772, 1.3249, 1.0547, 1.1551, 0.9755, 1.1766, 0.189, -0.2965, 2.4027, 2.3989, 2.3741, 2.3569, 2.3567, 2.3565, 2.35, 2.341, 2.3335, 2.333, 2.3329, 2.3208, 2.3208, 2.3208, 2.3116, 2.2674, 2.2674, 2.2673, 2.2672, 2.2671, 2.2671, 2.2671, 2.2671, 2.267, 2.267, 2.267, 2.2669, 2.2669, 2.2669, 2.2669, 2.066, 2.065, 1.9867, 1.8755, 2.0738, 1.7218, 1.6846, 2.1056, 1.7235, 1.6628, 1.3157, 1.5931, 1.3189, 1.9711, 1.4006, 1.4983, 1.0716, 1.0043, 0.6363, 1.5697, 1.7144, 1.1716, 1.1176, 0.7577, 0.5739, -0.5495, 0.3275, -0.0193, 0.1563, 2.4493, 2.4439, 2.4429, 2.4427, 2.4302, 2.4257, 2.4095, 2.4094, 2.4093, 2.4093, 2.4092, 2.4092, 2.4091, 2.4086, 2.4086, 2.4066, 2.3999, 2.3955, 2.3939, 2.3939, 2.3573, 2.3326, 2.3314, 2.3045, 2.3044, 2.3044, 2.3043, 2.3042, 2.304, 2.3018, 2.2835, 2.2512, 2.1912, 2.0532, 1.9745, 2.1863, 1.7064, 1.8201, 1.7933, 1.7715, 1.5596, 1.5056, 1.34, 1.9373, 1.5194, 1.0575, 1.6521, 1.1105, 1.7543, 0.9343, 1.3023, 0.6213, 0.7329, 0.3868, 1.0955, 2.5975, 2.5961, 2.5921, 2.5912, 2.5893, 2.5892, 2.5891, 2.5766, 2.5766, 2.5765, 2.5765, 2.5763, 2.5707, 2.5679, 2.566, 2.5658, 2.5658, 2.5657, 2.5655, 2.5519, 2.5518, 2.5516, 2.5489, 2.5438, 2.5389, 2.5389, 2.5388, 2.5388, 2.5387, 2.5387, 2.5264, 2.4948, 2.464, 2.4683, 2.3301, 2.2968, 2.3522, 2.33, 2.2694, 2.12, 1.5739, 1.0341, 1.0957, 1.6703, 1.553, 1.4835, 1.6565, 1.596, 1.4076, 1.0763, 1.2133, 1.0145, 0.949, 0.2818, 2.7212, 2.7147, 2.713, 2.7091, 2.7091, 2.7091, 2.709, 2.6848, 2.6754, 2.6753, 2.6657, 2.6391, 2.639, 2.6182, 2.576, 2.576, 2.576, 2.576, 2.576, 2.576, 2.4137, 2.4115, 2.3959, 2.3757, 2.3297, 2.217, 2.1794, 2.0427, 1.896, 1.8615, 1.7592, 1.6902, 1.6637, 1.6636, 1.4543, 1.6072, 1.6672, 1.3152, 1.6208, 1.2053, 1.002, 1.4767, 0.8821, 1.4415, 1.1813, 1.3353, 0.9827, 0.9457, 0.3588, 1.0556, 2.8109, 2.8023, 2.8021, 2.802, 2.8019, 2.8019, 2.8019, 2.7991, 2.7924, 2.7924, 2.7858, 2.7843, 2.7817, 2.7817, 2.7817, 2.7815, 2.7765, 2.7765, 2.7764, 2.7763, 2.7763, 2.769, 2.7689, 2.7688, 2.7422, 2.7421, 2.741, 2.7136, 2.7059, 2.6798, 2.4775, 2.3954, 2.2955, 1.8286, 1.4804, 1.203, 1.7705, 1.847, 1.7369, 1.8229, 0.5344, 1.6782, 1.6121, 1.5404, 1.4826, 0.8198, 0.3022], \"logprob\": [30.0, 29.0, 28.0, 27.0, 26.0, 25.0, 24.0, 23.0, 22.0, 21.0, 20.0, 19.0, 18.0, 17.0, 16.0, 15.0, 14.0, 13.0, 12.0, 11.0, 10.0, 9.0, 8.0, 7.0, 6.0, 5.0, 4.0, 3.0, 2.0, 1.0, -2.618000030517578, -3.2370998859405518, -3.2372000217437744, -3.2372000217437744, -3.2372000217437744, -3.2372000217437744, -3.237299919128418, -3.237299919128418, -3.237299919128418, -3.237299919128418, -3.237299919128418, -3.237299919128418, -3.237299919128418, -3.2374000549316406, -3.2374000549316406, -3.226599931716919, -5.418000221252441, -5.418000221252441, -5.356400012969971, -3.2372000217437744, -5.7754998207092285, -5.873700141906738, -6.046199798583984, -6.178299903869629, -3.237299919128418, -6.510499954223633, -5.183199882507324, -6.864099979400635, -6.864200115203857, -3.237299919128418, -3.2372000217437744, -5.18310022354126, -3.2370998859405518, -3.1589999198913574, -5.18310022354126, -5.418000221252441, -5.417699813842773, -5.316100120544434, -5.415599822998047, -5.417200088500977, -4.274899959564209, -4.326300144195557, -4.275100231170654, -4.326399803161621, -4.326399803161621, -4.258500099182129, -4.326399803161621, -4.326399803161621, -4.326499938964844, -4.326600074768066, -4.326600074768066, -4.326600074768066, -4.326600074768066, -4.326600074768066, -4.326600074768066, -4.326700210571289, -4.326700210571289, -4.326700210571289, -4.662099838256836, -4.662099838256836, -4.662300109863281, -4.662399768829346, -4.662399768829346, -4.662399768829346, -4.662499904632568, -4.662600040435791, -4.662600040435791, -3.1612000465393066, -3.911600112915039, -5.859899997711182, -4.326099872589111, -3.970599889755249, -4.326200008392334, -4.279200077056885, -4.251299858093262, -3.328900098800659, -4.461400032043457, -4.326399803161621, -4.298999786376953, -4.326399803161621, -4.326300144195557, -3.6315999031066895, -3.9679999351501465, -3.7139999866485596, -4.117000102996826, -4.267899990081787, -4.192500114440918, -4.2866997718811035, -4.225399971008301, -4.24970006942749, -4.283699989318848, -4.25600004196167, -4.3171000480651855, -4.3196001052856445, -4.326200008392334, -4.326300144195557, -3.5915000438690186, -3.591599941253662, -3.591599941253662, -3.5917000770568848, -3.5276999473571777, -4.228300094604492, -4.283599853515625, -4.283699989318848, -4.283699989318848, -4.28380012512207, -4.283899784088135, -4.283899784088135, -4.283899784088135, -4.283899784088135, -4.283999919891357, -4.28410005569458, -4.384399890899658, -4.4492998123168945, -4.4492998123168945, -4.449699878692627, -4.8333001136779785, -4.833499908447266, -5.05210018157959, -5.05210018157959, -5.05210018157959, -5.05210018157959, -5.05210018157959, -5.05210018157959, -5.05210018157959, -4.718299865722656, -4.102700233459473, -3.338599920272827, -2.9149999618530273, -4.437600135803223, -3.9310998916625977, -3.3833999633789062, -3.6689000129699707, -3.8659000396728516, -4.176400184631348, -4.28380012512207, -4.077099800109863, -4.28380012512207, -4.283699989318848, -4.151100158691406, -3.557800054550171, -3.5580999851226807, -3.8696000576019287, -4.0142998695373535, -4.249800205230713, -4.249899864196777, -4.25, -4.25, -4.250100135803223, -4.250199794769287, -4.250199794769287, -4.487100124359131, -4.561200141906738, -4.561200141906738, -4.463600158691406, -3.7829999923706055, -4.865099906921387, -4.8653998374938965, -4.40939998626709, -5.251399993896484, -5.251699924468994, -5.251800060272217, -5.251999855041504, -5.252200126647949, -5.362100124359131, -5.419899940490723, -5.420300006866455, -5.420400142669678, -5.420599937438965, -5.487800121307373, -4.25029993057251, -2.733599901199341, -4.028900146484375, -3.5151000022888184, -2.956700086593628, -3.412100076675415, -4.030799865722656, -4.462100028991699, -4.037199974060059, -4.05649995803833, -4.810200214385986, -4.425600051879883, -4.095799922943115, -4.2581000328063965, -4.514400005340576, -4.560200214385986, -3.7407000064849854, -3.7407000064849854, -3.740799903869629, -3.7409000396728516, -4.145400047302246, -4.586299896240234, -4.5868000984191895, -4.8368000984191895, -4.836900234222412, -5.122900009155273, -3.6991000175476074, -5.335999965667725, -5.335999965667725, -5.335999965667725, -5.336299896240234, -5.393499851226807, -5.393499851226807, -5.393499851226807, -5.393499851226807, -5.393499851226807, -5.457499980926514, -5.526299953460693, -5.526299953460693, -5.526299953460693, -5.526400089263916, -5.526400089263916, -5.526700019836426, -5.526899814605713, -5.765200138092041, -5.765200138092041, -3.740799903869629, -4.145400047302246, -4.672699928283691, -2.6429998874664307, -2.9846999645233154, -4.837399959564209, -3.7409000396728516, -3.740000009536743, -3.7400999069213867, -3.740799903869629, -3.7402000427246094, -3.843899965286255, -3.740999937057495, -3.814300060272217, -2.9719998836517334, -3.8064000606536865, -3.585900068283081, -3.7404000759124756, -3.7388999462127686, -4.149899959564209, -4.505300045013428, -4.802800178527832, -2.785099983215332, -3.3615000247955322, -4.560200214385986, -5.159200191497803, -5.15939998626709, -5.159599781036377, -5.277299880981445, -5.480500221252441, -5.561999797821045, -3.308500051498413, -5.562600135803223, -5.741700172424316, -5.741700172424316, -5.741700172424316, -5.846099853515625, -6.246799945831299, -6.2469000816345215, -6.247000217437744, -6.247099876403809, -6.247099876403809, -6.247099876403809, -6.247200012207031, -6.247200012207031, -6.247200012207031, -6.247300148010254, -6.247300148010254, -6.247300148010254, -6.247300148010254, -6.247300148010254, -6.247399806976318, -2.8815999031066895, -3.3615000247955322, -3.283900022506714, -3.186199903488159, -5.088600158691406, -3.1328999996185303, -3.0889999866485596, -5.4070000648498535, -3.608599901199341, -3.6637001037597656, -3.14490008354187, -4.218800067901611, -3.5766000747680664, -5.4415998458862305, -3.990799903869629, -4.373899936676025, -3.6226999759674072, -3.608299970626831, -3.5129001140594482, -4.753600120544434, -5.005899906158447, -4.639800071716309, -4.687399864196777, -4.506700038909912, -4.616300106048584, -4.6890997886657715, -5.003699779510498, -5.0553998947143555, -5.076499938964844, -3.731300115585327, -3.708899974822998, -4.2866997718811035, -4.2870001792907715, -4.794400215148926, -4.882400035858154, -5.261600017547607, -5.2617998123168945, -5.2617998123168945, -5.2617998123168945, -5.261899948120117, -5.261899948120117, -5.2621002197265625, -5.262499809265137, -5.262499809265137, -3.7746999263763428, -5.404900074005127, -5.483500003814697, -5.485099792480469, -5.485099792480469, -5.889999866485596, -4.447199821472168, -4.711999893188477, -6.348800182342529, -6.348899841308594, -6.348899841308594, -6.348999977111816, -6.349100112915039, -6.349299907684326, -4.404900074005127, -3.651400089263916, -4.070499897003174, -3.756500005722046, -3.136899948120117, -3.2081000804901123, -5.485099792480469, -2.799799919128418, -3.8308000564575195, -3.741499900817871, -3.690700054168701, -3.1789000034332275, -3.134999990463257, -3.1205999851226807, -4.450300216674805, -4.0817999839782715, -3.656899929046631, -4.387199878692627, -3.9063000679016113, -4.649099826812744, -4.127399921417236, -4.445300102233887, -4.07390022277832, -4.162499904632568, -4.042799949645996, -4.525300025939941, -3.845099925994873, -4.0472002029418945, -4.09660005569458, -4.169899940490723, -4.249800205230713, -4.249899864196777, -4.249899864196777, -4.73799991607666, -4.73799991607666, -4.738100051879883, -4.738100051879883, -3.5039000511169434, -4.701399803161621, -4.886600017547607, -4.939700126647949, -4.939899921417236, -4.939899921417236, -4.940100193023682, -4.940199851989746, -5.190299987792969, -5.190400123596191, -5.1905999183654785, -5.262199878692627, -5.341599941253662, -5.426499843597412, -5.426499843597412, -5.426599979400635, -5.426599979400635, -5.426700115203857, -5.426700115203857, -4.3678998947143555, -3.2467000484466553, -4.247900009155273, -4.615200042724609, -3.615000009536743, -3.8475000858306885, -4.249899864196777, -4.249800205230713, -4.171299934387207, -4.249800205230713, -3.8450000286102295, -3.472100019454956, -3.6428000926971436, -4.185200214385986, -4.097899913787842, -4.051300048828125, -4.230599880218506, -4.24970006942749, -4.193600177764893, -4.1442999839782715, -4.248899936676025, -4.249899864196777, -4.233500003814697, -4.147900104522705, -3.43530011177063, -3.8203001022338867, -3.949899911880493, -4.126999855041504, -4.126999855041504, -4.126999855041504, -4.127099990844727, -4.817999839782715, -5.064000129699707, -5.0640997886657715, -5.216800212860107, -5.506100177764893, -5.506199836730957, -5.750199794769287, -6.08050012588501, -6.08050012588501, -6.08050012588501, -6.08050012588501, -6.08050012588501, -6.08050012588501, -2.8190999031066895, -3.90910005569458, -4.126999855041504, -5.505899906158447, -5.074699878692627, -5.402100086212158, -6.08050012588501, -4.126999855041504, -3.4351999759674072, -2.8529000282287598, -3.257499933242798, -3.8394999504089355, -3.9498000144958496, -3.949899911880493, -3.4932000637054443, -3.949899911880493, -4.1269001960754395, -3.4233999252319336, -4.126800060272217, -3.43530011177063, -3.1470999717712402, -3.9498000144958496, -3.257499933242798, -3.949899911880493, -3.949899911880493, -4.1269001960754395, -3.9498000144958496, -3.9498000144958496, -4.070799827575684, -4.1269001960754395, -3.0492000579833984, -3.6826000213623047, -3.7411000728607178, -3.7411999702453613, -3.7411999702453613, -3.741300106048584, -3.741300106048584, -3.8719000816345215, -4.166299819946289, -4.166299819946289, -4.373600006103516, -4.492800235748291, -4.4953999519348145, -4.495500087738037, -4.495500087738037, -4.495699882507324, -4.634099960327148, -4.634200096130371, -4.634300231933594, -4.634399890899658, -4.634399890899658, -4.79580020904541, -4.796000003814697, -4.79610013961792, -4.279900074005127, -4.28000020980835, -5.229300022125244, -5.54449987411499, -3.7411999702453613, -4.374800205230713, -3.7411999702453613, -3.5453999042510986, -3.6835999488830566, -3.741300106048584, -3.7402000427246094, -3.6517999172210693, -4.075300216674805, -4.166100025177002, -4.135300159454346, -4.189000129699707, -3.614799976348877, -4.174699783325195, -4.19920015335083, -4.253799915313721, -4.264999866485596, -4.197000026702881, -4.203999996185303]}, \"token.table\": {\"Topic\": [3, 2, 4, 2, 6, 8, 9, 1, 4, 5, 9, 8, 8, 10, 4, 2, 6, 10, 1, 5, 5, 5, 2, 4, 5, 8, 2, 1, 2, 3, 4, 5, 7, 8, 9, 5, 9, 10, 4, 4, 5, 7, 8, 9, 1, 5, 7, 7, 8, 9, 10, 1, 5, 2, 3, 4, 5, 6, 9, 10, 2, 6, 7, 6, 9, 10, 9, 10, 10, 5, 1, 5, 1, 2, 4, 5, 6, 7, 8, 9, 7, 2, 3, 9, 9, 4, 3, 4, 8, 2, 8, 4, 5, 8, 2, 6, 2, 9, 5, 6, 4, 4, 4, 2, 3, 4, 6, 8, 4, 5, 6, 7, 1, 5, 5, 7, 8, 6, 2, 5, 7, 8, 9, 10, 2, 7, 8, 1, 3, 4, 5, 6, 7, 8, 10, 5, 8, 10, 7, 10, 3, 2, 10, 5, 6, 10, 6, 3, 8, 2, 1, 2, 4, 8, 6, 3, 4, 6, 2, 3, 4, 5, 7, 10, 5, 7, 1, 2, 4, 8, 2, 3, 5, 8, 10, 7, 4, 2, 4, 10, 7, 8, 9, 10, 2, 8, 2, 2, 4, 5, 8, 10, 1, 5, 8, 6, 8, 8, 9, 5, 2, 3, 6, 10, 9, 3, 4, 5, 10, 6, 3, 4, 9, 4, 8, 10, 4, 3, 6, 8, 10, 4, 6, 8, 2, 4, 6, 3, 7, 4, 3, 6, 3, 5, 7, 9, 1, 3, 4, 5, 7, 1, 2, 5, 8, 10, 10, 10, 2, 3, 5, 8, 3, 5, 6, 7, 8, 9, 10, 6, 3, 3, 4, 7, 6, 1, 10, 6, 2, 6, 2, 5, 9, 3, 10, 4, 1, 5, 7, 8, 1, 5, 3, 4, 6, 8, 3, 2, 6, 6, 7, 8, 5, 6, 6, 7, 8, 9, 5, 2, 7, 3, 4, 4, 5, 1, 6, 5, 10, 6, 7, 1, 5, 10, 10, 6, 4, 4, 8, 2, 5, 3, 4, 10, 5, 8, 5, 5, 3, 7, 8, 1, 10, 1, 2, 3, 4, 5, 6, 7, 8, 9, 10, 6, 6, 7, 9, 3, 2, 5, 6, 6, 4, 9, 8, 7, 2, 6, 9, 1, 5, 6, 7, 6, 3, 1, 5, 3, 6, 9, 4, 10, 2, 2, 10, 6, 5, 10, 3, 5, 9, 1, 7, 8, 1, 2, 5, 1, 5, 8, 2, 9, 8, 10, 1, 10, 3, 8, 10, 4, 5, 6, 8, 4, 5, 9, 3, 4, 6, 7, 10, 10, 4, 6, 2, 3, 4, 5, 6, 8, 3, 4, 5, 6, 9, 2, 6, 8, 1, 6, 9, 5, 3, 4, 6, 8, 8, 5, 3, 4, 6, 7, 3, 4, 5, 6, 7, 9, 4, 7, 8, 9, 10, 2, 5, 6, 7, 9, 7, 9, 8, 3, 6, 1, 5, 1, 5, 2, 7, 1, 5, 7, 8, 9, 10, 5, 7, 8, 9, 4, 6, 1, 3, 4, 3, 4, 3, 4, 4, 5, 6, 7, 8, 9, 5, 9, 5, 9, 10, 2, 5, 8, 2, 10, 4, 3, 4, 5, 3, 4, 9, 6, 8, 5, 4, 5, 5, 7, 8, 9, 3, 3, 2, 3, 9, 10, 2, 5, 10, 9, 7, 7, 6, 6, 8, 3, 5, 7, 8, 9, 9, 1, 9, 1, 10, 2, 8, 9, 1, 3, 7, 6, 3, 2, 6, 7, 8, 10, 8, 5, 10, 1, 7, 3, 2, 9, 8, 4, 1, 5, 2, 5, 6, 7, 3, 7, 2, 5, 2, 5, 7, 2, 5, 6, 5, 8, 1, 5, 10, 5, 6, 7, 9, 2, 3, 5, 2, 6, 3, 6, 7, 8, 9, 10, 6, 3, 6, 7, 4, 5, 5, 6, 8, 9, 6, 3, 5, 6, 5, 6, 7, 9, 10, 4, 1, 5, 4, 7, 9, 2, 2, 6, 9, 3, 3, 10, 3, 7, 8, 10, 10, 3, 10, 9, 5, 7, 9, 5, 1, 3, 7, 8, 4, 7, 6, 7, 9, 10, 7, 9, 7, 3, 4, 5, 6, 7, 8, 7, 8, 7, 8, 8, 4, 7, 5, 3, 6, 9, 5, 2, 6, 10, 1, 2, 4, 10, 5, 2, 6, 5, 6, 2, 6, 8, 4, 5, 7, 9, 8, 8, 2, 4, 2, 3, 4, 6, 8, 10, 3, 2, 4, 8, 7, 5, 5, 2, 1, 5, 2, 4, 5, 6, 8, 9, 2, 1, 5, 8, 4, 2, 6, 10, 7, 5, 9, 7, 10, 1, 1, 3, 6, 7, 10, 1, 2, 5, 6, 7, 10, 4, 7, 7, 7, 8, 8, 8, 8, 10, 3, 2, 3], \"Freq\": [0.9752113695815047, 0.021823423039923708, 0.9602306137566432, 0.9872818526383266, 0.12632469705546912, 0.7579481823328147, 0.10527058087955758, 0.43626810837973423, 0.28583082962810175, 0.16548100662679574, 0.10530609512614275, 0.9860677694408823, 0.8709830578344598, 0.10451796694013518, 0.9848315780374272, 0.47728012852492796, 0.14318403855747838, 0.3698920996068192, 0.9928055100628113, 0.003863056459388371, 0.9193640196442364, 0.9193563021268473, 0.13720037011375133, 0.8060521744182891, 0.0034300092528437836, 0.05145013879265675, 0.9787700377768893, 0.06344889430459996, 0.006678830979431575, 0.0033394154897157875, 0.020036492938294726, 0.04341240136630524, 0.4040692742556103, 0.21706200683152618, 0.2404379152595367, 0.6488323194857487, 0.3444418486158913, 0.9584857683314814, 0.9848440794265544, 0.16765197775978413, 0.01397099814664868, 0.1816229759064328, 0.1257389833198381, 0.5029559332793524, 0.9928047726561354, 0.003863053590101694, 0.8371720320901235, 0.9886399494335717, 0.3637725440679904, 0.28293420094177035, 0.35366775117721294, 0.9928052515012277, 0.00386305545331217, 0.10372947600888156, 0.1074341001520559, 0.014818496572697366, 0.32415461252775485, 0.1704127105860197, 0.17596964680078123, 0.10187716393729439, 0.7743920875588876, 0.2111978420615148, 0.9405467047619076, 0.9274042740760965, 0.9065412143330626, 0.9725574632749278, 0.27879968303469777, 0.7043360413508154, 0.9742439038422702, 0.9651249393043981, 0.9936747171603796, 0.004166351015347503, 0.15033772201464515, 0.007912511684981324, 0.007912511684981324, 0.06330009347985059, 0.05538758179486927, 0.3877130725640849, 0.3006754440292903, 0.023737535054943974, 0.9594342320535725, 0.6493239865917222, 0.26413179115595475, 0.08804393038531826, 0.906540512237155, 0.9848493141287326, 0.9752112903354514, 0.9538642510617978, 0.925729274511178, 0.976451846827567, 0.9657506383603874, 0.7547865274646158, 0.050319101830974385, 0.17611685640841035, 0.7436139232832307, 0.2433645567108755, 0.28813828355070825, 0.6723226616183192, 0.9404482101836289, 0.8741550554551779, 0.9738467343596883, 0.9538681648886365, 0.9538682098148347, 0.4081697850111941, 0.030612733875839557, 0.13265518012863808, 0.030612733875839557, 0.3877612957606344, 0.04842036573146281, 0.6536749373747479, 0.04035030477621901, 0.2501718896125579, 0.9928055131276331, 0.0038630564713137477, 0.9651141009544386, 0.025551509369023433, 0.9581816013383787, 0.9927218645275087, 0.2720166288156841, 0.3758775234543999, 0.0741863533133684, 0.03956605510046315, 0.2126675461649894, 0.019783027550231574, 0.9342997778936427, 0.9405433711785407, 0.9822633981936115, 0.08471108120460125, 0.06882775347873851, 0.007941663862931367, 0.07412219605402609, 0.010588885150575156, 0.4685581679129507, 0.20648326043621554, 0.07941663862931367, 0.9651249153691175, 0.9321819408837891, 0.966520478241309, 0.5906578067233266, 0.3995626339598974, 0.9775168711916618, 0.9764534638637029, 0.9687116036671869, 0.06590330721855656, 0.9308842144621113, 0.9021208064227553, 0.9602532766079938, 0.9752113712060678, 0.9257301244966026, 0.9872790062037923, 0.940354808015564, 0.8668638707462527, 0.054178991921640794, 0.054178991921640794, 0.8741635868850233, 0.9038660519471536, 0.004496846029587829, 0.08993692059175658, 0.9764549285783459, 0.722177013156406, 0.16470703808830314, 0.012669772160638703, 0.03800931648191611, 0.05067908864255481, 0.17890856377038508, 0.8132207444108412, 0.9036941939510607, 0.0803699850033032, 0.8572798400352342, 0.0401849925016516, 0.06927507365586433, 0.23091691218621443, 0.06927507365586433, 0.034637536827932164, 0.5888381260748469, 0.9316969060943615, 0.9538860231464702, 0.7681735760606421, 0.161720752854872, 0.06738364702286334, 0.3114712584679918, 0.09160919366705642, 0.3297930972014031, 0.2656666616344636, 0.9764533658080766, 0.9424839560449946, 0.9764530564415894, 0.5495598074549736, 0.06632618365835888, 0.13265236731671776, 0.22740405825723045, 0.018950338188102538, 0.9928057405532328, 0.00386305735623826, 0.9565779501119845, 0.6294946322654563, 0.338958648142938, 0.2599519699075035, 0.7148679172456347, 0.9733815813237507, 0.3905185987709753, 0.009762964969274382, 0.2928889490782315, 0.30265191404750585, 0.9295654334807292, 0.6370783665195123, 0.33727678227503594, 0.012491732676853183, 0.9742449475148554, 0.874157826902169, 0.4969877546622784, 0.4969877546622784, 0.9864185543256312, 0.28893593706296095, 0.04445168262507091, 0.655662318719796, 0.9538684071458998, 0.16601766048021657, 0.4046680474205279, 0.08300883024010829, 0.34241142474044667, 0.9483409808811322, 0.10925656752183868, 0.8831572541348627, 0.3957341761147661, 0.5961059108564197, 0.9666054344647107, 0.013736512281753115, 0.9752923720044712, 0.9450761114114524, 0.9511975079203261, 0.04323625036001482, 0.07171536046749973, 0.26404291808488534, 0.24448418341193087, 0.41725300635636203, 0.8218492449928796, 0.0031978569844080917, 0.009593570953224276, 0.0031978569844080917, 0.1566949922359965, 0.15683905265547002, 0.32449459170097245, 0.03785770236511345, 0.2163297278006483, 0.259595673360778, 0.9725564401157789, 0.966521722858678, 0.06347805496508031, 0.9310114728211779, 0.23437908361274787, 0.7477808858121003, 0.004410621659263354, 0.10144429816305715, 0.02205310829631677, 0.25581605623727455, 0.10585491982232051, 0.37490284103738514, 0.13672927143716399, 0.874155818480387, 0.9775194287527362, 0.9530367080874985, 0.031247105183196674, 0.9405455268309746, 0.8741540423155486, 0.06553569546152752, 0.9174997364613853, 0.9274042809434211, 0.8841673973645705, 0.09645462516704406, 0.04420269655411115, 0.5967364034805006, 0.3536215724328892, 0.9868318307812575, 0.9725453736355898, 0.9692833841947516, 0.9596259024933755, 0.003733952927989788, 0.01866976463994894, 0.014935811711959152, 0.9928058505662768, 0.0038630577843045792, 0.009701635859634461, 0.6209046950166055, 0.2716458040697649, 0.08731472273671015, 0.9830685245025481, 0.9764538106279177, 0.8741554605741045, 0.9417156033760133, 0.05766725418780442, 0.9226760670048707, 0.48973484992458177, 0.5018270684412381, 0.0705962177738373, 0.49417352441686113, 0.10589432666075596, 0.3176829799822679, 0.986457442076537, 0.9764533417731867, 0.8371714709928338, 0.5664106288954354, 0.42203144898091266, 0.9686391467540221, 0.011812672521390512, 0.9124691973084028, 0.9666140672225891, 0.6211840895395847, 0.3681090900975317, 0.042401700516320424, 0.9469713115311561, 0.9928050632261812, 0.0038630547207244405, 0.976556326317802, 0.9302927451073114, 0.8741559239635167, 0.9780526319937617, 0.9906144503806245, 0.9842983706858368, 0.9782264944499096, 0.9633573729345436, 0.7021232772766536, 0.2660677682311529, 0.029563085359016993, 0.8440069357180916, 0.1250380645508284, 0.9733827042329551, 0.9651248648189719, 0.16288997406691777, 0.5108821913916967, 0.31837585840352106, 0.06553547966999315, 0.9174967153799042, 0.5100434144540931, 0.1871382312025809, 0.0036693770824035477, 0.012842819788412417, 0.02385095103562306, 0.05137127915364967, 0.009173442706008868, 0.03669377082403547, 0.15594852600215078, 0.007338754164807095, 0.9603251527372878, 0.10401108883270252, 0.16422803499900399, 0.7226033539956175, 0.977517273906569, 0.8115703185970239, 0.06763085988308533, 0.12173554778955357, 0.8741544417911818, 0.9780536041355974, 0.979383609033294, 0.9424845224196443, 0.9262486302791627, 0.008231277806404227, 0.7120055302539656, 0.2757478065145416, 0.9036934683331443, 0.7155030818036646, 0.2443899415214163, 0.03533348552116862, 0.9666026025112537, 0.9775154526803392, 0.9928036327206183, 0.003863049154554935, 0.9775184132384758, 0.8741544937833821, 0.8815344661326125, 0.9164324723453756, 0.07049480556502889, 0.9764508855111189, 0.9764549072192318, 0.9742460208024547, 0.9417101461335601, 0.9150863743335139, 0.0677841758765566, 0.9868305861737632, 0.33895528300763483, 0.5649254716793914, 0.9679391380933392, 0.9405458888959083, 0.9657513775493266, 0.852895205233414, 0.13606499383101156, 0.006637316772244467, 0.9222162984168999, 0.0035883902662136183, 0.07176780532427236, 0.9872791758563224, 0.8398636986703034, 0.9565808493330017, 0.9584879217646743, 0.9103399924614664, 0.0738113507401189, 0.9752113751690332, 0.9565793266015339, 0.9725555270986053, 0.10551508218197343, 0.4946019477280005, 0.03956815581824004, 0.349518709727787, 0.9450913853427585, 0.9733824748633968, 0.8398635711868314, 0.005245826714621715, 0.031474960287730294, 0.15737480143865146, 0.6609741660423362, 0.1363914945801646, 0.9665183495017853, 0.9450922303116295, 0.874156296177036, 0.2178951845204978, 0.1279701877342606, 0.06225576700585652, 0.03804519094802343, 0.48421152115666183, 0.0657144207284041, 0.9775160581428002, 0.7452444404842354, 0.24841481349474515, 0.35715018977866547, 0.5952503162977757, 0.8841686489360974, 0.09645476170211971, 0.9728083931005335, 0.47243733032369156, 0.4398554454737818, 0.08145471212477441, 0.9651120387264455, 0.6684045004057337, 0.2121919048907091, 0.06365757146721274, 0.053047976222677276, 0.9657512247611743, 0.9651248827873804, 0.02452716410577066, 0.4046982077452159, 0.12263582052885331, 0.44148895390387194, 0.9752113773763664, 0.012024113172403577, 0.3246510556548966, 0.4749524703099413, 0.12625318831023757, 0.0541085092758161, 0.07677546442252416, 0.25911719242601905, 0.028790799158446557, 0.3454895899013587, 0.27831105853165006, 0.47923704980489096, 0.12140671928390571, 0.26198292056000705, 0.07667792796878255, 0.057508445976586914, 0.9783259289804255, 0.8398635749365211, 0.937693689864677, 0.9868318929409409, 0.9180724789411044, 0.9928053972256584, 0.003863056020333301, 0.9928051346875096, 0.003863054998784084, 0.9764525790849719, 0.9405467171710136, 0.6301857901514902, 0.002452084786581674, 0.12505632411566536, 0.09563130667668529, 0.09317922189010361, 0.051493780518215154, 0.006885682452600383, 0.4957691365872276, 0.2478845682936138, 0.2478845682936138, 0.21403803243790498, 0.7491331135326674, 0.9308882713718729, 0.8509369824993812, 0.1398800519177065, 0.9775199558253909, 0.9848409280911178, 0.9752113770082294, 0.9845582355053928, 0.30805596922332706, 0.054362818098234185, 0.12684657556254644, 0.042282191854182145, 0.036241878732156126, 0.42886223166384746, 0.2784469251390862, 0.7160063789290787, 0.6488330130534108, 0.34444221680613163, 0.9840816397294155, 0.8399929687557632, 0.08689582435404447, 0.05793054956936298, 0.9445786001498173, 0.044979933340467494, 0.969277030299362, 0.2998858675443168, 0.5372955126835676, 0.1499429337721584, 0.9752113760004054, 0.9848369265689461, 0.9398109294512981, 0.21529430895462062, 0.7750595122366342, 0.919364051851184, 0.9415201913575652, 0.9864553810645966, 0.9695119954859962, 0.8371720521545524, 0.9565819030484933, 0.9788943216572683, 0.9775175118658633, 0.9795777903876656, 0.9872782086093673, 0.9868300488170767, 0.09218719664522446, 0.8849970877941548, 0.22233668646586863, 0.6868615492606298, 0.08734655539730553, 0.9398087546037703, 0.97832255736929, 0.8924768460215186, 0.9274042455613843, 0.8741551137690943, 0.9257303772841112, 0.005205968041674146, 0.005205968041674146, 0.609098260875875, 0.18741484950026926, 0.18741484950026926, 0.953828819741713, 0.9650354595456891, 0.8398635613505988, 0.9679391412655793, 0.9665179954928714, 0.6108009062506422, 0.37911780387970895, 0.8398637053546504, 0.26192359731757237, 0.704484158302436, 0.027095544550093695, 0.8741635919863249, 0.9775174490196323, 0.28073258480604424, 0.33637327729012506, 0.3237276653619249, 0.053111570098440794, 0.005058244771280076, 0.9822628264767426, 0.9475800885370916, 0.9665217944796434, 0.8472258877882296, 0.1373879818034967, 0.9735264590842515, 0.9872793196780123, 0.9793835237688846, 0.9257313898711852, 0.980507005410263, 0.9928060981753689, 0.0038630587477640815, 0.537290804149482, 0.009768923711808765, 0.4396015670313944, 0.8371736110714022, 0.10041711450000099, 0.8702816590000085, 0.06814954882756796, 0.9200189091721674, 0.8272361578528026, 0.16754150032461826, 0.9262678727688866, 0.7866421675338431, 0.12872326377826523, 0.07151292432125846, 0.963357243296373, 0.9676393651658333, 0.9932673029881861, 0.0038202588576468697, 0.9840890323986976, 0.3164599160832763, 0.3359944788044662, 0.17581106449070907, 0.1679972394022331, 0.9764517061592377, 0.08377759054145395, 0.8936276324421755, 0.9764559758432293, 0.8741593423256803, 0.008315762171000406, 0.024947286513001213, 0.5238930167730255, 0.349262011182017, 0.05821033519700283, 0.024947286513001213, 0.9473677087307624, 0.011048029570939576, 0.14362438442221448, 0.8286022178204682, 0.945097610771688, 0.9733825769734453, 0.9558994824682303, 0.03373762879299636, 0.8650071595609085, 0.1201398832723484, 0.994411955522473, 0.9886618592043871, 0.9805850459385204, 0.8741569672054357, 0.2876517090551147, 0.03330703999585539, 0.381517003588889, 0.21498180360961205, 0.07872573089929456, 0.9799279883287212, 0.9928058578969083, 0.003863057812828437, 0.9848453748305395, 0.9628423510410488, 0.9793835976420818, 0.9764521184310234, 0.35283056256650924, 0.36566076484165505, 0.2758493489156345, 0.9707052755646116, 0.9707056258278647, 0.9725562694210941, 0.047804567191819046, 0.8365799258568333, 0.09560913438363809, 0.9584900745902605, 0.9742446905490503, 0.60927851907385, 0.3822924041247686, 0.8398635685157463, 0.5526731187632509, 0.11356296960888716, 0.3255471795454765, 0.9651248022493725, 0.46141301674879037, 0.2743536856344159, 0.07482373244574979, 0.18705933111437448, 0.9848428082667601, 0.940546693198178, 0.5859368303180571, 0.2168427639759739, 0.06459146160986456, 0.12918292321972913, 0.2321869752656059, 0.6965609257968176, 0.9405482399903635, 0.007454309935334914, 0.8050654730161706, 0.04472585961200948, 0.05963447948267931, 0.029817239741339655, 0.04472585961200948, 0.2748025158666337, 0.7144865412532476, 0.3754557270934001, 0.6143820988801092, 0.9822882039807367, 0.18815118367439948, 0.7526047346975979, 0.9475801266436088, 0.9830818647670873, 0.7109060124032994, 0.28569120124618574, 0.9789174481918944, 0.9872777434093197, 0.10154178981655662, 0.880028845076824, 0.010177898645317434, 0.010177898645317434, 0.6513855133003158, 0.31551485800484047, 0.9733822665678428, 0.33541808403858336, 0.6537810112616456, 0.9193638444334887, 0.8741549055724419, 0.9872798178448134, 0.7163362164561025, 0.2262114367756113, 0.7622058567982056, 0.044597151195639693, 0.012162859416992643, 0.1743343183102279, 0.9565828545943126, 0.9257293676845824, 0.9787891764428733, 0.01649644679398101, 0.272082259437574, 0.006046272431946089, 0.3627763459167654, 0.07255526918335307, 0.1148791762069757, 0.1692956280944905, 0.957675593222553, 0.9872798481735167, 0.25879981959583054, 0.721915286241001, 0.8371765158220417, 0.9789247045372401, 0.9864563377312172, 0.9782227734282801, 0.9928048395292077, 0.0038630538503082014, 0.38419876764828836, 0.21469931133286704, 0.005649981877180712, 0.19209938382414418, 0.2033993475785056, 0.9837041176198336, 0.9872820021180091, 0.9928057269591911, 0.003863057303343156, 0.9592209633151837, 0.9845619335738618, 0.976453501948351, 0.5088554930022676, 0.4846242790497787, 0.837174349182486, 0.9864571537718867, 0.9793835464621045, 0.9262681349555236, 0.977251329216861, 0.939548816205443, 0.03356787771388609, 0.03356787771388609, 0.16783938856943045, 0.7608718948480847, 0.9742462989860076, 0.9719962406858654, 0.22881587340767137, 0.007502159783858078, 0.5026447055184912, 0.05626619837893558, 0.19880723427223906, 0.10285969332206235, 0.87430739323753, 0.9405461870942243, 0.9405450439788161, 0.9424855954972075, 0.9657498684455921, 0.9870871756548513, 0.9257316052624138, 0.9840878089790855, 0.9707055907149882, 0.9764508923785596, 0.9775189539242186], \"Term\": [\"aadil\", \"aba\", \"aba\", \"abovement\", \"ac\", \"ac\", \"ac\", \"acc\", \"acc\", \"acc\", \"acc\", \"accopenth\", \"acct\", \"acct\", \"act\", \"action\", \"action\", \"action\", \"activ\", \"activ\", \"add\", \"addit\", \"address\", \"address\", \"address\", \"address\", \"advic\", \"advis\", \"advis\", \"advis\", \"advis\", \"advis\", \"advis\", \"advis\", \"advis\", \"aforesaid\", \"aforesaid\", \"afrasia\", \"afternoon\", \"agent\", \"agent\", \"agent\", \"agent\", \"agent\", \"agreement\", \"agreement\", \"aif\", \"also\", \"amend\", \"amend\", \"amend\", \"among\", \"among\", \"amount\", \"amount\", \"amount\", \"amount\", \"amount\", \"amount\", \"amount\", \"amt\", \"amt\", \"andrew\", \"appli\", \"apr\", \"arc\", \"arrang\", \"arrang\", \"asap\", \"asiald\", \"audxcci\", \"audxcci\", \"aug\", \"aug\", \"aug\", \"aug\", \"aug\", \"aug\", \"aug\", \"aug\", \"august\", \"authoris\", \"authoris\", \"authoris\", \"back\", \"bankofengland\", \"basi\", \"bcancaw\", \"belinda\", \"ben\", \"bene\", \"beneficiari\", \"beneficiari\", \"beneficiari\", \"benefit\", \"benefit\", \"bic\", \"bic\", \"bill\", \"bk\", \"bkengb\", \"bocb\", \"bojpjpjt\", \"bond\", \"bond\", \"bond\", \"bond\", \"bond\", \"book\", \"book\", \"book\", \"book\", \"borrow\", \"borrow\", \"botkjpjt\", \"bp\", \"bp\", \"bran\", \"branch\", \"branch\", \"branch\", \"branch\", \"branch\", \"branch\", \"broker\", \"buy\", \"calendar\", \"cash\", \"cash\", \"cash\", \"cash\", \"cash\", \"cash\", \"cash\", \"cash\", \"cc\", \"ccass\", \"ccp\", \"cdp\", \"cdp\", \"cedelul\", \"central\", \"certif\", \"ch\", \"ch\", \"changefax\", \"charg\", \"chasgb\", \"cheong\", \"church\", \"cic\", \"citibank\", \"citibank\", \"citibank\", \"cl\", \"claim\", \"claim\", \"claim\", \"clarif\", \"clearstream\", \"clearstream\", \"clearstream\", \"clearstream\", \"clearstream\", \"close\", \"close\", \"cmcisgsg\", \"co\", \"co\", \"co\", \"code\", \"code\", \"code\", \"code\", \"code\", \"coll\", \"collater\", \"compani\", \"compani\", \"compani\", \"complet\", \"complet\", \"complet\", \"complet\", \"comput\", \"connect\", \"consult\", \"contact\", \"contact\", \"contact\", \"contact\", \"contact\", \"context\", \"context\", \"continu\", \"control\", \"control\", \"convers\", \"convers\", \"corp\", \"corpor\", \"corpor\", \"corpor\", \"corpor\", \"correct\", \"correspond\", \"correspond\", \"correspond\", \"could\", \"counterparti\", \"coupon\", \"coupon\", \"cover\", \"credit\", \"credit\", \"credit\", \"cuid\", \"currenc\", \"currenc\", \"currenc\", \"currenc\", \"current\", \"custodi\", \"custodi\", \"custodian\", \"custodian\", \"cvr\", \"daili\", \"daili\", \"db\", \"de\", \"de\", \"deal\", \"deal\", \"deal\", \"deal\", \"dear\", \"dear\", \"dear\", \"dear\", \"dear\", \"debit\", \"debit\", \"debit\", \"debit\", \"debit\", \"demat\", \"demateril\", \"depart\", \"depart\", \"depositori\", \"depositori\", \"detail\", \"detail\", \"detail\", \"detail\", \"detail\", \"detail\", \"detail\", \"detect\", \"deutdeff\", \"deutsch\", \"deutsch\", \"differ\", \"div\", \"domest\", \"domest\", \"done\", \"dt\", \"dt\", \"due\", \"due\", \"due\", \"dwpbank\", \"ebb\", \"ecl\", \"effect\", \"effect\", \"effect\", \"effect\", \"elig\", \"elig\", \"email\", \"email\", \"email\", \"email\", \"empfaeng\", \"end\", \"entitl\", \"eoc\", \"eq\", \"eq\", \"equal\", \"equal\", \"equiti\", \"equiti\", \"equiti\", \"equiti\", \"equival\", \"ernst\", \"erwin\", \"euro\", \"euro\", \"euroclear\", \"euroclear\", \"ev\", \"event\", \"execut\", \"execut\", \"exist\", \"exist\", \"fast\", \"fast\", \"favour\", \"fax\", \"fc\", \"feder\", \"fedwir\", \"fee\", \"feel\", \"fhk\", \"field\", \"field\", \"field\", \"final\", \"final\", \"financi\", \"flore\", \"fmo\", \"fmo\", \"fmo\", \"fmsosg\", \"fmsosg\", \"follow\", \"follow\", \"follow\", \"follow\", \"follow\", \"follow\", \"follow\", \"follow\", \"follow\", \"follow\", \"foreign\", \"forward\", \"forward\", \"forward\", \"frankfurt\", \"free\", \"free\", \"free\", \"french\", \"frnyu\", \"frontier\", \"full\", \"fulli\", \"fund\", \"fund\", \"fund\", \"futur\", \"fx\", \"fx\", \"fx\", \"gain\", \"germani\", \"gic\", \"gic\", \"girozentral\", \"glob\", \"gokbb\", \"good\", \"good\", \"govern\", \"govt\", \"grate\", \"gross\", \"group\", \"group\", \"hannov\", \"held\", \"held\", \"hello\", \"henc\", \"heni\", \"herebi\", \"herebi\", \"herebi\", \"hesit\", \"hesit\", \"hesit\", \"hex\", \"hkrc\", \"hold\", \"hongkong\", \"hous\", \"hous\", \"hsbchkhh\", \"huarong\", \"icfp\", \"id\", \"id\", \"id\", \"id\", \"idg\", \"ifast\", \"incorrect\", \"inform\", \"inform\", \"inform\", \"inform\", \"inform\", \"initi\", \"ino\", \"instr\", \"instruct\", \"instruct\", \"instruct\", \"instruct\", \"instruct\", \"instruct\", \"interest\", \"intermediari\", \"intermediari\", \"intl\", \"intl\", \"intr\", \"intr\", \"investor\", \"invoic\", \"invoic\", \"invoic\", \"irvtu\", \"isin\", \"isin\", \"isin\", \"isin\", \"jamin\", \"jasmin\", \"jpi\", \"jpi\", \"jpi\", \"jpi\", \"jpmorgan\", \"jul\", \"jul\", \"jul\", \"jul\", \"jul\", \"juli\", \"juli\", \"juli\", \"juli\", \"juli\", \"jun\", \"jun\", \"jun\", \"jun\", \"jun\", \"kbc\", \"kick\", \"kr\", \"landesbank\", \"ldn\", \"lend\", \"lend\", \"lender\", \"lender\", \"liabil\", \"liew\", \"limit\", \"limit\", \"limit\", \"limit\", \"limit\", \"limit\", \"link\", \"link\", \"link\", \"link\", \"list\", \"list\", \"long\", \"mail\", \"mail\", \"main\", \"mani\", \"mansuri\", \"mark\", \"market\", \"market\", \"market\", \"market\", \"market\", \"market\", \"master\", \"master\", \"matur\", \"matur\", \"mauritiu\", \"mention\", \"mention\", \"mention\", \"messag\", \"messag\", \"mgtcbebe\", \"mgtcbebeecl\", \"mgtcbebeecl\", \"mgtcbebeecl\", \"mkt\", \"moka\", \"monetari\", \"month\", \"month\", \"morgan\", \"ms\", \"mumbai\", \"net\", \"networkmanag\", \"next\", \"nigeria\", \"nolad\", \"nom\", \"nomine\", \"norddeutsch\", \"nostro\", \"nostro\", \"note\", \"note\", \"note\", \"nra\", \"nv\", \"nzd\", \"od\", \"offer\", \"offic\", \"open\", \"open\", \"open\", \"open\", \"open\", \"opportun\", \"opssecur\", \"ot\", \"ount\", \"outward\", \"page\", \"page\", \"paid\", \"pay\", \"pay\", \"pay\", \"pc\", \"pd\", \"per\", \"per\", \"per\", \"per\", \"per\", \"pertain\", \"pff\", \"phi\", \"phillip\", \"phillip\", \"phone\", \"physic\", \"pleas\", \"post\", \"princip\", \"privat\", \"privat\", \"proce\", \"proce\", \"proce\", \"proceed\", \"proprietari\", \"proprietari\", \"provid\", \"provid\", \"pte\", \"pte\", \"pvb\", \"pvt\", \"pvt\", \"pvt\", \"qlcsh\", \"queri\", \"question\", \"question\", \"radec\", \"rate\", \"rate\", \"rate\", \"rate\", \"rcvd\", \"reactiv\", \"reactiv\", \"recd\", \"receipt\", \"receiv\", \"receiv\", \"receiv\", \"receiv\", \"receiv\", \"receiv\", \"recipi\", \"record\", \"record\", \"record\", \"refund\", \"relat\", \"remit\", \"remit\", \"remitt\", \"remitt\", \"repatri\", \"repo\", \"report\", \"republ\", \"request\", \"request\", \"request\", \"request\", \"request\", \"reserv\", \"revert\", \"revert\", \"robert\", \"rollov\", \"rwc\", \"sakhalkar\", \"sale\", \"sale\", \"sale\", \"santoshkumar\", \"saranya\", \"scbfd\", \"scbhk\", \"scbhk\", \"scbhk\", \"scblhkhh\", \"scblmumu\", \"scblsgsg\", \"scblsgsg\", \"scblu\", \"scbsb\", \"scbsb\", \"scbsb\", \"schedul\", \"sec\", \"sec\", \"sec\", \"sec\", \"see\", \"sell\", \"sent\", \"sent\", \"sent\", \"sent\", \"sep\", \"sep\", \"separ\", \"settlement\", \"settlement\", \"settlement\", \"settlement\", \"settlement\", \"settlement\", \"setup\", \"setup\", \"sgx\", \"sgx\", \"sh\", \"si\", \"si\", \"sid\", \"sld\", \"specifi\", \"specifi\", \"spot\", \"squar\", \"sr\", \"sr\", \"ssi\", \"ssi\", \"ssi\", \"ssi\", \"staff\", \"stand\", \"stand\", \"stanley\", \"statu\", \"success\", \"support\", \"support\", \"swift\", \"swift\", \"swift\", \"swift\", \"sz\", \"tanglin\", \"tax\", \"tax\", \"team\", \"team\", \"team\", \"team\", \"team\", \"team\", \"tel\", \"tf\", \"th\", \"th\", \"thewi\", \"tom\", \"total\", \"toward\", \"track\", \"track\", \"trade\", \"trade\", \"trade\", \"trade\", \"trade\", \"transact\", \"trikomsel\", \"triparti\", \"triparti\", \"trn\", \"twyman\", \"typ\", \"type\", \"type\", \"ucit\", \"uid\", \"uig\", \"ukpb\", \"unlist\", \"uovbsgsg\", \"updat\", \"updat\", \"updat\", \"updat\", \"upon\", \"usdigcor\", \"valu\", \"valu\", \"valu\", \"valu\", \"valu\", \"vd\", \"vd\", \"vide\", \"vs\", \"waritsara\", \"wijayanti\", \"winoto\", \"wmo\", \"xix\", \"xs\", \"young\", \"zinsen\"]}, \"R\": 30, \"lambda.step\": 0.01, \"plot.opts\": {\"xlab\": \"PC1\", \"ylab\": \"PC2\"}, \"topic.order\": [10, 8, 7, 4, 6, 9, 2, 3, 5, 1]};\n",
       "\n",
       "function LDAvis_load_lib(url, callback){\n",
       "  var s = document.createElement('script');\n",
       "  s.src = url;\n",
       "  s.async = true;\n",
       "  s.onreadystatechange = s.onload = callback;\n",
       "  s.onerror = function(){console.warn(\"failed to load library \" + url);};\n",
       "  document.getElementsByTagName(\"head\")[0].appendChild(s);\n",
       "}\n",
       "\n",
       "if(typeof(LDAvis) !== \"undefined\"){\n",
       "   // already loaded: just create the visualization\n",
       "   !function(LDAvis){\n",
       "       new LDAvis(\"#\" + \"ldavis_el1313222929776605767588506589\", ldavis_el1313222929776605767588506589_data);\n",
       "   }(LDAvis);\n",
       "}else if(typeof define === \"function\" && define.amd){\n",
       "   // require.js is available: use it to load d3/LDAvis\n",
       "   require.config({paths: {d3: \"https://cdnjs.cloudflare.com/ajax/libs/d3/3.5.5/d3.min\"}});\n",
       "   require([\"d3\"], function(d3){\n",
       "      window.d3 = d3;\n",
       "      LDAvis_load_lib(\"https://cdn.rawgit.com/bmabey/pyLDAvis/files/ldavis.v1.0.0.js\", function(){\n",
       "        new LDAvis(\"#\" + \"ldavis_el1313222929776605767588506589\", ldavis_el1313222929776605767588506589_data);\n",
       "      });\n",
       "    });\n",
       "}else{\n",
       "    // require.js not available: dynamically load d3 & LDAvis\n",
       "    LDAvis_load_lib(\"https://cdnjs.cloudflare.com/ajax/libs/d3/3.5.5/d3.min.js\", function(){\n",
       "         LDAvis_load_lib(\"https://cdn.rawgit.com/bmabey/pyLDAvis/files/ldavis.v1.0.0.js\", function(){\n",
       "                 new LDAvis(\"#\" + \"ldavis_el1313222929776605767588506589\", ldavis_el1313222929776605767588506589_data);\n",
       "            })\n",
       "         });\n",
       "}\n",
       "</script>"
      ],
      "text/plain": [
       "PreparedData(topic_coordinates=            Freq  cluster  topics         x         y\n",
       "topic                                                \n",
       "9      19.126962        1       1 -0.204518  0.370943\n",
       "7      12.245743        1       2 -0.029576 -0.147021\n",
       "6      10.840320        1       3 -0.253603 -0.127653\n",
       "3      10.584937        1       4 -0.212970 -0.156939\n",
       "5       9.994892        1       5  0.178247 -0.023101\n",
       "8       8.999731        1       6  0.140195 -0.121544\n",
       "1       8.481300        1       7  0.145155  0.117418\n",
       "2       7.304006        1       8 -0.025857  0.077665\n",
       "4       6.476415        1       9  0.213876  0.068799\n",
       "0       5.945694        1      10  0.049051 -0.058567, topic_info=     Category        Freq       Term       Total  loglift  logprob\n",
       "term                                                              \n",
       "568   Default  480.000000    audxcci  480.000000  30.0000  30.0000\n",
       "60    Default  339.000000         fx  339.000000  29.0000  29.0000\n",
       "97    Default  291.000000    address  291.000000  28.0000  28.0000\n",
       "63    Default  191.000000    repatri  191.000000  27.0000  27.0000\n",
       "59    Default  242.000000       fund  242.000000  26.0000  26.0000\n",
       "19    Default  395.000000        per  395.000000  25.0000  25.0000\n",
       "72    Default  306.000000       deal  306.000000  24.0000  24.0000\n",
       "178   Default  222.000000      claim  222.000000  23.0000  23.0000\n",
       "156   Default  261.000000   question  261.000000  22.0000  22.0000\n",
       "513   Default  258.000000     lender  258.000000  21.0000  21.0000\n",
       "507   Default  258.000000       elig  258.000000  20.0000  20.0000\n",
       "503   Default  258.000000      among  258.000000  19.0000  19.0000\n",
       "514   Default  258.000000     privat  258.000000  18.0000  18.0000\n",
       "512   Default  258.000000       lend  258.000000  17.0000  17.0000\n",
       "515   Default  258.000000     revert  258.000000  16.0000  16.0000\n",
       "501   Default  258.000000      activ  258.000000  15.0000  15.0000\n",
       "505   Default  258.000000    context  258.000000  14.0000  14.0000\n",
       "502   Default  258.000000  agreement  258.000000  13.0000  13.0000\n",
       "504   Default  258.000000     borrow  258.000000  12.0000  12.0000\n",
       "516   Default  258.000000      track  258.000000  11.0000  11.0000\n",
       "517   Default  258.000000   triparti  258.000000  10.0000  10.0000\n",
       "509   Default  258.000000       fast  258.000000   9.0000   9.0000\n",
       "510   Default  258.000000        gic  258.000000   8.0000   8.0000\n",
       "55    Default  539.000000     amount  539.000000   7.0000   7.0000\n",
       "121   Default  246.000000      swift  246.000000   6.0000   6.0000\n",
       "5     Default  377.000000       cash  377.000000   5.0000   5.0000\n",
       "21    Default  330.000000    request  330.000000   4.0000   4.0000\n",
       "78    Default  251.000000       note  251.000000   3.0000   3.0000\n",
       "241   Default  182.000000    forward  182.000000   2.0000   2.0000\n",
       "511   Default  278.000000      hesit  278.000000   1.0000   1.0000\n",
       "...       ...         ...        ...         ...      ...      ...\n",
       "466   Topic10   19.761757      initi   20.692830   2.7765  -4.6342\n",
       "462   Topic10   19.760405        ccp   20.692785   2.7764  -4.6343\n",
       "469   Topic10   19.759111        phi   20.692756   2.7763  -4.6344\n",
       "464   Topic10   19.757864  demateril   20.692758   2.7763  -4.6344\n",
       "278   Topic10   16.812951    afrasia   17.736309   2.7690  -4.7958\n",
       "284   Topic10   16.810713   hongkong   17.736269   2.7689  -4.7960\n",
       "287   Topic10   16.808132   scblhkhh   17.736230   2.7688  -4.7961\n",
       "307   Topic10   28.163597     fmsosg   30.517820   2.7422  -4.2799\n",
       "306   Topic10   28.161030     domest   30.517720   2.7421  -4.2800\n",
       "482   Topic10   10.898963        fax   11.824235   2.7410  -5.2293\n",
       "490   Topic10    7.952727  changefax    8.867992   2.7136  -5.5445\n",
       "286   Topic10   48.266120     nostro   54.237467   2.7059  -3.7412\n",
       "459   Topic10   25.615235         sr   29.544486   2.6798  -4.3748\n",
       "279   Topic10   48.266881     arrang   68.149288   2.4775  -3.7412\n",
       "52    Topic10   58.708086     credit   89.985345   2.3954  -3.5454\n",
       "43    Topic10   51.131127       code   86.611240   2.2955  -3.6836\n",
       "75    Topic10   48.263660     execut  130.396128   1.8286  -3.7413\n",
       "164   Topic10   48.315758      debit  184.902928   1.4804  -3.7402\n",
       "67    Topic10   52.782806       valu  266.589896   1.2030  -3.6518\n",
       "159   Topic10   34.560524      amend   98.962939   1.7705  -4.0753\n",
       "367   Topic10   31.558464   scblsgsg   83.705561   1.8470  -4.1661\n",
       "216   Topic10   32.545116    currenc   96.375289   1.7369  -4.1353\n",
       "84    Topic10   30.844931     action   83.808224   1.8229  -4.1890\n",
       "55    Topic10   54.771817     amount  539.865833   0.5344  -3.6148\n",
       "120   Topic10   31.289145        ssi   98.252108   1.6782  -4.1747\n",
       "87    Topic10   30.530610     corpor  102.427900   1.6121  -4.1992\n",
       "13    Topic10   28.910391       juli  104.199956   1.5404  -4.2538\n",
       "169   Topic10   28.586275    complet  109.159350   1.4826  -4.2650\n",
       "88    Topic10   30.600544     detail  226.725409   0.8198  -4.1970\n",
       "5     Topic10   30.384304       cash  377.754593   0.3022  -4.2040\n",
       "\n",
       "[533 rows x 6 columns], token_table=      Topic      Freq       Term\n",
       "term                            \n",
       "174       3  0.975211      aadil\n",
       "124       2  0.021823        aba\n",
       "124       4  0.960231        aba\n",
       "533       2  0.987282  abovement\n",
       "189       6  0.126325         ac\n",
       "189       8  0.757948         ac\n",
       "189       9  0.105271         ac\n",
       "23        1  0.436268        acc\n",
       "23        4  0.285831        acc\n",
       "23        5  0.165481        acc\n",
       "23        9  0.105306        acc\n",
       "569       8  0.986068  accopenth\n",
       "445       8  0.870983       acct\n",
       "445      10  0.104518       acct\n",
       "95        4  0.984832        act\n",
       "84        2  0.477280     action\n",
       "84        6  0.143184     action\n",
       "84       10  0.369892     action\n",
       "501       1  0.992806      activ\n",
       "501       5  0.003863      activ\n",
       "427       5  0.919364        add\n",
       "96        5  0.919356      addit\n",
       "97        2  0.137200    address\n",
       "97        4  0.806052    address\n",
       "97        5  0.003430    address\n",
       "97        8  0.051450    address\n",
       "574       2  0.978770      advic\n",
       "0         1  0.063449      advis\n",
       "0         2  0.006679      advis\n",
       "0         3  0.003339      advis\n",
       "...     ...       ...        ...\n",
       "94       10  0.484624       type\n",
       "608       7  0.837174       ucit\n",
       "83        5  0.986457        uid\n",
       "206       9  0.979384        uig\n",
       "173       7  0.926268       ukpb\n",
       "471      10  0.977251     unlist\n",
       "314       1  0.939549   uovbsgsg\n",
       "22        1  0.033568      updat\n",
       "22        3  0.033568      updat\n",
       "22        6  0.167839      updat\n",
       "22        7  0.760872      updat\n",
       "289      10  0.974246       upon\n",
       "518       1  0.971996   usdigcor\n",
       "67        2  0.228816       valu\n",
       "67        5  0.007502       valu\n",
       "67        6  0.502645       valu\n",
       "67        7  0.056266       valu\n",
       "67       10  0.198807       valu\n",
       "249       4  0.102860         vd\n",
       "249       7  0.874307         vd\n",
       "250       7  0.940546       vide\n",
       "251       7  0.940545         vs\n",
       "573       8  0.942486  waritsara\n",
       "559       8  0.965750  wijayanti\n",
       "560       8  0.987087     winoto\n",
       "561       8  0.925732        wmo\n",
       "591      10  0.984088        xix\n",
       "385       3  0.970706         xs\n",
       "589       2  0.976451      young\n",
       "371       3  0.977519     zinsen\n",
       "\n",
       "[761 rows x 3 columns], R=30, lambda_step=0.01, plot_opts={'xlab': 'PC1', 'ylab': 'PC2'}, topic_order=[10, 8, 7, 4, 6, 9, 2, 3, 5, 1])"
      ]
     },
     "execution_count": 19,
     "metadata": {},
     "output_type": "execute_result"
    }
   ],
   "source": [
    "import pyLDAvis\n",
    "import pyLDAvis.gensim\n",
    "\n",
    "# Visualize the topics\n",
    "pyLDAvis.enable_notebook()\n",
    "vis = pyLDAvis.gensim.prepare(lda_model, bow_corpus, dictionary)\n",
    "vis"
   ]
  },
  {
   "cell_type": "code",
   "execution_count": 20,
   "metadata": {
    "collapsed": true
   },
   "outputs": [],
   "source": [
    "sent_topics_df = pd.DataFrame()\n",
    "\n",
    "# Get main topic in each document\n",
    "for i, row in enumerate(lda_model[bow_corpus]):\n",
    "    row = sorted(row, key=lambda x: (x[1]), reverse=True)\n",
    "    # Get the Dominant topic, Perc Contribution and Keywords for each document\n",
    "    for j, (topic_num, prop_topic) in enumerate(row):\n",
    "        if j == 0:  # => dominant topic\n",
    "            wp = lda_model.show_topic(topic_num)\n",
    "            topic_keywords = \", \".join([word for word, prop in wp])\n",
    "            sent_topics_df = sent_topics_df.append(pd.Series([int(topic_num), round(prop_topic,4), topic_keywords]), ignore_index=True)\n",
    "        else:\n",
    "            break\n",
    "sent_topics_df.columns = ['Dominant_Topic', 'Perc_Contribution', 'Topic_Keywords']\n",
    "\n",
    "# Add original text to the end of the output\n",
    "#contents = pd.Series(data)\n",
    "sent_topics_df = pd.concat([sent_topics_df, data], axis=1)"
   ]
  },
  {
   "cell_type": "code",
   "execution_count": 21,
   "metadata": {
    "collapsed": true
   },
   "outputs": [],
   "source": [
    "df_dominant_topic = sent_topics_df\n",
    "df_dominant_topic.columns = ['Dominant_Topic', 'Topic_Perc_Contrib', 'Keywords', 'Text','TextLength','Tokens','Number of Tokens']\n",
    "\n",
    "# Show\n",
    "#df_dominant_topic.head(10)\n",
    "(df_dominant_topic.iloc[:,0:5]).to_csv(\"Output.csv\",index = False)"
   ]
  },
  {
   "cell_type": "code",
   "execution_count": 22,
   "metadata": {
    "collapsed": true
   },
   "outputs": [],
   "source": [
    "# Number of Documents for Each Topic\n",
    "topic_counts = sent_topics_df['Dominant_Topic'].value_counts()\n",
    "\n",
    "# Percentage of Documents for Each Topic\n",
    "topic_contribution = round((topic_counts/topic_counts.sum())*100, 2)\n",
    "\n",
    "# Topic Number and Keywords\n",
    "\n",
    "#topic_num_keywords = sent_topics_df[['Dominant_Topic', 'Keywords']]\n",
    "\n",
    "# Concatenate Column wise\n",
    "df_dominant_topics = pd.concat([topic_counts, topic_contribution], axis=1)\n",
    "\n",
    "# Change Column names\n",
    "df_dominant_topics.columns = ['Num_Documents', 'Perc_Documents']\n",
    "\n",
    "# Show\n",
    "df_dominant_topics.to_csv(\"Topic_distribution.csv\")"
   ]
  },
  {
   "cell_type": "code",
   "execution_count": 23,
   "metadata": {},
   "outputs": [
    {
     "data": {
      "text/html": [
       "<div>\n",
       "<style>\n",
       "    .dataframe thead tr:only-child th {\n",
       "        text-align: right;\n",
       "    }\n",
       "\n",
       "    .dataframe thead th {\n",
       "        text-align: left;\n",
       "    }\n",
       "\n",
       "    .dataframe tbody tr th {\n",
       "        vertical-align: top;\n",
       "    }\n",
       "</style>\n",
       "<table border=\"1\" class=\"dataframe\">\n",
       "  <thead>\n",
       "    <tr style=\"text-align: right;\">\n",
       "      <th></th>\n",
       "      <th>Num_Documents</th>\n",
       "      <th>Perc_Documents</th>\n",
       "    </tr>\n",
       "  </thead>\n",
       "  <tbody>\n",
       "    <tr>\n",
       "      <th>9.0</th>\n",
       "      <td>323</td>\n",
       "      <td>23.47</td>\n",
       "    </tr>\n",
       "    <tr>\n",
       "      <th>8.0</th>\n",
       "      <td>153</td>\n",
       "      <td>11.12</td>\n",
       "    </tr>\n",
       "    <tr>\n",
       "      <th>1.0</th>\n",
       "      <td>142</td>\n",
       "      <td>10.32</td>\n",
       "    </tr>\n",
       "    <tr>\n",
       "      <th>7.0</th>\n",
       "      <td>123</td>\n",
       "      <td>8.94</td>\n",
       "    </tr>\n",
       "    <tr>\n",
       "      <th>5.0</th>\n",
       "      <td>118</td>\n",
       "      <td>8.58</td>\n",
       "    </tr>\n",
       "    <tr>\n",
       "      <th>0.0</th>\n",
       "      <td>113</td>\n",
       "      <td>8.21</td>\n",
       "    </tr>\n",
       "    <tr>\n",
       "      <th>3.0</th>\n",
       "      <td>108</td>\n",
       "      <td>7.85</td>\n",
       "    </tr>\n",
       "    <tr>\n",
       "      <th>2.0</th>\n",
       "      <td>106</td>\n",
       "      <td>7.70</td>\n",
       "    </tr>\n",
       "    <tr>\n",
       "      <th>6.0</th>\n",
       "      <td>99</td>\n",
       "      <td>7.19</td>\n",
       "    </tr>\n",
       "    <tr>\n",
       "      <th>4.0</th>\n",
       "      <td>91</td>\n",
       "      <td>6.61</td>\n",
       "    </tr>\n",
       "  </tbody>\n",
       "</table>\n",
       "</div>"
      ],
      "text/plain": [
       "     Num_Documents  Perc_Documents\n",
       "9.0            323           23.47\n",
       "8.0            153           11.12\n",
       "1.0            142           10.32\n",
       "7.0            123            8.94\n",
       "5.0            118            8.58\n",
       "0.0            113            8.21\n",
       "3.0            108            7.85\n",
       "2.0            106            7.70\n",
       "6.0             99            7.19\n",
       "4.0             91            6.61"
      ]
     },
     "execution_count": 23,
     "metadata": {},
     "output_type": "execute_result"
    }
   ],
   "source": [
    "df_dominant_topics"
   ]
  },
  {
   "cell_type": "code",
   "execution_count": 34,
   "metadata": {
    "collapsed": true
   },
   "outputs": [],
   "source": [
    "data['tokenized']\n",
    "df_data = data['tokenized']"
   ]
  },
  {
   "cell_type": "code",
   "execution_count": 45,
   "metadata": {},
   "outputs": [
    {
     "ename": "IndexError",
     "evalue": "tuple index out of range",
     "output_type": "error",
     "traceback": [
      "\u001b[1;31m---------------------------------------------------------------------------\u001b[0m",
      "\u001b[1;31mIndexError\u001b[0m                                Traceback (most recent call last)",
      "\u001b[1;32m<ipython-input-45-d2bbcd0deb69>\u001b[0m in \u001b[0;36m<module>\u001b[1;34m()\u001b[0m\n\u001b[0;32m      1\u001b[0m \u001b[1;32mimport\u001b[0m \u001b[0mmissingno\u001b[0m \u001b[1;32mas\u001b[0m \u001b[0mmsno\u001b[0m\u001b[1;33m\u001b[0m\u001b[0m\n\u001b[1;32m----> 2\u001b[1;33m \u001b[0mmsno\u001b[0m\u001b[1;33m.\u001b[0m\u001b[0mmatrix\u001b[0m\u001b[1;33m(\u001b[0m\u001b[0mdf_data\u001b[0m\u001b[1;33m)\u001b[0m\u001b[1;33m\u001b[0m\u001b[0m\n\u001b[0m",
      "\u001b[1;32mC:\\ProgramData\\Anaconda3\\lib\\site-packages\\missingno\\missingno.py\u001b[0m in \u001b[0;36mmatrix\u001b[1;34m(df, filter, n, p, sort, figsize, width_ratios, color, fontsize, labels, sparkline, inline, freq)\u001b[0m\n\u001b[0;32m     39\u001b[0m \u001b[1;33m\u001b[0m\u001b[0m\n\u001b[0;32m     40\u001b[0m     \u001b[0mheight\u001b[0m \u001b[1;33m=\u001b[0m \u001b[0mdf\u001b[0m\u001b[1;33m.\u001b[0m\u001b[0mshape\u001b[0m\u001b[1;33m[\u001b[0m\u001b[1;36m0\u001b[0m\u001b[1;33m]\u001b[0m\u001b[1;33m\u001b[0m\u001b[0m\n\u001b[1;32m---> 41\u001b[1;33m     \u001b[0mwidth\u001b[0m \u001b[1;33m=\u001b[0m \u001b[0mdf\u001b[0m\u001b[1;33m.\u001b[0m\u001b[0mshape\u001b[0m\u001b[1;33m[\u001b[0m\u001b[1;36m1\u001b[0m\u001b[1;33m]\u001b[0m\u001b[1;33m\u001b[0m\u001b[0m\n\u001b[0m\u001b[0;32m     42\u001b[0m \u001b[1;33m\u001b[0m\u001b[0m\n\u001b[0;32m     43\u001b[0m     \u001b[1;31m# z is the color-mask array, g is a NxNx3 matrix. Apply the z color-mask to set the RGB of each pixel.\u001b[0m\u001b[1;33m\u001b[0m\u001b[1;33m\u001b[0m\u001b[0m\n",
      "\u001b[1;31mIndexError\u001b[0m: tuple index out of range"
     ]
    }
   ],
   "source": [
    "import missingno as msno\n",
    "msno.matrix(df_data)"
   ]
  },
  {
   "cell_type": "code",
   "execution_count": 44,
   "metadata": {},
   "outputs": [
    {
     "data": {
      "text/plain": [
       "0       [ganghadharan, ananthakrishnan, andrew, liew, ...\n",
       "1       [ganghadharan, ananthakrishnan, andrew, liew, ...\n",
       "2       [secur, settlement, instruct, receiv, isin, cu...\n",
       "3       [secur, settlement, instruct, receiv, isin, cu...\n",
       "4       [secur, settlement, instruct, receiv, isin, cu...\n",
       "5       [secur, take, instruct, convert, share, isin, ...\n",
       "6       [secur, take, instruct, convert, share, isin, ...\n",
       "7       [secur, take, instruct, convert, share, isin, ...\n",
       "8       [safekeep, account, trade, credit, coupon, sec...\n",
       "9       [safekeep, account, trade, credit, coupon, sec...\n",
       "10      [safekeep, account, trade, credit, coupon, sec...\n",
       "11      [safekeep, account, trade, credit, coupon, sec...\n",
       "12      [bran, ch, repatri, amount, valu, jul, fx, rat...\n",
       "13      [bran, ch, repatri, amount, valu, jul, fx, rat...\n",
       "14      [bran, ch, repatri, amount, valu, jul, fx, rat...\n",
       "15      [rmit, branch, account, scbsb, note, execut, t...\n",
       "16      [rmit, branch, account, scbsb, note, execut, t...\n",
       "17      [rmit, branch, account, scbsb, note, execut, t...\n",
       "18      [bran, ch, repatri, amount, valu, aug, fx, rat...\n",
       "19      [bran, ch, repatri, amount, valu, aug, fx, rat...\n",
       "20      [bran, ch, repatri, amount, valu, aug, fx, rat...\n",
       "21      [robert, moka, good, afternoon, see, addit, ss...\n",
       "22      [robert, moka, good, afternoon, see, addit, ss...\n",
       "23      [robert, moka, good, afternoon, see, addit, ss...\n",
       "24      [robert, moka, good, afternoon, see, addit, ss...\n",
       "25      [robert, moka, good, afternoon, see, addit, ss...\n",
       "26      [robert, moka, good, afternoon, see, addit, ss...\n",
       "27      [robert, moka, good, afternoon, see, addit, ss...\n",
       "28      [robert, moka, good, afternoon, see, ssi, fix,...\n",
       "29      [robert, moka, good, afternoon, see, ssi, fix,...\n",
       "                              ...                        \n",
       "1346    [secur, proceed, follow, chang, effect, juli, ...\n",
       "1347    [secur, proceed, follow, chang, effect, juli, ...\n",
       "1348    [secur, proceed, follow, chang, effect, juli, ...\n",
       "1349    [secur, proceed, follow, chang, effect, juli, ...\n",
       "1350    [rollov, branch, scbsb, origin, deal, buy, vs,...\n",
       "1351    [rollov, branch, scbsb, origin, deal, buy, vs,...\n",
       "1352    [rollov, branch, scbsb, origin, deal, buy, vs,...\n",
       "1353    [rollov, branch, scbsb, origin, deal, buy, vs,...\n",
       "1354    [rollov, branch, scbsb, origin, deal, buy, vs,...\n",
       "1355    [rollov, branch, scbsb, origin, deal, buy, vs,...\n",
       "1356    [branch, account, scbsb, forward, deal, due, m...\n",
       "1357    [branch, account, scbsb, forward, deal, due, m...\n",
       "1358    [branch, account, scbsb, forward, deal, due, m...\n",
       "1359    [branch, account, scbsb, forward, deal, due, m...\n",
       "1360    [branch, account, scbsb, forward, deal, due, m...\n",
       "1361    [branch, account, scbsb, forward, deal, due, m...\n",
       "1362    [remit, branch, account, scbsb, note, execut, ...\n",
       "1363    [remit, branch, account, scbsb, note, execut, ...\n",
       "1364    [remit, branch, account, scbsb, note, execut, ...\n",
       "1365    [fund, ibql, cash, account, sub, accept, instr...\n",
       "1366    [fund, ibql, cash, account, sub, accept, instr...\n",
       "1367    [fund, ibql, cash, account, sub, accept, instr...\n",
       "1368    [fund, ibql, cash, account, sub, accept, instr...\n",
       "1369    [fund, ibql, cash, account, sub, accept, instr...\n",
       "1370    [fund, ibql, cash, account, sub, accept, instr...\n",
       "1371    [fund, ibql, cash, account, sub, accept, instr...\n",
       "1372    [sen, indranil, accept, messag, formal, reques...\n",
       "1373    [sen, indranil, accept, messag, formal, reques...\n",
       "1374    [sen, indranil, accept, messag, formal, reques...\n",
       "1375    [sen, indranil, accept, messag, formal, reques...\n",
       "Name: tokenized, Length: 1376, dtype: object"
      ]
     },
     "execution_count": 44,
     "metadata": {},
     "output_type": "execute_result"
    }
   ],
   "source": []
  },
  {
   "cell_type": "code",
   "execution_count": null,
   "metadata": {
    "collapsed": true
   },
   "outputs": [],
   "source": []
  }
 ],
 "metadata": {
  "kernelspec": {
   "display_name": "Python 3",
   "language": "python",
   "name": "python3"
  },
  "language_info": {
   "codemirror_mode": {
    "name": "ipython",
    "version": 3
   },
   "file_extension": ".py",
   "mimetype": "text/x-python",
   "name": "python",
   "nbconvert_exporter": "python",
   "pygments_lexer": "ipython3",
   "version": "3.6.1"
  }
 },
 "nbformat": 4,
 "nbformat_minor": 2
}
