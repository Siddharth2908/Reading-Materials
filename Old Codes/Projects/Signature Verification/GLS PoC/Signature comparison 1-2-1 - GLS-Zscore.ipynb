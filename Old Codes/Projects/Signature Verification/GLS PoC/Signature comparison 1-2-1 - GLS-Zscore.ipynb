{
 "cells": [
  {
   "cell_type": "markdown",
   "metadata": {},
   "source": [
    "# Perform Set up to compare images"
   ]
  },
  {
   "cell_type": "code",
   "execution_count": 7,
   "metadata": {
    "collapsed": true
   },
   "outputs": [],
   "source": [
    "import numpy as numpy\n",
    "from matplotlib import pyplot as matplot\n",
    "%matplotlib inline\n",
    "import pandas as pandas\n",
    "import math\n",
    "from sklearn import preprocessing\n",
    "from sklearn import svm\n",
    "import cv2\n",
    "import os\n",
    "import ntpath\n",
    "from sklearn.metrics.pairwise import cosine_similarity\n",
    "import fnmatch\n",
    "import math\n",
    "from math import sqrt,log\n",
    "from cmath import sqrt\n",
    "import glob\n",
    "import scipy as scipy\n",
    "\n",
    "data = []\n",
    "GFile = []\n",
    "TFile = []\n",
    "Person = []\n",
    "angles = []\n",
    "Len = []\n",
    "Rho = []\n",
    "Testdata = []\n",
    "output = []\n",
    "similarity = []\n",
    "\n",
    "\n",
    "\n",
    "def crop_image(img,tol=0):\n",
    "    mask = img>tol\n",
    "    return img[numpy.ix_(mask.any(1),mask.any(0))]\n",
    "def thinning(img):\n",
    "    #img = cropimage\n",
    "    size = numpy.size(img)\n",
    "    skel = numpy.zeros(img.shape,numpy.uint8)\n",
    "\n",
    "    ret,img = cv2.threshold(img,127,255,0)\n",
    "    element = cv2.getStructuringElement(cv2.MORPH_CROSS,(3,3))\n",
    "    done = False\n",
    "\n",
    "    while( not done):\n",
    "        eroded = cv2.erode(img,element)\n",
    "        temp = cv2.dilate(eroded,element)\n",
    "        temp = cv2.subtract(img,temp)\n",
    "        skel = cv2.bitwise_or(skel,temp)\n",
    "        img = eroded.copy()\n",
    "\n",
    "        zeros = size - cv2.countNonZero(img)\n",
    "        if zeros==size:\n",
    "            done = True\n",
    "\n",
    "  #  plt.imshow(skel,'gray')\n",
    "   # plt.show()\n",
    "    return skel\n",
    "def coords(thinnedimage):\n",
    "    rows,cols=thinnedimage.shape\n",
    "    img_topleft=thinnedimage[0:int(rows/2),0:int(cols/2)]\n",
    "    img_topright=thinnedimage[int(rows/2)+1:rows,0:int(cols/2)]\n",
    "    img_bottomleft=thinnedimage[0:int(rows/2),int(cols/2)+1:cols]\n",
    "    img_bottomright=thinnedimage[int(rows/2)+1:rows,int(cols/2)+1:cols]\n",
    "    \n",
    "    topleft_x,topleft_y=COG(img_topleft)\n",
    "    topright_x,topright_y=COG(img_topright)\n",
    "    bottomleft_x,bottomleft_y=COG(img_bottomleft)\n",
    "    bottomright_x,bottomright_y=COG(img_bottomright)\n",
    "\n",
    "    return topleft_x,topleft_y,topright_x,topright_y,bottomleft_x,bottomleft_y,bottomright_x,bottomright_y\n",
    "\n",
    "def COG(img):\n",
    "    x_cor=0\n",
    "    xrun_sum=0\n",
    "    y_cor=0\n",
    "    yrun_sum=0\n",
    "    #print(img.shape)\n",
    "    for i in range(img.shape[0]):\n",
    "        x_cor+=sum(img[i])*i/255\n",
    "        xrun_sum+=sum(img[i])/255\n",
    "\n",
    "    for i in range(img.shape[1]):\n",
    "        y_cor+=sum(img[:,i])*i/255\n",
    "        yrun_sum+=sum(img[:,i])/255\n",
    "        #print(img.shape[1]) \n",
    "        if yrun_sum==0:\n",
    "            x_pos=0\n",
    "        else:\n",
    "            x_pos=y_cor/(yrun_sum)\n",
    "        if xrun_sum==0:\n",
    "            y_pos=0\n",
    "        else:\n",
    "            y_pos=x_cor/(xrun_sum)\n",
    "        \n",
    "   # print(x_pos)\n",
    "  #  print(y_pos)\n",
    "    \n",
    "    return (x_pos/img.shape[1],y_pos/img.shape[0])\n",
    "\n",
    "def tan_i(x):\n",
    "    #print(x)\n",
    "    if x[0]==0:\n",
    "        return 90\n",
    "    return math.degrees(math.atan(x[1]/x[0]))\n",
    "\n",
    "def tan(thinnedimage):\n",
    "    rows,cols=thinnedimage.shape\n",
    "    \n",
    "    img_tl1=thinnedimage[0:int(rows/2),0:int(cols/4)]\n",
    "    img_tl2=thinnedimage[0:int(rows/2),int(cols/4)+1:int(cols/2)]\n",
    "    \n",
    "    img_tr1=thinnedimage[0:int(rows/2),int(cols/2)+1:int(0.75*cols)]\n",
    "    img_tr2=thinnedimage[0:int(rows/2),int(0.75*cols)+1:cols]\n",
    "    \n",
    "    img_bl1=thinnedimage[int(rows/2)+1:rows,0:int(cols/4)]\n",
    "    img_bl2=thinnedimage[int(rows/2)+1:rows,int(cols/4)+1:int(cols/2)]\n",
    "    \n",
    "    img_br1=thinnedimage[int(rows/2)+1:rows,int(cols/2)+1:int(0.75*cols)]\n",
    "    img_br2=thinnedimage[int(rows/2)+1:rows,int(0.75*cols)+1:cols]\n",
    "    \n",
    "\n",
    "    #plt.imshow(timg,'gray')\n",
    "    #plt.show()\n",
    "    \n",
    "    tl1=tan_i(COG(img_tl1))\n",
    "    tl2=tan_i(COG(img_tl2))\n",
    "    tr1=tan_i(COG(img_tr1))\n",
    "    tr2=tan_i(COG(img_tr2))\n",
    "    bl1=tan_i(COG(img_bl1))\n",
    "    bl2=tan_i(COG(img_bl2))\n",
    "    br1=tan_i(COG(img_br1))\n",
    "    br2=tan_i(COG(img_br2))\n",
    "    \n",
    "    #plt.imshow(img_br1,'gray')\n",
    "    #plt.show()\n",
    "    #print(COG(img_br1))\n",
    "    return tl1,tl2,tr1,tr2,bl1,bl2,br1,br2\n",
    "\n",
    "def leng_rho(img):\n",
    "    kernel = numpy.ones((2,2), numpy.uint8)\n",
    "    img_dilation = cv2.dilate(img, kernel, iterations=2)\n",
    "    img_erosion = cv2.erode(img, kernel, iterations=4)\n",
    "    edges = cv2.Canny(img_erosion,cv2.THRESH_BINARY+cv2.THRESH_OTSU,550,apertureSize = 3)\n",
    "    minLineLength=100\n",
    "    maxLineGap=10\n",
    "    threshold=20\n",
    "    image=edges\n",
    "    lines = cv2.HoughLinesP(image=img,rho=1,theta=numpy.pi/180, threshold=threshold,lines=numpy.array([]), minLineLength=minLineLength,maxLineGap=maxLineGap)\n",
    "    for x1,y1,x2,y2 in lines[0]:\n",
    "        theta = math.atan(float(y2 - y1) / (x2 - x1))\n",
    "        Leng = sqrt((x2-x1)^2 + (y2-y1)^2)\n",
    "        Rho = (x1 * y2 - x2 * y1) / Leng\n",
    "        angles.append({'theta': theta, 'p1': (x1, y1), 'p2': (x2, y2)})\n",
    "    #for i in range(len(angles)):\n",
    "     #   for j in range(i + 1, len(angles)):\n",
    "      #      delta = abs(angles[i]['theta'] - angles[j]['theta'])               \n",
    "    a,b,c = lines.shape\n",
    "    theta = round(theta,4)\n",
    "    Rho = round(abs(Rho),0)\n",
    "    Leng = round(abs(Leng),0)\n",
    "    return a,b,c,theta,Rho,Leng\n",
    "\n",
    "def createfingerprint_Genuine(image,GF):\n",
    "    numpy.seterr(divide='ignore', invalid='ignore')\n",
    "    aspect_ratio = 1.0*(image.shape[1]/image.shape[0])\n",
    "    ret,thresh1 = cv2.threshold(image,127,255,cv2.THRESH_BINARY)\n",
    "    ret,thresh2 = cv2.threshold(image,127,255,cv2.THRESH_BINARY_INV)\n",
    "    ret,thresh3 = cv2.threshold(image,127,255,cv2.THRESH_TRUNC)\n",
    "    ret,thresh4 = cv2.threshold(image,127,255,cv2.THRESH_TOZERO)\n",
    "    ret,thresh5 = cv2.threshold(image,127,255,cv2.THRESH_TOZERO_INV)\n",
    "    a,b,c,theta,Rho,Leng = leng_rho(image)\n",
    "    blur = cv2.GaussianBlur(thresh1,(5,5),0)\n",
    "    ret3,th3 = cv2.threshold(blur,0,255,cv2.THRESH_BINARY+cv2.THRESH_OTSU)\n",
    "    image=numpy.invert(th3)\n",
    "    \n",
    "    cropimage=crop_image(image,tol=0)\n",
    "    area=cv2.countNonZero(cropimage)\n",
    "    area=cv2.countNonZero(cropimage)/(cropimage.shape[0]*cropimage.shape[1])\n",
    "\n",
    "    img1=numpy.invert(cropimage)\n",
    "    connectcomp=cv2.connectedComponents(img1)[0]\n",
    "\n",
    "    thinnedimage=thinning(cropimage)\n",
    "    \n",
    "    topleft_x,topleft_y,topright_x,topright_y,bottomleft_x,bottomleft_y,bottomright_x,bottomright_y=coords(thinnedimage)\n",
    "    tan_topleft_x, tan_topleft_y, tan_topright_x, tan_topright_y, tan_bottomleft_x, tan_bottomleft_y, tan_bottomright_x, tan_bottomright_y = tan(thinnedimage)\n",
    "    \n",
    "      \n",
    "    a=pandas.Series([GF,area,connectcomp,topleft_x,topleft_y,topright_x,topright_y,bottomleft_x,bottomleft_y,bottomright_x,bottomright_y,tan_topleft_x, tan_topleft_y, tan_topright_x, tan_topright_y, tan_bottomleft_x, tan_bottomleft_y, tan_bottomright_x, tan_bottomright_y,aspect_ratio, a,b,c,theta,Rho,Leng],index=\n",
    "                    [\"File_Name\",\"Norm_area\",\"connected_comps\",\"topleft_x\",\"topleft_y\",\"topright_x\",\"topright_y\",\"bottomleft_x\",\"bottomleft_y\",\"bottomright_x\",\"bottomright_y\",\"tan_topleft_x\", \"tan_topleft_y\", \"tan_topright_x\", \"tan_topright_y\", \"tan_bottomleft_x\", \"tan_bottomleft_y\", \"tan_bottomright_x\", \"tan_bottomright_y\",\"Aspect_Ratio\",\"a\",\"b\",\"c\",\"theta\",\"Rho\",\"Leng\"])\n",
    "    data.append(a)\n",
    "\n",
    "def createfingerprint_Test(image,TF):\n",
    "    numpy.seterr(divide='ignore', invalid='ignore')\n",
    "    aspect_ratio = 1.0*(image.shape[1]/image.shape[0])\n",
    "    ret,thresh1 = cv2.threshold(image,127,255,cv2.THRESH_BINARY)\n",
    "    ret,thresh2 = cv2.threshold(image,127,255,cv2.THRESH_BINARY_INV)\n",
    "    ret,thresh3 = cv2.threshold(image,127,255,cv2.THRESH_TRUNC)\n",
    "    ret,thresh4 = cv2.threshold(image,127,255,cv2.THRESH_TOZERO)\n",
    "    ret,thresh5 = cv2.threshold(image,127,255,cv2.THRESH_TOZERO_INV)\n",
    "    a,b,c,theta,Rho,Leng = leng_rho(image)\n",
    "    blur = cv2.GaussianBlur(thresh1,(5,5),0)\n",
    "    ret3,th3 = cv2.threshold(blur,0,255,cv2.THRESH_BINARY+cv2.THRESH_OTSU)\n",
    "    image=numpy.invert(th3)\n",
    "    \n",
    "    cropimage=crop_image(image,tol=0)\n",
    "    area=cv2.countNonZero(cropimage)\n",
    "    area=cv2.countNonZero(cropimage)/(cropimage.shape[0]*cropimage.shape[1])\n",
    "\n",
    "    img1=numpy.invert(cropimage)\n",
    "    connectcomp=cv2.connectedComponents(img1)[0]\n",
    "\n",
    "    thinnedimage=thinning(cropimage)\n",
    "    #Thinning the image!\n",
    "\n",
    "    topleft_x,topleft_y,topright_x,topright_y,bottomleft_x,bottomleft_y,bottomright_x,bottomright_y=coords(thinnedimage)\n",
    "    tan_topleft_x, tan_topleft_y, tan_topright_x, tan_topright_y, tan_bottomleft_x, tan_bottomleft_y, tan_bottomright_x, tan_bottomright_y = tan(thinnedimage)\n",
    "    \n",
    "        #Extracting features\n",
    "\n",
    "    b=pandas.Series([TF,area,connectcomp,topleft_x,topleft_y,topright_x,topright_y,bottomleft_x,bottomleft_y,bottomright_x,bottomright_y,tan_topleft_x, tan_topleft_y, tan_topright_x, tan_topright_y, tan_bottomleft_x, tan_bottomleft_y, tan_bottomright_x, tan_bottomright_y,aspect_ratio,a,b,c,theta,Rho,Leng],index=\n",
    "                    [\"File_Name\",\"Norm_area\",\"connected_comps\",\"topleft_x\",\"topleft_y\",\"topright_x\",\"topright_y\",\"bottomleft_x\",\"bottomleft_y\",\"bottomright_x\",\"bottomright_y\",\"tan_topleft_x\", \"tan_topleft_y\", \"tan_topright_x\", \"tan_topright_y\", \"tan_bottomleft_x\", \"tan_bottomleft_y\", \"tan_bottomright_x\", \"tan_bottomright_y\",\"Aspect_Ratio\",\"a\",\"b\",\"c\",\"theta\",\"Rho\",\"Leng\"])\n",
    "    Testdata.append(b)\n",
    "    \n",
    "def create_training_Genuine_dataset(GF):\n",
    "    numpy.seterr(divide='ignore', invalid='ignore')\n",
    "    os.chdir(Genuinedir)\n",
    "    path = glob.glob(Genuinedir+str(GF))[0]\n",
    "    image = cv2.imread(path,0)\n",
    "    createfingerprint_Genuine(image,GF)\n",
    "    Original_Signature_Table=pandas.DataFrame(data)\n",
    "    #Original_Signature_Table['Filename'] = GF\n",
    "    #Trainingdatacol = Original_Signature_Table.columns.tolist()\n",
    "    #Trainingdatacol = Trainingdatacol[-1:]+Trainingdatacol[:-1]\n",
    "    #Original_Signature_Table = Original_Signature_Table[Trainingdatacol]\n",
    "    #Trainingdatacol = Original_Signature_Table.columns.tolist()\n",
    "    #Trainingdatacol = Trainingdatacol[-1:]+Trainingdatacol[:-1]\n",
    "    #Original_Signature_Table = Original_Signature_Table[Trainingdatacol]\n",
    "    Original_Signature_Table['Category'] = \"Genuine\"\n",
    "    Original_Signature_Table.to_csv('Training.csv', index = False)\n",
    "    #print('Preprocessing of Training Data Completed')\n",
    "    return Original_Signature_Table\n",
    "\n",
    "def create_test_dataset(TF):\n",
    "    numpy.seterr(divide='ignore', invalid='ignore')\n",
    "    os.chdir(Testdir)\n",
    "    path = glob.glob(Testdir+str(TF))[0]\n",
    "    image = cv2.imread(path,0)\n",
    "    createfingerprint_Test(image,TF)\n",
    "    Test_Signature_Table=(pandas.DataFrame(Testdata))\n",
    "    #Test_Signature_Table['Filename'] = TF\n",
    "    #Trainingdatacol = Test_Signature_Table.columns.tolist()\n",
    "    #Trainingdatacol = Trainingdatacol[-1:]+Trainingdatacol[:-1]\n",
    "    #Test_Signature_Table = Test_Signature_Table[Trainingdatacol]\n",
    "    #Trainingdatacol = Test_Signature_Table.columns.tolist()\n",
    "    #Trainingdatacol = Trainingdatacol[-1:]+Trainingdatacol[:-1]\n",
    "    #Test_Signature_Table = Test_Signature_Table[Trainingdatacol]\n",
    "    Test_Signature_Table['Category'] = \"Test\"\n",
    "    Test_Signature_Table.to_csv('Test.csv', index = False)\n",
    "    #print('Preprocessing of Test Data Completed')\n",
    "    return Test_Signature_Table\n",
    "\n",
    "#def compare_two_images():\n",
    "#    File = Original_Signature[\"File_Name\"]\n",
    "#    Original_Signature1 = (Original_Signature.iloc[0:,0:26]).set_index(\"File_Name\")\n",
    "#    Test_Signature1 = (Test_Signature.iloc[0:,0:26]).set_index(\"File_Name\")\n",
    "#    num = File.count()\n",
    "#    for i in range(0,num):\n",
    "#        Filename = File[i]\n",
    "#        compare = Original_Signature1.loc[Filename].div(Test_Signature1.loc[Filename])\n",
    "#        r = (compare<=1.2) & (compare>=.80)\n",
    "#        match = (round((((r.T).value_counts(sort = True)[1])/26),2)*100)\n",
    "#        output.append([Filename,round(match,2)])\n",
    "#    Final_output = Test_Signature.join(pandas.DataFrame(output))\n",
    "#    print(\"Comparison completed and output saved in Test path\")\n",
    "#    Final_output.to_excel(\"Output.xls\", index = False)\n",
    "#    return Final_output\n",
    "\n",
    "def compare_distance(Original_Signature,Test_Signature):\n",
    "    File = Original_Signature[\"File_Name\"]\n",
    "    Original_Signature1 = (Original_Signature.iloc[0:,0:26]).set_index(\"File_Name\")\n",
    "    Test_Signature1 = (Test_Signature.iloc[0:,0:26]).set_index(\"File_Name\")\n",
    "    num = File.count()\n",
    "    Values = []\n",
    "    for a in range(0,num):\n",
    "        canberra = []\n",
    "        for b in range(0,23):\n",
    "            BR1 = Test_Signature1.iloc[a:(a+1),b:(b+1)]\n",
    "            FR1 = Original_Signature1.iloc[a:(a+1),b:(b+1)]\n",
    "            dist = scipy.spatial.distance.cdist(FR1,BR1, 'canberra')\n",
    "            dist = round(numpy.max(dist),2)\n",
    "            canberra.append(dist)\n",
    "            match = round(numpy.mean(canberra),2)\n",
    "        Values.append(match)\n",
    "    Final_output = Test_Signature.join(pandas.DataFrame({\"Canb_Index\":Values}))  \n",
    "    Final_output.to_excel(\"Output.xls\", index = False)\n",
    "    print('Signature Comparison Successful')\n",
    "    return Final_output"
   ]
  },
  {
   "cell_type": "markdown",
   "metadata": {},
   "source": [
    "#  Select the path where the images are stored"
   ]
  },
  {
   "cell_type": "code",
   "execution_count": 6,
   "metadata": {
    "collapsed": true
   },
   "outputs": [],
   "source": [
    "Genuinedir = 'C:\\Siddhartha\\Confidential Documents\\Data Science\\Signature Verification\\Portal\\Original'\n",
    "Testdir = 'C:\\Siddhartha\\Confidential Documents\\Data Science\\Signature Verification\\Portal\\Test'"
   ]
  },
  {
   "cell_type": "markdown",
   "metadata": {},
   "source": [
    "# Create Genuine Data Set"
   ]
  },
  {
   "cell_type": "code",
   "execution_count": 10,
   "metadata": {},
   "outputs": [
    {
     "ename": "IndexError",
     "evalue": "list index out of range",
     "output_type": "error",
     "traceback": [
      "\u001b[1;31m---------------------------------------------------------------------------\u001b[0m",
      "\u001b[1;31mIndexError\u001b[0m                                Traceback (most recent call last)",
      "\u001b[1;32m<ipython-input-10-b32e78d4f1b9>\u001b[0m in \u001b[0;36m<module>\u001b[1;34m()\u001b[0m\n\u001b[0;32m      4\u001b[0m \u001b[1;32mwhile\u001b[0m \u001b[0mo\u001b[0m \u001b[1;33m<=\u001b[0m \u001b[0mh\u001b[0m\u001b[1;33m:\u001b[0m\u001b[1;33m\u001b[0m\u001b[0m\n\u001b[0;32m      5\u001b[0m     \u001b[0mGFile\u001b[0m \u001b[1;33m=\u001b[0m \u001b[0mstr\u001b[0m\u001b[1;33m(\u001b[0m\u001b[0mfnmatch\u001b[0m\u001b[1;33m.\u001b[0m\u001b[0mfilter\u001b[0m\u001b[1;33m(\u001b[0m\u001b[0mos\u001b[0m\u001b[1;33m.\u001b[0m\u001b[0mlistdir\u001b[0m\u001b[1;33m(\u001b[0m\u001b[1;33m)\u001b[0m\u001b[1;33m,\u001b[0m \u001b[1;34m'*.png'\u001b[0m\u001b[1;33m)\u001b[0m\u001b[1;33m[\u001b[0m\u001b[0mo\u001b[0m\u001b[1;33m-\u001b[0m\u001b[1;36m1\u001b[0m\u001b[1;33m]\u001b[0m\u001b[1;33m)\u001b[0m\u001b[1;33m\u001b[0m\u001b[0m\n\u001b[1;32m----> 6\u001b[1;33m     \u001b[0mOriginal_Signature\u001b[0m \u001b[1;33m=\u001b[0m \u001b[0mpandas\u001b[0m\u001b[1;33m.\u001b[0m\u001b[0mDataFrame\u001b[0m\u001b[1;33m(\u001b[0m\u001b[0mcreate_training_Genuine_dataset\u001b[0m\u001b[1;33m(\u001b[0m\u001b[0mGFile\u001b[0m\u001b[1;33m)\u001b[0m\u001b[1;33m)\u001b[0m\u001b[1;33m\u001b[0m\u001b[0m\n\u001b[0m\u001b[0;32m      7\u001b[0m     \u001b[0mo\u001b[0m \u001b[1;33m=\u001b[0m \u001b[0mo\u001b[0m\u001b[1;33m+\u001b[0m\u001b[1;36m1\u001b[0m\u001b[1;33m\u001b[0m\u001b[0m\n\u001b[0;32m      8\u001b[0m \u001b[0mprint\u001b[0m\u001b[1;33m(\u001b[0m\u001b[1;34m'Preprocessing of Training Data Completed'\u001b[0m\u001b[1;33m)\u001b[0m\u001b[1;33m\u001b[0m\u001b[0m\n",
      "\u001b[1;32m<ipython-input-7-066fc41848f3>\u001b[0m in \u001b[0;36mcreate_training_Genuine_dataset\u001b[1;34m(GF)\u001b[0m\n\u001b[0;32m    226\u001b[0m     \u001b[0mnumpy\u001b[0m\u001b[1;33m.\u001b[0m\u001b[0mseterr\u001b[0m\u001b[1;33m(\u001b[0m\u001b[0mdivide\u001b[0m\u001b[1;33m=\u001b[0m\u001b[1;34m'ignore'\u001b[0m\u001b[1;33m,\u001b[0m \u001b[0minvalid\u001b[0m\u001b[1;33m=\u001b[0m\u001b[1;34m'ignore'\u001b[0m\u001b[1;33m)\u001b[0m\u001b[1;33m\u001b[0m\u001b[0m\n\u001b[0;32m    227\u001b[0m     \u001b[0mos\u001b[0m\u001b[1;33m.\u001b[0m\u001b[0mchdir\u001b[0m\u001b[1;33m(\u001b[0m\u001b[0mGenuinedir\u001b[0m\u001b[1;33m)\u001b[0m\u001b[1;33m\u001b[0m\u001b[0m\n\u001b[1;32m--> 228\u001b[1;33m     \u001b[0mpath\u001b[0m \u001b[1;33m=\u001b[0m \u001b[0mglob\u001b[0m\u001b[1;33m.\u001b[0m\u001b[0mglob\u001b[0m\u001b[1;33m(\u001b[0m\u001b[0mGenuinedir\u001b[0m\u001b[1;33m+\u001b[0m\u001b[0mstr\u001b[0m\u001b[1;33m(\u001b[0m\u001b[0mGF\u001b[0m\u001b[1;33m)\u001b[0m\u001b[1;33m)\u001b[0m\u001b[1;33m[\u001b[0m\u001b[1;36m0\u001b[0m\u001b[1;33m]\u001b[0m\u001b[1;33m\u001b[0m\u001b[0m\n\u001b[0m\u001b[0;32m    229\u001b[0m     \u001b[0mimage\u001b[0m \u001b[1;33m=\u001b[0m \u001b[0mcv2\u001b[0m\u001b[1;33m.\u001b[0m\u001b[0mimread\u001b[0m\u001b[1;33m(\u001b[0m\u001b[0mpath\u001b[0m\u001b[1;33m,\u001b[0m\u001b[1;36m0\u001b[0m\u001b[1;33m)\u001b[0m\u001b[1;33m\u001b[0m\u001b[0m\n\u001b[0;32m    230\u001b[0m     \u001b[0mcreatefingerprint_Genuine\u001b[0m\u001b[1;33m(\u001b[0m\u001b[0mimage\u001b[0m\u001b[1;33m,\u001b[0m\u001b[0mGF\u001b[0m\u001b[1;33m)\u001b[0m\u001b[1;33m\u001b[0m\u001b[0m\n",
      "\u001b[1;31mIndexError\u001b[0m: list index out of range"
     ]
    }
   ],
   "source": [
    "os.chdir(Genuinedir)\n",
    "h = len(glob.glob(\"*.png\"))\n",
    "o = 1\n",
    "while o <= h:\n",
    "    GFile = str(fnmatch.filter(os.listdir(), '*.png')[o-1])\n",
    "    Original_Signature = pandas.DataFrame(create_training_Genuine_dataset(GFile))\n",
    "    o = o+1\n",
    "print('Preprocessing of Training Data Completed')"
   ]
  },
  {
   "cell_type": "code",
   "execution_count": 9,
   "metadata": {},
   "outputs": [
    {
     "data": {
      "text/plain": [
       "10"
      ]
     },
     "execution_count": 9,
     "metadata": {},
     "output_type": "execute_result"
    }
   ],
   "source": [
    "os.chdir(Genuinedir)\n",
    "h = len(glob.glob(\"*.png\"))\n",
    "h"
   ]
  },
  {
   "cell_type": "code",
   "execution_count": 12,
   "metadata": {},
   "outputs": [
    {
     "ename": "IndexError",
     "evalue": "list index out of range",
     "output_type": "error",
     "traceback": [
      "\u001b[1;31m---------------------------------------------------------------------------\u001b[0m",
      "\u001b[1;31mIndexError\u001b[0m                                Traceback (most recent call last)",
      "\u001b[1;32m<ipython-input-12-a7ecb8dde931>\u001b[0m in \u001b[0;36m<module>\u001b[1;34m()\u001b[0m\n\u001b[0;32m      1\u001b[0m \u001b[0mos\u001b[0m\u001b[1;33m.\u001b[0m\u001b[0mchdir\u001b[0m\u001b[1;33m(\u001b[0m\u001b[0mGenuinedir\u001b[0m\u001b[1;33m)\u001b[0m\u001b[1;33m\u001b[0m\u001b[0m\n\u001b[1;32m----> 2\u001b[1;33m \u001b[0mpath\u001b[0m \u001b[1;33m=\u001b[0m \u001b[0mglob\u001b[0m\u001b[1;33m.\u001b[0m\u001b[0mglob\u001b[0m\u001b[1;33m(\u001b[0m\u001b[0mGenuinedir\u001b[0m\u001b[1;33m+\u001b[0m\u001b[0mstr\u001b[0m\u001b[1;33m(\u001b[0m\u001b[0mGFile\u001b[0m\u001b[1;33m)\u001b[0m\u001b[1;33m)\u001b[0m\u001b[1;33m[\u001b[0m\u001b[1;36m0\u001b[0m\u001b[1;33m]\u001b[0m\u001b[1;33m\u001b[0m\u001b[0m\n\u001b[0m",
      "\u001b[1;31mIndexError\u001b[0m: list index out of range"
     ]
    }
   ],
   "source": [
    "os.chdir(Genuinedir)\n",
    "path = glob.glob(Genuinedir+str(GFile))[0]"
   ]
  },
  {
   "cell_type": "code",
   "execution_count": 14,
   "metadata": {},
   "outputs": [
    {
     "data": {
      "text/plain": [
       "'C:\\\\Siddhartha\\\\Confidential Documents\\\\Data Science\\\\Signature Verification\\\\Portal\\\\Original001.png'"
      ]
     },
     "execution_count": 14,
     "metadata": {},
     "output_type": "execute_result"
    }
   ],
   "source": [
    "Genuinedir+str(GFile)"
   ]
  },
  {
   "cell_type": "code",
   "execution_count": 4,
   "metadata": {},
   "outputs": [
    {
     "data": {
      "text/html": [
       "<div>\n",
       "<style>\n",
       "    .dataframe thead tr:only-child th {\n",
       "        text-align: right;\n",
       "    }\n",
       "\n",
       "    .dataframe thead th {\n",
       "        text-align: left;\n",
       "    }\n",
       "\n",
       "    .dataframe tbody tr th {\n",
       "        vertical-align: top;\n",
       "    }\n",
       "</style>\n",
       "<table border=\"1\" class=\"dataframe\">\n",
       "  <thead>\n",
       "    <tr style=\"text-align: right;\">\n",
       "      <th></th>\n",
       "      <th>File_Name</th>\n",
       "      <th>Norm_area</th>\n",
       "      <th>connected_comps</th>\n",
       "      <th>topleft_x</th>\n",
       "      <th>topleft_y</th>\n",
       "      <th>topright_x</th>\n",
       "      <th>topright_y</th>\n",
       "      <th>bottomleft_x</th>\n",
       "      <th>bottomleft_y</th>\n",
       "      <th>bottomright_x</th>\n",
       "      <th>...</th>\n",
       "      <th>tan_bottomright_x</th>\n",
       "      <th>tan_bottomright_y</th>\n",
       "      <th>Aspect_Ratio</th>\n",
       "      <th>a</th>\n",
       "      <th>b</th>\n",
       "      <th>c</th>\n",
       "      <th>theta</th>\n",
       "      <th>Rho</th>\n",
       "      <th>Leng</th>\n",
       "      <th>Category</th>\n",
       "    </tr>\n",
       "  </thead>\n",
       "  <tbody>\n",
       "    <tr>\n",
       "      <th>0</th>\n",
       "      <td>001_24.png</td>\n",
       "      <td>0.178588</td>\n",
       "      <td>7</td>\n",
       "      <td>0.626979</td>\n",
       "      <td>0.630058</td>\n",
       "      <td>0.581296</td>\n",
       "      <td>0.377583</td>\n",
       "      <td>0.43563</td>\n",
       "      <td>0.568155</td>\n",
       "      <td>0.345176</td>\n",
       "      <td>...</td>\n",
       "      <td>32.534148</td>\n",
       "      <td>16.032168</td>\n",
       "      <td>1.737589</td>\n",
       "      <td>125</td>\n",
       "      <td>1</td>\n",
       "      <td>4</td>\n",
       "      <td>-0.1385</td>\n",
       "      <td>1579.0</td>\n",
       "      <td>15.0</td>\n",
       "      <td>Genuine</td>\n",
       "    </tr>\n",
       "  </tbody>\n",
       "</table>\n",
       "<p>1 rows × 27 columns</p>\n",
       "</div>"
      ],
      "text/plain": [
       "    File_Name  Norm_area  connected_comps  topleft_x  topleft_y  topright_x  \\\n",
       "0  001_24.png   0.178588                7   0.626979   0.630058    0.581296   \n",
       "\n",
       "   topright_y  bottomleft_x  bottomleft_y  bottomright_x    ...     \\\n",
       "0    0.377583       0.43563      0.568155       0.345176    ...      \n",
       "\n",
       "   tan_bottomright_x  tan_bottomright_y  Aspect_Ratio    a  b  c   theta  \\\n",
       "0          32.534148          16.032168      1.737589  125  1  4 -0.1385   \n",
       "\n",
       "      Rho  Leng  Category  \n",
       "0  1579.0  15.0   Genuine  \n",
       "\n",
       "[1 rows x 27 columns]"
      ]
     },
     "execution_count": 4,
     "metadata": {},
     "output_type": "execute_result"
    }
   ],
   "source": [
    "Original_Signature"
   ]
  },
  {
   "cell_type": "markdown",
   "metadata": {},
   "source": [
    "# Create Test Data Set"
   ]
  },
  {
   "cell_type": "code",
   "execution_count": null,
   "metadata": {
    "collapsed": true
   },
   "outputs": [],
   "source": [
    "os.chdir(Testdir)\n",
    "y = len(glob.glob(\"*.png\"))\n",
    "r = 1\n",
    "while r <= y:\n",
    "    TFile = str(fnmatch.filter(os.listdir(), '*.png')[r-1])\n",
    "    Test_Signature = pandas.DataFrame(create_test_dataset(TFile))\n",
    "    r = r+1\n",
    "print('Preprocessing of Test Data Completed')"
   ]
  },
  {
   "cell_type": "markdown",
   "metadata": {},
   "source": [
    "# Compare signatures - Original Specimen VS Test"
   ]
  },
  {
   "cell_type": "code",
   "execution_count": null,
   "metadata": {
    "collapsed": true
   },
   "outputs": [],
   "source": [
    "Final_Output = compare_distance(Original_Signature, Test_Signature)"
   ]
  },
  {
   "cell_type": "code",
   "execution_count": null,
   "metadata": {
    "collapsed": true
   },
   "outputs": [],
   "source": [
    "Similarity = 100-((pandas.Series(Final_Output.iloc[0:1,27:28]))[0])*100"
   ]
  },
  {
   "cell_type": "code",
   "execution_count": null,
   "metadata": {
    "collapsed": true
   },
   "outputs": [],
   "source": [
    "Similarity"
   ]
  },
  {
   "cell_type": "code",
   "execution_count": null,
   "metadata": {
    "collapsed": true
   },
   "outputs": [],
   "source": [
    "Ori_Z = Original_Signature.iloc[:,1:20]"
   ]
  },
  {
   "cell_type": "code",
   "execution_count": null,
   "metadata": {
    "collapsed": true
   },
   "outputs": [],
   "source": [
    "def z_score(df):\n",
    "    df.columns = [x for x in df.columns.tolist()]\n",
    "    return ((df - df.mean())/df.std(ddof=0))"
   ]
  },
  {
   "cell_type": "code",
   "execution_count": null,
   "metadata": {
    "collapsed": true
   },
   "outputs": [],
   "source": [
    "Ori_Zscore = z_score(Ori_Z)"
   ]
  },
  {
   "cell_type": "code",
   "execution_count": null,
   "metadata": {
    "collapsed": true
   },
   "outputs": [],
   "source": [
    "Test_Z = Test_Signature.iloc[:,1:20]"
   ]
  },
  {
   "cell_type": "code",
   "execution_count": null,
   "metadata": {
    "collapsed": true
   },
   "outputs": [],
   "source": [
    "Test_Zscore = z_score(Test_Z)"
   ]
  },
  {
   "cell_type": "code",
   "execution_count": null,
   "metadata": {
    "collapsed": true
   },
   "outputs": [],
   "source": [
    "Ori_Zscore[\"File_Name\"] = Original_Signature[\"File_Name\"]"
   ]
  },
  {
   "cell_type": "code",
   "execution_count": null,
   "metadata": {
    "collapsed": true
   },
   "outputs": [],
   "source": [
    "Test_Zscore[\"File_Name\"] = Test_Signature[\"File_Name\"]"
   ]
  },
  {
   "cell_type": "code",
   "execution_count": null,
   "metadata": {
    "collapsed": true
   },
   "outputs": [],
   "source": [
    "Final_Output_Zscore = compare_distance(Ori_Zscore, Test_Zscore)"
   ]
  },
  {
   "cell_type": "code",
   "execution_count": null,
   "metadata": {
    "collapsed": true
   },
   "outputs": [],
   "source": [
    "Final_Output.head()"
   ]
  },
  {
   "cell_type": "code",
   "execution_count": null,
   "metadata": {
    "collapsed": true
   },
   "outputs": [],
   "source": [
    "Ori_Zscore"
   ]
  },
  {
   "cell_type": "code",
   "execution_count": null,
   "metadata": {
    "collapsed": true
   },
   "outputs": [],
   "source": []
  }
 ],
 "metadata": {
  "kernelspec": {
   "display_name": "Python 3",
   "language": "python",
   "name": "python3"
  },
  "language_info": {
   "codemirror_mode": {
    "name": "ipython",
    "version": 3
   },
   "file_extension": ".py",
   "mimetype": "text/x-python",
   "name": "python",
   "nbconvert_exporter": "python",
   "pygments_lexer": "ipython3",
   "version": "3.6.1"
  }
 },
 "nbformat": 4,
 "nbformat_minor": 2
}
