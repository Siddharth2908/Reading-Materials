{
 "cells": [
  {
   "cell_type": "code",
   "execution_count": 1,
   "metadata": {
    "collapsed": true
   },
   "outputs": [],
   "source": [
    "import xml.etree.ElementTree as ET\n",
    "import pandas as pandas\n",
    "import numpy as numpy"
   ]
  },
  {
   "cell_type": "code",
   "execution_count": 2,
   "metadata": {
    "collapsed": true
   },
   "outputs": [],
   "source": [
    "import os\n",
    "os.chdir(\"C:\\\\Siddhartha\\\\Confidential Documents\\\\Data Science\\\\NAV Data Mining\\\\Sample 1\\\\\")\n",
    "Validations_Output = []"
   ]
  },
  {
   "cell_type": "code",
   "execution_count": 3,
   "metadata": {
    "collapsed": true
   },
   "outputs": [],
   "source": [
    "Net_Asset_Value_For_Fund = ET.parse('SDNAR022HKQ182.XML')"
   ]
  },
  {
   "cell_type": "markdown",
   "metadata": {},
   "source": [
    "# Extract information from Net Asset Value for Fund report. This is done by\n",
    "\n",
    "- Creating a function called \"extract_NAV_For_Fund(x) which parses the values in XML and creates 7 outputs A.Group - Group IDs \n",
    "\n",
    "    1. Account - Account IDs\n",
    "    2. Description - Description lists of the securities\n",
    "    3. Balance - Balance \n",
    "    4. Total - Total amount\n",
    "    5. Net_Asset_Value - Net Asset Value as mentioned in the total summary\n",
    "    6. Fund_CCY - Fund currency\n",
    "    \n",
    "\n",
    "- Call these functions and assign the output to 7 variables. These values will then be used to perform validation\n"
   ]
  },
  {
   "cell_type": "code",
   "execution_count": 4,
   "metadata": {
    "collapsed": true
   },
   "outputs": [],
   "source": [
    "def extract_NAV_For_Fund(x):\n",
    "       \n",
    "    Group = []\n",
    "    for i in Net_Asset_Value_For_Fund.iter(\"REGR\"):\n",
    "        b = int(i.text)\n",
    "        if b == 0:\n",
    "            break\n",
    "        else:\n",
    "            b = b\n",
    "        Group.append(b)\n",
    "    \n",
    "    Acc = []\n",
    "    for i in Net_Asset_Value_For_Fund.iter('NRUBR'):\n",
    "        b = int(i.text)\n",
    "        Acc.append(b)\n",
    "    Account = [a for a in Acc if a != 0]\n",
    "    \n",
    "    Description = []\n",
    "    for i in Net_Asset_Value_For_Fund.iter('LIB_REGR'):\n",
    "        b = i.text\n",
    "        Description.append(b)\n",
    "        \n",
    "    Bal = []\n",
    "    for i in Net_Asset_Value_For_Fund.iter('CF_SOLDE_DETAIL'):\n",
    "        b = i.text\n",
    "        if b == None:\n",
    "            b = 0\n",
    "        else:\n",
    "            b\n",
    "        Bal.append(b)\n",
    "    Bal1 = [a for a in Bal if a != 0]\n",
    "    Bala = []\n",
    "    for r in range(0,len(Bal1)):\n",
    "        x = Bal1[r].replace(\"(\",\"-\")\n",
    "        Bala.append(x)\n",
    "    Balance = []\n",
    "    for i in range(0,len(Bala)):\n",
    "        d = Bala[i]\n",
    "        d = ''.join(e for e in d if e.isdigit() or e == '.' or e == \"-\")\n",
    "        d = float(d)\n",
    "        Balance.append(d)\n",
    "    \n",
    "    Tot = []\n",
    "    for i in Net_Asset_Value_For_Fund.iter('CF_SOLDE_TOTAL'):\n",
    "        b = i.text\n",
    "        if b == None:\n",
    "            b = 0\n",
    "        else:\n",
    "            b\n",
    "        Tot.append(b)\n",
    "    Tot1 = [a for a in Tot if a != 0]\n",
    "    Tota = []\n",
    "    for r in range(0,len(Tot1)):\n",
    "        x = Tot1[r].replace(\"(\",\"-\")\n",
    "        Tota.append(x)\n",
    "    Total = []\n",
    "    for i in range(0,len(Tota)):\n",
    "        d = Tota[i]\n",
    "        d = ''.join(e for e in d if e.isdigit() or e == '.' or e == \"-\")\n",
    "        d = float(d)\n",
    "        Total.append(d)\n",
    "    \n",
    "    Net_Asset_Value = Total[-1]\n",
    "    \n",
    "    Fund_CCY = []\n",
    "    for i in Net_Asset_Value_For_Fund.iter('CMON'):\n",
    "        b = i.text\n",
    "        Fund_CCY.append(b)\n",
    "    Fund_CCY = Fund_CCY[1]\n",
    "        \n",
    "    return Group, Account, Description, Balance, Total, Net_Asset_Value, Fund_CCY"
   ]
  },
  {
   "cell_type": "code",
   "execution_count": 5,
   "metadata": {
    "collapsed": true
   },
   "outputs": [],
   "source": [
    "Group, Account, Description, Balance, Total, Net_Asset_Value, Fund_CCY =  extract_NAV_For_Fund(Net_Asset_Value_For_Fund)"
   ]
  },
  {
   "cell_type": "markdown",
   "metadata": {
    "collapsed": true
   },
   "source": [
    "# Extract Information from Net Asset Value - Statement of Change report. This is done by\n",
    "1. Extract NAV Statement of Change value \n",
    "2. Compare NAV Statement of change value with Net Asset Value"
   ]
  },
  {
   "cell_type": "code",
   "execution_count": 6,
   "metadata": {
    "collapsed": true
   },
   "outputs": [],
   "source": [
    "NAV_Statement_of_Change = ET.parse('SDNAV052HKQ182.XML')"
   ]
  },
  {
   "cell_type": "code",
   "execution_count": 7,
   "metadata": {
    "collapsed": true
   },
   "outputs": [],
   "source": [
    "NAV_SoC = []\n",
    "for i in NAV_Statement_of_Change.iter('CS_SOLDE_J_TOTAL'):\n",
    "    b = float(i.text)\n",
    "    NAV_SoC.append(b)"
   ]
  },
  {
   "cell_type": "code",
   "execution_count": 8,
   "metadata": {},
   "outputs": [
    {
     "name": "stdout",
     "output_type": "stream",
     "text": [
      "Amount Mismatch : NAV matched between NAV FOR FUND report and NAV Statement of Change report\n",
      "Mismatch =  CNY 0.03\n"
     ]
    }
   ],
   "source": [
    "if NAV_SoC == Net_Asset_Value:\n",
    "    print(\"NAV matched between NAV FOR FUND report and NAV Statement of Change report\")\n",
    "    Validations_Output.append(\"NAV matched between NAV FOR FUND report and NAV Statement of Change report\")\n",
    "else:\n",
    "    print(\"Amount Mismatch : NAV matched between NAV FOR FUND report and NAV Statement of Change report\")\n",
    "    Validations_Output.append(\"Amount Mismatch : NAV matched between NAV FOR FUND report and NAV Statement of Change report\")\n",
    "    mismatch = Net_Asset_Value-NAV_SoC[0]\n",
    "print(\"Mismatch = \", Fund_CCY,round(mismatch,2))"
   ]
  },
  {
   "cell_type": "code",
   "execution_count": 9,
   "metadata": {},
   "outputs": [
    {
     "data": {
      "text/plain": [
       "['Amount Mismatch : NAV matched between NAV FOR FUND report and NAV Statement of Change report']"
      ]
     },
     "execution_count": 9,
     "metadata": {},
     "output_type": "execute_result"
    }
   ],
   "source": [
    "Validations_Output"
   ]
  },
  {
   "cell_type": "markdown",
   "metadata": {},
   "source": [
    "# Extract Information from Net Asset Value - Statement of Change report. This is done by\n",
    "- Extract NAV for Fund-Fund Expense Accruals\n",
    "    1. INVESTMENT - EQUITIES - Total\n",
    "    2. Investment - Equities - Balance\n",
    "    3. Prov Unr P/L - Equities - Balance\n",
    "    4. ACCRUED INCOME - Total\n",
    "    5. Prov Unr FX P/L - Interest - Total\n",
    "    6. CASH ASSET - Total\n",
    "    7. Cash in Bank - Balance\n",
    "    8. Broker-ICBC - Balance\n",
    "    9. ACCRUED INCOME - Total\n",
    "    10. Int Accrual - Cash Account - Balance\n",
    "    11. PREPAID EXPENSE - Total\n",
    "    12. Prepaid Expenses - Balance\n",
    "    13. REDEMPTION PAYABLES - Total\n",
    "    14. Payables on Redemption - Balance\n",
    "    15. EXPENSE ACCRUALS - Total\n",
    "    16. Exp Accrual - Audit Fee - Balance\n",
    "    17. Exp Accrual - Custody Fee - Balance\n",
    "    18. Exp Accrual - Redemption Fee - Balance\n",
    "    19. Exp Accrual - Listing Expenses - Balance\n",
    "    20. Exp Accrual - Publication Fee - Balance\n",
    "    21. Exp Accrual - Management Fee - Balance in NAV_for_Fund_Exp_Accrls\n",
    "    22. Splitting into each data point\n",
    "    \n",
    "- Storing NAV for Fund Accrual data in different varialbles\n",
    "    1. NAV_for_Fund_Exp_Accrls as NAV_for_Fund_Exp_Accrls_Audit_Fee \n",
    "    2. NAV_for_Fund_Exp_Accrls as NAV_for_Fund_Exp_Accrls_Custody_Fee\n",
    "    3. NAV_for_Fund_Exp_Accrls as NAV_for_Fund_Exp_Accrls_Redemption_Fee\n",
    "    4. NAV_for_Fund_Exp_Accrls as NAV_for_Fund_Exp_Accrls_Listing_Exp\n",
    "    5. NAV_for_Fund_Exp_Accrls as NAV_for_Fund_Exp_Accrls_Publication_Fee\n",
    "    6. NAV_for_Fund_Exp_Accrls as NAV_for_Fund_Exp_Accrls_Management_Fee"
   ]
  },
  {
   "cell_type": "code",
   "execution_count": 10,
   "metadata": {
    "collapsed": true
   },
   "outputs": [],
   "source": [
    "NAV_for_Fund_Exp_Accrls = []\n",
    "for i in Net_Asset_Value_For_Fund.iter('MSOLDE_FM'):\n",
    "    b = float(i.text)\n",
    "    NAV_for_Fund_Exp_Accrls.append(b)"
   ]
  },
  {
   "cell_type": "code",
   "execution_count": 11,
   "metadata": {
    "collapsed": true
   },
   "outputs": [],
   "source": [
    "NAV_for_Fund_Exp_Accrls_Audit_Fee=NAV_for_Fund_Exp_Accrls[15]\n",
    "NAV_for_Fund_Exp_Accrls_Custody_Fee=NAV_for_Fund_Exp_Accrls[16]\n",
    "NAV_for_Fund_Exp_Accrls_Redemption_Fee=NAV_for_Fund_Exp_Accrls[17]\n",
    "NAV_for_Fund_Exp_Accrls_Listing_Exp=NAV_for_Fund_Exp_Accrls[18]\n",
    "NAV_for_Fund_Exp_Accrls_Publication_Fee=NAV_for_Fund_Exp_Accrls[19]\n",
    "NAV_for_Fund_Exp_Accrls_Management_Fee=NAV_for_Fund_Exp_Accrls[20]"
   ]
  },
  {
   "cell_type": "code",
   "execution_count": 12,
   "metadata": {
    "collapsed": true
   },
   "outputs": [],
   "source": [
    "import pandas as pandas"
   ]
  },
  {
   "cell_type": "markdown",
   "metadata": {},
   "source": [
    "# Extract Information from Net Asset Value - Portfolio Valuation. This is done by\n",
    "\n",
    "1.Extract following data from Portfolio Valuation \n",
    "    1. Broker-ICBC ICBC - Balance - CNY\n",
    "    2. Broker-ICBC ICBC - Balance - HKD\n",
    "    3. Cash in Bank STANDARD CHARTERED BANK (HONG KONG) LTD - Balance - HKD\n",
    "    4. Broker-ICBC ICBC - Balance - USD\n",
    "    5. Cash in Bank STANDARD CHARTERED BANK (HONG KONG) LTD - Balance - USD\n",
    "    6. Exp Accrual - Management Fee - Balance\n",
    "    7. Cash in Bank - Balance\n",
    "    8. Exp Accrual - Audit Fee - Balance\n",
    "    9. Exp Accrual - Custody Fee - Balance\n",
    "    10. Exp Accrual - Listing Expenses - Balance\n",
    "    11. Exp Accrual - Publication Fee - Balance\n",
    "    12. Exp Accrual - Redemption Fee - Balance\n",
    "    13. Int Accrual - Cash Account - Balance\n",
    "    14. Payables on Redemption - Balance\n",
    "    15. Prepaid Expenses - Balance\n",
    "    16. Prov Unr FX P/L - Interest - Balance"
   ]
  },
  {
   "cell_type": "code",
   "execution_count": 13,
   "metadata": {
    "collapsed": true
   },
   "outputs": [],
   "source": [
    "NAV_Portfolio_Valuation = ET.parse('SDPOR072HKQ182.XML')"
   ]
  },
  {
   "cell_type": "code",
   "execution_count": 14,
   "metadata": {
    "collapsed": true
   },
   "outputs": [],
   "source": [
    "NAV_Portfolio_Valuation_Total = []\n",
    "for i in NAV_Portfolio_Valuation.iter('CS_TOT_COST_PTF'):\n",
    "    b = float(i.text)\n",
    "    NAV_Portfolio_Valuation_Total.append(b)\n",
    "\n",
    "NAV_Portfolio_Valuation_Total_Cost = []\n",
    "for i in NAV_Portfolio_Valuation.iter('CS_TOT_MKT_PTF_SEC3'):\n",
    "    b = float(i.text)\n",
    "    NAV_Portfolio_Valuation_Total_Cost.append(b)\n",
    "\n",
    "NAV_Portfolio_Valuation_Exp_Accrls = []\n",
    "for i in NAV_Portfolio_Valuation.iter('CS_TOT_COST_REF_SEC3'):\n",
    "    b = float(i.text)\n",
    "    NAV_Portfolio_Valuation_Exp_Accrls.append(b)\n",
    "\n",
    "NAV_Portfolio_Valuation_Balance  = []\n",
    "for i in NAV_Portfolio_Valuation.iter('BAL_CCY_SEC3'):\n",
    "    b = float(i.text)\n",
    "    NAV_Portfolio_Valuation_Balance.append(b)\n",
    "    \n",
    "NAV_Portfolio_Valuation_Cost_in_Fund  = []\n",
    "for i in NAV_Portfolio_Valuation.iter('TOT_COST_PTF_SEC3'):\n",
    "    b = i.text\n",
    "    NAV_Portfolio_Valuation_Cost_in_Fund.append(b)\n",
    "    \n",
    "NAV_Portfolio_Valuation_Market_Value_in_Fund  = []\n",
    "for i in NAV_Portfolio_Valuation.iter('MKT_VALUE_PTF_SEC3'):\n",
    "    b = i.text\n",
    "    NAV_Portfolio_Valuation_Market_Value_in_Fund.append(b)\n",
    "\n",
    "NAV_Portfolio_Valuation_Value_Ref  = []\n",
    "for i in NAV_Portfolio_Valuation.iter('VALUE_REF_SEC3'):\n",
    "    b = i.text\n",
    "    NAV_Portfolio_Valuation_Value_Ref.append(b)\n",
    "    \n",
    "NAV_Portfolio_Valuation_Accrued_Interest = []\n",
    "for i in NAV_Portfolio_Valuation.iter('INT_CCY_SEC3'):\n",
    "    b = i.text\n",
    "    NAV_Portfolio_Valuation_Accrued_Interest.append(b)"
   ]
  },
  {
   "cell_type": "code",
   "execution_count": 15,
   "metadata": {
    "collapsed": true
   },
   "outputs": [],
   "source": [
    "NAV_Portfolio_Valuation_Balance_Acc_Management_Fee=NAV_Portfolio_Valuation_Balance[5]\n",
    "NAV_Portfolio_Valuation_Balance_Acc_Audit_Fee=NAV_Portfolio_Valuation_Balance[6]\n",
    "NAV_Portfolio_Valuation_Balance_Acc_Custody_Fee=NAV_Portfolio_Valuation_Balance[7]\n",
    "NAV_Portfolio_Valuation_Balance_Acc_Listing_Exp=NAV_Portfolio_Valuation_Balance[8]\n",
    "NAV_Portfolio_Valuation_Balance_Acc_Publication_Fee=NAV_Portfolio_Valuation_Balance[9]\n",
    "NAV_Portfolio_Valuation_Balance_Acc_Redemption_Fee=NAV_Portfolio_Valuation_Balance[10]\n",
    "NAV_Portfolio_Valuation_Total1= NAV_Portfolio_Valuation_Total[0]\n",
    "NAV_Portfolio_Valuation_Balance_Acc_Prepaid_expenses=NAV_Portfolio_Valuation_Balance[13]\n",
    "NAV_Portfolio_Valuation_Total_Cash_at_Bank=NAV_Portfolio_Valuation_Total_Cost[0]\n",
    "NAV_Portfolio_Valuation_Total_Acc_Income=NAV_Portfolio_Valuation_Total_Cost[3]\n",
    "NAV_Portfolio_Valuation_Total_Payables=NAV_Portfolio_Valuation_Total_Cost[4]"
   ]
  },
  {
   "cell_type": "markdown",
   "metadata": {},
   "source": [
    "# Validation between NAV for Fund with Portfolio Valuation"
   ]
  },
  {
   "cell_type": "code",
   "execution_count": 16,
   "metadata": {},
   "outputs": [
    {
     "name": "stdout",
     "output_type": "stream",
     "text": [
      "Accrl-Audit Fee matched between NAV FOR FUND and NAV Portfolio Valuation\n"
     ]
    }
   ],
   "source": [
    "if NAV_for_Fund_Exp_Accrls_Audit_Fee == NAV_Portfolio_Valuation_Balance_Acc_Audit_Fee:\n",
    "    print(\"Accrl-Audit Fee matched between NAV FOR FUND and NAV Portfolio Valuation\")\n",
    "    Validations_Output.append(\"Accrl-Audit Fee matched between NAV FOR FUND and NAV Portfolio Valuation\")\n",
    "else:\n",
    "    print(\"Amount Mismatch : Accrl-Audit Fee matched between NAV FOR FUND and NAV Portfolio Valuation\")\n",
    "    Validations_Output.append(\"Amount Mismatch : Accrl-Audit Fee matched between NAV FOR FUND and NAV Portfolio Valuation\")"
   ]
  },
  {
   "cell_type": "code",
   "execution_count": 17,
   "metadata": {},
   "outputs": [
    {
     "name": "stdout",
     "output_type": "stream",
     "text": [
      "Accrl-Custody Fee matched between NAV FOR FUND and NAV Portfolio Valuation\n"
     ]
    }
   ],
   "source": [
    "if NAV_for_Fund_Exp_Accrls_Custody_Fee == NAV_Portfolio_Valuation_Balance_Acc_Custody_Fee:\n",
    "    print(\"Accrl-Custody Fee matched between NAV FOR FUND and NAV Portfolio Valuation\")\n",
    "    Validations_Output.append(\"Accrl-Custody Fee matched between NAV FOR FUND and NAV Portfolio Valuation\")\n",
    "else:\n",
    "    print(\"Amount Mismatch : Accrl-Custody Fee matched between NAV FOR FUND and NAV Portfolio Valuation\")\n",
    "    Validations_Output.append(\"Amount Mismatch : Accrl-Custody Fee matched between NAV FOR FUND and NAV Portfolio Valuation\")"
   ]
  },
  {
   "cell_type": "code",
   "execution_count": 18,
   "metadata": {},
   "outputs": [
    {
     "name": "stdout",
     "output_type": "stream",
     "text": [
      "Redemption Fee matched between NAV FOR FUND and NAV Portfolio Valuation\n"
     ]
    }
   ],
   "source": [
    "if NAV_for_Fund_Exp_Accrls_Redemption_Fee == NAV_Portfolio_Valuation_Balance_Acc_Redemption_Fee:\n",
    "    print(\"Redemption Fee matched between NAV FOR FUND and NAV Portfolio Valuation\")\n",
    "    Validations_Output.append(\"Redemption Fee matched between NAV FOR FUND and NAV Portfolio Valuation\")\n",
    "else:\n",
    "    print(\"Redemption Mismatch : Accrl-Custody Fee matched between NAV FOR FUND and NAV Portfolio Valuation\")\n",
    "    Validations_Output.append(\"Redemption Mismatch : Accrl-Custody Fee matched between NAV FOR FUND and NAV Portfolio Valuation\")"
   ]
  },
  {
   "cell_type": "code",
   "execution_count": 19,
   "metadata": {},
   "outputs": [
    {
     "name": "stdout",
     "output_type": "stream",
     "text": [
      "Listing Exp. Fee matched between NAV FOR FUND and NAV Portfolio Valuation\n"
     ]
    }
   ],
   "source": [
    "if NAV_for_Fund_Exp_Accrls_Listing_Exp == NAV_Portfolio_Valuation_Balance_Acc_Listing_Exp:\n",
    "    print(\"Listing Exp. Fee matched between NAV FOR FUND and NAV Portfolio Valuation\")\n",
    "    Validations_Output.append(\"Listing Exp. Fee matched between NAV FOR FUND and NAV Portfolio Valuation\")\n",
    "else:\n",
    "    print(\"Listing Exp Fee Mis Match : Accrl-Custody Fee matched between NAV FOR FUND and NAV Portfolio Valuation\")\n",
    "    Validations_Output.append(\"Listing Exp Fee Mis Match : Accrl-Custody Fee matched between NAV FOR FUND and NAV Portfolio Valuation\")"
   ]
  },
  {
   "cell_type": "code",
   "execution_count": 20,
   "metadata": {},
   "outputs": [
    {
     "name": "stdout",
     "output_type": "stream",
     "text": [
      "Publication Fee matched between NAV FOR FUND and NAV Portfolio Valuation\n"
     ]
    }
   ],
   "source": [
    "if NAV_for_Fund_Exp_Accrls_Publication_Fee == NAV_Portfolio_Valuation_Balance_Acc_Publication_Fee:\n",
    "    print(\"Publication Fee matched between NAV FOR FUND and NAV Portfolio Valuation\")\n",
    "    Validations_Output.append(\"Publication Fee matched between NAV FOR FUND and NAV Portfolio Valuation\")\n",
    "else:\n",
    "    print(\"Publication Fee Mis match: Accrl-Custody Fee matched between NAV FOR FUND and NAV Portfolio Valuation\")\n",
    "    Validations_Output.append(\"Publication Fee Mis match: Accrl-Custody Fee matched between NAV FOR FUND and NAV Portfolio Valuation\")"
   ]
  },
  {
   "cell_type": "code",
   "execution_count": 21,
   "metadata": {},
   "outputs": [
    {
     "name": "stdout",
     "output_type": "stream",
     "text": [
      "Management Fee matched between NAV FOR FUND and NAV Portfolio Valuation\n"
     ]
    }
   ],
   "source": [
    "if NAV_for_Fund_Exp_Accrls_Management_Fee == NAV_Portfolio_Valuation_Balance_Acc_Management_Fee:\n",
    "    print(\"Management Fee matched between NAV FOR FUND and NAV Portfolio Valuation\")\n",
    "    Validations_Output.append(\"Management Fee matched between NAV FOR FUND and NAV Portfolio Valuation\")\n",
    "else:\n",
    "    print(\"Management Fee mis match: Accrl-Custody Fee matched between NAV FOR FUND and NAV Portfolio Valuation\")\n",
    "    Validations_Output.append(\"Management Fee mis match: Accrl-Custody Fee matched between NAV FOR FUND and NAV Portfolio Valuation\")"
   ]
  },
  {
   "cell_type": "markdown",
   "metadata": {},
   "source": [
    "# Validation of Outstanding settlement Report"
   ]
  },
  {
   "cell_type": "code",
   "execution_count": 22,
   "metadata": {
    "collapsed": true
   },
   "outputs": [],
   "source": [
    "NAV_OSR = ET.parse('SDTIT052HKQ182.XML')"
   ]
  },
  {
   "cell_type": "code",
   "execution_count": 23,
   "metadata": {
    "collapsed": true
   },
   "outputs": [],
   "source": [
    "NAV_OSR_Description = []\n",
    "for i in NAV_OSR.iter('CP_NODATA'):\n",
    "    b = i.text\n",
    "    NAV_OSR_Description.append(b)"
   ]
  },
  {
   "cell_type": "code",
   "execution_count": 24,
   "metadata": {},
   "outputs": [
    {
     "data": {
      "text/plain": [
       "['>>>>>>>>>>>>>>>>>>>>>>> No Data to process <<<<<<<<<<<<<<<<<<<<<<<']"
      ]
     },
     "execution_count": 24,
     "metadata": {},
     "output_type": "execute_result"
    }
   ],
   "source": [
    "NAV_OSR_Description"
   ]
  },
  {
   "cell_type": "code",
   "execution_count": 25,
   "metadata": {
    "collapsed": true
   },
   "outputs": [],
   "source": [
    "for char in NAV_OSR_Description:\n",
    "    if char in \">\":\n",
    "        NAV_OSR_Description.replace(char,'')"
   ]
  },
  {
   "cell_type": "code",
   "execution_count": 26,
   "metadata": {},
   "outputs": [
    {
     "data": {
      "text/plain": [
       "'>>>>>>>>>>>>>>>>>>>>>>> No Data to process <<<<<<<<<<<<<<<<<<<<<<<'"
      ]
     },
     "execution_count": 26,
     "metadata": {},
     "output_type": "execute_result"
    }
   ],
   "source": [
    "char"
   ]
  },
  {
   "cell_type": "code",
   "execution_count": 27,
   "metadata": {},
   "outputs": [
    {
     "data": {
      "text/plain": [
       "['>>>>>>>>>>>>>>>>>>>>>>> No Data to process <<<<<<<<<<<<<<<<<<<<<<<']"
      ]
     },
     "execution_count": 27,
     "metadata": {},
     "output_type": "execute_result"
    }
   ],
   "source": [
    "NAV_OSR_Description"
   ]
  },
  {
   "cell_type": "code",
   "execution_count": 28,
   "metadata": {
    "collapsed": true
   },
   "outputs": [],
   "source": [
    "for NAV_OSR_Description in '>':  \n",
    "      NAV_OSR_Description = NAV_OSR_Description.replace(NAV_OSR_Description,'')"
   ]
  },
  {
   "cell_type": "code",
   "execution_count": 29,
   "metadata": {},
   "outputs": [
    {
     "data": {
      "text/plain": [
       "''"
      ]
     },
     "execution_count": 29,
     "metadata": {},
     "output_type": "execute_result"
    }
   ],
   "source": [
    "NAV_OSR_Description"
   ]
  },
  {
   "cell_type": "code",
   "execution_count": 30,
   "metadata": {
    "collapsed": true
   },
   "outputs": [],
   "source": [
    "a = (str(NAV_OSR_Description)).replace(\">\",\"\")"
   ]
  },
  {
   "cell_type": "code",
   "execution_count": 31,
   "metadata": {
    "collapsed": true
   },
   "outputs": [],
   "source": [
    "a = a.replace(\"<\",\"\")"
   ]
  },
  {
   "cell_type": "code",
   "execution_count": 32,
   "metadata": {},
   "outputs": [
    {
     "data": {
      "text/plain": [
       "''"
      ]
     },
     "execution_count": 32,
     "metadata": {},
     "output_type": "execute_result"
    }
   ],
   "source": [
    "a"
   ]
  },
  {
   "cell_type": "code",
   "execution_count": 33,
   "metadata": {
    "collapsed": true
   },
   "outputs": [],
   "source": [
    "NAV_OSR_Desc=(a[3:10])"
   ]
  },
  {
   "cell_type": "code",
   "execution_count": 34,
   "metadata": {},
   "outputs": [
    {
     "data": {
      "text/plain": [
       "''"
      ]
     },
     "execution_count": 34,
     "metadata": {},
     "output_type": "execute_result"
    }
   ],
   "source": [
    "NAV_OSR_Desc"
   ]
  },
  {
   "cell_type": "markdown",
   "metadata": {},
   "source": [
    "# Extraction of General Ledger Trial Balance"
   ]
  },
  {
   "cell_type": "code",
   "execution_count": 35,
   "metadata": {
    "collapsed": true
   },
   "outputs": [],
   "source": [
    "NAV_GL_TB = ET.parse('SHJNA102HKQ182.XML')"
   ]
  },
  {
   "cell_type": "code",
   "execution_count": 36,
   "metadata": {
    "collapsed": true
   },
   "outputs": [],
   "source": [
    "GL_TB_Acc = []\n",
    "for i in NAV_GL_TB.iter('BNRUBR'):\n",
    "    b = int(i.text)\n",
    "    GL_TB_Acc.append(b)\n",
    "    \n",
    "GL_TB_Cry = []\n",
    "for i in NAV_GL_TB.iter('ACMON'):\n",
    "    b = (i.text)\n",
    "    GL_TB_Cry.append(b)\n",
    "\n",
    "GL_TB_Acc_Bal = []\n",
    "for i in NAV_GL_TB.iter('CF_ABAL'):\n",
    "    b = float(i.text)\n",
    "    GL_TB_Acc_Bal.append(b)\n",
    "\n",
    "GL_TB_Acc_Fund = []\n",
    "for i in NAV_GL_TB.iter('CF_CBAL'):\n",
    "    b = float(i.text)\n",
    "    GL_TB_Acc_Fund.append(b)\n",
    "\n",
    "GL_TB_Acc_Ttl_Asset_Liab = []\n",
    "for i in NAV_GL_TB.iter('CP_TOTAL_SDNAR02'):\n",
    "    b = float(i.text)\n",
    "    GL_TB_Acc_Ttl_Asset_Liab.append(b)\n",
    "\n",
    "GL_TB_Acc_Ttl_Cap_PL = []\n",
    "for i in NAV_GL_TB.iter('CP_TOTAL_SDNAV05'):\n",
    "    b = float(i.text)\n",
    "    GL_TB_Acc_Ttl_Cap_PL.append(b)\n"
   ]
  },
  {
   "cell_type": "markdown",
   "metadata": {},
   "source": [
    "# Validation of General Ledger Trial Balance"
   ]
  },
  {
   "cell_type": "code",
   "execution_count": 37,
   "metadata": {
    "collapsed": true
   },
   "outputs": [],
   "source": [
    "D = (pandas.DataFrame(GL_TB_Acc))\n",
    "D[\"Currency\"] = pandas.DataFrame(GL_TB_Cry)"
   ]
  },
  {
   "cell_type": "code",
   "execution_count": 38,
   "metadata": {},
   "outputs": [
    {
     "data": {
      "text/html": [
       "<div>\n",
       "<style>\n",
       "    .dataframe thead tr:only-child th {\n",
       "        text-align: right;\n",
       "    }\n",
       "\n",
       "    .dataframe thead th {\n",
       "        text-align: left;\n",
       "    }\n",
       "\n",
       "    .dataframe tbody tr th {\n",
       "        vertical-align: top;\n",
       "    }\n",
       "</style>\n",
       "<table border=\"1\" class=\"dataframe\">\n",
       "  <thead>\n",
       "    <tr style=\"text-align: right;\">\n",
       "      <th></th>\n",
       "      <th>0</th>\n",
       "      <th>Currency</th>\n",
       "    </tr>\n",
       "  </thead>\n",
       "  <tbody>\n",
       "    <tr>\n",
       "      <th>0</th>\n",
       "      <td>101100</td>\n",
       "      <td>CNY</td>\n",
       "    </tr>\n",
       "    <tr>\n",
       "      <th>1</th>\n",
       "      <td>120120</td>\n",
       "      <td>CNY</td>\n",
       "    </tr>\n",
       "    <tr>\n",
       "      <th>2</th>\n",
       "      <td>140130</td>\n",
       "      <td>HKD</td>\n",
       "    </tr>\n",
       "    <tr>\n",
       "      <th>3</th>\n",
       "      <td>140130</td>\n",
       "      <td>USD</td>\n",
       "    </tr>\n",
       "    <tr>\n",
       "      <th>4</th>\n",
       "      <td>142044</td>\n",
       "      <td>CNY</td>\n",
       "    </tr>\n",
       "  </tbody>\n",
       "</table>\n",
       "</div>"
      ],
      "text/plain": [
       "        0 Currency\n",
       "0  101100      CNY\n",
       "1  120120      CNY\n",
       "2  140130      HKD\n",
       "3  140130      USD\n",
       "4  142044      CNY"
      ]
     },
     "execution_count": 38,
     "metadata": {},
     "output_type": "execute_result"
    }
   ],
   "source": [
    "D.head()"
   ]
  },
  {
   "cell_type": "code",
   "execution_count": 39,
   "metadata": {
    "collapsed": true
   },
   "outputs": [],
   "source": [
    "Array = D.loc[(D[0]>400000) & (D[0]<600000)]"
   ]
  },
  {
   "cell_type": "code",
   "execution_count": 40,
   "metadata": {},
   "outputs": [
    {
     "name": "stdout",
     "output_type": "stream",
     "text": [
      "No Exceptions found\n"
     ]
    }
   ],
   "source": [
    "if (((Array.loc[(Array[\"Currency\"]!=\"CNY\")]).count())[0] == 0):\n",
    "    print(\"No Exceptions found\")\n",
    "    Validations_Output.append(\"No Exceptions Found between GL Trial Balance and Fund Currency\")\n",
    "else:\n",
    "    print(\"Exceptions found\")\n",
    "    Validations_Output.append(\"Exceptions Found between GL Trial Balance and Fund Currency\")"
   ]
  },
  {
   "cell_type": "markdown",
   "metadata": {},
   "source": [
    "# Extraction and Validation of Dividend Receivable Report"
   ]
  },
  {
   "cell_type": "code",
   "execution_count": 41,
   "metadata": {
    "collapsed": true
   },
   "outputs": [],
   "source": [
    "NAV_DRR = ET.parse('SDCOU042HKQ182.XML')"
   ]
  },
  {
   "cell_type": "code",
   "execution_count": 42,
   "metadata": {
    "collapsed": true
   },
   "outputs": [],
   "source": [
    "NAV_DRR_Description = []\n",
    "for i in NAV_DRR.iter('NO_DATA'):\n",
    "    b = i.text\n",
    "    NAV_DRR_Description.append(b)"
   ]
  },
  {
   "cell_type": "code",
   "execution_count": 43,
   "metadata": {},
   "outputs": [
    {
     "data": {
      "text/plain": [
       "['<<<<<<<<<<<<<<<<<<<<<<<<<<<<<<<<<<<<<<<<<<<<<<<<<<<<<<<<<< No Data To Process >>>>>>>>>>>>>>>>>>>>>>>>>>>>>>>>>>>>>>>>>>>>>>>>>>>>>>>>>>']"
      ]
     },
     "execution_count": 43,
     "metadata": {},
     "output_type": "execute_result"
    }
   ],
   "source": [
    "NAV_DRR_Description"
   ]
  },
  {
   "cell_type": "code",
   "execution_count": 44,
   "metadata": {
    "collapsed": true
   },
   "outputs": [],
   "source": [
    "a = (str(NAV_DRR_Description)).replace(\">\",\"\")\n",
    "a = a.replace(\"<\",\"\")"
   ]
  },
  {
   "cell_type": "code",
   "execution_count": 45,
   "metadata": {},
   "outputs": [
    {
     "data": {
      "text/plain": [
       "\"[' No Data To Process ']\""
      ]
     },
     "execution_count": 45,
     "metadata": {},
     "output_type": "execute_result"
    }
   ],
   "source": [
    "a"
   ]
  },
  {
   "cell_type": "code",
   "execution_count": 46,
   "metadata": {},
   "outputs": [
    {
     "data": {
      "text/plain": [
       "'No Data'"
      ]
     },
     "execution_count": 46,
     "metadata": {},
     "output_type": "execute_result"
    }
   ],
   "source": [
    "NAV_OSR_Desc=(a[3:10])\n",
    "NAV_OSR_Desc"
   ]
  },
  {
   "cell_type": "code",
   "execution_count": 47,
   "metadata": {},
   "outputs": [
    {
     "name": "stdout",
     "output_type": "stream",
     "text": [
      "No Data\n"
     ]
    }
   ],
   "source": [
    "if NAV_OSR_Desc == \"No Data\":\n",
    "    print(\"No Data\")\n",
    "    Validations_Output.append(\"No Data found in Dividend Receivable Report\")\n",
    "else:\n",
    "    print(\"Needs to be Checked\")\n",
    "    Validations_Output.append(\"Data Found in Divident Recievable Report, please check for validity\")"
   ]
  },
  {
   "cell_type": "markdown",
   "metadata": {},
   "source": [
    "# Extraction and Validation of Income Receipts & Payment Report"
   ]
  },
  {
   "cell_type": "code",
   "execution_count": 48,
   "metadata": {
    "collapsed": true
   },
   "outputs": [],
   "source": [
    "NAV_IRANDPR = ET.parse('SDCOU062HKQ182.XML')"
   ]
  },
  {
   "cell_type": "code",
   "execution_count": 49,
   "metadata": {
    "collapsed": true
   },
   "outputs": [],
   "source": [
    "NAV_IRANDPR_Description = []\n",
    "for i in NAV_IRANDPR.iter('CP_NO_DATA_FOUND'):\n",
    "    b = i.text\n",
    "    NAV_IRANDPR_Description.append(b)"
   ]
  },
  {
   "cell_type": "code",
   "execution_count": 50,
   "metadata": {},
   "outputs": [
    {
     "data": {
      "text/plain": [
       "['<<<<<<<<<<<<<<< No Data To Process >>>>>>>>>>>>>>>>']"
      ]
     },
     "execution_count": 50,
     "metadata": {},
     "output_type": "execute_result"
    }
   ],
   "source": [
    "NAV_IRANDPR_Description"
   ]
  },
  {
   "cell_type": "code",
   "execution_count": 51,
   "metadata": {
    "collapsed": true
   },
   "outputs": [],
   "source": [
    "a = (str(NAV_IRANDPR_Description)).replace(\">\",\"\")\n",
    "a = a.replace(\"<\",\"\")"
   ]
  },
  {
   "cell_type": "code",
   "execution_count": 52,
   "metadata": {},
   "outputs": [
    {
     "data": {
      "text/plain": [
       "'No Data'"
      ]
     },
     "execution_count": 52,
     "metadata": {},
     "output_type": "execute_result"
    }
   ],
   "source": [
    "NAV_IRANDPR_Desc=(a[3:10])\n",
    "NAV_IRANDPR_Desc"
   ]
  },
  {
   "cell_type": "code",
   "execution_count": 53,
   "metadata": {},
   "outputs": [
    {
     "name": "stdout",
     "output_type": "stream",
     "text": [
      "No Data\n"
     ]
    }
   ],
   "source": [
    "if NAV_OSR_Desc == \"No Data\":\n",
    "    print(\"No Data\")\n",
    "    Validations_Output.append(\"No Data found in Income Receipts & Payment Report\")\n",
    "else:\n",
    "    print(\"Needs to be Checked\")\n",
    "    Validations_Output.append(\"Data Found in Income Receipts & Payment Report, please check for validity\")"
   ]
  },
  {
   "cell_type": "markdown",
   "metadata": {},
   "source": [
    "# Extraction and Validation of Corporate Action"
   ]
  },
  {
   "cell_type": "code",
   "execution_count": 54,
   "metadata": {
    "collapsed": true
   },
   "outputs": [],
   "source": [
    "NAV_CA = ET.parse('SDOST012HKQ182.XML')"
   ]
  },
  {
   "cell_type": "code",
   "execution_count": 55,
   "metadata": {
    "collapsed": true
   },
   "outputs": [],
   "source": [
    "NAV_CA_Description = []\n",
    "for i in NAV_CA.iter('CP_NO_DATA_FOUND'):\n",
    "    b = i.text\n",
    "    NAV_CA_Description.append(b)"
   ]
  },
  {
   "cell_type": "code",
   "execution_count": 56,
   "metadata": {},
   "outputs": [
    {
     "data": {
      "text/plain": [
       "['<<<<<<<<<<<<<<<< NO DATA FOUND >>>>>>>>>>>>>>>>>>']"
      ]
     },
     "execution_count": 56,
     "metadata": {},
     "output_type": "execute_result"
    }
   ],
   "source": [
    "NAV_CA_Description"
   ]
  },
  {
   "cell_type": "code",
   "execution_count": 57,
   "metadata": {
    "collapsed": true
   },
   "outputs": [],
   "source": [
    "a = (str(NAV_CA_Description)).replace(\">\",\"\")\n",
    "a = a.replace(\"<\",\"\")"
   ]
  },
  {
   "cell_type": "code",
   "execution_count": 58,
   "metadata": {},
   "outputs": [
    {
     "data": {
      "text/plain": [
       "\"[' NO DATA FOUND ']\""
      ]
     },
     "execution_count": 58,
     "metadata": {},
     "output_type": "execute_result"
    }
   ],
   "source": [
    "a"
   ]
  },
  {
   "cell_type": "code",
   "execution_count": 59,
   "metadata": {},
   "outputs": [
    {
     "data": {
      "text/plain": [
       "'NO DATA'"
      ]
     },
     "execution_count": 59,
     "metadata": {},
     "output_type": "execute_result"
    }
   ],
   "source": [
    "NAV_CA_Description=(a[3:10])\n",
    "NAV_CA_Description"
   ]
  },
  {
   "cell_type": "code",
   "execution_count": 60,
   "metadata": {
    "collapsed": true
   },
   "outputs": [],
   "source": [
    "NAV_OSR = ET.parse('SDTIT052HKQ182.XML')"
   ]
  },
  {
   "cell_type": "code",
   "execution_count": 61,
   "metadata": {
    "collapsed": true
   },
   "outputs": [],
   "source": [
    "NAV_OSR_Description = []\n",
    "for i in NAV_OSR.iter('CP_NODATA'):\n",
    "    b = i.text\n",
    "    NAV_OSR_Description.append(b)"
   ]
  },
  {
   "cell_type": "code",
   "execution_count": 62,
   "metadata": {},
   "outputs": [
    {
     "data": {
      "text/plain": [
       "['>>>>>>>>>>>>>>>>>>>>>>> No Data to process <<<<<<<<<<<<<<<<<<<<<<<']"
      ]
     },
     "execution_count": 62,
     "metadata": {},
     "output_type": "execute_result"
    }
   ],
   "source": [
    "NAV_OSR_Description"
   ]
  },
  {
   "cell_type": "code",
   "execution_count": 63,
   "metadata": {
    "collapsed": true
   },
   "outputs": [],
   "source": [
    "a = (str(NAV_OSR_Description)).replace(\">\",\"\")\n",
    "a = a.replace(\"<\",\"\")"
   ]
  },
  {
   "cell_type": "code",
   "execution_count": 64,
   "metadata": {},
   "outputs": [
    {
     "data": {
      "text/plain": [
       "\"[' No Data to process ']\""
      ]
     },
     "execution_count": 64,
     "metadata": {},
     "output_type": "execute_result"
    }
   ],
   "source": [
    "a"
   ]
  },
  {
   "cell_type": "code",
   "execution_count": 65,
   "metadata": {},
   "outputs": [
    {
     "data": {
      "text/plain": [
       "'No Data'"
      ]
     },
     "execution_count": 65,
     "metadata": {},
     "output_type": "execute_result"
    }
   ],
   "source": [
    "NAV_CA_Description=(a[3:10])\n",
    "NAV_CA_Description"
   ]
  },
  {
   "cell_type": "code",
   "execution_count": 66,
   "metadata": {},
   "outputs": [
    {
     "name": "stdout",
     "output_type": "stream",
     "text": [
      "No Data\n"
     ]
    }
   ],
   "source": [
    "if NAV_OSR_Desc == \"No Data\":\n",
    "    print(\"No Data\")\n",
    "    Validations_Output.append(\"No Data found in Corporate Action\")\n",
    "else:\n",
    "    print(\"Needs to be Checked\")\n",
    "    Validations_Output.append(\"Data Found in Corporate Action, please check for validity\")"
   ]
  },
  {
   "cell_type": "markdown",
   "metadata": {},
   "source": [
    "# Extraction from Balance Sheet & Profit &  Loss Account\n",
    "\n",
    "This is done by\n",
    "Extract following data from Balance Sheet & Profit & Loss Account \n",
    "    1. Assets\n",
    "    2. Liabilities"
   ]
  },
  {
   "cell_type": "code",
   "execution_count": 67,
   "metadata": {
    "collapsed": true
   },
   "outputs": [],
   "source": [
    "BSheet_Profit_Loss = ET.parse('SHJNA112HKQ182.XML')"
   ]
  },
  {
   "cell_type": "code",
   "execution_count": 68,
   "metadata": {
    "collapsed": true
   },
   "outputs": [],
   "source": [
    "BSheet_Profit_Loss_Accnt_Assets  = []\n",
    "for i in BSheet_Profit_Loss.iter('CF_DEBIT_BAL'):\n",
    "    d1 = i.text\n",
    "    if d1 == None:\n",
    "        d1 = 0\n",
    "        b = (d1)\n",
    "        \n",
    "    else:\n",
    "        b = float(d1)\n",
    "    BSheet_Profit_Loss_Accnt_Assets.append(b)\n",
    "    \n",
    "BSheet_Profit_Loss_Accnt_Liabilities  = []\n",
    "for i in BSheet_Profit_Loss.iter('CF_CREDIT_BAL'):\n",
    "    d1 = i.text\n",
    "    if d1 == None:\n",
    "        d1 = 0\n",
    "        b = (d1)\n",
    "        \n",
    "    else:\n",
    "        b = float(d1)\n",
    "    BSheet_Profit_Loss_Accnt_Liabilities.append(b)"
   ]
  },
  {
   "cell_type": "code",
   "execution_count": 69,
   "metadata": {
    "collapsed": true
   },
   "outputs": [],
   "source": [
    "BSheet_Profit_Loss_Accnt_Assets_Cost_Equities=BSheet_Profit_Loss_Accnt_Assets[0]\n",
    "BSheet_Profit_Loss_Accnt_Assets_Prepaid_Expenses=BSheet_Profit_Loss_Accnt_Assets[1]\n",
    "BSheet_Profit_Loss_Accnt_Assets_Cash_at_Bank=BSheet_Profit_Loss_Accnt_Assets[2]\n",
    "BSheet_Profit_Loss_Accnt_Assets_Acc_Income=BSheet_Profit_Loss_Accnt_Assets[3]\n",
    "BSheet_Profit_Loss_Accnt_Liabilities_Payables=BSheet_Profit_Loss_Accnt_Liabilities[5]"
   ]
  },
  {
   "cell_type": "markdown",
   "metadata": {},
   "source": [
    "# Validation from Balance Sheet & Profit &  Loss Account"
   ]
  },
  {
   "cell_type": "code",
   "execution_count": 70,
   "metadata": {},
   "outputs": [
    {
     "name": "stdout",
     "output_type": "stream",
     "text": [
      "Cost equities matched between NAV Portfolio Valuation and BSheet and Profit and Loss Account\n"
     ]
    }
   ],
   "source": [
    "if NAV_Portfolio_Valuation_Total1 == BSheet_Profit_Loss_Accnt_Assets_Cost_Equities:\n",
    "    print(\"Cost equities matched between NAV Portfolio Valuation and BSheet and Profit and Loss Account\")\n",
    "    Validations_Output.append(\"Cost equities matched between NAV Portfolio Valuation and BSheet and Profit and Loss Account\")\n",
    "else:\n",
    "    print(\"Cost equities mis match between NAV Portfolio Valuation and BSheet and Profit and Loss Account\")\n",
    "    Validations_Output.append(\"Cost equities mis match between NAV Portfolio Valuation and BSheet and Profit and Loss Account\")"
   ]
  },
  {
   "cell_type": "code",
   "execution_count": 71,
   "metadata": {},
   "outputs": [
    {
     "name": "stdout",
     "output_type": "stream",
     "text": [
      "Prepaid expenses matched between NAV Portfolio Valuation and BSheet and Profit and Loss Account\n"
     ]
    }
   ],
   "source": [
    "if NAV_Portfolio_Valuation_Balance_Acc_Prepaid_expenses == BSheet_Profit_Loss_Accnt_Assets_Prepaid_Expenses:\n",
    "    print(\"Prepaid expenses matched between NAV Portfolio Valuation and BSheet and Profit and Loss Account\")\n",
    "    Validations_Output.append(\"Prepaid expenses matched between NAV Portfolio Valuation and BSheet and Profit and Loss Account\")\n",
    "else:\n",
    "    print(\"Prepaid expenses mis match between NAV Portfolio Valuation and BSheet and Profit and Loss Account\")\n",
    "    Validations_Output.append(\"Prepaid expenses mis match between NAV Portfolio Valuation and BSheet and Profit and Loss Account\")"
   ]
  },
  {
   "cell_type": "code",
   "execution_count": 72,
   "metadata": {},
   "outputs": [
    {
     "name": "stdout",
     "output_type": "stream",
     "text": [
      "Cash at Bank matched between NAV Portfolio Valuation and BSheet and Profit and Loss Account\n"
     ]
    }
   ],
   "source": [
    "if NAV_Portfolio_Valuation_Total_Cash_at_Bank == BSheet_Profit_Loss_Accnt_Assets_Cash_at_Bank:\n",
    "    print(\"Cash at Bank matched between NAV Portfolio Valuation and BSheet and Profit and Loss Account\")\n",
    "    Validations_Output.append(\"Cash at Bank matched between NAV Portfolio Valuation and BSheet and Profit and Loss Account\")\n",
    "else:\n",
    "    print(\"Cash at Bank mis match between NAV Portfolio Valuation and BSheet and Profit and Loss Account\")\n",
    "    Validations_Output.append(\"Cash at Bank mis match between NAV Portfolio Valuation and BSheet and Profit and Loss Account\")"
   ]
  },
  {
   "cell_type": "code",
   "execution_count": 73,
   "metadata": {},
   "outputs": [
    {
     "name": "stdout",
     "output_type": "stream",
     "text": [
      "Accrued Income matched between NAV Portfolio Valuation and BSheet and Profit and Loss Account\n"
     ]
    }
   ],
   "source": [
    "if NAV_Portfolio_Valuation_Total_Acc_Income == BSheet_Profit_Loss_Accnt_Assets_Acc_Income:\n",
    "    print(\"Accrued Income matched between NAV Portfolio Valuation and BSheet and Profit and Loss Account\")\n",
    "    Validations_Output.append(\"Accrued Income matched between NAV Portfolio Valuation and BSheet and Profit and Loss Account\")\n",
    "else:\n",
    "    print(\"Accrued Income mis match between NAV Portfolio Valuation and BSheet and Profit and Loss Account\")\n",
    "    Validations_Output.append(\"Accrued Income mis match between NAV Portfolio Valuation and BSheet and Profit and Loss Account\")"
   ]
  },
  {
   "cell_type": "code",
   "execution_count": 74,
   "metadata": {},
   "outputs": [
    {
     "name": "stdout",
     "output_type": "stream",
     "text": [
      "Payables matched between NAV Portfolio Valuation and BSheet and Profit and Loss Account\n"
     ]
    }
   ],
   "source": [
    "if NAV_Portfolio_Valuation_Total_Payables == BSheet_Profit_Loss_Accnt_Liabilities_Payables:\n",
    "    print(\"Payables matched between NAV Portfolio Valuation and BSheet and Profit and Loss Account\")\n",
    "    Validations_Output.append(\"Payables matched between NAV Portfolio Valuation and BSheet and Profit and Loss Account\")\n",
    "else:\n",
    "    print(\"Payables mis match between NAV Portfolio Valuation and BSheet and Profit and Loss Account\")\n",
    "    Validations_Output.append(\"Payables mis match between NAV Portfolio Valuation and BSheet and Profit and Loss Account\")"
   ]
  },
  {
   "cell_type": "code",
   "execution_count": 75,
   "metadata": {
    "collapsed": true
   },
   "outputs": [],
   "source": [
    "Validations_Output = pandas.DataFrame(Validations_Output)"
   ]
  },
  {
   "cell_type": "code",
   "execution_count": 76,
   "metadata": {
    "collapsed": true
   },
   "outputs": [],
   "source": [
    "Validations_Output = Validations_Output.rename(columns = {0 : \"Results\"})"
   ]
  },
  {
   "cell_type": "code",
   "execution_count": 77,
   "metadata": {},
   "outputs": [
    {
     "ename": "PermissionError",
     "evalue": "[Errno 13] Permission denied: 'Validations_Output.csv'",
     "output_type": "error",
     "traceback": [
      "\u001b[1;31m---------------------------------------------------------------------------\u001b[0m",
      "\u001b[1;31mPermissionError\u001b[0m                           Traceback (most recent call last)",
      "\u001b[1;32m<ipython-input-77-832ebf181a88>\u001b[0m in \u001b[0;36m<module>\u001b[1;34m()\u001b[0m\n\u001b[1;32m----> 1\u001b[1;33m \u001b[0mValidations_Output\u001b[0m\u001b[1;33m.\u001b[0m\u001b[0mto_csv\u001b[0m\u001b[1;33m(\u001b[0m\u001b[1;34m\"Validations_Output.csv\"\u001b[0m\u001b[1;33m,\u001b[0m \u001b[0mindex\u001b[0m \u001b[1;33m=\u001b[0m \u001b[1;32mFalse\u001b[0m\u001b[1;33m)\u001b[0m\u001b[1;33m\u001b[0m\u001b[0m\n\u001b[0m",
      "\u001b[1;32mC:\\ProgramData\\Anaconda3\\lib\\site-packages\\pandas\\core\\frame.py\u001b[0m in \u001b[0;36mto_csv\u001b[1;34m(self, path_or_buf, sep, na_rep, float_format, columns, header, index, index_label, mode, encoding, compression, quoting, quotechar, line_terminator, chunksize, tupleize_cols, date_format, doublequote, escapechar, decimal)\u001b[0m\n\u001b[0;32m   1411\u001b[0m                                      \u001b[0mdoublequote\u001b[0m\u001b[1;33m=\u001b[0m\u001b[0mdoublequote\u001b[0m\u001b[1;33m,\u001b[0m\u001b[1;33m\u001b[0m\u001b[0m\n\u001b[0;32m   1412\u001b[0m                                      escapechar=escapechar, decimal=decimal)\n\u001b[1;32m-> 1413\u001b[1;33m         \u001b[0mformatter\u001b[0m\u001b[1;33m.\u001b[0m\u001b[0msave\u001b[0m\u001b[1;33m(\u001b[0m\u001b[1;33m)\u001b[0m\u001b[1;33m\u001b[0m\u001b[0m\n\u001b[0m\u001b[0;32m   1414\u001b[0m \u001b[1;33m\u001b[0m\u001b[0m\n\u001b[0;32m   1415\u001b[0m         \u001b[1;32mif\u001b[0m \u001b[0mpath_or_buf\u001b[0m \u001b[1;32mis\u001b[0m \u001b[1;32mNone\u001b[0m\u001b[1;33m:\u001b[0m\u001b[1;33m\u001b[0m\u001b[0m\n",
      "\u001b[1;32mC:\\ProgramData\\Anaconda3\\lib\\site-packages\\pandas\\io\\formats\\format.py\u001b[0m in \u001b[0;36msave\u001b[1;34m(self)\u001b[0m\n\u001b[0;32m   1566\u001b[0m             f, handles = _get_handle(self.path_or_buf, self.mode,\n\u001b[0;32m   1567\u001b[0m                                      \u001b[0mencoding\u001b[0m\u001b[1;33m=\u001b[0m\u001b[0mself\u001b[0m\u001b[1;33m.\u001b[0m\u001b[0mencoding\u001b[0m\u001b[1;33m,\u001b[0m\u001b[1;33m\u001b[0m\u001b[0m\n\u001b[1;32m-> 1568\u001b[1;33m                                      compression=self.compression)\n\u001b[0m\u001b[0;32m   1569\u001b[0m             \u001b[0mclose\u001b[0m \u001b[1;33m=\u001b[0m \u001b[1;32mTrue\u001b[0m\u001b[1;33m\u001b[0m\u001b[0m\n\u001b[0;32m   1570\u001b[0m \u001b[1;33m\u001b[0m\u001b[0m\n",
      "\u001b[1;32mC:\\ProgramData\\Anaconda3\\lib\\site-packages\\pandas\\io\\common.py\u001b[0m in \u001b[0;36m_get_handle\u001b[1;34m(path_or_buf, mode, encoding, compression, memory_map, is_text)\u001b[0m\n\u001b[0;32m    380\u001b[0m         \u001b[1;32melif\u001b[0m \u001b[0mis_text\u001b[0m\u001b[1;33m:\u001b[0m\u001b[1;33m\u001b[0m\u001b[0m\n\u001b[0;32m    381\u001b[0m             \u001b[1;31m# Python 3 and no explicit encoding\u001b[0m\u001b[1;33m\u001b[0m\u001b[1;33m\u001b[0m\u001b[0m\n\u001b[1;32m--> 382\u001b[1;33m             \u001b[0mf\u001b[0m \u001b[1;33m=\u001b[0m \u001b[0mopen\u001b[0m\u001b[1;33m(\u001b[0m\u001b[0mpath_or_buf\u001b[0m\u001b[1;33m,\u001b[0m \u001b[0mmode\u001b[0m\u001b[1;33m,\u001b[0m \u001b[0merrors\u001b[0m\u001b[1;33m=\u001b[0m\u001b[1;34m'replace'\u001b[0m\u001b[1;33m)\u001b[0m\u001b[1;33m\u001b[0m\u001b[0m\n\u001b[0m\u001b[0;32m    383\u001b[0m         \u001b[1;32melse\u001b[0m\u001b[1;33m:\u001b[0m\u001b[1;33m\u001b[0m\u001b[0m\n\u001b[0;32m    384\u001b[0m             \u001b[1;31m# Python 3 and binary mode\u001b[0m\u001b[1;33m\u001b[0m\u001b[1;33m\u001b[0m\u001b[0m\n",
      "\u001b[1;31mPermissionError\u001b[0m: [Errno 13] Permission denied: 'Validations_Output.csv'"
     ]
    }
   ],
   "source": [
    "Validations_Output.to_csv(\"Validations_Output.csv\", index = False)"
   ]
  },
  {
   "cell_type": "code",
   "execution_count": null,
   "metadata": {
    "collapsed": true
   },
   "outputs": [],
   "source": [
    "Validations_Output"
   ]
  },
  {
   "cell_type": "code",
   "execution_count": null,
   "metadata": {
    "collapsed": true
   },
   "outputs": [],
   "source": []
  }
 ],
 "metadata": {
  "kernelspec": {
   "display_name": "Python 3",
   "language": "python",
   "name": "python3"
  },
  "language_info": {
   "codemirror_mode": {
    "name": "ipython",
    "version": 3
   },
   "file_extension": ".py",
   "mimetype": "text/x-python",
   "name": "python",
   "nbconvert_exporter": "python",
   "pygments_lexer": "ipython3",
   "version": "3.6.1"
  }
 },
 "nbformat": 4,
 "nbformat_minor": 2
}
