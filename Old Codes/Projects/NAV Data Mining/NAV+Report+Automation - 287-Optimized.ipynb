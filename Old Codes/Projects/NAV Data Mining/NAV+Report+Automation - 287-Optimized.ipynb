{
 "cells": [
  {
   "cell_type": "code",
   "execution_count": 183,
   "metadata": {
    "collapsed": true
   },
   "outputs": [],
   "source": [
    "import xml.etree.ElementTree as ET\n",
    "import pandas as pandas\n",
    "import numpy as numpy"
   ]
  },
  {
   "cell_type": "code",
   "execution_count": 184,
   "metadata": {
    "collapsed": true
   },
   "outputs": [],
   "source": [
    "import os\n",
    "os.chdir(\"C:\\\\Users\\\\1595398\\\\Documents\\\\NAV Reporting\\\\Sample Reports\\\\XML\\\\\")\n",
    "Validations_Output = []"
   ]
  },
  {
   "cell_type": "code",
   "execution_count": 185,
   "metadata": {
    "collapsed": true
   },
   "outputs": [],
   "source": [
    "Net_Asset_Value_For_Fund = ET.parse('SDNAR022HK0287.XML')"
   ]
  },
  {
   "cell_type": "markdown",
   "metadata": {},
   "source": [
    "# Extract information from Net Asset Value for Fund report. This is done by\n",
    "\n",
    "- Creating a function called \"extract_NAV_For_Fund(x) which parses the values in XML and creates 7 outputs A.Group - Group IDs \n",
    "\n",
    "    1. Account - Account IDs\n",
    "    2. Description - Description lists of the securities\n",
    "    3. Balance - Balance \n",
    "    4. Total - Total amount\n",
    "    5. Net_Asset_Value - Net Asset Value as mentioned in the total summary\n",
    "    6. Fund_CCY - Fund currency\n",
    "    \n",
    "\n",
    "- Call these functions and assign the output to 7 variables. These values will then be used to perform validation\n"
   ]
  },
  {
   "cell_type": "code",
   "execution_count": 186,
   "metadata": {
    "collapsed": true
   },
   "outputs": [],
   "source": [
    "def extract_NAV_For_Fund(x):\n",
    "       \n",
    "    Group = []\n",
    "    for i in Net_Asset_Value_For_Fund.iter(\"REGR\"):\n",
    "        b = int(i.text)\n",
    "        if b == 0:\n",
    "            break\n",
    "        else:\n",
    "            b = b\n",
    "        Group.append(b)\n",
    "    \n",
    "    Acc = []\n",
    "    for i in Net_Asset_Value_For_Fund.iter('BNRUBR'):\n",
    "        b = int(i.text)\n",
    "        Acc.append(b)\n",
    "    Account = [a for a in Acc if a != 0]\n",
    "    \n",
    "    Description = []\n",
    "    for i in Net_Asset_Value_For_Fund.iter('LIB_REGR'):\n",
    "        b = i.text\n",
    "        Description.append(b)\n",
    "        \n",
    "    Bal = []\n",
    "    for i in Net_Asset_Value_For_Fund.iter('MSOLDE_FM'):\n",
    "        b = i.text\n",
    "        if b == None:\n",
    "            b = 0\n",
    "        else:\n",
    "            b\n",
    "        Bal.append(b)\n",
    "    Bal1 = [a for a in Bal if a != 0]\n",
    "    Bala = []\n",
    "    for r in range(0,len(Bal1)):\n",
    "        x = Bal1[r].replace(\"(\",\"-\")\n",
    "        Bala.append(x)\n",
    "    Balance = []\n",
    "    for i in range(0,len(Bala)):\n",
    "        d = Bala[i]\n",
    "        d = ''.join(e for e in d if e.isdigit() or e == '.' or e == \"-\")\n",
    "        d = float(d)\n",
    "        Balance.append(d)\n",
    "    \n",
    "    Tot = []\n",
    "    for i in Net_Asset_Value_For_Fund.iter('CF_SOLDE_TOTAL'):\n",
    "        b = i.text\n",
    "        if b == None:\n",
    "            b = 0\n",
    "        else:\n",
    "            b\n",
    "        Tot.append(b)\n",
    "    Tot1 = [a for a in Tot if a != 0]\n",
    "    Tota = []\n",
    "    for r in range(0,len(Tot1)):\n",
    "        x = Tot1[r].replace(\"(\",\"-\")\n",
    "        Tota.append(x)\n",
    "    Total = []\n",
    "    for i in range(0,len(Tota)):\n",
    "        d = Tota[i]\n",
    "        d = ''.join(e for e in d if e.isdigit() or e == '.' or e == \"-\")\n",
    "        d = float(d)\n",
    "        Total.append(d)\n",
    "    \n",
    "    Net_Asset_Value = Total[-1]\n",
    "    \n",
    "    Fund_CCY = []\n",
    "    for i in Net_Asset_Value_For_Fund.iter('CMON'):\n",
    "        b = i.text\n",
    "        Fund_CCY.append(b)\n",
    "    Fund_CCY = Fund_CCY[1]\n",
    "        \n",
    "    return Group, Account, Description, Balance, Total, Net_Asset_Value, Fund_CCY"
   ]
  },
  {
   "cell_type": "code",
   "execution_count": 187,
   "metadata": {
    "collapsed": true
   },
   "outputs": [],
   "source": [
    "Group, Account, Description, Balance, Total, Net_Asset_Value, Fund_CCY =  extract_NAV_For_Fund(Net_Asset_Value_For_Fund)"
   ]
  },
  {
   "cell_type": "code",
   "execution_count": 188,
   "metadata": {
    "collapsed": true
   },
   "outputs": [],
   "source": [
    "NAVFF=pandas.DataFrame([Description,Balance])"
   ]
  },
  {
   "cell_type": "code",
   "execution_count": 189,
   "metadata": {
    "collapsed": true
   },
   "outputs": [],
   "source": [
    "NAVFF=NAVFF.T"
   ]
  },
  {
   "cell_type": "code",
   "execution_count": 190,
   "metadata": {
    "collapsed": true
   },
   "outputs": [],
   "source": [
    "NAVFF.columns=['Description','Balance']"
   ]
  },
  {
   "cell_type": "markdown",
   "metadata": {
    "collapsed": true
   },
   "source": [
    "# Extract Information from Net Asset Value - Statement of Change report. This is done by\n",
    "1. Extract NAV Statement of Change value \n",
    "2. Compare NAV Statement of change value with Net Asset Value"
   ]
  },
  {
   "cell_type": "code",
   "execution_count": 191,
   "metadata": {
    "collapsed": true
   },
   "outputs": [],
   "source": [
    "NAV_Statement_of_Change = ET.parse('SDNAV052HK0287.XML')"
   ]
  },
  {
   "cell_type": "code",
   "execution_count": 192,
   "metadata": {
    "collapsed": true
   },
   "outputs": [],
   "source": [
    "NAV_SoC = []\n",
    "for i in NAV_Statement_of_Change.iter('CS_SOLDE_J_TOTAL'):\n",
    "    b = float(i.text)\n",
    "    NAV_SoC.append(b)\n",
    "    \n",
    "NAV_SoC_Per_Var = []\n",
    "for i in NAV_Statement_of_Change.iter('CF_PC_DIF_JOURS'):\n",
    "    b = float(i.text)\n",
    "    NAV_SoC_Per_Var.append(b)\n",
    "    \n",
    "NAV_SoC_VarD = []\n",
    "for i in NAV_Statement_of_Change.iter('CS_DIF_J'):\n",
    "    b = float(i.text)\n",
    "    NAV_SoC_VarD.append(b)    \n",
    "    \n",
    "NAV_SoC_Accnt = []\n",
    "for i in NAV_Statement_of_Change.iter('BNRUBR'):\n",
    "    b = int(i.text)\n",
    "    NAV_SoC_Accnt.append(b)"
   ]
  },
  {
   "cell_type": "code",
   "execution_count": 193,
   "metadata": {
    "collapsed": true
   },
   "outputs": [],
   "source": [
    "data=pandas.DataFrame([NAV_SoC_Accnt,NAV_SoC_Per_Var])"
   ]
  },
  {
   "cell_type": "code",
   "execution_count": 194,
   "metadata": {
    "collapsed": true
   },
   "outputs": [],
   "source": [
    "data=data.T"
   ]
  },
  {
   "cell_type": "code",
   "execution_count": 195,
   "metadata": {
    "collapsed": true
   },
   "outputs": [],
   "source": [
    "data.columns=['Account','Percentage']"
   ]
  },
  {
   "cell_type": "code",
   "execution_count": 196,
   "metadata": {},
   "outputs": [
    {
     "name": "stdout",
     "output_type": "stream",
     "text": [
      "No variance in Statement of Change Report, against 301001.0 GL\n",
      "No variance in Statement of Change Report, against 301002.0 GL\n",
      "No variance in Statement of Change Report, against 302001.0 GL\n",
      "No variance in Statement of Change Report, against 390000.0 GL\n",
      "No variance in Statement of Change Report, against 411100.0 GL\n",
      "No variance in Statement of Change Report, against 411130.0 GL\n",
      "No variance in Statement of Change Report, against 421100.0 GL\n",
      "No variance in Statement of Change Report, against 421130.0 GL\n",
      "There is 0.5% variance in Statement of Change report, against 511100.0 GL\n",
      "No variance in Statement of Change Report, against 511130.0 GL\n",
      "No variance in Statement of Change Report, against 521100.0 GL\n",
      "No variance in Statement of Change Report, against 521130.0 GL\n",
      "No variance in Statement of Change Report, against 444444.0 GL\n",
      "There is 0.5% variance in Statement of Change report, against 527100.0 GL\n",
      "No variance in Statement of Change Report, against 555555.0 GL\n",
      "No variance in Statement of Change Report, against 451100.0 GL\n",
      "No variance in Statement of Change Report, against 452220.0 GL\n",
      "No variance in Statement of Change Report, against 460000.0 GL\n",
      "There is 0.5% variance in Statement of Change report, against 555101.0 GL\n",
      "There is 0.5% variance in Statement of Change report, against 555102.0 GL\n",
      "No variance in Statement of Change Report, against 555201.0 GL\n",
      "There is 0.5% variance in Statement of Change report, against 553105.0 GL\n",
      "There is 0.5% variance in Statement of Change report, against 553107.0 GL\n",
      "There is 0.5% variance in Statement of Change report, against 553121.0 GL\n",
      "There is 0.5% variance in Statement of Change report, against 553125.0 GL\n",
      "No variance in Statement of Change Report, against 553129.0 GL\n",
      "There is 0.5% variance in Statement of Change report, against 553130.0 GL\n",
      "There is 0.5% variance in Statement of Change report, against 553131.0 GL\n",
      "No variance in Statement of Change Report, against 553133.0 GL\n",
      "No variance in Statement of Change Report, against 553141.0 GL\n",
      "There is 0.5% variance in Statement of Change report, against 553160.0 GL\n",
      "No variance in Statement of Change Report, against 553180.0 GL\n",
      "No variance in Statement of Change Report, against 553443.0 GL\n",
      "No variance in Statement of Change Report, against 553444.0 GL\n",
      "There is 0.5% variance in Statement of Change report, against 431100.0 GL\n",
      "No variance in Statement of Change Report, against 431130.0 GL\n",
      "No variance in Statement of Change Report, against 441100.0 GL\n",
      "No variance in Statement of Change Report, against 441130.0 GL\n",
      "There is 0.5% variance in Statement of Change report, against 999998.0 GL\n"
     ]
    }
   ],
   "source": [
    "data=pandas.DataFrame(data)\n",
    "for index, row in data.iterrows():\n",
    "    if row[1]>.05:\n",
    "        print(\"There is 0.5% variance in Statement of Change report, against\", row['Account'], \"GL\")\n",
    "        text = 'There is 0.5% variance in Statement of Change report against'+ str(row['Account']) + 'GL'\n",
    "        Validations_Output.append(text)\n",
    "    else:\n",
    "        print(\"No variance in Statement of Change Report, against\", row['Account'], \"GL\")\n",
    "        text = 'No variance in Statement of Change Report, against' + str(row['Account']) + 'GL'\n",
    "        Validations_Output.append(text)    "
   ]
  },
  {
   "cell_type": "code",
   "execution_count": 197,
   "metadata": {},
   "outputs": [
    {
     "name": "stdout",
     "output_type": "stream",
     "text": [
      "NAV matched between NAV FOR FUND report and NAV Statement of Change report\n",
      "Mismatch =  HKD 0.0\n"
     ]
    }
   ],
   "source": [
    "if NAV_SoC[0] == Net_Asset_Value:\n",
    "    print(\"NAV matched between NAV FOR FUND report and NAV Statement of Change report\")\n",
    "    text= \"NAV matched between NAV FOR FUND report and NAV Statement of Change report\"+  \"\"\n",
    "    Validations_Output.append(text)\n",
    "else:\n",
    "    print(\"Amount Mismatch : NAV mis match between NAV FOR FUND report and NAV Statement of Change report\")\n",
    "    text = \"Amount Mismatch : NAV mis match between NAV FOR FUND report and NAV Statement of Change report\"+ \"\"\n",
    "    Validations_Output.append(text)\n",
    "mismatch=Net_Asset_Value-NAV_SoC[0]\n",
    "print(\"Mismatch = \", Fund_CCY,round(mismatch,2))"
   ]
  },
  {
   "cell_type": "markdown",
   "metadata": {},
   "source": [
    "# Extract Information from Net Asset Value for fund. This is done by\n",
    "- Extract NAV for Fund-Fund Expense Accruals\n",
    "    1. INVESTMENT - EQUITIES - Total\n",
    "    2. Investment - Equities - Balance\n",
    "    3. Prov Unr P/L - Equities - Balance\n",
    "    4. ACCRUED INCOME - Total\n",
    "    5. Prov Unr FX P/L - Interest - Total\n",
    "    6. CASH ASSET - Total\n",
    "    7. Cash in Bank - Balance\n",
    "    8. Broker-ICBC - Balance\n",
    "    9. ACCRUED INCOME - Total\n",
    "    10. Int Accrual - Cash Account - Balance\n",
    "    11. PREPAID EXPENSE - Total\n",
    "    12. Prepaid Expenses - Balance\n",
    "    13. REDEMPTION PAYABLES - Total\n",
    "    14. Payables on Redemption - Balance\n",
    "    15. EXPENSE ACCRUALS - Total\n",
    "    16. Exp Accrual - Audit Fee - Balance\n",
    "    17. Exp Accrual - Custody Fee - Balance\n",
    "    18. Exp Accrual - Redemption Fee - Balance\n",
    "    19. Exp Accrual - Listing Expenses - Balance\n",
    "    20. Exp Accrual - Publication Fee - Balance\n",
    "    21. Exp Accrual - Management Fee - Balance in NAV_for_Fund_Exp_Accrls\n",
    "    22. Splitting into each data point\n",
    "    \n",
    "- Storing NAV for Fund Accrual data in different varialbles\n",
    "    1. NAV_for_Fund_Exp_Accrls as NAV_for_Fund_Exp_Accrls_Audit_Fee \n",
    "    2. NAV_for_Fund_Exp_Accrls as NAV_for_Fund_Exp_Accrls_Custody_Fee\n",
    "    3. NAV_for_Fund_Exp_Accrls as NAV_for_Fund_Exp_Accrls_Redemption_Fee\n",
    "    4. NAV_for_Fund_Exp_Accrls as NAV_for_Fund_Exp_Accrls_Listing_Exp\n",
    "    5. NAV_for_Fund_Exp_Accrls as NAV_for_Fund_Exp_Accrls_Publication_Fee\n",
    "    6. NAV_for_Fund_Exp_Accrls as NAV_for_Fund_Exp_Accrls_Management_Fee"
   ]
  },
  {
   "cell_type": "code",
   "execution_count": 198,
   "metadata": {
    "collapsed": true
   },
   "outputs": [],
   "source": [
    "NAV_for_Fund_Exp_Accrls = []\n",
    "for i in Net_Asset_Value_For_Fund.iter('MSOLDE_FM'):\n",
    "    b = float(i.text)\n",
    "    NAV_for_Fund_Exp_Accrls.append(b)"
   ]
  },
  {
   "cell_type": "code",
   "execution_count": 199,
   "metadata": {
    "collapsed": true
   },
   "outputs": [],
   "source": [
    "NAV_for_Fund_Exp_Accrls_Audit_Fee=NAV_for_Fund_Exp_Accrls[18]\n",
    "NAV_for_Fund_Exp_Accrls_Custody_Fee=NAV_for_Fund_Exp_Accrls[19]\n",
    "NAV_for_Fund_Exp_Accrls_Reporting_Fee=NAV_for_Fund_Exp_Accrls[20]\n",
    "NAV_for_Fund_Exp_Accrls_Transfer_Agt_Fee=NAV_for_Fund_Exp_Accrls[21]\n",
    "NAV_for_Fund_Exp_Accrls_Trustee_Fee=NAV_for_Fund_Exp_Accrls[22]\n",
    "NAV_for_Fund_Exp_Accrls_Management_Fee_Class_A=NAV_for_Fund_Exp_Accrls[23]\n",
    "NAV_for_Fund_Exp_Accrls_Management_Fee_Class_B=NAV_for_Fund_Exp_Accrls[24]\n",
    "NAV_for_Fund_Exp_Accrls_RL_Perform_Fee=NAV_for_Fund_Exp_Accrls[25]"
   ]
  },
  {
   "cell_type": "code",
   "execution_count": 200,
   "metadata": {
    "collapsed": true
   },
   "outputs": [],
   "source": [
    "import pandas as pandas"
   ]
  },
  {
   "cell_type": "markdown",
   "metadata": {},
   "source": [
    "# Extract Information from Net Asset Value - Portfolio Valuation. This is done by\n",
    "\n",
    "1.Extract following data from Portfolio Valuation \n",
    "    1. Broker-ICBC ICBC - Balance - CNY\n",
    "    2. Broker-ICBC ICBC - Balance - HKD\n",
    "    3. Cash in Bank STANDARD CHARTERED BANK (HONG KONG) LTD - Balance - HKD\n",
    "    4. Broker-ICBC ICBC - Balance - USD\n",
    "    5. Cash in Bank STANDARD CHARTERED BANK (HONG KONG) LTD - Balance - USD\n",
    "    6. Exp Accrual - Management Fee - Balance\n",
    "    7. Cash in Bank - Balance\n",
    "    8. Exp Accrual - Audit Fee - Balance\n",
    "    9. Exp Accrual - Custody Fee - Balance\n",
    "    10. Exp Accrual - Listing Expenses - Balance\n",
    "    11. Exp Accrual - Publication Fee - Balance\n",
    "    12. Exp Accrual - Redemption Fee - Balance\n",
    "    13. Int Accrual - Cash Account - Balance\n",
    "    14. Payables on Redemption - Balance\n",
    "    15. Prepaid Expenses - Balance\n",
    "    16. Prov Unr FX P/L - Interest - Balance"
   ]
  },
  {
   "cell_type": "code",
   "execution_count": 201,
   "metadata": {
    "collapsed": true
   },
   "outputs": [],
   "source": [
    "NAV_Portfolio_Valuation = ET.parse('SDPOR072HK0287.XML')"
   ]
  },
  {
   "cell_type": "code",
   "execution_count": 202,
   "metadata": {
    "collapsed": true
   },
   "outputs": [],
   "source": [
    "NAV_Portfolio_Valuation_Total = []\n",
    "for i in NAV_Portfolio_Valuation.iter('CS_TOT_COST_PTF'):\n",
    "    b = float(i.text)\n",
    "    NAV_Portfolio_Valuation_Total.append(b)\n",
    "\n",
    "NAV_Portfolio_Valuation_Total_Cost = []\n",
    "for i in NAV_Portfolio_Valuation.iter('CS_TOT_MKT_PTF_SEC3'):\n",
    "    b = float(i.text)\n",
    "    NAV_Portfolio_Valuation_Total_Cost.append(b)\n",
    "\n",
    "NAV_Portfolio_Valuation_Exp_Accrls = []\n",
    "for i in NAV_Portfolio_Valuation.iter('CS_TOT_COST_REF_SEC3'):\n",
    "    b = float(i.text)\n",
    "    NAV_Portfolio_Valuation_Exp_Accrls.append(b)\n",
    "\n",
    "NAV_Portfolio_Valuation_Balance  = []\n",
    "for i in NAV_Portfolio_Valuation.iter('BAL_CCY_SEC3'):\n",
    "    b = float(i.text)\n",
    "    NAV_Portfolio_Valuation_Balance.append(b)\n",
    "    \n",
    "NAV_Portfolio_Valuation_Cost_in_Fund  = []\n",
    "for i in NAV_Portfolio_Valuation.iter('TOT_COST_PTF_SEC3'):\n",
    "    b = float(i.text)\n",
    "    NAV_Portfolio_Valuation_Cost_in_Fund.append(b)\n",
    "    \n",
    "NAV_Portfolio_Valuation_Market_Value_in_Fund  = []\n",
    "for i in NAV_Portfolio_Valuation.iter('MKT_VALUE_PTF_SEC3'):\n",
    "    b = float(i.text)\n",
    "    NAV_Portfolio_Valuation_Market_Value_in_Fund.append(b)\n",
    "\n",
    "NAV_Portfolio_Valuation_Value_Ref  = []\n",
    "for i in NAV_Portfolio_Valuation.iter('VALUE_REF_SEC3'):\n",
    "    b = i.text\n",
    "    NAV_Portfolio_Valuation_Value_Ref.append(b)\n",
    "    \n",
    "NAV_Portfolio_Valuation_Accrued_Interest = []\n",
    "for i in NAV_Portfolio_Valuation.iter('INT_CCY_SEC3'):\n",
    "    b = i.text\n",
    "    NAV_Portfolio_Valuation_Accrued_Interest.append(b)\n",
    "\n",
    "NAV_Portfolio_Valuation_Total_Cost_Fund_Ccy = []\n",
    "for i in NAV_Portfolio_Valuation.iter('CS_TOT_MKT_PTF_SEC3'):\n",
    "    b = float(i.text)\n",
    "    NAV_Portfolio_Valuation_Total_Cost_Fund_Ccy.append(b)\n",
    "    \n",
    "NAV_Portfolio_Valuation_Total_Investment = []\n",
    "for i in NAV_Portfolio_Valuation.iter('CS_TOT_COST_PTF_REP'):\n",
    "    b = float(i.text)\n",
    "    NAV_Portfolio_Valuation_Total_Investment.append(b)\n",
    "    \n",
    "NAV_Portfolio_Valuation_Description = []\n",
    "for i in NAV_Portfolio_Valuation.iter('LIBELLE_SEC3'):\n",
    "    b = i.text\n",
    "    NAV_Portfolio_Valuation_Description.append(b)"
   ]
  },
  {
   "cell_type": "code",
   "execution_count": 203,
   "metadata": {
    "collapsed": true
   },
   "outputs": [],
   "source": [
    "NAV_Portfolio_Valuation_Markt_Value_Management_Fee_Class_A=NAV_Portfolio_Valuation_Market_Value_in_Fund[3]\n",
    "NAV_Portfolio_Valuation_Markt_Value_Management_Fee_Class_B=NAV_Portfolio_Valuation_Market_Value_in_Fund[4]\n",
    "NAV_Portfolio_Valuation_Markt_Value_RL_Perform_Fee=NAV_Portfolio_Valuation_Market_Value_in_Fund[5]\n",
    "NAV_Portfolio_Valuation_Markt_Value_Acc_Audit_Fee=NAV_Portfolio_Valuation_Market_Value_in_Fund[6]\n",
    "NAV_Portfolio_Valuation_Markt_Value_Acc_Reporting_Fee=NAV_Portfolio_Valuation_Market_Value_in_Fund[7]\n",
    "NAV_Portfolio_Valuation_Markt_Value_Acc_transfer_Agt_Fee=NAV_Portfolio_Valuation_Market_Value_in_Fund[8]\n",
    "NAV_Portfolio_Valuation_Markt_Value_Acc_trustee_Fee=NAV_Portfolio_Valuation_Market_Value_in_Fund[9]\n",
    "NAV_Portfolio_Valuation_Markt_Value_Acc_Custody_Fee=NAV_Portfolio_Valuation_Market_Value_in_Fund[10]\n",
    "NAV_Portfolio_Valuation_Total_Cost_Fund_Ccy_Cash_at_Bank=NAV_Portfolio_Valuation_Total_Cost_Fund_Ccy[0]\n",
    "NAV_Portfolio_Valuation_Total_Cost_Fund_Ccy_Pre_Exp=NAV_Portfolio_Valuation_Cost_in_Fund[17]\n",
    "NAV_Portfolio_Valuation_Total_Cost_Fund_Ccy_Receivalbles=NAV_Portfolio_Valuation_Total_Cost_Fund_Ccy[5]\n",
    "NAV_Portfolio_Valuation_Total_Cost_Fund_Ccy_Payables=NAV_Portfolio_Valuation_Total_Cost_Fund_Ccy[4]"
   ]
  },
  {
   "cell_type": "code",
   "execution_count": 204,
   "metadata": {
    "collapsed": true
   },
   "outputs": [],
   "source": [
    "NAVPV=pandas.DataFrame([NAV_Portfolio_Valuation_Description,NAV_Portfolio_Valuation_Balance])"
   ]
  },
  {
   "cell_type": "code",
   "execution_count": 205,
   "metadata": {
    "collapsed": true
   },
   "outputs": [],
   "source": [
    "NAVPV=NAVPV.T"
   ]
  },
  {
   "cell_type": "code",
   "execution_count": 206,
   "metadata": {
    "collapsed": true
   },
   "outputs": [],
   "source": [
    "NAVPV.columns=['Description','Balance']"
   ]
  },
  {
   "cell_type": "markdown",
   "metadata": {},
   "source": [
    "# Validation between NAV for Fund with Portfolio Valuation"
   ]
  },
  {
   "cell_type": "code",
   "execution_count": 207,
   "metadata": {},
   "outputs": [
    {
     "name": "stdout",
     "output_type": "stream",
     "text": [
      "Prepaid Exps - Preliminary Exp matched between Porfolio Valuation report and Net asset value for fund for the amount 321112.01\n",
      "Dividend Receivable  matched between Porfolio Valuation report and Net asset value for fund for the amount 448157.62\n",
      "Other Payables  matched between Porfolio Valuation report and Net asset value for fund for the amount -10.0\n",
      "Exp Accrual - Audit Fee  matched between Porfolio Valuation report and Net asset value for fund for the amount -205578.15\n",
      "Exp Accrual - Reporting Fee  matched between Porfolio Valuation report and Net asset value for fund for the amount -74138.61\n",
      "Exp Accrual - Transfer Agt Fee matched between Porfolio Valuation report and Net asset value for fund for the amount -84.78\n",
      "Exp Accrual - Trustee Fee  matched between Porfolio Valuation report and Net asset value for fund for the amount -60083.07\n",
      "Exp Accrual - Mgmt Fee Class A matched between Porfolio Valuation report and Net asset value for fund for the amount -126374.67\n",
      "Exp Accrual - Mgmt Fee Class B matched between Porfolio Valuation report and Net asset value for fund for the amount -297637.07\n",
      "Exp Accrual - RL Perform Fees  matched between Porfolio Valuation report and Net asset value for fund for the amount -42.42\n",
      "Net asset value - Not Match between Porfolio Valuation report and Net asset value for fund \n"
     ]
    }
   ],
   "source": [
    "NAVFF=pandas.DataFrame(NAVFF)\n",
    "NAVPV=pandas.DataFrame(NAVPV)\n",
    "for index, i in NAVFF.iterrows():\n",
    "    for index, j in NAVPV.iterrows():\n",
    "        if str.lstrip(str.rstrip(i['Description']))==str.lstrip(str.rstrip(j['Description'])) and i['Balance']==j['Balance']:\n",
    "            print(i['Description'], \"matched between Porfolio Valuation report and Net asset value for fund for the amount\", i['Balance'])\n",
    "            text = i['Description']+ \"matched between Porfolio Valuation report and Net asset value for fund for the amount\"+ str(i['Balance'])\n",
    "            Validations_Output.append(text)\n",
    "print(i['Description'],'-',\"Not Match between Porfolio Valuation report and Net asset value for fund \")\n",
    "text = i['Description'] + '-' + \"Not Match between Porfolio Valuation report and Net asset value for fund\" + \"\" \n",
    "Validations_Output.append(text)"
   ]
  },
  {
   "cell_type": "code",
   "execution_count": 208,
   "metadata": {},
   "outputs": [
    {
     "name": "stdout",
     "output_type": "stream",
     "text": [
      "30.39\n",
      "9572020.9\n",
      "1.16\n"
     ]
    }
   ],
   "source": [
    "CIB = 0\n",
    "#NAVFF=pandas.DataFrame(NAVFF)\n",
    "NAVPV=pandas.DataFrame(NAVPV)\n",
    "#for index, i in NAVFF.iterrows():\n",
    "for index, j in NAVPV.iterrows():\n",
    "    if j['Description']==\"Cash in Bank STANDARD CHARTERED BANK (HONG KONG) LTD. \":\n",
    "        CIB=j['Balance'] + CIB\n",
    "        print(j['Balance'])"
   ]
  },
  {
   "cell_type": "code",
   "execution_count": null,
   "metadata": {
    "collapsed": true
   },
   "outputs": [],
   "source": []
  },
  {
   "cell_type": "code",
   "execution_count": 209,
   "metadata": {},
   "outputs": [
    {
     "name": "stdout",
     "output_type": "stream",
     "text": [
      "Cash in Bank not matched between Porfolio Valuation report and Net asset value for fund\n"
     ]
    }
   ],
   "source": [
    "NAVFF=pandas.DataFrame(NAVFF)\n",
    "NAVPV=pandas.DataFrame(NAVPV)\n",
    "for index, i in NAVFF.iterrows():\n",
    "    if str.lstrip(str.rstrip(i['Description']))==\"Cash in Bank\" and i['Balance']==CIB:\n",
    "        print(i['Description'],\"Matched between Portfolio valuation report and Net asset value for fund\")\n",
    "        text = i['Description'],\"Matched between Portfolio valuation report and Net asset value for fund\" + \"\" \n",
    "        Validations_Output.append(text)\n",
    "print(\"Cash in Bank not matched between Porfolio Valuation report and Net asset value for fund\")\n",
    "text = \"Cash in Bank not matched between Porfolio Valuation report and Net asset value for fund\" + \"\" \n",
    "Validations_Output.append(text)"
   ]
  },
  {
   "cell_type": "markdown",
   "metadata": {},
   "source": [
    "# Extraction of General Ledger Trial Balance"
   ]
  },
  {
   "cell_type": "code",
   "execution_count": 210,
   "metadata": {
    "collapsed": true
   },
   "outputs": [],
   "source": [
    "NAV_GL_TB = ET.parse('SHJNA102HK0287.XML')"
   ]
  },
  {
   "cell_type": "code",
   "execution_count": 211,
   "metadata": {
    "collapsed": true
   },
   "outputs": [],
   "source": [
    "GL_TB_Acc = []\n",
    "for i in NAV_GL_TB.iter('BNRUBR'):\n",
    "    b = int(i.text)\n",
    "    GL_TB_Acc.append(b)\n",
    "    \n",
    "GL_TB_Cry = []\n",
    "for i in NAV_GL_TB.iter('ACMON'):\n",
    "    b = (i.text)\n",
    "    GL_TB_Cry.append(b)\n",
    "\n",
    "GL_TB_Acc_Bal = []\n",
    "for i in NAV_GL_TB.iter('CF_ABAL'):\n",
    "    b = float(i.text)\n",
    "    GL_TB_Acc_Bal.append(b)\n",
    "\n",
    "GL_TB_Acc_Fund = []\n",
    "for i in NAV_GL_TB.iter('CF_CBAL'):\n",
    "    b = float(i.text)\n",
    "    GL_TB_Acc_Fund.append(b)\n",
    "\n",
    "GL_TB_Acc_Ttl_Asset_Liab = []\n",
    "for i in NAV_GL_TB.iter('CP_TOTAL_SDNAR02'):\n",
    "    b = float(i.text)\n",
    "    GL_TB_Acc_Ttl_Asset_Liab.append(b)\n",
    "\n",
    "GL_TB_Acc_Ttl_Cap_PL = []\n",
    "for i in NAV_GL_TB.iter('CP_TOTAL_SDNAV05'):\n",
    "    b = float(i.text)\n",
    "    GL_TB_Acc_Ttl_Cap_PL.append(b)\n",
    "\n",
    "GL_TB_Acc_Closing_Balance = []\n",
    "for i in NAV_GL_TB.iter('CF_TOTALBALANCE'):\n",
    "    b = float(i.text)\n",
    "    GL_TB_Acc_Closing_Balance.append(b)\n",
    "    \n",
    "    \n",
    "GL_TB_Acc_Total_Assests_Liab = []\n",
    "for i in NAV_GL_TB.iter('CP_TOTAL_SDNAR02'):\n",
    "    b = float(i.text)\n",
    "    GL_TB_Acc_Total_Assests_Liab.append(b)"
   ]
  },
  {
   "cell_type": "markdown",
   "metadata": {},
   "source": [
    "# Validation of General Ledger Trial Balance"
   ]
  },
  {
   "cell_type": "code",
   "execution_count": 212,
   "metadata": {
    "collapsed": true
   },
   "outputs": [],
   "source": [
    "D = (pandas.DataFrame(GL_TB_Acc))\n",
    "D[\"Currency\"] = pandas.DataFrame(GL_TB_Cry)"
   ]
  },
  {
   "cell_type": "code",
   "execution_count": 213,
   "metadata": {},
   "outputs": [
    {
     "data": {
      "text/html": [
       "<div>\n",
       "<style>\n",
       "    .dataframe thead tr:only-child th {\n",
       "        text-align: right;\n",
       "    }\n",
       "\n",
       "    .dataframe thead th {\n",
       "        text-align: left;\n",
       "    }\n",
       "\n",
       "    .dataframe tbody tr th {\n",
       "        vertical-align: top;\n",
       "    }\n",
       "</style>\n",
       "<table border=\"1\" class=\"dataframe\">\n",
       "  <thead>\n",
       "    <tr style=\"text-align: right;\">\n",
       "      <th></th>\n",
       "      <th>0</th>\n",
       "      <th>Currency</th>\n",
       "    </tr>\n",
       "  </thead>\n",
       "  <tbody>\n",
       "    <tr>\n",
       "      <th>0</th>\n",
       "      <td>101100</td>\n",
       "      <td>HKD</td>\n",
       "    </tr>\n",
       "    <tr>\n",
       "      <th>1</th>\n",
       "      <td>101130</td>\n",
       "      <td>HKD</td>\n",
       "    </tr>\n",
       "    <tr>\n",
       "      <th>2</th>\n",
       "      <td>120121</td>\n",
       "      <td>HKD</td>\n",
       "    </tr>\n",
       "    <tr>\n",
       "      <th>3</th>\n",
       "      <td>132100</td>\n",
       "      <td>HKD</td>\n",
       "    </tr>\n",
       "    <tr>\n",
       "      <th>4</th>\n",
       "      <td>132150</td>\n",
       "      <td>HKD</td>\n",
       "    </tr>\n",
       "  </tbody>\n",
       "</table>\n",
       "</div>"
      ],
      "text/plain": [
       "        0 Currency\n",
       "0  101100      HKD\n",
       "1  101130      HKD\n",
       "2  120121      HKD\n",
       "3  132100      HKD\n",
       "4  132150      HKD"
      ]
     },
     "execution_count": 213,
     "metadata": {},
     "output_type": "execute_result"
    }
   ],
   "source": [
    "D.head()"
   ]
  },
  {
   "cell_type": "code",
   "execution_count": 214,
   "metadata": {
    "collapsed": true
   },
   "outputs": [],
   "source": [
    "Array = D.loc[(D[0]>400000) & (D[0]<600000)]"
   ]
  },
  {
   "cell_type": "code",
   "execution_count": 215,
   "metadata": {},
   "outputs": [
    {
     "name": "stdout",
     "output_type": "stream",
     "text": [
      "No Exceptions found\n"
     ]
    }
   ],
   "source": [
    "if (((Array.loc[(Array[\"Currency\"]!=Fund_CCY)]).count())[0] == 0):\n",
    "    print(\"No Exceptions found\")\n",
    "    text=\"No Exceptions Found between GL Trial Balance and Fund Currency\" + \"\" \n",
    "    Validations_Output.append(text)\n",
    "else:\n",
    "    print(\"Exceptions found\")\n",
    "    text=\"Exceptions Found between GL Trial Balance and Fund Currency\" + \"\" \n",
    "    Validations_Output.append(text)"
   ]
  },
  {
   "cell_type": "code",
   "execution_count": 216,
   "metadata": {},
   "outputs": [
    {
     "name": "stdout",
     "output_type": "stream",
     "text": [
      "No Exceptions found - Closing Balance is zero\n"
     ]
    }
   ],
   "source": [
    "if GL_TB_Acc_Closing_Balance[0] < 1:\n",
    "    print(\"No Exceptions found - Closing Balance is zero\")\n",
    "    text=\"No Exceptions Found between GL Trial Balance Closing Balance is Zero\" +  \"\" \n",
    "    Validations_Output.append(text)\n",
    "else:\n",
    "    print(\"Exceptions found\")\n",
    "    text = \"Exceptions Found between GL Trial Balance Closing Balance\" + \"\" \n",
    "    Validations_Output.append(text)"
   ]
  },
  {
   "cell_type": "code",
   "execution_count": 217,
   "metadata": {},
   "outputs": [
    {
     "data": {
      "text/plain": [
       "264393156.59"
      ]
     },
     "execution_count": 217,
     "metadata": {},
     "output_type": "execute_result"
    }
   ],
   "source": [
    "Net_Asset_Value"
   ]
  },
  {
   "cell_type": "code",
   "execution_count": 218,
   "metadata": {},
   "outputs": [
    {
     "name": "stdout",
     "output_type": "stream",
     "text": [
      "No Exceptions found - NAV is equal to Total Assets & Liabilities\n"
     ]
    }
   ],
   "source": [
    "Check=GL_TB_Acc_Total_Assests_Liab[0] - Net_Asset_Value\n",
    "if Check < 1:\n",
    "    print(\"No Exceptions found - NAV is equal to Total Assets & Liabilities\")\n",
    "    text = \"No Exceptions Found NAV is equal to Total Assets & Liabilities\", \" + \"\" \" \n",
    "    Validations_Output.append(text)\n",
    "else: \n",
    "    print(\"Exceptions found - NAV mismatch with Total Assets & Liabilities\")\n",
    "    text = \"Exceptions Found - NAV mismatch with Total Assets & Liabilities\" + \"\" \n",
    "    Validations_Output.append(text)"
   ]
  },
  {
   "cell_type": "code",
   "execution_count": 219,
   "metadata": {},
   "outputs": [
    {
     "data": {
      "text/html": [
       "<div>\n",
       "<style>\n",
       "    .dataframe thead tr:only-child th {\n",
       "        text-align: right;\n",
       "    }\n",
       "\n",
       "    .dataframe thead th {\n",
       "        text-align: left;\n",
       "    }\n",
       "\n",
       "    .dataframe tbody tr th {\n",
       "        vertical-align: top;\n",
       "    }\n",
       "</style>\n",
       "<table border=\"1\" class=\"dataframe\">\n",
       "  <thead>\n",
       "    <tr style=\"text-align: right;\">\n",
       "      <th></th>\n",
       "      <th>0</th>\n",
       "      <th>Currency</th>\n",
       "    </tr>\n",
       "  </thead>\n",
       "  <tbody>\n",
       "    <tr>\n",
       "      <th>26</th>\n",
       "      <td>411100</td>\n",
       "      <td>HKD</td>\n",
       "    </tr>\n",
       "    <tr>\n",
       "      <th>27</th>\n",
       "      <td>411130</td>\n",
       "      <td>HKD</td>\n",
       "    </tr>\n",
       "    <tr>\n",
       "      <th>28</th>\n",
       "      <td>421100</td>\n",
       "      <td>HKD</td>\n",
       "    </tr>\n",
       "    <tr>\n",
       "      <th>29</th>\n",
       "      <td>421130</td>\n",
       "      <td>HKD</td>\n",
       "    </tr>\n",
       "    <tr>\n",
       "      <th>30</th>\n",
       "      <td>431100</td>\n",
       "      <td>HKD</td>\n",
       "    </tr>\n",
       "    <tr>\n",
       "      <th>31</th>\n",
       "      <td>431130</td>\n",
       "      <td>HKD</td>\n",
       "    </tr>\n",
       "    <tr>\n",
       "      <th>32</th>\n",
       "      <td>441100</td>\n",
       "      <td>HKD</td>\n",
       "    </tr>\n",
       "    <tr>\n",
       "      <th>33</th>\n",
       "      <td>441130</td>\n",
       "      <td>HKD</td>\n",
       "    </tr>\n",
       "    <tr>\n",
       "      <th>34</th>\n",
       "      <td>444444</td>\n",
       "      <td>HKD</td>\n",
       "    </tr>\n",
       "    <tr>\n",
       "      <th>35</th>\n",
       "      <td>451100</td>\n",
       "      <td>HKD</td>\n",
       "    </tr>\n",
       "    <tr>\n",
       "      <th>36</th>\n",
       "      <td>452220</td>\n",
       "      <td>HKD</td>\n",
       "    </tr>\n",
       "    <tr>\n",
       "      <th>37</th>\n",
       "      <td>460000</td>\n",
       "      <td>HKD</td>\n",
       "    </tr>\n",
       "    <tr>\n",
       "      <th>38</th>\n",
       "      <td>511100</td>\n",
       "      <td>HKD</td>\n",
       "    </tr>\n",
       "    <tr>\n",
       "      <th>39</th>\n",
       "      <td>511130</td>\n",
       "      <td>HKD</td>\n",
       "    </tr>\n",
       "    <tr>\n",
       "      <th>40</th>\n",
       "      <td>521100</td>\n",
       "      <td>HKD</td>\n",
       "    </tr>\n",
       "    <tr>\n",
       "      <th>41</th>\n",
       "      <td>521130</td>\n",
       "      <td>HKD</td>\n",
       "    </tr>\n",
       "    <tr>\n",
       "      <th>42</th>\n",
       "      <td>527100</td>\n",
       "      <td>HKD</td>\n",
       "    </tr>\n",
       "    <tr>\n",
       "      <th>43</th>\n",
       "      <td>553105</td>\n",
       "      <td>HKD</td>\n",
       "    </tr>\n",
       "    <tr>\n",
       "      <th>44</th>\n",
       "      <td>553107</td>\n",
       "      <td>HKD</td>\n",
       "    </tr>\n",
       "    <tr>\n",
       "      <th>45</th>\n",
       "      <td>553121</td>\n",
       "      <td>HKD</td>\n",
       "    </tr>\n",
       "    <tr>\n",
       "      <th>46</th>\n",
       "      <td>553125</td>\n",
       "      <td>HKD</td>\n",
       "    </tr>\n",
       "    <tr>\n",
       "      <th>47</th>\n",
       "      <td>553129</td>\n",
       "      <td>HKD</td>\n",
       "    </tr>\n",
       "    <tr>\n",
       "      <th>48</th>\n",
       "      <td>553130</td>\n",
       "      <td>HKD</td>\n",
       "    </tr>\n",
       "    <tr>\n",
       "      <th>49</th>\n",
       "      <td>553131</td>\n",
       "      <td>HKD</td>\n",
       "    </tr>\n",
       "    <tr>\n",
       "      <th>50</th>\n",
       "      <td>553133</td>\n",
       "      <td>HKD</td>\n",
       "    </tr>\n",
       "    <tr>\n",
       "      <th>51</th>\n",
       "      <td>553141</td>\n",
       "      <td>HKD</td>\n",
       "    </tr>\n",
       "    <tr>\n",
       "      <th>52</th>\n",
       "      <td>553160</td>\n",
       "      <td>HKD</td>\n",
       "    </tr>\n",
       "    <tr>\n",
       "      <th>53</th>\n",
       "      <td>553180</td>\n",
       "      <td>HKD</td>\n",
       "    </tr>\n",
       "    <tr>\n",
       "      <th>54</th>\n",
       "      <td>553443</td>\n",
       "      <td>HKD</td>\n",
       "    </tr>\n",
       "    <tr>\n",
       "      <th>55</th>\n",
       "      <td>553444</td>\n",
       "      <td>HKD</td>\n",
       "    </tr>\n",
       "    <tr>\n",
       "      <th>56</th>\n",
       "      <td>555101</td>\n",
       "      <td>HKD</td>\n",
       "    </tr>\n",
       "    <tr>\n",
       "      <th>57</th>\n",
       "      <td>555102</td>\n",
       "      <td>HKD</td>\n",
       "    </tr>\n",
       "    <tr>\n",
       "      <th>58</th>\n",
       "      <td>555201</td>\n",
       "      <td>HKD</td>\n",
       "    </tr>\n",
       "    <tr>\n",
       "      <th>59</th>\n",
       "      <td>555555</td>\n",
       "      <td>HKD</td>\n",
       "    </tr>\n",
       "  </tbody>\n",
       "</table>\n",
       "</div>"
      ],
      "text/plain": [
       "         0 Currency\n",
       "26  411100      HKD\n",
       "27  411130      HKD\n",
       "28  421100      HKD\n",
       "29  421130      HKD\n",
       "30  431100      HKD\n",
       "31  431130      HKD\n",
       "32  441100      HKD\n",
       "33  441130      HKD\n",
       "34  444444      HKD\n",
       "35  451100      HKD\n",
       "36  452220      HKD\n",
       "37  460000      HKD\n",
       "38  511100      HKD\n",
       "39  511130      HKD\n",
       "40  521100      HKD\n",
       "41  521130      HKD\n",
       "42  527100      HKD\n",
       "43  553105      HKD\n",
       "44  553107      HKD\n",
       "45  553121      HKD\n",
       "46  553125      HKD\n",
       "47  553129      HKD\n",
       "48  553130      HKD\n",
       "49  553131      HKD\n",
       "50  553133      HKD\n",
       "51  553141      HKD\n",
       "52  553160      HKD\n",
       "53  553180      HKD\n",
       "54  553443      HKD\n",
       "55  553444      HKD\n",
       "56  555101      HKD\n",
       "57  555102      HKD\n",
       "58  555201      HKD\n",
       "59  555555      HKD"
      ]
     },
     "execution_count": 219,
     "metadata": {},
     "output_type": "execute_result"
    }
   ],
   "source": [
    "Array"
   ]
  },
  {
   "cell_type": "markdown",
   "metadata": {},
   "source": [
    "# Extraction and Validation of Dividend Receivable Report"
   ]
  },
  {
   "cell_type": "code",
   "execution_count": 220,
   "metadata": {
    "collapsed": true
   },
   "outputs": [],
   "source": [
    "NAV_DRR = ET.parse('SDCOU042HK0287.XML')"
   ]
  },
  {
   "cell_type": "code",
   "execution_count": 221,
   "metadata": {
    "collapsed": true
   },
   "outputs": [],
   "source": [
    "NAV_DRR_Security_Name = []\n",
    "for i in NAV_DRR.iter('NOMVAL'):\n",
    "    b = i.text\n",
    "    NAV_DRR_Security_Name.append(b)"
   ]
  },
  {
   "cell_type": "code",
   "execution_count": 222,
   "metadata": {},
   "outputs": [
    {
     "name": "stdout",
     "output_type": "stream",
     "text": [
      "Check No of shares are correct with Bloomberg report\n",
      "Check No of shares are correct with Bloomberg report\n",
      "Check No of shares are correct with Bloomberg report\n",
      "Check No of shares are correct with Bloomberg report\n",
      "Check No of shares are correct with Bloomberg report\n",
      "Check No of shares are correct with Bloomberg report\n",
      "Check No of shares are correct with Bloomberg report\n",
      "Check No of shares are correct with Bloomberg report\n",
      "Check No of shares are correct with Bloomberg report\n"
     ]
    }
   ],
   "source": [
    "Leng = len(NAV_DRR_Security_Name)\n",
    "for i in range(0,Leng):\n",
    "    if i == None:\n",
    "        print(\"No Exception Found in Dividend Receivable Report\")\n",
    "        text = \"No Exceptions Found in Dividend Receivable Report\" + \"\" \n",
    "        Validations_Output.append(text)\n",
    "    else:\n",
    "        print(\"Check No of shares are correct with Bloomberg report\")\n",
    "        text = \"Check No of shares are correct with Bloomberg report\" + \"\" \n",
    "        Validations_Output.append(text)"
   ]
  },
  {
   "cell_type": "markdown",
   "metadata": {},
   "source": [
    "# Extraction and Validation of Realised Gain and Loss Report"
   ]
  },
  {
   "cell_type": "code",
   "execution_count": 223,
   "metadata": {
    "collapsed": true
   },
   "outputs": [],
   "source": [
    "NAV_VRGLR = ET.parse('SDPOR092HK0287.XML')"
   ]
  },
  {
   "cell_type": "code",
   "execution_count": 224,
   "metadata": {
    "collapsed": true
   },
   "outputs": [],
   "source": [
    "NAV_VRGLR_FXGL = []\n",
    "for i in NAV_VRGLR.iter('SUMGAIN_PERTE_TCHGPERREPORT'):\n",
    "    b = float(i.text)\n",
    "    NAV_VRGLR_FXGL.append(b)"
   ]
  },
  {
   "cell_type": "code",
   "execution_count": 225,
   "metadata": {},
   "outputs": [
    {
     "name": "stdout",
     "output_type": "stream",
     "text": [
      "No Expections between Realised gain and loss report\n"
     ]
    }
   ],
   "source": [
    "if NAV_VRGLR_FXGL[0]==NAV_SoC_VarD[2]:\n",
    "    print(\"No Expections between Realised gain and loss report\")\n",
    "    text = \"No Expections between Realised gain and loss report\" + \"\" \n",
    "    Validations_Output.append(text)\n",
    "else:\n",
    "    print(\"There is a difference in Realized FX loss\")\n",
    "    text = \"There is a difference in Realized FX loss\" + \"\" \n",
    "    Validations_Output.append(text)"
   ]
  },
  {
   "cell_type": "markdown",
   "metadata": {},
   "source": [
    "# Extraction from Balance Sheet & Profit &  Loss Account\n",
    "\n",
    "This is done by\n",
    "Extract following data from Balance Sheet & Profit & Loss Account \n",
    "    1. Assets\n",
    "    2. Liabilities"
   ]
  },
  {
   "cell_type": "code",
   "execution_count": 226,
   "metadata": {
    "collapsed": true
   },
   "outputs": [],
   "source": [
    "BSheet_Profit_Loss = ET.parse('SHJNA112HK0287.XML')"
   ]
  },
  {
   "cell_type": "code",
   "execution_count": 227,
   "metadata": {
    "collapsed": true
   },
   "outputs": [],
   "source": [
    "BSheet_Profit_Loss_Accnt_Assets  = []\n",
    "for i in BSheet_Profit_Loss.iter('CF_DEBIT_BAL'):\n",
    "    d1 = i.text\n",
    "    if d1 == None:\n",
    "        d1 = 0\n",
    "        b = (d1)\n",
    "        \n",
    "    else:\n",
    "        b = float(d1)\n",
    "    BSheet_Profit_Loss_Accnt_Assets.append(b)\n",
    "    \n",
    "BSheet_Profit_Loss_Accnt_Liabilities  = []\n",
    "for i in BSheet_Profit_Loss.iter('CF_CREDIT_BAL'):\n",
    "    d1 = i.text\n",
    "    if d1 == None:\n",
    "        d1 = 0\n",
    "        b = (d1)\n",
    "        \n",
    "    else:\n",
    "        b = float(d1)\n",
    "    BSheet_Profit_Loss_Accnt_Liabilities.append(b)"
   ]
  },
  {
   "cell_type": "code",
   "execution_count": 228,
   "metadata": {
    "collapsed": true
   },
   "outputs": [],
   "source": [
    "BSheet_Profit_Loss_Accnt_Assets_Cost_Equities=BSheet_Profit_Loss_Accnt_Assets[0]\n",
    "BSheet_Profit_Loss_Accnt_Assets_Prepaid_Expenses=BSheet_Profit_Loss_Accnt_Assets[1]\n",
    "BSheet_Profit_Loss_Accnt_Assets_Receivables=BSheet_Profit_Loss_Accnt_Assets[2]\n",
    "BSheet_Profit_Loss_Accnt_Assets_Cash_at_Bank=BSheet_Profit_Loss_Accnt_Assets[3]\n",
    "BSheet_Profit_Loss_Accnt_Liabilities_Payables=BSheet_Profit_Loss_Accnt_Liabilities[5]"
   ]
  },
  {
   "cell_type": "markdown",
   "metadata": {},
   "source": [
    "# Validation of Balance Sheet & Profit &  Loss Account"
   ]
  },
  {
   "cell_type": "code",
   "execution_count": 229,
   "metadata": {},
   "outputs": [
    {
     "name": "stdout",
     "output_type": "stream",
     "text": [
      "Cost equities matched between NAV Portfolio Valuation and BSheet and Profit and Loss Account\n"
     ]
    }
   ],
   "source": [
    "if NAV_Portfolio_Valuation_Total_Investment[0] == BSheet_Profit_Loss_Accnt_Assets_Cost_Equities:\n",
    "    print(\"Cost equities matched between NAV Portfolio Valuation and BSheet and Profit and Loss Account\")\n",
    "    text = \"Cost equities matched between NAV Portfolio Valuation and BSheet and Profit and Loss Account\" + \"\" \n",
    "    Validations_Output.append(text)\n",
    "else:\n",
    "    print(\"Cost equities mis match between NAV Portfolio Valuation and BSheet and Profit and Loss Account\")\n",
    "    text = \"Cost equities mis match between NAV Portfolio Valuation and BSheet and Profit and Loss Account\" + \"\" \n",
    "    Validations_Output.append(text)"
   ]
  },
  {
   "cell_type": "code",
   "execution_count": 230,
   "metadata": {},
   "outputs": [
    {
     "name": "stdout",
     "output_type": "stream",
     "text": [
      "Cash at Bank matched between NAV Portfolio Valuation and BSheet and Profit and Loss Account\n"
     ]
    }
   ],
   "source": [
    "if NAV_Portfolio_Valuation_Total_Cost_Fund_Ccy_Cash_at_Bank == BSheet_Profit_Loss_Accnt_Assets_Cash_at_Bank:\n",
    "    print(\"Cash at Bank matched between NAV Portfolio Valuation and BSheet and Profit and Loss Account\")\n",
    "    text = \"Cash at Bank matched between NAV Portfolio Valuation and BSheet and Profit and Loss Account\" + \"\" \n",
    "    Validations_Output.append(text)\n",
    "else:\n",
    "    print(\"Cash at Bank mismatch between NAV Portfolio Valuation and BSheet and Profit and Loss Account\")\n",
    "    text = \"Cash at Bank mismatch between NAV Portfolio Valuation and BSheet and Profit and Loss Account\" + \"\" \n",
    "    Validations_Output.append(text)"
   ]
  },
  {
   "cell_type": "code",
   "execution_count": 231,
   "metadata": {},
   "outputs": [
    {
     "name": "stdout",
     "output_type": "stream",
     "text": [
      "Prepaid Expenses matched between NAV Portfolio Valuation and BSheet and Profit and Loss Account\n"
     ]
    }
   ],
   "source": [
    "if NAV_Portfolio_Valuation_Total_Cost_Fund_Ccy_Pre_Exp == BSheet_Profit_Loss_Accnt_Assets_Prepaid_Expenses:\n",
    "    print(\"Prepaid Expenses matched between NAV Portfolio Valuation and BSheet and Profit and Loss Account\")\n",
    "    text = \"Prepaid Expenses matched between NAV Portfolio Valuation and BSheet and Profit and Loss Account\" + \"\" \n",
    "    Validations_Output.append(text)\n",
    "else:\n",
    "    print(\"Prepaid Expenses mismatch between NAV Portfolio Valuation and BSheet and Profit and Loss Account\")\n",
    "    text = \"Prepaid Expenses mismatch between NAV Portfolio Valuation and BSheet and Profit and Loss Account\" + \"\" \n",
    "    Validations_Output.append(text)"
   ]
  },
  {
   "cell_type": "code",
   "execution_count": 232,
   "metadata": {},
   "outputs": [
    {
     "name": "stdout",
     "output_type": "stream",
     "text": [
      "Receivables matched between NAV Portfolio Valuation and BSheet and Profit and Loss Account\n"
     ]
    }
   ],
   "source": [
    "if NAV_Portfolio_Valuation_Total_Cost_Fund_Ccy_Receivalbles == BSheet_Profit_Loss_Accnt_Assets_Receivables:\n",
    "    print(\"Receivables matched between NAV Portfolio Valuation and BSheet and Profit and Loss Account\")\n",
    "    text = \"Receivables matched between NAV Portfolio Valuation and BSheet and Profit and Loss Account\" + \"\" \n",
    "    Validations_Output.append(text)\n",
    "else:\n",
    "    print(\"Receivables mismatch between NAV Portfolio Valuation and BSheet and Profit and Loss Account\")\n",
    "    text = \"Receivables mismatch between NAV Portfolio Valuation and BSheet and Profit and Loss Account\" + \"\" \n",
    "    Validations_Output.append(text)"
   ]
  },
  {
   "cell_type": "code",
   "execution_count": 233,
   "metadata": {},
   "outputs": [
    {
     "name": "stdout",
     "output_type": "stream",
     "text": [
      "Payables matched between NAV Portfolio Valuation and BSheet and Profit and Loss Account\n"
     ]
    }
   ],
   "source": [
    "if NAV_Portfolio_Valuation_Total_Cost_Fund_Ccy_Payables == BSheet_Profit_Loss_Accnt_Liabilities_Payables:\n",
    "    print(\"Payables matched between NAV Portfolio Valuation and BSheet and Profit and Loss Account\")\n",
    "    text = \"Payables matched between NAV Portfolio Valuation and BSheet and Profit and Loss Account\" + \"\" \n",
    "    Validations_Output.append(text)\n",
    "else:\n",
    "    print(\"Payables mismatch between NAV Portfolio Valuation and BSheet and Profit and Loss Account\")\n",
    "    text = \"Payables mismatch between NAV Portfolio Valuation and BSheet and Profit and Loss Account\" + \"\" \n",
    "    Validations_Output.append(text)"
   ]
  },
  {
   "cell_type": "code",
   "execution_count": 234,
   "metadata": {
    "collapsed": true
   },
   "outputs": [],
   "source": [
    "Validations_Output = pandas.DataFrame(Validations_Output)"
   ]
  },
  {
   "cell_type": "code",
   "execution_count": 235,
   "metadata": {
    "collapsed": true
   },
   "outputs": [],
   "source": [
    "Validations_Output = Validations_Output.rename(columns = {0 : \"Results\"})"
   ]
  },
  {
   "cell_type": "code",
   "execution_count": 236,
   "metadata": {},
   "outputs": [],
   "source": [
    "Validations_Output.to_csv(\"Validations_Output.csv\", index = True)"
   ]
  },
  {
   "cell_type": "code",
   "execution_count": 237,
   "metadata": {},
   "outputs": [
    {
     "data": {
      "text/html": [
       "<div>\n",
       "<style>\n",
       "    .dataframe thead tr:only-child th {\n",
       "        text-align: right;\n",
       "    }\n",
       "\n",
       "    .dataframe thead th {\n",
       "        text-align: left;\n",
       "    }\n",
       "\n",
       "    .dataframe tbody tr th {\n",
       "        vertical-align: top;\n",
       "    }\n",
       "</style>\n",
       "<table border=\"1\" class=\"dataframe\">\n",
       "  <thead>\n",
       "    <tr style=\"text-align: right;\">\n",
       "      <th></th>\n",
       "      <th>Results</th>\n",
       "    </tr>\n",
       "  </thead>\n",
       "  <tbody>\n",
       "    <tr>\n",
       "      <th>0</th>\n",
       "      <td>No variance in Statement of Change Report, aga...</td>\n",
       "    </tr>\n",
       "    <tr>\n",
       "      <th>1</th>\n",
       "      <td>No variance in Statement of Change Report, aga...</td>\n",
       "    </tr>\n",
       "    <tr>\n",
       "      <th>2</th>\n",
       "      <td>No variance in Statement of Change Report, aga...</td>\n",
       "    </tr>\n",
       "    <tr>\n",
       "      <th>3</th>\n",
       "      <td>No variance in Statement of Change Report, aga...</td>\n",
       "    </tr>\n",
       "    <tr>\n",
       "      <th>4</th>\n",
       "      <td>No variance in Statement of Change Report, aga...</td>\n",
       "    </tr>\n",
       "    <tr>\n",
       "      <th>5</th>\n",
       "      <td>No variance in Statement of Change Report, aga...</td>\n",
       "    </tr>\n",
       "    <tr>\n",
       "      <th>6</th>\n",
       "      <td>No variance in Statement of Change Report, aga...</td>\n",
       "    </tr>\n",
       "    <tr>\n",
       "      <th>7</th>\n",
       "      <td>No variance in Statement of Change Report, aga...</td>\n",
       "    </tr>\n",
       "    <tr>\n",
       "      <th>8</th>\n",
       "      <td>There is 0.5% variance in Statement of Change ...</td>\n",
       "    </tr>\n",
       "    <tr>\n",
       "      <th>9</th>\n",
       "      <td>No variance in Statement of Change Report, aga...</td>\n",
       "    </tr>\n",
       "    <tr>\n",
       "      <th>10</th>\n",
       "      <td>No variance in Statement of Change Report, aga...</td>\n",
       "    </tr>\n",
       "    <tr>\n",
       "      <th>11</th>\n",
       "      <td>No variance in Statement of Change Report, aga...</td>\n",
       "    </tr>\n",
       "    <tr>\n",
       "      <th>12</th>\n",
       "      <td>No variance in Statement of Change Report, aga...</td>\n",
       "    </tr>\n",
       "    <tr>\n",
       "      <th>13</th>\n",
       "      <td>There is 0.5% variance in Statement of Change ...</td>\n",
       "    </tr>\n",
       "    <tr>\n",
       "      <th>14</th>\n",
       "      <td>No variance in Statement of Change Report, aga...</td>\n",
       "    </tr>\n",
       "    <tr>\n",
       "      <th>15</th>\n",
       "      <td>No variance in Statement of Change Report, aga...</td>\n",
       "    </tr>\n",
       "    <tr>\n",
       "      <th>16</th>\n",
       "      <td>No variance in Statement of Change Report, aga...</td>\n",
       "    </tr>\n",
       "    <tr>\n",
       "      <th>17</th>\n",
       "      <td>No variance in Statement of Change Report, aga...</td>\n",
       "    </tr>\n",
       "    <tr>\n",
       "      <th>18</th>\n",
       "      <td>There is 0.5% variance in Statement of Change ...</td>\n",
       "    </tr>\n",
       "    <tr>\n",
       "      <th>19</th>\n",
       "      <td>There is 0.5% variance in Statement of Change ...</td>\n",
       "    </tr>\n",
       "    <tr>\n",
       "      <th>20</th>\n",
       "      <td>No variance in Statement of Change Report, aga...</td>\n",
       "    </tr>\n",
       "    <tr>\n",
       "      <th>21</th>\n",
       "      <td>There is 0.5% variance in Statement of Change ...</td>\n",
       "    </tr>\n",
       "    <tr>\n",
       "      <th>22</th>\n",
       "      <td>There is 0.5% variance in Statement of Change ...</td>\n",
       "    </tr>\n",
       "    <tr>\n",
       "      <th>23</th>\n",
       "      <td>There is 0.5% variance in Statement of Change ...</td>\n",
       "    </tr>\n",
       "    <tr>\n",
       "      <th>24</th>\n",
       "      <td>There is 0.5% variance in Statement of Change ...</td>\n",
       "    </tr>\n",
       "    <tr>\n",
       "      <th>25</th>\n",
       "      <td>No variance in Statement of Change Report, aga...</td>\n",
       "    </tr>\n",
       "    <tr>\n",
       "      <th>26</th>\n",
       "      <td>There is 0.5% variance in Statement of Change ...</td>\n",
       "    </tr>\n",
       "    <tr>\n",
       "      <th>27</th>\n",
       "      <td>There is 0.5% variance in Statement of Change ...</td>\n",
       "    </tr>\n",
       "    <tr>\n",
       "      <th>28</th>\n",
       "      <td>No variance in Statement of Change Report, aga...</td>\n",
       "    </tr>\n",
       "    <tr>\n",
       "      <th>29</th>\n",
       "      <td>No variance in Statement of Change Report, aga...</td>\n",
       "    </tr>\n",
       "    <tr>\n",
       "      <th>...</th>\n",
       "      <td>...</td>\n",
       "    </tr>\n",
       "    <tr>\n",
       "      <th>40</th>\n",
       "      <td>Prepaid Exps - Preliminary Expmatched between ...</td>\n",
       "    </tr>\n",
       "    <tr>\n",
       "      <th>41</th>\n",
       "      <td>Dividend Receivable matched between Porfolio V...</td>\n",
       "    </tr>\n",
       "    <tr>\n",
       "      <th>42</th>\n",
       "      <td>Other Payables matched between Porfolio Valuat...</td>\n",
       "    </tr>\n",
       "    <tr>\n",
       "      <th>43</th>\n",
       "      <td>Exp Accrual - Audit Fee matched between Porfol...</td>\n",
       "    </tr>\n",
       "    <tr>\n",
       "      <th>44</th>\n",
       "      <td>Exp Accrual - Reporting Fee matched between Po...</td>\n",
       "    </tr>\n",
       "    <tr>\n",
       "      <th>45</th>\n",
       "      <td>Exp Accrual - Transfer Agt Feematched between ...</td>\n",
       "    </tr>\n",
       "    <tr>\n",
       "      <th>46</th>\n",
       "      <td>Exp Accrual - Trustee Fee matched between Porf...</td>\n",
       "    </tr>\n",
       "    <tr>\n",
       "      <th>47</th>\n",
       "      <td>Exp Accrual - Mgmt Fee Class Amatched between ...</td>\n",
       "    </tr>\n",
       "    <tr>\n",
       "      <th>48</th>\n",
       "      <td>Exp Accrual - Mgmt Fee Class Bmatched between ...</td>\n",
       "    </tr>\n",
       "    <tr>\n",
       "      <th>49</th>\n",
       "      <td>Exp Accrual - RL Perform Fees matched between ...</td>\n",
       "    </tr>\n",
       "    <tr>\n",
       "      <th>50</th>\n",
       "      <td>Net asset value-Not Match between Porfolio Val...</td>\n",
       "    </tr>\n",
       "    <tr>\n",
       "      <th>51</th>\n",
       "      <td>Cash in Bank not matched between Porfolio Valu...</td>\n",
       "    </tr>\n",
       "    <tr>\n",
       "      <th>52</th>\n",
       "      <td>No Exceptions Found between GL Trial Balance a...</td>\n",
       "    </tr>\n",
       "    <tr>\n",
       "      <th>53</th>\n",
       "      <td>No Exceptions Found between GL Trial Balance C...</td>\n",
       "    </tr>\n",
       "    <tr>\n",
       "      <th>54</th>\n",
       "      <td>(No Exceptions Found NAV is equal to Total Ass...</td>\n",
       "    </tr>\n",
       "    <tr>\n",
       "      <th>55</th>\n",
       "      <td>Check No of shares are correct with Bloomberg ...</td>\n",
       "    </tr>\n",
       "    <tr>\n",
       "      <th>56</th>\n",
       "      <td>Check No of shares are correct with Bloomberg ...</td>\n",
       "    </tr>\n",
       "    <tr>\n",
       "      <th>57</th>\n",
       "      <td>Check No of shares are correct with Bloomberg ...</td>\n",
       "    </tr>\n",
       "    <tr>\n",
       "      <th>58</th>\n",
       "      <td>Check No of shares are correct with Bloomberg ...</td>\n",
       "    </tr>\n",
       "    <tr>\n",
       "      <th>59</th>\n",
       "      <td>Check No of shares are correct with Bloomberg ...</td>\n",
       "    </tr>\n",
       "    <tr>\n",
       "      <th>60</th>\n",
       "      <td>Check No of shares are correct with Bloomberg ...</td>\n",
       "    </tr>\n",
       "    <tr>\n",
       "      <th>61</th>\n",
       "      <td>Check No of shares are correct with Bloomberg ...</td>\n",
       "    </tr>\n",
       "    <tr>\n",
       "      <th>62</th>\n",
       "      <td>Check No of shares are correct with Bloomberg ...</td>\n",
       "    </tr>\n",
       "    <tr>\n",
       "      <th>63</th>\n",
       "      <td>Check No of shares are correct with Bloomberg ...</td>\n",
       "    </tr>\n",
       "    <tr>\n",
       "      <th>64</th>\n",
       "      <td>No Expections between Realised gain and loss r...</td>\n",
       "    </tr>\n",
       "    <tr>\n",
       "      <th>65</th>\n",
       "      <td>Cost equities matched between NAV Portfolio Va...</td>\n",
       "    </tr>\n",
       "    <tr>\n",
       "      <th>66</th>\n",
       "      <td>Cash at Bank matched between NAV Portfolio Val...</td>\n",
       "    </tr>\n",
       "    <tr>\n",
       "      <th>67</th>\n",
       "      <td>Prepaid Expenses matched between NAV Portfolio...</td>\n",
       "    </tr>\n",
       "    <tr>\n",
       "      <th>68</th>\n",
       "      <td>Receivables matched between NAV Portfolio Valu...</td>\n",
       "    </tr>\n",
       "    <tr>\n",
       "      <th>69</th>\n",
       "      <td>Payables matched between NAV Portfolio Valuati...</td>\n",
       "    </tr>\n",
       "  </tbody>\n",
       "</table>\n",
       "<p>70 rows × 1 columns</p>\n",
       "</div>"
      ],
      "text/plain": [
       "                                              Results\n",
       "0   No variance in Statement of Change Report, aga...\n",
       "1   No variance in Statement of Change Report, aga...\n",
       "2   No variance in Statement of Change Report, aga...\n",
       "3   No variance in Statement of Change Report, aga...\n",
       "4   No variance in Statement of Change Report, aga...\n",
       "5   No variance in Statement of Change Report, aga...\n",
       "6   No variance in Statement of Change Report, aga...\n",
       "7   No variance in Statement of Change Report, aga...\n",
       "8   There is 0.5% variance in Statement of Change ...\n",
       "9   No variance in Statement of Change Report, aga...\n",
       "10  No variance in Statement of Change Report, aga...\n",
       "11  No variance in Statement of Change Report, aga...\n",
       "12  No variance in Statement of Change Report, aga...\n",
       "13  There is 0.5% variance in Statement of Change ...\n",
       "14  No variance in Statement of Change Report, aga...\n",
       "15  No variance in Statement of Change Report, aga...\n",
       "16  No variance in Statement of Change Report, aga...\n",
       "17  No variance in Statement of Change Report, aga...\n",
       "18  There is 0.5% variance in Statement of Change ...\n",
       "19  There is 0.5% variance in Statement of Change ...\n",
       "20  No variance in Statement of Change Report, aga...\n",
       "21  There is 0.5% variance in Statement of Change ...\n",
       "22  There is 0.5% variance in Statement of Change ...\n",
       "23  There is 0.5% variance in Statement of Change ...\n",
       "24  There is 0.5% variance in Statement of Change ...\n",
       "25  No variance in Statement of Change Report, aga...\n",
       "26  There is 0.5% variance in Statement of Change ...\n",
       "27  There is 0.5% variance in Statement of Change ...\n",
       "28  No variance in Statement of Change Report, aga...\n",
       "29  No variance in Statement of Change Report, aga...\n",
       "..                                                ...\n",
       "40  Prepaid Exps - Preliminary Expmatched between ...\n",
       "41  Dividend Receivable matched between Porfolio V...\n",
       "42  Other Payables matched between Porfolio Valuat...\n",
       "43  Exp Accrual - Audit Fee matched between Porfol...\n",
       "44  Exp Accrual - Reporting Fee matched between Po...\n",
       "45  Exp Accrual - Transfer Agt Feematched between ...\n",
       "46  Exp Accrual - Trustee Fee matched between Porf...\n",
       "47  Exp Accrual - Mgmt Fee Class Amatched between ...\n",
       "48  Exp Accrual - Mgmt Fee Class Bmatched between ...\n",
       "49  Exp Accrual - RL Perform Fees matched between ...\n",
       "50  Net asset value-Not Match between Porfolio Val...\n",
       "51  Cash in Bank not matched between Porfolio Valu...\n",
       "52  No Exceptions Found between GL Trial Balance a...\n",
       "53  No Exceptions Found between GL Trial Balance C...\n",
       "54  (No Exceptions Found NAV is equal to Total Ass...\n",
       "55  Check No of shares are correct with Bloomberg ...\n",
       "56  Check No of shares are correct with Bloomberg ...\n",
       "57  Check No of shares are correct with Bloomberg ...\n",
       "58  Check No of shares are correct with Bloomberg ...\n",
       "59  Check No of shares are correct with Bloomberg ...\n",
       "60  Check No of shares are correct with Bloomberg ...\n",
       "61  Check No of shares are correct with Bloomberg ...\n",
       "62  Check No of shares are correct with Bloomberg ...\n",
       "63  Check No of shares are correct with Bloomberg ...\n",
       "64  No Expections between Realised gain and loss r...\n",
       "65  Cost equities matched between NAV Portfolio Va...\n",
       "66  Cash at Bank matched between NAV Portfolio Val...\n",
       "67  Prepaid Expenses matched between NAV Portfolio...\n",
       "68  Receivables matched between NAV Portfolio Valu...\n",
       "69  Payables matched between NAV Portfolio Valuati...\n",
       "\n",
       "[70 rows x 1 columns]"
      ]
     },
     "execution_count": 237,
     "metadata": {},
     "output_type": "execute_result"
    }
   ],
   "source": [
    "Validations_Output"
   ]
  },
  {
   "cell_type": "code",
   "execution_count": null,
   "metadata": {
    "collapsed": true
   },
   "outputs": [],
   "source": []
  }
 ],
 "metadata": {
  "kernelspec": {
   "display_name": "Python 3",
   "language": "python",
   "name": "python3"
  },
  "language_info": {
   "codemirror_mode": {
    "name": "ipython",
    "version": 3
   },
   "file_extension": ".py",
   "mimetype": "text/x-python",
   "name": "python",
   "nbconvert_exporter": "python",
   "pygments_lexer": "ipython3",
   "version": "3.6.1"
  }
 },
 "nbformat": 4,
 "nbformat_minor": 2
}
