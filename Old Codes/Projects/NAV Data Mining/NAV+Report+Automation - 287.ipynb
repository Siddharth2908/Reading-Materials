{
 "cells": [
  {
   "cell_type": "code",
   "execution_count": 12,
   "metadata": {
    "collapsed": true
   },
   "outputs": [],
   "source": [
    "import xml.etree.ElementTree as ET\n",
    "import pandas as pandas\n",
    "import numpy as numpy"
   ]
  },
  {
   "cell_type": "code",
   "execution_count": 13,
   "metadata": {
    "collapsed": true
   },
   "outputs": [],
   "source": [
    "import os\n",
    "os.chdir(\"C:\\\\Users\\\\1595398\\\\Documents\\\\NAV Reporting\\\\Sample Reports\\\\XML\\\\\")\n",
    "Validations_Output = []"
   ]
  },
  {
   "cell_type": "code",
   "execution_count": 14,
   "metadata": {
    "collapsed": true
   },
   "outputs": [],
   "source": [
    "Net_Asset_Value_For_Fund = ET.parse('SDNAR022HK0287.XML')"
   ]
  },
  {
   "cell_type": "markdown",
   "metadata": {},
   "source": [
    "# Extract information from Net Asset Value for Fund report. This is done by\n",
    "\n",
    "- Creating a function called \"extract_NAV_For_Fund(x) which parses the values in XML and creates 7 outputs A.Group - Group IDs \n",
    "\n",
    "    1. Account - Account IDs\n",
    "    2. Description - Description lists of the securities\n",
    "    3. Balance - Balance \n",
    "    4. Total - Total amount\n",
    "    5. Net_Asset_Value - Net Asset Value as mentioned in the total summary\n",
    "    6. Fund_CCY - Fund currency\n",
    "    \n",
    "\n",
    "- Call these functions and assign the output to 7 variables. These values will then be used to perform validation\n"
   ]
  },
  {
   "cell_type": "code",
   "execution_count": 15,
   "metadata": {
    "collapsed": true
   },
   "outputs": [],
   "source": [
    "def extract_NAV_For_Fund(x):\n",
    "       \n",
    "    Group = []\n",
    "    for i in Net_Asset_Value_For_Fund.iter(\"REGR\"):\n",
    "        b = int(i.text)\n",
    "        if b == 0:\n",
    "            break\n",
    "        else:\n",
    "            b = b\n",
    "        Group.append(b)\n",
    "    \n",
    "    Acc = []\n",
    "    for i in Net_Asset_Value_For_Fund.iter('NRUBR'):\n",
    "        b = int(i.text)\n",
    "        Acc.append(b)\n",
    "    Account = [a for a in Acc if a != 0]\n",
    "    \n",
    "    Description = []\n",
    "    for i in Net_Asset_Value_For_Fund.iter('LIB_REGR'):\n",
    "        b = i.text\n",
    "        Description.append(b)\n",
    "        \n",
    "    Bal = []\n",
    "    for i in Net_Asset_Value_For_Fund.iter('CF_SOLDE_DETAIL'):\n",
    "        b = i.text\n",
    "        if b == None:\n",
    "            b = 0\n",
    "        else:\n",
    "            b\n",
    "        Bal.append(b)\n",
    "    Bal1 = [a for a in Bal if a != 0]\n",
    "    Bala = []\n",
    "    for r in range(0,len(Bal1)):\n",
    "        x = Bal1[r].replace(\"(\",\"-\")\n",
    "        Bala.append(x)\n",
    "    Balance = []\n",
    "    for i in range(0,len(Bala)):\n",
    "        d = Bala[i]\n",
    "        d = ''.join(e for e in d if e.isdigit() or e == '.' or e == \"-\")\n",
    "        d = float(d)\n",
    "        Balance.append(d)\n",
    "    \n",
    "    Tot = []\n",
    "    for i in Net_Asset_Value_For_Fund.iter('CF_SOLDE_TOTAL'):\n",
    "        b = i.text\n",
    "        if b == None:\n",
    "            b = 0\n",
    "        else:\n",
    "            b\n",
    "        Tot.append(b)\n",
    "    Tot1 = [a for a in Tot if a != 0]\n",
    "    Tota = []\n",
    "    for r in range(0,len(Tot1)):\n",
    "        x = Tot1[r].replace(\"(\",\"-\")\n",
    "        Tota.append(x)\n",
    "    Total = []\n",
    "    for i in range(0,len(Tota)):\n",
    "        d = Tota[i]\n",
    "        d = ''.join(e for e in d if e.isdigit() or e == '.' or e == \"-\")\n",
    "        d = float(d)\n",
    "        Total.append(d)\n",
    "    \n",
    "    Net_Asset_Value = Total[-1]\n",
    "    \n",
    "    Fund_CCY = []\n",
    "    for i in Net_Asset_Value_For_Fund.iter('CMON'):\n",
    "        b = i.text\n",
    "        Fund_CCY.append(b)\n",
    "    Fund_CCY = Fund_CCY[1]\n",
    "        \n",
    "    return Group, Account, Description, Balance, Total, Net_Asset_Value, Fund_CCY"
   ]
  },
  {
   "cell_type": "code",
   "execution_count": 16,
   "metadata": {
    "collapsed": true
   },
   "outputs": [],
   "source": [
    "Group, Account, Description, Balance, Total, Net_Asset_Value, Fund_CCY =  extract_NAV_For_Fund(Net_Asset_Value_For_Fund)"
   ]
  },
  {
   "cell_type": "code",
   "execution_count": 17,
   "metadata": {},
   "outputs": [
    {
     "data": {
      "text/plain": [
       "[261008854.88,\n",
       " 22973869.49,\n",
       " -20681202.72,\n",
       " -7777305.78,\n",
       " 9572064.6,\n",
       " 321112.01,\n",
       " 6403159.08,\n",
       " 448157.62,\n",
       " -7095348.81,\n",
       " -10.0,\n",
       " -205578.15,\n",
       " -16254.99,\n",
       " -74138.61,\n",
       " -84.78,\n",
       " -60083.07,\n",
       " -126374.67,\n",
       " -297637.07,\n",
       " -42.42]"
      ]
     },
     "execution_count": 17,
     "metadata": {},
     "output_type": "execute_result"
    }
   ],
   "source": [
    "Balance"
   ]
  },
  {
   "cell_type": "markdown",
   "metadata": {
    "collapsed": true
   },
   "source": [
    "# Extract Information from Net Asset Value - Statement of Change report. This is done by\n",
    "1. Extract NAV Statement of Change value \n",
    "2. Compare NAV Statement of change value with Net Asset Value"
   ]
  },
  {
   "cell_type": "code",
   "execution_count": 18,
   "metadata": {
    "collapsed": true
   },
   "outputs": [],
   "source": [
    "NAV_Statement_of_Change = ET.parse('SDNAV052HK0287.XML')"
   ]
  },
  {
   "cell_type": "code",
   "execution_count": 19,
   "metadata": {
    "collapsed": true
   },
   "outputs": [],
   "source": [
    "NAV_SoC = []\n",
    "for i in NAV_Statement_of_Change.iter('CS_SOLDE_J_TOTAL'):\n",
    "    b = float(i.text)\n",
    "    NAV_SoC.append(b)\n",
    "    \n",
    "NAV_SoC_Per_Var = []\n",
    "for i in NAV_Statement_of_Change.iter('CF_PC_DIF_JOURS'):\n",
    "    b = float(i.text)\n",
    "    NAV_SoC_Per_Var.append(b)\n",
    "    \n",
    "NAV_SoC_VarD = []\n",
    "for i in NAV_Statement_of_Change.iter('CS_DIF_J'):\n",
    "    b = float(i.text)\n",
    "    NAV_SoC_VarD.append(b)    "
   ]
  },
  {
   "cell_type": "code",
   "execution_count": 21,
   "metadata": {},
   "outputs": [
    {
     "name": "stdout",
     "output_type": "stream",
     "text": [
      "No variance in Statement of Change Report\n",
      "No variance in Statement of Change Report\n",
      "No variance in Statement of Change Report\n",
      "No variance in Statement of Change Report\n",
      "No variance in Statement of Change Report\n",
      "No variance in Statement of Change Report\n",
      "No variance in Statement of Change Report\n",
      "No variance in Statement of Change Report\n",
      "There is 0.5% variance in Statement of Change report, Check cost price and selling  price\n",
      "No variance in Statement of Change Report\n",
      "No variance in Statement of Change Report\n",
      "No variance in Statement of Change Report\n",
      "No variance in Statement of Change Report\n",
      "There is 0.5% variance in Statement of Change report, Check cost price and selling  price\n",
      "No variance in Statement of Change Report\n",
      "No variance in Statement of Change Report\n",
      "No variance in Statement of Change Report\n",
      "No variance in Statement of Change Report\n",
      "There is 0.5% variance in Statement of Change report, Check cost price and selling  price\n",
      "There is 0.5% variance in Statement of Change report, Check cost price and selling  price\n",
      "No variance in Statement of Change Report\n",
      "There is 0.5% variance in Statement of Change report, Check cost price and selling  price\n",
      "There is 0.5% variance in Statement of Change report, Check cost price and selling  price\n",
      "There is 0.5% variance in Statement of Change report, Check cost price and selling  price\n",
      "There is 0.5% variance in Statement of Change report, Check cost price and selling  price\n",
      "No variance in Statement of Change Report\n",
      "There is 0.5% variance in Statement of Change report, Check cost price and selling  price\n",
      "There is 0.5% variance in Statement of Change report, Check cost price and selling  price\n",
      "No variance in Statement of Change Report\n",
      "No variance in Statement of Change Report\n",
      "There is 0.5% variance in Statement of Change report, Check cost price and selling  price\n",
      "No variance in Statement of Change Report\n",
      "No variance in Statement of Change Report\n",
      "No variance in Statement of Change Report\n",
      "There is 0.5% variance in Statement of Change report, Check cost price and selling  price\n",
      "No variance in Statement of Change Report\n",
      "No variance in Statement of Change Report\n",
      "No variance in Statement of Change Report\n",
      "There is 0.5% variance in Statement of Change report, Check cost price and selling  price\n"
     ]
    }
   ],
   "source": [
    "for i in NAV_SoC_Per_Var:\n",
    "    if i>.05:\n",
    "        print(\"There is 0.5% variance in Statement of Change report, Check cost price and selling  price\")\n",
    "        Validations_Output.append(\"There is 0.5% variance in Statement of Change report, Check cost price and selling  price\")\n",
    "    else:\n",
    "        print(\"No variance in Statement of Change Report\")\n",
    "        Validations_Output.append(\"No variance in Statement of Change Report\")"
   ]
  },
  {
   "cell_type": "code",
   "execution_count": 22,
   "metadata": {},
   "outputs": [
    {
     "name": "stdout",
     "output_type": "stream",
     "text": [
      "NAV matched between NAV FOR FUND report and NAV Statement of Change report\n",
      "Mismatch =  HKD 0.0\n"
     ]
    }
   ],
   "source": [
    "if NAV_SoC[0] == Net_Asset_Value:\n",
    "    print(\"NAV matched between NAV FOR FUND report and NAV Statement of Change report\")\n",
    "    Validations_Output.append(\"NAV matched between NAV FOR FUND report and NAV Statement of Change report\")\n",
    "else:\n",
    "    print(\"Amount Mismatch : NAV mis match between NAV FOR FUND report and NAV Statement of Change report\")\n",
    "    Validations_Output.append(\"Amount Mismatch : NAV mis match between NAV FOR FUND report and NAV Statement of Change report\")\n",
    "mismatch=Net_Asset_Value-NAV_SoC[0]\n",
    "print(\"Mismatch = \", Fund_CCY,round(mismatch,2))"
   ]
  },
  {
   "cell_type": "code",
   "execution_count": 23,
   "metadata": {},
   "outputs": [
    {
     "data": {
      "text/plain": [
       "-265.43"
      ]
     },
     "execution_count": 23,
     "metadata": {},
     "output_type": "execute_result"
    }
   ],
   "source": [
    "NAV_SoC_VarD[2]"
   ]
  },
  {
   "cell_type": "code",
   "execution_count": 24,
   "metadata": {},
   "outputs": [
    {
     "data": {
      "text/plain": [
       "['No variance in Statement of Change Report',\n",
       " 'No variance in Statement of Change Report',\n",
       " 'No variance in Statement of Change Report',\n",
       " 'No variance in Statement of Change Report',\n",
       " 'No variance in Statement of Change Report',\n",
       " 'No variance in Statement of Change Report',\n",
       " 'No variance in Statement of Change Report',\n",
       " 'No variance in Statement of Change Report',\n",
       " 'There is 0.5% variance in Statement of Change report, Check cost price and selling  price',\n",
       " 'No variance in Statement of Change Report',\n",
       " 'No variance in Statement of Change Report',\n",
       " 'No variance in Statement of Change Report',\n",
       " 'No variance in Statement of Change Report',\n",
       " 'There is 0.5% variance in Statement of Change report, Check cost price and selling  price',\n",
       " 'No variance in Statement of Change Report',\n",
       " 'No variance in Statement of Change Report',\n",
       " 'No variance in Statement of Change Report',\n",
       " 'No variance in Statement of Change Report',\n",
       " 'There is 0.5% variance in Statement of Change report, Check cost price and selling  price',\n",
       " 'There is 0.5% variance in Statement of Change report, Check cost price and selling  price',\n",
       " 'No variance in Statement of Change Report',\n",
       " 'There is 0.5% variance in Statement of Change report, Check cost price and selling  price',\n",
       " 'There is 0.5% variance in Statement of Change report, Check cost price and selling  price',\n",
       " 'There is 0.5% variance in Statement of Change report, Check cost price and selling  price',\n",
       " 'There is 0.5% variance in Statement of Change report, Check cost price and selling  price',\n",
       " 'No variance in Statement of Change Report',\n",
       " 'There is 0.5% variance in Statement of Change report, Check cost price and selling  price',\n",
       " 'There is 0.5% variance in Statement of Change report, Check cost price and selling  price',\n",
       " 'No variance in Statement of Change Report',\n",
       " 'No variance in Statement of Change Report',\n",
       " 'There is 0.5% variance in Statement of Change report, Check cost price and selling  price',\n",
       " 'No variance in Statement of Change Report',\n",
       " 'No variance in Statement of Change Report',\n",
       " 'No variance in Statement of Change Report',\n",
       " 'There is 0.5% variance in Statement of Change report, Check cost price and selling  price',\n",
       " 'No variance in Statement of Change Report',\n",
       " 'No variance in Statement of Change Report',\n",
       " 'No variance in Statement of Change Report',\n",
       " 'There is 0.5% variance in Statement of Change report, Check cost price and selling  price',\n",
       " 'NAV matched between NAV FOR FUND report and NAV Statement of Change report']"
      ]
     },
     "execution_count": 24,
     "metadata": {},
     "output_type": "execute_result"
    }
   ],
   "source": [
    "Validations_Output"
   ]
  },
  {
   "cell_type": "markdown",
   "metadata": {},
   "source": [
    "# Extract Information from Net Asset Value for fund. This is done by\n",
    "- Extract NAV for Fund-Fund Expense Accruals\n",
    "    1. INVESTMENT - EQUITIES - Total\n",
    "    2. Investment - Equities - Balance\n",
    "    3. Prov Unr P/L - Equities - Balance\n",
    "    4. ACCRUED INCOME - Total\n",
    "    5. Prov Unr FX P/L - Interest - Total\n",
    "    6. CASH ASSET - Total\n",
    "    7. Cash in Bank - Balance\n",
    "    8. Broker-ICBC - Balance\n",
    "    9. ACCRUED INCOME - Total\n",
    "    10. Int Accrual - Cash Account - Balance\n",
    "    11. PREPAID EXPENSE - Total\n",
    "    12. Prepaid Expenses - Balance\n",
    "    13. REDEMPTION PAYABLES - Total\n",
    "    14. Payables on Redemption - Balance\n",
    "    15. EXPENSE ACCRUALS - Total\n",
    "    16. Exp Accrual - Audit Fee - Balance\n",
    "    17. Exp Accrual - Custody Fee - Balance\n",
    "    18. Exp Accrual - Redemption Fee - Balance\n",
    "    19. Exp Accrual - Listing Expenses - Balance\n",
    "    20. Exp Accrual - Publication Fee - Balance\n",
    "    21. Exp Accrual - Management Fee - Balance in NAV_for_Fund_Exp_Accrls\n",
    "    22. Splitting into each data point\n",
    "    \n",
    "- Storing NAV for Fund Accrual data in different varialbles\n",
    "    1. NAV_for_Fund_Exp_Accrls as NAV_for_Fund_Exp_Accrls_Audit_Fee \n",
    "    2. NAV_for_Fund_Exp_Accrls as NAV_for_Fund_Exp_Accrls_Custody_Fee\n",
    "    3. NAV_for_Fund_Exp_Accrls as NAV_for_Fund_Exp_Accrls_Redemption_Fee\n",
    "    4. NAV_for_Fund_Exp_Accrls as NAV_for_Fund_Exp_Accrls_Listing_Exp\n",
    "    5. NAV_for_Fund_Exp_Accrls as NAV_for_Fund_Exp_Accrls_Publication_Fee\n",
    "    6. NAV_for_Fund_Exp_Accrls as NAV_for_Fund_Exp_Accrls_Management_Fee"
   ]
  },
  {
   "cell_type": "code",
   "execution_count": 25,
   "metadata": {
    "collapsed": true
   },
   "outputs": [],
   "source": [
    "NAV_for_Fund_Exp_Accrls = []\n",
    "for i in Net_Asset_Value_For_Fund.iter('MSOLDE_FM'):\n",
    "    b = float(i.text)\n",
    "    NAV_for_Fund_Exp_Accrls.append(b)"
   ]
  },
  {
   "cell_type": "code",
   "execution_count": 26,
   "metadata": {},
   "outputs": [
    {
     "data": {
      "text/plain": [
       "[255524215.87,\n",
       " 261008854.88,\n",
       " 22973869.49,\n",
       " -20681202.72,\n",
       " -7777305.78,\n",
       " 9572064.6,\n",
       " 9572064.6,\n",
       " 321112.01,\n",
       " 321112.01,\n",
       " 6403159.08,\n",
       " 6403159.08,\n",
       " 448157.62,\n",
       " 448157.62,\n",
       " -7095348.81,\n",
       " -7095348.81,\n",
       " -10.0,\n",
       " -10.0,\n",
       " -780193.76,\n",
       " -205578.15,\n",
       " -16254.99,\n",
       " -74138.61,\n",
       " -84.78,\n",
       " -60083.07,\n",
       " -126374.67,\n",
       " -297637.07,\n",
       " -42.42,\n",
       " 264393156.61,\n",
       " 264393156.59]"
      ]
     },
     "execution_count": 26,
     "metadata": {},
     "output_type": "execute_result"
    }
   ],
   "source": [
    "NAV_for_Fund_Exp_Accrls"
   ]
  },
  {
   "cell_type": "code",
   "execution_count": 27,
   "metadata": {
    "collapsed": true
   },
   "outputs": [],
   "source": [
    "NAV_for_Fund_Exp_Accrls_Audit_Fee=NAV_for_Fund_Exp_Accrls[18]\n",
    "NAV_for_Fund_Exp_Accrls_Custody_Fee=NAV_for_Fund_Exp_Accrls[19]\n",
    "NAV_for_Fund_Exp_Accrls_Reporting_Fee=NAV_for_Fund_Exp_Accrls[20]\n",
    "NAV_for_Fund_Exp_Accrls_Transfer_Agt_Fee=NAV_for_Fund_Exp_Accrls[21]\n",
    "NAV_for_Fund_Exp_Accrls_Trustee_Fee=NAV_for_Fund_Exp_Accrls[22]\n",
    "NAV_for_Fund_Exp_Accrls_Management_Fee_Class_A=NAV_for_Fund_Exp_Accrls[23]\n",
    "NAV_for_Fund_Exp_Accrls_Management_Fee_Class_B=NAV_for_Fund_Exp_Accrls[24]\n",
    "NAV_for_Fund_Exp_Accrls_RL_Perform_Fee=NAV_for_Fund_Exp_Accrls[25]"
   ]
  },
  {
   "cell_type": "code",
   "execution_count": 28,
   "metadata": {
    "collapsed": true
   },
   "outputs": [],
   "source": [
    "import pandas as pandas"
   ]
  },
  {
   "cell_type": "code",
   "execution_count": 29,
   "metadata": {},
   "outputs": [
    {
     "data": {
      "text/plain": [
       "-16254.99"
      ]
     },
     "execution_count": 29,
     "metadata": {},
     "output_type": "execute_result"
    }
   ],
   "source": [
    "NAV_for_Fund_Exp_Accrls_Custody_Fee"
   ]
  },
  {
   "cell_type": "markdown",
   "metadata": {},
   "source": [
    "# Extract Information from Net Asset Value - Portfolio Valuation. This is done by\n",
    "\n",
    "1.Extract following data from Portfolio Valuation \n",
    "    1. Broker-ICBC ICBC - Balance - CNY\n",
    "    2. Broker-ICBC ICBC - Balance - HKD\n",
    "    3. Cash in Bank STANDARD CHARTERED BANK (HONG KONG) LTD - Balance - HKD\n",
    "    4. Broker-ICBC ICBC - Balance - USD\n",
    "    5. Cash in Bank STANDARD CHARTERED BANK (HONG KONG) LTD - Balance - USD\n",
    "    6. Exp Accrual - Management Fee - Balance\n",
    "    7. Cash in Bank - Balance\n",
    "    8. Exp Accrual - Audit Fee - Balance\n",
    "    9. Exp Accrual - Custody Fee - Balance\n",
    "    10. Exp Accrual - Listing Expenses - Balance\n",
    "    11. Exp Accrual - Publication Fee - Balance\n",
    "    12. Exp Accrual - Redemption Fee - Balance\n",
    "    13. Int Accrual - Cash Account - Balance\n",
    "    14. Payables on Redemption - Balance\n",
    "    15. Prepaid Expenses - Balance\n",
    "    16. Prov Unr FX P/L - Interest - Balance"
   ]
  },
  {
   "cell_type": "code",
   "execution_count": 30,
   "metadata": {
    "collapsed": true
   },
   "outputs": [],
   "source": [
    "NAV_Portfolio_Valuation = ET.parse('SDPOR072HK0287.XML')"
   ]
  },
  {
   "cell_type": "code",
   "execution_count": 31,
   "metadata": {
    "collapsed": true
   },
   "outputs": [],
   "source": [
    "NAV_Portfolio_Valuation_Total = []\n",
    "for i in NAV_Portfolio_Valuation.iter('CS_TOT_COST_PTF'):\n",
    "    b = float(i.text)\n",
    "    NAV_Portfolio_Valuation_Total.append(b)\n",
    "\n",
    "NAV_Portfolio_Valuation_Total_Cost = []\n",
    "for i in NAV_Portfolio_Valuation.iter('CS_TOT_MKT_PTF_SEC3'):\n",
    "    b = float(i.text)\n",
    "    NAV_Portfolio_Valuation_Total_Cost.append(b)\n",
    "\n",
    "NAV_Portfolio_Valuation_Exp_Accrls = []\n",
    "for i in NAV_Portfolio_Valuation.iter('CS_TOT_COST_REF_SEC3'):\n",
    "    b = float(i.text)\n",
    "    NAV_Portfolio_Valuation_Exp_Accrls.append(b)\n",
    "\n",
    "NAV_Portfolio_Valuation_Balance  = []\n",
    "for i in NAV_Portfolio_Valuation.iter('BAL_CCY_SEC3'):\n",
    "    b = float(i.text)\n",
    "    NAV_Portfolio_Valuation_Balance.append(b)\n",
    "    \n",
    "NAV_Portfolio_Valuation_Cost_in_Fund  = []\n",
    "for i in NAV_Portfolio_Valuation.iter('TOT_COST_PTF_SEC3'):\n",
    "    b = float(i.text)\n",
    "    NAV_Portfolio_Valuation_Cost_in_Fund.append(b)\n",
    "    \n",
    "NAV_Portfolio_Valuation_Market_Value_in_Fund  = []\n",
    "for i in NAV_Portfolio_Valuation.iter('MKT_VALUE_PTF_SEC3'):\n",
    "    b = float(i.text)\n",
    "    NAV_Portfolio_Valuation_Market_Value_in_Fund.append(b)\n",
    "\n",
    "NAV_Portfolio_Valuation_Value_Ref  = []\n",
    "for i in NAV_Portfolio_Valuation.iter('VALUE_REF_SEC3'):\n",
    "    b = i.text\n",
    "    NAV_Portfolio_Valuation_Value_Ref.append(b)\n",
    "    \n",
    "NAV_Portfolio_Valuation_Accrued_Interest = []\n",
    "for i in NAV_Portfolio_Valuation.iter('INT_CCY_SEC3'):\n",
    "    b = i.text\n",
    "    NAV_Portfolio_Valuation_Accrued_Interest.append(b)\n",
    "\n",
    "NAV_Portfolio_Valuation_Total_Cost_Fund_Ccy = []\n",
    "for i in NAV_Portfolio_Valuation.iter('CS_TOT_MKT_PTF_SEC3'):\n",
    "    b = float(i.text)\n",
    "    NAV_Portfolio_Valuation_Total_Cost_Fund_Ccy.append(b)\n",
    "    \n",
    "NAV_Portfolio_Valuation_Total_Investment = []\n",
    "for i in NAV_Portfolio_Valuation.iter('CS_TOT_COST_PTF_REP'):\n",
    "    b = float(i.text)\n",
    "    NAV_Portfolio_Valuation_Total_Investment.append(b)"
   ]
  },
  {
   "cell_type": "code",
   "execution_count": 32,
   "metadata": {},
   "outputs": [
    {
     "data": {
      "text/plain": [
       "[283982724.37]"
      ]
     },
     "execution_count": 32,
     "metadata": {},
     "output_type": "execute_result"
    }
   ],
   "source": [
    "NAV_Portfolio_Valuation_Total_Investment"
   ]
  },
  {
   "cell_type": "code",
   "execution_count": 33,
   "metadata": {
    "collapsed": true
   },
   "outputs": [],
   "source": [
    "NAV_Portfolio_Valuation_Markt_Value_Management_Fee_Class_A=NAV_Portfolio_Valuation_Market_Value_in_Fund[3]\n",
    "NAV_Portfolio_Valuation_Markt_Value_Management_Fee_Class_B=NAV_Portfolio_Valuation_Market_Value_in_Fund[4]\n",
    "NAV_Portfolio_Valuation_Markt_Value_RL_Perform_Fee=NAV_Portfolio_Valuation_Market_Value_in_Fund[5]\n",
    "NAV_Portfolio_Valuation_Markt_Value_Acc_Audit_Fee=NAV_Portfolio_Valuation_Market_Value_in_Fund[6]\n",
    "NAV_Portfolio_Valuation_Markt_Value_Acc_Reporting_Fee=NAV_Portfolio_Valuation_Market_Value_in_Fund[7]\n",
    "NAV_Portfolio_Valuation_Markt_Value_Acc_transfer_Agt_Fee=NAV_Portfolio_Valuation_Market_Value_in_Fund[8]\n",
    "NAV_Portfolio_Valuation_Markt_Value_Acc_trustee_Fee=NAV_Portfolio_Valuation_Market_Value_in_Fund[9]\n",
    "NAV_Portfolio_Valuation_Markt_Value_Acc_Custody_Fee=NAV_Portfolio_Valuation_Market_Value_in_Fund[10]\n",
    "NAV_Portfolio_Valuation_Total_Cost_Fund_Ccy_Cash_at_Bank=NAV_Portfolio_Valuation_Total_Cost_Fund_Ccy[0]\n",
    "NAV_Portfolio_Valuation_Total_Cost_Fund_Ccy_Pre_Exp=NAV_Portfolio_Valuation_Cost_in_Fund[17]\n",
    "NAV_Portfolio_Valuation_Total_Cost_Fund_Ccy_Receivalbles=NAV_Portfolio_Valuation_Total_Cost_Fund_Ccy[5]\n",
    "NAV_Portfolio_Valuation_Total_Cost_Fund_Ccy_Payables=NAV_Portfolio_Valuation_Total_Cost_Fund_Ccy[4]"
   ]
  },
  {
   "cell_type": "code",
   "execution_count": 34,
   "metadata": {},
   "outputs": [
    {
     "data": {
      "text/plain": [
       "[9572064.6, -424011.74, -42.42, -356139.6, -7095358.81, 6851316.7, 321112.01]"
      ]
     },
     "execution_count": 34,
     "metadata": {},
     "output_type": "execute_result"
    }
   ],
   "source": [
    "NAV_Portfolio_Valuation_Total_Cost"
   ]
  },
  {
   "cell_type": "markdown",
   "metadata": {},
   "source": [
    "# Validation between NAV for Fund with Portfolio Valuation"
   ]
  },
  {
   "cell_type": "code",
   "execution_count": 35,
   "metadata": {},
   "outputs": [
    {
     "name": "stdout",
     "output_type": "stream",
     "text": [
      "Accrl-Audit Fee matched between NAV FOR FUND and NAV Portfolio Valuation\n"
     ]
    }
   ],
   "source": [
    "if NAV_for_Fund_Exp_Accrls_Audit_Fee == NAV_Portfolio_Valuation_Markt_Value_Acc_Audit_Fee:\n",
    "    print(\"Accrl-Audit Fee matched between NAV FOR FUND and NAV Portfolio Valuation\")\n",
    "    Validations_Output.append(\"Accrl-Audit Fee matched between NAV FOR FUND and NAV Portfolio Valuation\")\n",
    "else:\n",
    "    print(\"Amount Mismatch : Accrl-Audit Fee mismatch between NAV FOR FUND and NAV Portfolio Valuation\")\n",
    "    Validations_Output.append(\"Amount Mismatch : Accrl-Audit Fee mismatch between NAV FOR FUND and NAV Portfolio Valuation\")"
   ]
  },
  {
   "cell_type": "code",
   "execution_count": 36,
   "metadata": {},
   "outputs": [
    {
     "name": "stdout",
     "output_type": "stream",
     "text": [
      "Accrl-Custody Fee matched between NAV FOR FUND and NAV Portfolio Valuation\n"
     ]
    }
   ],
   "source": [
    "if NAV_for_Fund_Exp_Accrls_Custody_Fee == NAV_Portfolio_Valuation_Markt_Value_Acc_Custody_Fee:\n",
    "    print(\"Accrl-Custody Fee matched between NAV FOR FUND and NAV Portfolio Valuation\")\n",
    "    Validations_Output.append(\"Accrl-Custody Fee matched between NAV FOR FUND and NAV Portfolio Valuation\")\n",
    "else:\n",
    "    print(\"Amount Mismatch : Accrl-Custody Fee mismatch between NAV FOR FUND and NAV Portfolio Valuation\")\n",
    "    Validations_Output.append(\"Amount Mismatch : Accrl-Custody Fee mismatch between NAV FOR FUND and NAV Portfolio Valuation\")"
   ]
  },
  {
   "cell_type": "code",
   "execution_count": 37,
   "metadata": {},
   "outputs": [
    {
     "name": "stdout",
     "output_type": "stream",
     "text": [
      "Reporting Fee matched between NAV FOR FUND and NAV Portfolio Valuation\n"
     ]
    }
   ],
   "source": [
    "if NAV_for_Fund_Exp_Accrls_Reporting_Fee == NAV_Portfolio_Valuation_Markt_Value_Acc_Reporting_Fee:\n",
    "    print(\"Reporting Fee matched between NAV FOR FUND and NAV Portfolio Valuation\")\n",
    "    Validations_Output.append(\"Reporting Fee matched between NAV FOR FUND and NAV Portfolio Valuation\")\n",
    "else:\n",
    "    print(\"Redemption Mismatch between NAV FOR FUND and NAV Portfolio Valuation\")\n",
    "    Validations_Output.append(\"Redemption Mismatch between NAV FOR FUND and NAV Portfolio Valuation\")"
   ]
  },
  {
   "cell_type": "code",
   "execution_count": 38,
   "metadata": {},
   "outputs": [
    {
     "name": "stdout",
     "output_type": "stream",
     "text": [
      "Transfer Agt Fee matched between NAV FOR FUND and NAV Portfolio Valuation\n"
     ]
    }
   ],
   "source": [
    "if NAV_for_Fund_Exp_Accrls_Transfer_Agt_Fee == NAV_Portfolio_Valuation_Markt_Value_Acc_transfer_Agt_Fee:\n",
    "    print(\"Transfer Agt Fee matched between NAV FOR FUND and NAV Portfolio Valuation\")\n",
    "    Validations_Output.append(\"Transfer Agt Fee matched between NAV FOR FUND and NAV Portfolio Valuation\")\n",
    "else:\n",
    "    print(\"Transfer Agt Fee Mismatch between NAV FOR FUND and NAV Portfolio Valuation\")\n",
    "    Validations_Output.append(\"Transfer Agt Fee Mismatch between NAV FOR FUND and NAV Portfolio Valuation\")"
   ]
  },
  {
   "cell_type": "code",
   "execution_count": 39,
   "metadata": {},
   "outputs": [
    {
     "name": "stdout",
     "output_type": "stream",
     "text": [
      "Trustee Fee matched between NAV FOR FUND and NAV Portfolio Valuation\n"
     ]
    }
   ],
   "source": [
    "if NAV_for_Fund_Exp_Accrls_Trustee_Fee == NAV_Portfolio_Valuation_Markt_Value_Acc_trustee_Fee:\n",
    "    print(\"Trustee Fee matched between NAV FOR FUND and NAV Portfolio Valuation\")\n",
    "    Validations_Output.append(\"Trustee Fee matched between NAV FOR FUND and NAV Portfolio Valuation\")\n",
    "else:\n",
    "    print(\"Trustee Fee Mismatch between NAV FOR FUND and NAV Portfolio Valuation\")\n",
    "    Validations_Output.append(\"Trustee Fee Mismatch between NAV FOR FUND and NAV Portfolio Valuation\")"
   ]
  },
  {
   "cell_type": "code",
   "execution_count": 40,
   "metadata": {},
   "outputs": [
    {
     "name": "stdout",
     "output_type": "stream",
     "text": [
      "Management Fee Class A matched between NAV FOR FUND and NAV Portfolio Valuation\n"
     ]
    }
   ],
   "source": [
    "if NAV_for_Fund_Exp_Accrls_Management_Fee_Class_A == NAV_Portfolio_Valuation_Markt_Value_Management_Fee_Class_A:\n",
    "    print(\"Management Fee Class A matched between NAV FOR FUND and NAV Portfolio Valuation\")\n",
    "    Validations_Output.append(\"Management Fee Class A matched between NAV FOR FUND and NAV Portfolio Valuation\")\n",
    "else:\n",
    "    print(\"Management Fee Class A mismatch mismatch between NAV FOR FUND and NAV Portfolio Valuation\")\n",
    "    Validations_Output.append(\"Management Fee Class A mismatch mismatch between NAV FOR FUND and NAV Portfolio Valuation\")"
   ]
  },
  {
   "cell_type": "code",
   "execution_count": 41,
   "metadata": {},
   "outputs": [
    {
     "name": "stdout",
     "output_type": "stream",
     "text": [
      "Management Fee Class B matched between NAV FOR FUND and NAV Portfolio Valuation\n"
     ]
    }
   ],
   "source": [
    "if NAV_for_Fund_Exp_Accrls_Management_Fee_Class_B == NAV_Portfolio_Valuation_Markt_Value_Management_Fee_Class_B:\n",
    "    print(\"Management Fee Class B matched between NAV FOR FUND and NAV Portfolio Valuation\")\n",
    "    Validations_Output.append(\"Management Fee Class B matched between NAV FOR FUND and NAV Portfolio Valuation\")\n",
    "else:\n",
    "    print(\"Management Fee Class B mismatch between NAV FOR FUND and NAV Portfolio Valuation\")\n",
    "    Validations_Output.append(\"Management Fee Class B mismatch between NAV FOR FUND and NAV Portfolio Valuation\")"
   ]
  },
  {
   "cell_type": "code",
   "execution_count": 42,
   "metadata": {},
   "outputs": [
    {
     "name": "stdout",
     "output_type": "stream",
     "text": [
      "RL perform Fee matched between NAV FOR FUND and NAV Portfolio Valuation\n"
     ]
    }
   ],
   "source": [
    "if NAV_for_Fund_Exp_Accrls_RL_Perform_Fee == NAV_Portfolio_Valuation_Markt_Value_RL_Perform_Fee:\n",
    "    print(\"RL perform Fee matched between NAV FOR FUND and NAV Portfolio Valuation\")\n",
    "    Validations_Output.append(\"RL perform Fee matched between NAV FOR FUND and NAV Portfolio Valuation\")\n",
    "else:\n",
    "    print(\"RL perform Fee mismatch: between NAV FOR FUND and NAV Portfolio Valuation\")\n",
    "    Validations_Output.append(\"RL perform Fee mismatch between NAV FOR FUND and NAV Portfolio Valuation\")"
   ]
  },
  {
   "cell_type": "markdown",
   "metadata": {},
   "source": [
    "# Extraction of General Ledger Trial Balance"
   ]
  },
  {
   "cell_type": "code",
   "execution_count": 43,
   "metadata": {
    "collapsed": true
   },
   "outputs": [],
   "source": [
    "NAV_GL_TB = ET.parse('SHJNA102HK0287.XML')"
   ]
  },
  {
   "cell_type": "code",
   "execution_count": 44,
   "metadata": {
    "collapsed": true
   },
   "outputs": [],
   "source": [
    "GL_TB_Acc = []\n",
    "for i in NAV_GL_TB.iter('BNRUBR'):\n",
    "    b = int(i.text)\n",
    "    GL_TB_Acc.append(b)\n",
    "    \n",
    "GL_TB_Cry = []\n",
    "for i in NAV_GL_TB.iter('ACMON'):\n",
    "    b = (i.text)\n",
    "    GL_TB_Cry.append(b)\n",
    "\n",
    "GL_TB_Acc_Bal = []\n",
    "for i in NAV_GL_TB.iter('CF_ABAL'):\n",
    "    b = float(i.text)\n",
    "    GL_TB_Acc_Bal.append(b)\n",
    "\n",
    "GL_TB_Acc_Fund = []\n",
    "for i in NAV_GL_TB.iter('CF_CBAL'):\n",
    "    b = float(i.text)\n",
    "    GL_TB_Acc_Fund.append(b)\n",
    "\n",
    "GL_TB_Acc_Ttl_Asset_Liab = []\n",
    "for i in NAV_GL_TB.iter('CP_TOTAL_SDNAR02'):\n",
    "    b = float(i.text)\n",
    "    GL_TB_Acc_Ttl_Asset_Liab.append(b)\n",
    "\n",
    "GL_TB_Acc_Ttl_Cap_PL = []\n",
    "for i in NAV_GL_TB.iter('CP_TOTAL_SDNAV05'):\n",
    "    b = float(i.text)\n",
    "    GL_TB_Acc_Ttl_Cap_PL.append(b)\n",
    "\n",
    "GL_TB_Acc_Closing_Balance = []\n",
    "for i in NAV_GL_TB.iter('CF_TOTALBALANCE'):\n",
    "    b = float(i.text)\n",
    "    GL_TB_Acc_Closing_Balance.append(b)\n",
    "    \n",
    "    \n",
    "GL_TB_Acc_Total_Assests_Liab = []\n",
    "for i in NAV_GL_TB.iter('CP_TOTAL_SDNAR02'):\n",
    "    b = float(i.text)\n",
    "    GL_TB_Acc_Total_Assests_Liab.append(b)"
   ]
  },
  {
   "cell_type": "markdown",
   "metadata": {},
   "source": [
    "# Validation of General Ledger Trial Balance"
   ]
  },
  {
   "cell_type": "code",
   "execution_count": 45,
   "metadata": {
    "collapsed": true
   },
   "outputs": [],
   "source": [
    "D = (pandas.DataFrame(GL_TB_Acc))\n",
    "D[\"Currency\"] = pandas.DataFrame(GL_TB_Cry)"
   ]
  },
  {
   "cell_type": "code",
   "execution_count": 46,
   "metadata": {},
   "outputs": [
    {
     "data": {
      "text/html": [
       "<div>\n",
       "<style>\n",
       "    .dataframe thead tr:only-child th {\n",
       "        text-align: right;\n",
       "    }\n",
       "\n",
       "    .dataframe thead th {\n",
       "        text-align: left;\n",
       "    }\n",
       "\n",
       "    .dataframe tbody tr th {\n",
       "        vertical-align: top;\n",
       "    }\n",
       "</style>\n",
       "<table border=\"1\" class=\"dataframe\">\n",
       "  <thead>\n",
       "    <tr style=\"text-align: right;\">\n",
       "      <th></th>\n",
       "      <th>0</th>\n",
       "      <th>Currency</th>\n",
       "    </tr>\n",
       "  </thead>\n",
       "  <tbody>\n",
       "    <tr>\n",
       "      <th>0</th>\n",
       "      <td>101100</td>\n",
       "      <td>HKD</td>\n",
       "    </tr>\n",
       "    <tr>\n",
       "      <th>1</th>\n",
       "      <td>101130</td>\n",
       "      <td>HKD</td>\n",
       "    </tr>\n",
       "    <tr>\n",
       "      <th>2</th>\n",
       "      <td>120121</td>\n",
       "      <td>HKD</td>\n",
       "    </tr>\n",
       "    <tr>\n",
       "      <th>3</th>\n",
       "      <td>132100</td>\n",
       "      <td>HKD</td>\n",
       "    </tr>\n",
       "    <tr>\n",
       "      <th>4</th>\n",
       "      <td>132150</td>\n",
       "      <td>HKD</td>\n",
       "    </tr>\n",
       "  </tbody>\n",
       "</table>\n",
       "</div>"
      ],
      "text/plain": [
       "        0 Currency\n",
       "0  101100      HKD\n",
       "1  101130      HKD\n",
       "2  120121      HKD\n",
       "3  132100      HKD\n",
       "4  132150      HKD"
      ]
     },
     "execution_count": 46,
     "metadata": {},
     "output_type": "execute_result"
    }
   ],
   "source": [
    "D.head()"
   ]
  },
  {
   "cell_type": "code",
   "execution_count": 47,
   "metadata": {
    "collapsed": true
   },
   "outputs": [],
   "source": [
    "Array = D.loc[(D[0]>400000) & (D[0]<600000)]"
   ]
  },
  {
   "cell_type": "code",
   "execution_count": 48,
   "metadata": {},
   "outputs": [
    {
     "name": "stdout",
     "output_type": "stream",
     "text": [
      "No Exceptions found\n"
     ]
    }
   ],
   "source": [
    "if (((Array.loc[(Array[\"Currency\"]!=Fund_CCY)]).count())[0] == 0):\n",
    "    print(\"No Exceptions found\")\n",
    "    Validations_Output.append(\"No Exceptions Found between GL Trial Balance and Fund Currency\")\n",
    "else:\n",
    "    print(\"Exceptions found\")\n",
    "    Validations_Output.append(\"Exceptions Found between GL Trial Balance and Fund Currency\")"
   ]
  },
  {
   "cell_type": "code",
   "execution_count": 49,
   "metadata": {},
   "outputs": [
    {
     "name": "stdout",
     "output_type": "stream",
     "text": [
      "No Exceptions found - Closing Balance is zero\n"
     ]
    }
   ],
   "source": [
    "if GL_TB_Acc_Closing_Balance[0] < 1:\n",
    "    print(\"No Exceptions found - Closing Balance is zero\")\n",
    "    Validations_Output.append(\"No Exceptions Found between GL Trial Balance Closing Balance is Zero\")\n",
    "else:\n",
    "    print(\"Exceptions found\")\n",
    "    Validations_Output.append(\"Exceptions Found between GL Trial Balance Closing Balance\")"
   ]
  },
  {
   "cell_type": "code",
   "execution_count": 50,
   "metadata": {},
   "outputs": [
    {
     "data": {
      "text/plain": [
       "264393156.59"
      ]
     },
     "execution_count": 50,
     "metadata": {},
     "output_type": "execute_result"
    }
   ],
   "source": [
    "Net_Asset_Value"
   ]
  },
  {
   "cell_type": "code",
   "execution_count": 51,
   "metadata": {},
   "outputs": [
    {
     "name": "stdout",
     "output_type": "stream",
     "text": [
      "No Exceptions found - NAV is equal to Total Assets & Liabilities\n"
     ]
    }
   ],
   "source": [
    "Check=GL_TB_Acc_Total_Assests_Liab[0] - Net_Asset_Value\n",
    "if Check < 1:\n",
    "    print(\"No Exceptions found - NAV is equal to Total Assets & Liabilities\")\n",
    "    Validations_Output.append(\"No Exceptions Found NAV is equal to Total Assets & Liabilities\")\n",
    "else: \n",
    "    print(\"Exceptions found - NAV mismatch with Total Assets & Liabilities\")\n",
    "    Validations_Output.append(\"Exceptions Found - NAV mismatch with Total Assets & Liabilities\")"
   ]
  },
  {
   "cell_type": "code",
   "execution_count": 52,
   "metadata": {},
   "outputs": [
    {
     "data": {
      "text/html": [
       "<div>\n",
       "<style>\n",
       "    .dataframe thead tr:only-child th {\n",
       "        text-align: right;\n",
       "    }\n",
       "\n",
       "    .dataframe thead th {\n",
       "        text-align: left;\n",
       "    }\n",
       "\n",
       "    .dataframe tbody tr th {\n",
       "        vertical-align: top;\n",
       "    }\n",
       "</style>\n",
       "<table border=\"1\" class=\"dataframe\">\n",
       "  <thead>\n",
       "    <tr style=\"text-align: right;\">\n",
       "      <th></th>\n",
       "      <th>0</th>\n",
       "      <th>Currency</th>\n",
       "    </tr>\n",
       "  </thead>\n",
       "  <tbody>\n",
       "    <tr>\n",
       "      <th>26</th>\n",
       "      <td>411100</td>\n",
       "      <td>HKD</td>\n",
       "    </tr>\n",
       "    <tr>\n",
       "      <th>27</th>\n",
       "      <td>411130</td>\n",
       "      <td>HKD</td>\n",
       "    </tr>\n",
       "    <tr>\n",
       "      <th>28</th>\n",
       "      <td>421100</td>\n",
       "      <td>HKD</td>\n",
       "    </tr>\n",
       "    <tr>\n",
       "      <th>29</th>\n",
       "      <td>421130</td>\n",
       "      <td>HKD</td>\n",
       "    </tr>\n",
       "    <tr>\n",
       "      <th>30</th>\n",
       "      <td>431100</td>\n",
       "      <td>HKD</td>\n",
       "    </tr>\n",
       "    <tr>\n",
       "      <th>31</th>\n",
       "      <td>431130</td>\n",
       "      <td>HKD</td>\n",
       "    </tr>\n",
       "    <tr>\n",
       "      <th>32</th>\n",
       "      <td>441100</td>\n",
       "      <td>HKD</td>\n",
       "    </tr>\n",
       "    <tr>\n",
       "      <th>33</th>\n",
       "      <td>441130</td>\n",
       "      <td>HKD</td>\n",
       "    </tr>\n",
       "    <tr>\n",
       "      <th>34</th>\n",
       "      <td>444444</td>\n",
       "      <td>HKD</td>\n",
       "    </tr>\n",
       "    <tr>\n",
       "      <th>35</th>\n",
       "      <td>451100</td>\n",
       "      <td>HKD</td>\n",
       "    </tr>\n",
       "    <tr>\n",
       "      <th>36</th>\n",
       "      <td>452220</td>\n",
       "      <td>HKD</td>\n",
       "    </tr>\n",
       "    <tr>\n",
       "      <th>37</th>\n",
       "      <td>460000</td>\n",
       "      <td>HKD</td>\n",
       "    </tr>\n",
       "    <tr>\n",
       "      <th>38</th>\n",
       "      <td>511100</td>\n",
       "      <td>HKD</td>\n",
       "    </tr>\n",
       "    <tr>\n",
       "      <th>39</th>\n",
       "      <td>511130</td>\n",
       "      <td>HKD</td>\n",
       "    </tr>\n",
       "    <tr>\n",
       "      <th>40</th>\n",
       "      <td>521100</td>\n",
       "      <td>HKD</td>\n",
       "    </tr>\n",
       "    <tr>\n",
       "      <th>41</th>\n",
       "      <td>521130</td>\n",
       "      <td>HKD</td>\n",
       "    </tr>\n",
       "    <tr>\n",
       "      <th>42</th>\n",
       "      <td>527100</td>\n",
       "      <td>HKD</td>\n",
       "    </tr>\n",
       "    <tr>\n",
       "      <th>43</th>\n",
       "      <td>553105</td>\n",
       "      <td>HKD</td>\n",
       "    </tr>\n",
       "    <tr>\n",
       "      <th>44</th>\n",
       "      <td>553107</td>\n",
       "      <td>HKD</td>\n",
       "    </tr>\n",
       "    <tr>\n",
       "      <th>45</th>\n",
       "      <td>553121</td>\n",
       "      <td>HKD</td>\n",
       "    </tr>\n",
       "    <tr>\n",
       "      <th>46</th>\n",
       "      <td>553125</td>\n",
       "      <td>HKD</td>\n",
       "    </tr>\n",
       "    <tr>\n",
       "      <th>47</th>\n",
       "      <td>553129</td>\n",
       "      <td>HKD</td>\n",
       "    </tr>\n",
       "    <tr>\n",
       "      <th>48</th>\n",
       "      <td>553130</td>\n",
       "      <td>HKD</td>\n",
       "    </tr>\n",
       "    <tr>\n",
       "      <th>49</th>\n",
       "      <td>553131</td>\n",
       "      <td>HKD</td>\n",
       "    </tr>\n",
       "    <tr>\n",
       "      <th>50</th>\n",
       "      <td>553133</td>\n",
       "      <td>HKD</td>\n",
       "    </tr>\n",
       "    <tr>\n",
       "      <th>51</th>\n",
       "      <td>553141</td>\n",
       "      <td>HKD</td>\n",
       "    </tr>\n",
       "    <tr>\n",
       "      <th>52</th>\n",
       "      <td>553160</td>\n",
       "      <td>HKD</td>\n",
       "    </tr>\n",
       "    <tr>\n",
       "      <th>53</th>\n",
       "      <td>553180</td>\n",
       "      <td>HKD</td>\n",
       "    </tr>\n",
       "    <tr>\n",
       "      <th>54</th>\n",
       "      <td>553443</td>\n",
       "      <td>HKD</td>\n",
       "    </tr>\n",
       "    <tr>\n",
       "      <th>55</th>\n",
       "      <td>553444</td>\n",
       "      <td>HKD</td>\n",
       "    </tr>\n",
       "    <tr>\n",
       "      <th>56</th>\n",
       "      <td>555101</td>\n",
       "      <td>HKD</td>\n",
       "    </tr>\n",
       "    <tr>\n",
       "      <th>57</th>\n",
       "      <td>555102</td>\n",
       "      <td>HKD</td>\n",
       "    </tr>\n",
       "    <tr>\n",
       "      <th>58</th>\n",
       "      <td>555201</td>\n",
       "      <td>HKD</td>\n",
       "    </tr>\n",
       "    <tr>\n",
       "      <th>59</th>\n",
       "      <td>555555</td>\n",
       "      <td>HKD</td>\n",
       "    </tr>\n",
       "  </tbody>\n",
       "</table>\n",
       "</div>"
      ],
      "text/plain": [
       "         0 Currency\n",
       "26  411100      HKD\n",
       "27  411130      HKD\n",
       "28  421100      HKD\n",
       "29  421130      HKD\n",
       "30  431100      HKD\n",
       "31  431130      HKD\n",
       "32  441100      HKD\n",
       "33  441130      HKD\n",
       "34  444444      HKD\n",
       "35  451100      HKD\n",
       "36  452220      HKD\n",
       "37  460000      HKD\n",
       "38  511100      HKD\n",
       "39  511130      HKD\n",
       "40  521100      HKD\n",
       "41  521130      HKD\n",
       "42  527100      HKD\n",
       "43  553105      HKD\n",
       "44  553107      HKD\n",
       "45  553121      HKD\n",
       "46  553125      HKD\n",
       "47  553129      HKD\n",
       "48  553130      HKD\n",
       "49  553131      HKD\n",
       "50  553133      HKD\n",
       "51  553141      HKD\n",
       "52  553160      HKD\n",
       "53  553180      HKD\n",
       "54  553443      HKD\n",
       "55  553444      HKD\n",
       "56  555101      HKD\n",
       "57  555102      HKD\n",
       "58  555201      HKD\n",
       "59  555555      HKD"
      ]
     },
     "execution_count": 52,
     "metadata": {},
     "output_type": "execute_result"
    }
   ],
   "source": [
    "Array"
   ]
  },
  {
   "cell_type": "markdown",
   "metadata": {},
   "source": [
    "# Extraction and Validation of Dividend Receivable Report"
   ]
  },
  {
   "cell_type": "code",
   "execution_count": 53,
   "metadata": {
    "collapsed": true
   },
   "outputs": [],
   "source": [
    "NAV_DRR = ET.parse('SDCOU042HK0287.XML')"
   ]
  },
  {
   "cell_type": "code",
   "execution_count": 54,
   "metadata": {
    "collapsed": true
   },
   "outputs": [],
   "source": [
    "NAV_DRR_Security_Name = []\n",
    "for i in NAV_DRR.iter('NOMVAL'):\n",
    "    b = i.text\n",
    "    NAV_DRR_Security_Name.append(b)"
   ]
  },
  {
   "cell_type": "code",
   "execution_count": 55,
   "metadata": {},
   "outputs": [
    {
     "name": "stdout",
     "output_type": "stream",
     "text": [
      "Check No of shares are correct with Bloomberg report\n",
      "Check No of shares are correct with Bloomberg report\n",
      "Check No of shares are correct with Bloomberg report\n",
      "Check No of shares are correct with Bloomberg report\n",
      "Check No of shares are correct with Bloomberg report\n",
      "Check No of shares are correct with Bloomberg report\n",
      "Check No of shares are correct with Bloomberg report\n",
      "Check No of shares are correct with Bloomberg report\n",
      "Check No of shares are correct with Bloomberg report\n"
     ]
    }
   ],
   "source": [
    "Leng = len(NAV_DRR_Security_Name)\n",
    "for i in range(0,Leng):\n",
    "    if i == None:\n",
    "        print(\"No Exception Found in Dividend Receivable Report\")\n",
    "        Validations_Output.append(\"No Exceptions Found in Dividend Receivable Report\")\n",
    "    else:\n",
    "        print(\"Check No of shares are correct with Bloomberg report\")\n",
    "        Validations_Output.append(\"Check No of shares are correct with Bloomberg report\")"
   ]
  },
  {
   "cell_type": "markdown",
   "metadata": {},
   "source": [
    "# Extraction and Validation of Realised Gain and Loss Report"
   ]
  },
  {
   "cell_type": "code",
   "execution_count": 56,
   "metadata": {
    "collapsed": true
   },
   "outputs": [],
   "source": [
    "NAV_VRGLR = ET.parse('SDPOR092HK0287.XML')"
   ]
  },
  {
   "cell_type": "code",
   "execution_count": 57,
   "metadata": {
    "collapsed": true
   },
   "outputs": [],
   "source": [
    "NAV_VRGLR_FXGL = []\n",
    "for i in NAV_VRGLR.iter('SUMGAIN_PERTE_TCHGPERREPORT'):\n",
    "    b = float(i.text)\n",
    "    NAV_VRGLR_FXGL.append(b)"
   ]
  },
  {
   "cell_type": "code",
   "execution_count": 58,
   "metadata": {},
   "outputs": [
    {
     "name": "stdout",
     "output_type": "stream",
     "text": [
      "No Expections between Realised gain and loss report\n"
     ]
    }
   ],
   "source": [
    "if NAV_VRGLR_FXGL[0]==NAV_SoC_VarD[2]:\n",
    "    print(\"No Expections between Realised gain and loss report\")\n",
    "    Validations_Output.append(\"No Expections between Realised gain and loss report\")\n",
    "else:\n",
    "    print(\"There is a difference in Realized FX loss\")\n",
    "    Validations_Output.append(\"There is a difference in Realized FX loss\")"
   ]
  },
  {
   "cell_type": "markdown",
   "metadata": {},
   "source": [
    "# Extraction from Balance Sheet & Profit &  Loss Account\n",
    "\n",
    "This is done by\n",
    "Extract following data from Balance Sheet & Profit & Loss Account \n",
    "    1. Assets\n",
    "    2. Liabilities"
   ]
  },
  {
   "cell_type": "code",
   "execution_count": 59,
   "metadata": {
    "collapsed": true
   },
   "outputs": [],
   "source": [
    "BSheet_Profit_Loss = ET.parse('SHJNA112HK0287.XML')"
   ]
  },
  {
   "cell_type": "code",
   "execution_count": 60,
   "metadata": {
    "collapsed": true
   },
   "outputs": [],
   "source": [
    "BSheet_Profit_Loss_Accnt_Assets  = []\n",
    "for i in BSheet_Profit_Loss.iter('CF_DEBIT_BAL'):\n",
    "    d1 = i.text\n",
    "    if d1 == None:\n",
    "        d1 = 0\n",
    "        b = (d1)\n",
    "        \n",
    "    else:\n",
    "        b = float(d1)\n",
    "    BSheet_Profit_Loss_Accnt_Assets.append(b)\n",
    "    \n",
    "BSheet_Profit_Loss_Accnt_Liabilities  = []\n",
    "for i in BSheet_Profit_Loss.iter('CF_CREDIT_BAL'):\n",
    "    d1 = i.text\n",
    "    if d1 == None:\n",
    "        d1 = 0\n",
    "        b = (d1)\n",
    "        \n",
    "    else:\n",
    "        b = float(d1)\n",
    "    BSheet_Profit_Loss_Accnt_Liabilities.append(b)"
   ]
  },
  {
   "cell_type": "code",
   "execution_count": 61,
   "metadata": {
    "collapsed": true
   },
   "outputs": [],
   "source": [
    "BSheet_Profit_Loss_Accnt_Assets_Cost_Equities=BSheet_Profit_Loss_Accnt_Assets[0]\n",
    "BSheet_Profit_Loss_Accnt_Assets_Prepaid_Expenses=BSheet_Profit_Loss_Accnt_Assets[1]\n",
    "BSheet_Profit_Loss_Accnt_Assets_Receivables=BSheet_Profit_Loss_Accnt_Assets[2]\n",
    "BSheet_Profit_Loss_Accnt_Assets_Cash_at_Bank=BSheet_Profit_Loss_Accnt_Assets[3]\n",
    "BSheet_Profit_Loss_Accnt_Liabilities_Payables=BSheet_Profit_Loss_Accnt_Liabilities[5]"
   ]
  },
  {
   "cell_type": "markdown",
   "metadata": {},
   "source": [
    "# Validation of Balance Sheet & Profit &  Loss Account"
   ]
  },
  {
   "cell_type": "code",
   "execution_count": 62,
   "metadata": {},
   "outputs": [
    {
     "name": "stdout",
     "output_type": "stream",
     "text": [
      "Cost equities matched between NAV Portfolio Valuation and BSheet and Profit and Loss Account\n"
     ]
    }
   ],
   "source": [
    "if NAV_Portfolio_Valuation_Total_Investment[0] == BSheet_Profit_Loss_Accnt_Assets_Cost_Equities:\n",
    "    print(\"Cost equities matched between NAV Portfolio Valuation and BSheet and Profit and Loss Account\")\n",
    "    Validations_Output.append(\"Cost equities matched between NAV Portfolio Valuation and BSheet and Profit and Loss Account\")\n",
    "else:\n",
    "    print(\"Cost equities mis match between NAV Portfolio Valuation and BSheet and Profit and Loss Account\")\n",
    "    Validations_Output.append(\"Cost equities mis match between NAV Portfolio Valuation and BSheet and Profit and Loss Account\")"
   ]
  },
  {
   "cell_type": "code",
   "execution_count": 63,
   "metadata": {},
   "outputs": [
    {
     "name": "stdout",
     "output_type": "stream",
     "text": [
      "Cash at Bank matched between NAV Portfolio Valuation and BSheet and Profit and Loss Account\n"
     ]
    }
   ],
   "source": [
    "if NAV_Portfolio_Valuation_Total_Cost_Fund_Ccy_Cash_at_Bank == BSheet_Profit_Loss_Accnt_Assets_Cash_at_Bank:\n",
    "    print(\"Cash at Bank matched between NAV Portfolio Valuation and BSheet and Profit and Loss Account\")\n",
    "    Validations_Output.append(\"Cash at Bank matched between NAV Portfolio Valuation and BSheet and Profit and Loss Account\")\n",
    "else:\n",
    "    print(\"Cash at Bank mismatch between NAV Portfolio Valuation and BSheet and Profit and Loss Account\")\n",
    "    Validations_Output.append(\"Cash at Bank mismatch between NAV Portfolio Valuation and BSheet and Profit and Loss Account\")"
   ]
  },
  {
   "cell_type": "code",
   "execution_count": 64,
   "metadata": {},
   "outputs": [
    {
     "name": "stdout",
     "output_type": "stream",
     "text": [
      "Prepaid Expenses matched between NAV Portfolio Valuation and BSheet and Profit and Loss Account\n"
     ]
    }
   ],
   "source": [
    "if NAV_Portfolio_Valuation_Total_Cost_Fund_Ccy_Pre_Exp == BSheet_Profit_Loss_Accnt_Assets_Prepaid_Expenses:\n",
    "    print(\"Prepaid Expenses matched between NAV Portfolio Valuation and BSheet and Profit and Loss Account\")\n",
    "    Validations_Output.append(\"Prepaid Expenses matched between NAV Portfolio Valuation and BSheet and Profit and Loss Account\")\n",
    "else:\n",
    "    print(\"Prepaid Expenses mismatch between NAV Portfolio Valuation and BSheet and Profit and Loss Account\")\n",
    "    Validations_Output.append(\"Prepaid Expenses mismatch between NAV Portfolio Valuation and BSheet and Profit and Loss Account\")"
   ]
  },
  {
   "cell_type": "code",
   "execution_count": 65,
   "metadata": {},
   "outputs": [
    {
     "name": "stdout",
     "output_type": "stream",
     "text": [
      "Receivables matched between NAV Portfolio Valuation and BSheet and Profit and Loss Account\n"
     ]
    }
   ],
   "source": [
    "if NAV_Portfolio_Valuation_Total_Cost_Fund_Ccy_Receivalbles == BSheet_Profit_Loss_Accnt_Assets_Receivables:\n",
    "    print(\"Receivables matched between NAV Portfolio Valuation and BSheet and Profit and Loss Account\")\n",
    "    Validations_Output.append(\"Receivables matched between NAV Portfolio Valuation and BSheet and Profit and Loss Account\")\n",
    "else:\n",
    "    print(\"Receivables mismatch between NAV Portfolio Valuation and BSheet and Profit and Loss Account\")\n",
    "    Validations_Output.append(\"Receivables mismatch between NAV Portfolio Valuation and BSheet and Profit and Loss Account\")"
   ]
  },
  {
   "cell_type": "code",
   "execution_count": 66,
   "metadata": {},
   "outputs": [
    {
     "name": "stdout",
     "output_type": "stream",
     "text": [
      "Payables matched between NAV Portfolio Valuation and BSheet and Profit and Loss Account\n"
     ]
    }
   ],
   "source": [
    "if NAV_Portfolio_Valuation_Total_Cost_Fund_Ccy_Payables == BSheet_Profit_Loss_Accnt_Liabilities_Payables:\n",
    "    print(\"Payables matched between NAV Portfolio Valuation and BSheet and Profit and Loss Account\")\n",
    "    Validations_Output.append(\"Payables matched between NAV Portfolio Valuation and BSheet and Profit and Loss Account\")\n",
    "else:\n",
    "    print(\"Payables mismatch between NAV Portfolio Valuation and BSheet and Profit and Loss Account\")\n",
    "    Validations_Output.append(\"Payables mismatch between NAV Portfolio Valuation and BSheet and Profit and Loss Account\")"
   ]
  },
  {
   "cell_type": "code",
   "execution_count": 67,
   "metadata": {
    "collapsed": true
   },
   "outputs": [],
   "source": [
    "Validations_Output = pandas.DataFrame(Validations_Output)"
   ]
  },
  {
   "cell_type": "code",
   "execution_count": 68,
   "metadata": {
    "collapsed": true
   },
   "outputs": [],
   "source": [
    "Validations_Output = Validations_Output.rename(columns = {0 : \"Results\"})"
   ]
  },
  {
   "cell_type": "code",
   "execution_count": 69,
   "metadata": {
    "collapsed": true
   },
   "outputs": [],
   "source": [
    "Validations_Output.to_csv(\"Validations_Output287.csv\", index = False)"
   ]
  },
  {
   "cell_type": "code",
   "execution_count": 71,
   "metadata": {},
   "outputs": [
    {
     "data": {
      "text/html": [
       "<div>\n",
       "<style>\n",
       "    .dataframe thead tr:only-child th {\n",
       "        text-align: right;\n",
       "    }\n",
       "\n",
       "    .dataframe thead th {\n",
       "        text-align: left;\n",
       "    }\n",
       "\n",
       "    .dataframe tbody tr th {\n",
       "        vertical-align: top;\n",
       "    }\n",
       "</style>\n",
       "<table border=\"1\" class=\"dataframe\">\n",
       "  <thead>\n",
       "    <tr style=\"text-align: right;\">\n",
       "      <th></th>\n",
       "      <th>Results</th>\n",
       "    </tr>\n",
       "  </thead>\n",
       "  <tbody>\n",
       "    <tr>\n",
       "      <th>0</th>\n",
       "      <td>No variance in Statement of Change Report</td>\n",
       "    </tr>\n",
       "    <tr>\n",
       "      <th>1</th>\n",
       "      <td>No variance in Statement of Change Report</td>\n",
       "    </tr>\n",
       "    <tr>\n",
       "      <th>2</th>\n",
       "      <td>No variance in Statement of Change Report</td>\n",
       "    </tr>\n",
       "    <tr>\n",
       "      <th>3</th>\n",
       "      <td>No variance in Statement of Change Report</td>\n",
       "    </tr>\n",
       "    <tr>\n",
       "      <th>4</th>\n",
       "      <td>No variance in Statement of Change Report</td>\n",
       "    </tr>\n",
       "    <tr>\n",
       "      <th>5</th>\n",
       "      <td>No variance in Statement of Change Report</td>\n",
       "    </tr>\n",
       "    <tr>\n",
       "      <th>6</th>\n",
       "      <td>No variance in Statement of Change Report</td>\n",
       "    </tr>\n",
       "    <tr>\n",
       "      <th>7</th>\n",
       "      <td>No variance in Statement of Change Report</td>\n",
       "    </tr>\n",
       "    <tr>\n",
       "      <th>8</th>\n",
       "      <td>There is 0.5% variance in Statement of Change ...</td>\n",
       "    </tr>\n",
       "    <tr>\n",
       "      <th>9</th>\n",
       "      <td>No variance in Statement of Change Report</td>\n",
       "    </tr>\n",
       "    <tr>\n",
       "      <th>10</th>\n",
       "      <td>No variance in Statement of Change Report</td>\n",
       "    </tr>\n",
       "    <tr>\n",
       "      <th>11</th>\n",
       "      <td>No variance in Statement of Change Report</td>\n",
       "    </tr>\n",
       "    <tr>\n",
       "      <th>12</th>\n",
       "      <td>No variance in Statement of Change Report</td>\n",
       "    </tr>\n",
       "    <tr>\n",
       "      <th>13</th>\n",
       "      <td>There is 0.5% variance in Statement of Change ...</td>\n",
       "    </tr>\n",
       "    <tr>\n",
       "      <th>14</th>\n",
       "      <td>No variance in Statement of Change Report</td>\n",
       "    </tr>\n",
       "    <tr>\n",
       "      <th>15</th>\n",
       "      <td>No variance in Statement of Change Report</td>\n",
       "    </tr>\n",
       "    <tr>\n",
       "      <th>16</th>\n",
       "      <td>No variance in Statement of Change Report</td>\n",
       "    </tr>\n",
       "    <tr>\n",
       "      <th>17</th>\n",
       "      <td>No variance in Statement of Change Report</td>\n",
       "    </tr>\n",
       "    <tr>\n",
       "      <th>18</th>\n",
       "      <td>There is 0.5% variance in Statement of Change ...</td>\n",
       "    </tr>\n",
       "    <tr>\n",
       "      <th>19</th>\n",
       "      <td>There is 0.5% variance in Statement of Change ...</td>\n",
       "    </tr>\n",
       "    <tr>\n",
       "      <th>20</th>\n",
       "      <td>No variance in Statement of Change Report</td>\n",
       "    </tr>\n",
       "    <tr>\n",
       "      <th>21</th>\n",
       "      <td>There is 0.5% variance in Statement of Change ...</td>\n",
       "    </tr>\n",
       "    <tr>\n",
       "      <th>22</th>\n",
       "      <td>There is 0.5% variance in Statement of Change ...</td>\n",
       "    </tr>\n",
       "    <tr>\n",
       "      <th>23</th>\n",
       "      <td>There is 0.5% variance in Statement of Change ...</td>\n",
       "    </tr>\n",
       "    <tr>\n",
       "      <th>24</th>\n",
       "      <td>There is 0.5% variance in Statement of Change ...</td>\n",
       "    </tr>\n",
       "    <tr>\n",
       "      <th>25</th>\n",
       "      <td>No variance in Statement of Change Report</td>\n",
       "    </tr>\n",
       "    <tr>\n",
       "      <th>26</th>\n",
       "      <td>There is 0.5% variance in Statement of Change ...</td>\n",
       "    </tr>\n",
       "    <tr>\n",
       "      <th>27</th>\n",
       "      <td>There is 0.5% variance in Statement of Change ...</td>\n",
       "    </tr>\n",
       "    <tr>\n",
       "      <th>28</th>\n",
       "      <td>No variance in Statement of Change Report</td>\n",
       "    </tr>\n",
       "    <tr>\n",
       "      <th>29</th>\n",
       "      <td>No variance in Statement of Change Report</td>\n",
       "    </tr>\n",
       "    <tr>\n",
       "      <th>...</th>\n",
       "      <td>...</td>\n",
       "    </tr>\n",
       "    <tr>\n",
       "      <th>36</th>\n",
       "      <td>No variance in Statement of Change Report</td>\n",
       "    </tr>\n",
       "    <tr>\n",
       "      <th>37</th>\n",
       "      <td>No variance in Statement of Change Report</td>\n",
       "    </tr>\n",
       "    <tr>\n",
       "      <th>38</th>\n",
       "      <td>There is 0.5% variance in Statement of Change ...</td>\n",
       "    </tr>\n",
       "    <tr>\n",
       "      <th>39</th>\n",
       "      <td>NAV matched between NAV FOR FUND report and NA...</td>\n",
       "    </tr>\n",
       "    <tr>\n",
       "      <th>40</th>\n",
       "      <td>Accrl-Audit Fee matched between NAV FOR FUND a...</td>\n",
       "    </tr>\n",
       "    <tr>\n",
       "      <th>41</th>\n",
       "      <td>Accrl-Custody Fee matched between NAV FOR FUND...</td>\n",
       "    </tr>\n",
       "    <tr>\n",
       "      <th>42</th>\n",
       "      <td>Reporting Fee matched between NAV FOR FUND and...</td>\n",
       "    </tr>\n",
       "    <tr>\n",
       "      <th>43</th>\n",
       "      <td>Transfer Agt Fee matched between NAV FOR FUND ...</td>\n",
       "    </tr>\n",
       "    <tr>\n",
       "      <th>44</th>\n",
       "      <td>Trustee Fee matched between NAV FOR FUND and N...</td>\n",
       "    </tr>\n",
       "    <tr>\n",
       "      <th>45</th>\n",
       "      <td>Management Fee Class A matched between NAV FOR...</td>\n",
       "    </tr>\n",
       "    <tr>\n",
       "      <th>46</th>\n",
       "      <td>Management Fee Class B matched between NAV FOR...</td>\n",
       "    </tr>\n",
       "    <tr>\n",
       "      <th>47</th>\n",
       "      <td>RL perform Fee matched between NAV FOR FUND an...</td>\n",
       "    </tr>\n",
       "    <tr>\n",
       "      <th>48</th>\n",
       "      <td>No Exceptions Found between GL Trial Balance a...</td>\n",
       "    </tr>\n",
       "    <tr>\n",
       "      <th>49</th>\n",
       "      <td>No Exceptions Found between GL Trial Balance C...</td>\n",
       "    </tr>\n",
       "    <tr>\n",
       "      <th>50</th>\n",
       "      <td>No Exceptions Found NAV is equal to Total Asse...</td>\n",
       "    </tr>\n",
       "    <tr>\n",
       "      <th>51</th>\n",
       "      <td>Check No of shares are correct with Bloomberg ...</td>\n",
       "    </tr>\n",
       "    <tr>\n",
       "      <th>52</th>\n",
       "      <td>Check No of shares are correct with Bloomberg ...</td>\n",
       "    </tr>\n",
       "    <tr>\n",
       "      <th>53</th>\n",
       "      <td>Check No of shares are correct with Bloomberg ...</td>\n",
       "    </tr>\n",
       "    <tr>\n",
       "      <th>54</th>\n",
       "      <td>Check No of shares are correct with Bloomberg ...</td>\n",
       "    </tr>\n",
       "    <tr>\n",
       "      <th>55</th>\n",
       "      <td>Check No of shares are correct with Bloomberg ...</td>\n",
       "    </tr>\n",
       "    <tr>\n",
       "      <th>56</th>\n",
       "      <td>Check No of shares are correct with Bloomberg ...</td>\n",
       "    </tr>\n",
       "    <tr>\n",
       "      <th>57</th>\n",
       "      <td>Check No of shares are correct with Bloomberg ...</td>\n",
       "    </tr>\n",
       "    <tr>\n",
       "      <th>58</th>\n",
       "      <td>Check No of shares are correct with Bloomberg ...</td>\n",
       "    </tr>\n",
       "    <tr>\n",
       "      <th>59</th>\n",
       "      <td>Check No of shares are correct with Bloomberg ...</td>\n",
       "    </tr>\n",
       "    <tr>\n",
       "      <th>60</th>\n",
       "      <td>No Expections between Realised gain and loss r...</td>\n",
       "    </tr>\n",
       "    <tr>\n",
       "      <th>61</th>\n",
       "      <td>Cost equities matched between NAV Portfolio Va...</td>\n",
       "    </tr>\n",
       "    <tr>\n",
       "      <th>62</th>\n",
       "      <td>Cash at Bank matched between NAV Portfolio Val...</td>\n",
       "    </tr>\n",
       "    <tr>\n",
       "      <th>63</th>\n",
       "      <td>Prepaid Expenses matched between NAV Portfolio...</td>\n",
       "    </tr>\n",
       "    <tr>\n",
       "      <th>64</th>\n",
       "      <td>Receivables matched between NAV Portfolio Valu...</td>\n",
       "    </tr>\n",
       "    <tr>\n",
       "      <th>65</th>\n",
       "      <td>Payables matched between NAV Portfolio Valuati...</td>\n",
       "    </tr>\n",
       "  </tbody>\n",
       "</table>\n",
       "<p>66 rows × 1 columns</p>\n",
       "</div>"
      ],
      "text/plain": [
       "                                              Results\n",
       "0           No variance in Statement of Change Report\n",
       "1           No variance in Statement of Change Report\n",
       "2           No variance in Statement of Change Report\n",
       "3           No variance in Statement of Change Report\n",
       "4           No variance in Statement of Change Report\n",
       "5           No variance in Statement of Change Report\n",
       "6           No variance in Statement of Change Report\n",
       "7           No variance in Statement of Change Report\n",
       "8   There is 0.5% variance in Statement of Change ...\n",
       "9           No variance in Statement of Change Report\n",
       "10          No variance in Statement of Change Report\n",
       "11          No variance in Statement of Change Report\n",
       "12          No variance in Statement of Change Report\n",
       "13  There is 0.5% variance in Statement of Change ...\n",
       "14          No variance in Statement of Change Report\n",
       "15          No variance in Statement of Change Report\n",
       "16          No variance in Statement of Change Report\n",
       "17          No variance in Statement of Change Report\n",
       "18  There is 0.5% variance in Statement of Change ...\n",
       "19  There is 0.5% variance in Statement of Change ...\n",
       "20          No variance in Statement of Change Report\n",
       "21  There is 0.5% variance in Statement of Change ...\n",
       "22  There is 0.5% variance in Statement of Change ...\n",
       "23  There is 0.5% variance in Statement of Change ...\n",
       "24  There is 0.5% variance in Statement of Change ...\n",
       "25          No variance in Statement of Change Report\n",
       "26  There is 0.5% variance in Statement of Change ...\n",
       "27  There is 0.5% variance in Statement of Change ...\n",
       "28          No variance in Statement of Change Report\n",
       "29          No variance in Statement of Change Report\n",
       "..                                                ...\n",
       "36          No variance in Statement of Change Report\n",
       "37          No variance in Statement of Change Report\n",
       "38  There is 0.5% variance in Statement of Change ...\n",
       "39  NAV matched between NAV FOR FUND report and NA...\n",
       "40  Accrl-Audit Fee matched between NAV FOR FUND a...\n",
       "41  Accrl-Custody Fee matched between NAV FOR FUND...\n",
       "42  Reporting Fee matched between NAV FOR FUND and...\n",
       "43  Transfer Agt Fee matched between NAV FOR FUND ...\n",
       "44  Trustee Fee matched between NAV FOR FUND and N...\n",
       "45  Management Fee Class A matched between NAV FOR...\n",
       "46  Management Fee Class B matched between NAV FOR...\n",
       "47  RL perform Fee matched between NAV FOR FUND an...\n",
       "48  No Exceptions Found between GL Trial Balance a...\n",
       "49  No Exceptions Found between GL Trial Balance C...\n",
       "50  No Exceptions Found NAV is equal to Total Asse...\n",
       "51  Check No of shares are correct with Bloomberg ...\n",
       "52  Check No of shares are correct with Bloomberg ...\n",
       "53  Check No of shares are correct with Bloomberg ...\n",
       "54  Check No of shares are correct with Bloomberg ...\n",
       "55  Check No of shares are correct with Bloomberg ...\n",
       "56  Check No of shares are correct with Bloomberg ...\n",
       "57  Check No of shares are correct with Bloomberg ...\n",
       "58  Check No of shares are correct with Bloomberg ...\n",
       "59  Check No of shares are correct with Bloomberg ...\n",
       "60  No Expections between Realised gain and loss r...\n",
       "61  Cost equities matched between NAV Portfolio Va...\n",
       "62  Cash at Bank matched between NAV Portfolio Val...\n",
       "63  Prepaid Expenses matched between NAV Portfolio...\n",
       "64  Receivables matched between NAV Portfolio Valu...\n",
       "65  Payables matched between NAV Portfolio Valuati...\n",
       "\n",
       "[66 rows x 1 columns]"
      ]
     },
     "execution_count": 71,
     "metadata": {},
     "output_type": "execute_result"
    }
   ],
   "source": [
    "Validations_Output"
   ]
  },
  {
   "cell_type": "code",
   "execution_count": null,
   "metadata": {
    "collapsed": true
   },
   "outputs": [],
   "source": []
  }
 ],
 "metadata": {
  "kernelspec": {
   "display_name": "Python 3",
   "language": "python",
   "name": "python3"
  },
  "language_info": {
   "codemirror_mode": {
    "name": "ipython",
    "version": 3
   },
   "file_extension": ".py",
   "mimetype": "text/x-python",
   "name": "python",
   "nbconvert_exporter": "python",
   "pygments_lexer": "ipython3",
   "version": "3.6.1"
  }
 },
 "nbformat": 4,
 "nbformat_minor": 2
}
