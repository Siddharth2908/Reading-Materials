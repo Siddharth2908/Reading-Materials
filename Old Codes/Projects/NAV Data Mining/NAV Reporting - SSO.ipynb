{
 "cells": [
  {
   "cell_type": "code",
   "execution_count": 1,
   "metadata": {
    "collapsed": true
   },
   "outputs": [],
   "source": [
    "import xml.etree.ElementTree as ET\n",
    "import pandas as pandas\n",
    "import numpy as numpy"
   ]
  },
  {
   "cell_type": "code",
   "execution_count": 7,
   "metadata": {
    "collapsed": true
   },
   "outputs": [],
   "source": [
    "import os\n",
    "os.chdir(\"C:\\\\Siddhartha\\\\Confidential Documents\\\\Data Science\\\\NAV Data Mining\\\\Sample 1\\\\\")"
   ]
  },
  {
   "cell_type": "markdown",
   "metadata": {},
   "source": [
    "# Extract information from \"Net Asset Value For Fund\""
   ]
  },
  {
   "cell_type": "code",
   "execution_count": 8,
   "metadata": {
    "collapsed": true
   },
   "outputs": [],
   "source": [
    "def extract_NAV_For_Fund(x):\n",
    "       \n",
    "    Group = []\n",
    "    for i in Net_Asset_Value_For_Fund.iter(\"REGR\"):\n",
    "        b = int(i.text)\n",
    "        if b == 0:\n",
    "            break\n",
    "        else:\n",
    "            b = b\n",
    "        Group.append(b)\n",
    "    \n",
    "    Acc = []\n",
    "    for i in Net_Asset_Value_For_Fund.iter('NRUBR'):\n",
    "        b = int(i.text)\n",
    "        Acc.append(b)\n",
    "    Account = [a for a in Acc if a != 0]\n",
    "    \n",
    "    Description = []\n",
    "    for i in Net_Asset_Value_For_Fund.iter('LIB_REGR'):\n",
    "        b = i.text\n",
    "        Description.append(b)\n",
    "        \n",
    "    Bal = []\n",
    "    for i in Net_Asset_Value_For_Fund.iter('CF_SOLDE_DETAIL'):\n",
    "        b = i.text\n",
    "        if b == None:\n",
    "            b = 0\n",
    "        else:\n",
    "            b\n",
    "        Bal.append(b)\n",
    "    Bal1 = [a for a in Bal if a != 0]\n",
    "    Bala = []\n",
    "    for r in range(0,len(Bal1)):\n",
    "        x = Bal1[r].replace(\"(\",\"-\")\n",
    "        Bala.append(x)\n",
    "    Balance = []\n",
    "    for i in range(0,len(Bala)):\n",
    "        d = Bala[i]\n",
    "        d = ''.join(e for e in d if e.isdigit() or e == '.' or e == \"-\")\n",
    "        d = float(d)\n",
    "        Balance.append(d)\n",
    "    \n",
    "    Tot = []\n",
    "    for i in Net_Asset_Value_For_Fund.iter('CF_SOLDE_TOTAL'):\n",
    "        b = i.text\n",
    "        if b == None:\n",
    "            b = 0\n",
    "        else:\n",
    "            b\n",
    "        Tot.append(b)\n",
    "    Tot1 = [a for a in Tot if a != 0]\n",
    "    Tota = []\n",
    "    for r in range(0,len(Tot1)):\n",
    "        x = Tot1[r].replace(\"(\",\"-\")\n",
    "        Tota.append(x)\n",
    "    Total = []\n",
    "    for i in range(0,len(Tota)):\n",
    "        d = Tota[i]\n",
    "        d = ''.join(e for e in d if e.isdigit() or e == '.' or e == \"-\")\n",
    "        d = float(d)\n",
    "        Total.append(d)\n",
    "    \n",
    "    Net_Asset_Value = Total[-1]\n",
    "    \n",
    "    Fund_CCY = []\n",
    "    for i in Net_Asset_Value_For_Fund.iter('CMON'):\n",
    "        b = i.text\n",
    "        Fund_CCY.append(b)\n",
    "    Fund_CCY = Fund_CCY[1]\n",
    "        \n",
    "    return Group, Account, Description, Balance, Total, Net_Asset_Value, Fund_CCY"
   ]
  },
  {
   "cell_type": "code",
   "execution_count": 10,
   "metadata": {},
   "outputs": [],
   "source": [
    "Net_Asset_Value_For_Fund = ET.parse('SDNAR022HKQ182.XML')\n",
    "Group, Account, Description, Balance, Total, Net_Asset_Value, Fund_CCY =  extract_NAV_For_Fund(Net_Asset_Value_For_Fund)"
   ]
  },
  {
   "cell_type": "code",
   "execution_count": 11,
   "metadata": {},
   "outputs": [
    {
     "data": {
      "text/plain": [
       "[3697175.71,\n",
       " 343472.95,\n",
       " -11.99,\n",
       " 2362665.05,\n",
       " 3966304.38,\n",
       " 16282.01,\n",
       " -43232.88,\n",
       " -1741779.7,\n",
       " 10835.7,\n",
       " -1899.6,\n",
       " -4754.62,\n",
       " -120000.0,\n",
       " -244410.96,\n",
       " -9769.49]"
      ]
     },
     "execution_count": 11,
     "metadata": {},
     "output_type": "execute_result"
    }
   ],
   "source": [
    "Balance"
   ]
  },
  {
   "cell_type": "markdown",
   "metadata": {},
   "source": [
    "# Extract information from \"NAV Statement of Change\""
   ]
  },
  {
   "cell_type": "code",
   "execution_count": 13,
   "metadata": {},
   "outputs": [],
   "source": [
    "NAV_Statement_of_Change = ET.parse('SDNAV052HKQ182.XML')"
   ]
  },
  {
   "cell_type": "code",
   "execution_count": 14,
   "metadata": {
    "collapsed": true
   },
   "outputs": [],
   "source": [
    "NAV_SoC = []\n",
    "for i in NAV_Statement_of_Change.iter('CS_SOLDE_J_TOTAL'):\n",
    "    b = float(i.text)\n",
    "    NAV_SoC.append(b)"
   ]
  },
  {
   "cell_type": "markdown",
   "metadata": {},
   "source": [
    "# Perform check - Net Asset Value between NAV for Fund report and NAV Statement of Change"
   ]
  },
  {
   "cell_type": "code",
   "execution_count": 15,
   "metadata": {},
   "outputs": [
    {
     "name": "stdout",
     "output_type": "stream",
     "text": [
      "Amount Mismatch : NAV matched between NAV FOR FUND report and NAV Statement of Change report\n",
      "Mismatch =  CNY 0.03\n"
     ]
    }
   ],
   "source": [
    "if NAV_SoC == Net_Asset_Value:\n",
    "    print(\"NAV matched between NAV FOR FUND report and NAV Statement of Change report\")\n",
    "else:\n",
    "    print(\"Amount Mismatch : NAV matched between NAV FOR FUND report and NAV Statement of Change report\")\n",
    "    mismatch = Net_Asset_Value-NAV_SoC[0]\n",
    "print(\"Mismatch = \", Fund_CCY,round(mismatch,2))"
   ]
  },
  {
   "cell_type": "code",
   "execution_count": 17,
   "metadata": {
    "collapsed": true
   },
   "outputs": [],
   "source": [
    "Portfolio_Val = ET.parse(\"SDPOR072HKQ182.XML\")"
   ]
  },
  {
   "cell_type": "code",
   "execution_count": 29,
   "metadata": {},
   "outputs": [],
   "source": [
    "Group_Desc = []\n",
    "for CF_GROUP_DESC in Portfolio_Val.findall(\"CF_GROUP_DESC\"):\n",
    "    Group_Desc = CF_GROUP_DESC.find(\"CF_GROUP_DESC\").text"
   ]
  },
  {
   "cell_type": "code",
   "execution_count": 30,
   "metadata": {},
   "outputs": [
    {
     "data": {
      "text/plain": [
       "[]"
      ]
     },
     "execution_count": 30,
     "metadata": {},
     "output_type": "execute_result"
    }
   ],
   "source": [
    "Group_Desc"
   ]
  },
  {
   "cell_type": "code",
   "execution_count": null,
   "metadata": {},
   "outputs": [],
   "source": [
    "Balance"
   ]
  },
  {
   "cell_type": "code",
   "execution_count": null,
   "metadata": {
    "collapsed": true
   },
   "outputs": [],
   "source": []
  }
 ],
 "metadata": {
  "kernelspec": {
   "display_name": "Python 3",
   "language": "python",
   "name": "python3"
  },
  "language_info": {
   "codemirror_mode": {
    "name": "ipython",
    "version": 3
   },
   "file_extension": ".py",
   "mimetype": "text/x-python",
   "name": "python",
   "nbconvert_exporter": "python",
   "pygments_lexer": "ipython3",
   "version": "3.6.1"
  }
 },
 "nbformat": 4,
 "nbformat_minor": 2
}
