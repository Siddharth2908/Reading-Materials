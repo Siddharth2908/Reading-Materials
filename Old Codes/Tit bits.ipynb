{
 "cells": [
  {
   "cell_type": "code",
   "execution_count": null,
   "metadata": {
    "collapsed": true
   },
   "outputs": [],
   "source": [
    "import unicodedata    \n",
    "raw_text = u\"here $%6757 dfgdfg\""
   ]
  },
  {
   "cell_type": "code",
   "execution_count": null,
   "metadata": {
    "collapsed": true
   },
   "outputs": [],
   "source": [
    "convert_text = unicodedata.normalize('NFKD', raw_text).encode('ascii','ignore')"
   ]
  },
  {
   "cell_type": "code",
   "execution_count": null,
   "metadata": {},
   "outputs": [],
   "source": [
    "convert_text"
   ]
  },
  {
   "cell_type": "code",
   "execution_count": null,
   "metadata": {
    "collapsed": true
   },
   "outputs": [],
   "source": [
    "Data = \" Hi how are you, I am fine. Can you come tomorrow to Chennai. How long will it take\""
   ]
  },
  {
   "cell_type": "code",
   "execution_count": null,
   "metadata": {
    "collapsed": true
   },
   "outputs": [],
   "source": [
    "text = \" Hi how are you, I am fine. Can you come tomorrow to Chennai. How long will it take\""
   ]
  },
  {
   "cell_type": "code",
   "execution_count": null,
   "metadata": {
    "collapsed": true
   },
   "outputs": [],
   "source": []
  },
  {
   "cell_type": "code",
   "execution_count": null,
   "metadata": {
    "collapsed": true
   },
   "outputs": [],
   "source": [
    "import re\n",
    "import nltk\n",
    "from nltk.corpus import stopwords\n",
    "from nltk.stem.porter import PorterStemmer\n",
    "from nltk import FreqDist\n",
    "import pandas as pandas\n",
    "import numpy as numpy\n",
    "\n",
    "text = re.sub(\"((\\S+)?(http(s)?)(\\S+))|((\\S+)?(www)(\\S+))|((\\S+)?(\\@)(\\S+)?)\", \" \", text)\n",
    "text = re.sub(\"[^a-zA-Z ]\", \" \", text)\n",
    "text = text.lower() # lower case the text\n",
    "text = nltk.word_tokenize(text)"
   ]
  },
  {
   "cell_type": "code",
   "execution_count": null,
   "metadata": {},
   "outputs": [],
   "source": [
    "text"
   ]
  },
  {
   "cell_type": "code",
   "execution_count": null,
   "metadata": {
    "collapsed": true
   },
   "outputs": [],
   "source": [
    "text = pandas.Series(text)"
   ]
  },
  {
   "cell_type": "code",
   "execution_count": null,
   "metadata": {},
   "outputs": [],
   "source": [
    "text"
   ]
  },
  {
   "cell_type": "code",
   "execution_count": null,
   "metadata": {
    "collapsed": true
   },
   "outputs": [],
   "source": [
    "BoW = pandas.Series([\"chennai\",\"Bangalore\",\"Hyderabad\"])"
   ]
  },
  {
   "cell_type": "code",
   "execution_count": null,
   "metadata": {},
   "outputs": [],
   "source": [
    "BoW"
   ]
  },
  {
   "cell_type": "code",
   "execution_count": null,
   "metadata": {},
   "outputs": [],
   "source": [
    "len(BoW)"
   ]
  },
  {
   "cell_type": "code",
   "execution_count": null,
   "metadata": {},
   "outputs": [],
   "source": [
    "BoW[0]\n",
    "    "
   ]
  },
  {
   "cell_type": "code",
   "execution_count": null,
   "metadata": {},
   "outputs": [],
   "source": [
    "text[12]"
   ]
  },
  {
   "cell_type": "code",
   "execution_count": null,
   "metadata": {
    "collapsed": true
   },
   "outputs": [],
   "source": [
    "text.isin([BoW[0]])\n",
    "a = (text[text==BoW[0]].index)[0]"
   ]
  },
  {
   "cell_type": "code",
   "execution_count": null,
   "metadata": {},
   "outputs": [],
   "source": [
    "text[a-1]"
   ]
  },
  {
   "cell_type": "code",
   "execution_count": null,
   "metadata": {},
   "outputs": [],
   "source": [
    "data=[]\n",
    "flag=False\n",
    "with open(Data) as f:\n",
    "    for line in f:\n",
    "        if line.startswith('Can'):\n",
    "            flag=True\n",
    "        if flag:\n",
    "            data.append(line)\n",
    "        if line.strip().endswith('Chennai'):\n",
    "            flag=False\n",
    "\n",
    "print(data)"
   ]
  },
  {
   "cell_type": "code",
   "execution_count": null,
   "metadata": {
    "collapsed": true
   },
   "outputs": [],
   "source": [
    "for line in Data:\n",
    "    if line.startswith('Hi'):\n",
    "        flag=True\n",
    "    if flag:\n",
    "        data.append(line)\n",
    "    if line.strip().endswith('chennai'):\n",
    "        flag=False"
   ]
  },
  {
   "cell_type": "code",
   "execution_count": null,
   "metadata": {},
   "outputs": [],
   "source": [
    "data"
   ]
  },
  {
   "cell_type": "code",
   "execution_count": null,
   "metadata": {},
   "outputs": [],
   "source": [
    "Data.split(\"tomorrow\")"
   ]
  },
  {
   "cell_type": "code",
   "execution_count": null,
   "metadata": {},
   "outputs": [],
   "source": [
    "' '.join(Data.split()[10:13])"
   ]
  },
  {
   "cell_type": "code",
   "execution_count": 18,
   "metadata": {
    "collapsed": true
   },
   "outputs": [],
   "source": [
    "import win32com.client\n",
    "outlook = win32com.client.Dispatch(\"Outlook.Application\").GetNamespace(\"MAPI\")\n",
    "msg = outlook.OpenSharedItem(r\"C:\\Siddhartha\\Confidential Documents\\Data Science\\Email\\cms emails\\ External  ADIDAS PHILIPPINES INC  October 02  2018 Collection   Report.msg\")\n",
    "\n",
    "SenderName = []\n",
    "SenderName.append(msg.SenderName)\n",
    "\n",
    "SenderEmailAddress = []\n",
    "SenderEmailAddress.append(msg.SenderEmailAddress)\n",
    "\n",
    "SentOn = []\n",
    "SentOn.append(msg.SentOn)\n",
    "\n",
    "To = []\n",
    "To.append(msg.To)\n",
    "\n",
    "CC = []\n",
    "CC.append(msg.CC)\n",
    "\n",
    "BCC = []\n",
    "BCC.append(msg.BCC)\n",
    "\n",
    "Subject = []\n",
    "Subject.append(msg.Subject)\n",
    "\n",
    "Body = []\n",
    "Body.append(msg.Body)\n",
    "\n",
    "attachments = []\n",
    "count_attachments = msg.Attachments.Count\n",
    "if count_attachments > 0:\n",
    "    for item in range(count_attachments):\n",
    "        attachments.append(msg.Attachments.Item(item + 1).Filename)\n",
    "\n",
    "del outlook, msg"
   ]
  },
  {
   "cell_type": "code",
   "execution_count": 19,
   "metadata": {},
   "outputs": [],
   "source": [
    "import pandas as pandas\n",
    "Source = pandas.DataFrame({\"SenderName\" : SenderName,\"SenderEmailAddress\" : SenderEmailAddress, \"SentOn\" : SentOn })"
   ]
  },
  {
   "cell_type": "code",
   "execution_count": 20,
   "metadata": {},
   "outputs": [
    {
     "data": {
      "text/plain": [
       "' \\r\\n\\r\\nDear All,\\r\\n\\r\\nThere were no collection for October 02, 2018.\\r\\n\\r\\nPlease see attached file(s).\\r\\n\\r\\n \\r\\n\\r\\nThank you \\r\\nCollectimizer, Southbend Management Services Inc. \\r\\n\\r\\n(This is a system generated message. Kindly do not reply on this message. \\r\\nShould you need assistance, kindly email to macantoja@scnerve.com) \\r\\n\\r\\n \\r\\n\\r\\n \\r\\n'"
      ]
     },
     "execution_count": 20,
     "metadata": {},
     "output_type": "execute_result"
    }
   ],
   "source": [
    "Body[0]"
   ]
  }
 ],
 "metadata": {
  "kernelspec": {
   "display_name": "Python 3",
   "language": "python",
   "name": "python3"
  },
  "language_info": {
   "codemirror_mode": {
    "name": "ipython",
    "version": 3
   },
   "file_extension": ".py",
   "mimetype": "text/x-python",
   "name": "python",
   "nbconvert_exporter": "python",
   "pygments_lexer": "ipython3",
   "version": "3.6.1"
  }
 },
 "nbformat": 4,
 "nbformat_minor": 2
}
