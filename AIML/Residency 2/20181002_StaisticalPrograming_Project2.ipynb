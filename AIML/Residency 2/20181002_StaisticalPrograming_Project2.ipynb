{
 "cells": [
  {
   "cell_type": "markdown",
   "metadata": {},
   "source": [
    "Project 2 | Statistical Learning\n",
    "\n",
    "The Titan Insurance Company has just installed a new incentive payment scheme for its lift policy sales force. It wants to have an early view of the success or failure of the new scheme. Indications are that the sales force is selling more policies, but sales always vary in an unpredictable pattern from month to month and it is not clear that the scheme has made a significant difference.\n",
    "\n",
    "Life Insurance companies typically measure the monthly output of a salesperson as the total sum assured for the policies sold by that person during the month. For example, suppose salesperson X has, in the month, sold seven policies for which the sums assured are £1000, £2500, £3000, £5000, £10000, £35000. X's output for the month is the total of these sums assured, £61,500. Titan's new scheme is that the sales force receives low regular salaries but are paid large bonuses related to their output (i.e. to the total sum assured of policies sold by them). The scheme is expensive for the company, but they are looking for sales increases which more than compensate. The agreement with the sales force is that if the scheme does not at least break even for the company, it will be abandoned after six months.\n",
    "\n",
    "The scheme has now been in operation for four months. It has settled down after fluctuations in the first two months due to the changeover.\n",
    "\n",
    "To test the effectiveness of the scheme, Titan have taken a random sample of 30 salespeople measured their output in the penultimate month prior to changeover and then measured it in the fourth month after the changeover (they have deliberately chosen months not too close to the changeover). The outputs of the salespeople are shown in Table 1\n",
    "\n",
    " \n",
    "SALESPERSON\tOld Scheme (in thousands)\tNew Scheme (in thousands)\n",
    "1\t57\t62\n",
    "2\t103\t122\n",
    "3\t59\t54\n",
    "4\t75\t82\n",
    "5\t84\t84\n",
    "6\t73\t86\n",
    "7\t35\t32\n",
    "8\t110\t104\n",
    "9\t44\t38\n",
    "10\t82\t107\n",
    "11\t67\t84\n",
    "12\t64\t85\n",
    "13\t78\t99\n",
    "14\t53\t39\n",
    "15\t41\t34\n",
    "16\t39\t58\n",
    "17\t80\t73\n",
    "18\t87\t53\n",
    "19\t73\t66\n",
    "20\t65\t78\n",
    "21\t28\t41\n",
    "22\t62\t71\n",
    "23\t49\t38\n",
    "24\t84\t95\n",
    "25\t63\t81\n",
    "26\t77\t58\n",
    "27\t67\t75\n",
    "28\t101\t94\n",
    "29\t91\t100\n",
    "30\t50\t68\n",
    "\n",
    "\n",
    "\n",
    " \n",
    "\n",
    "Questions\n",
    "1.Find the mean of old scheme and new scheme column. (5 points)\n",
    "2.Use the five percent significance test over the data to determine the p value to check new scheme has significantly raised outputs? (10 points)\n",
    "3.What conclusion does the test (p-value) lead to? (2.5 points)\n",
    "4.Suppose it has been calculated that in order for Titan to break even, the average output must increase by £5000 in the scheme compared to the old scheme. If this figure is alternative hypothesis, what is:\n",
    "\n",
    "        a) The probability of a type 1 error? (2.5 points)\n",
    "        b) What is the p- value of the hypothesis test if we test for a difference of $5000? (10 points)\n",
    "\n",
    "        c) Power of the test (5 points)\n",
    "\n",
    " \n"
   ]
  },
  {
   "cell_type": "code",
   "execution_count": 1,
   "metadata": {
    "collapsed": true
   },
   "outputs": [],
   "source": [
    "import numpy as np\n",
    "from scipy.stats import ttest_1samp, wilcoxon,shapiro\n",
    "from statsmodels.stats.power import ttest_power\n",
    "\n",
    "salesdet = np.array([\n",
    "[1,57,62],\n",
    "[2,103,122],\n",
    "[3,59,54],\n",
    "[4,75,82],\n",
    "[5,84,84],\n",
    "[6,73,86],\n",
    "[7,35,32],\n",
    "[8,110,104],\n",
    "[9,44,38],\n",
    "[10,82,107],\n",
    "[11,67,84],\n",
    "[12,64,85],\n",
    "[13,78,99],\n",
    "[14,53,39],\n",
    "[15,41,34],\n",
    "[16,39,58],\n",
    "[17,80,73],\n",
    "[18,87,53],\n",
    "[19,73,66],\n",
    "[20,65,78],\n",
    "[21,28,41],\n",
    "[22,62,71],\n",
    "[23,49,38],\n",
    "[24,84,95],\n",
    "[25,63,81],\n",
    "[26,77,58],\n",
    "[27,67,75],\n",
    "[28,101,94],\n",
    "[29,91,100],\n",
    "[30,50,68]])\n",
    "oldSche = salesdet[:,1]\n",
    "newSche = salesdet[:,2]\n",
    "\n",
    "newSche_1 = newSche + 5"
   ]
  },
  {
   "cell_type": "code",
   "execution_count": 2,
   "metadata": {},
   "outputs": [
    {
     "name": "stdout",
     "output_type": "stream",
     "text": [
      "Mean of old Scheme is -  68.03333333333333 \n",
      "Mean of New Scheme is -  72.03333333333333\n"
     ]
    }
   ],
   "source": [
    "#1.Find the mean of old scheme and new scheme column. (5 points)\n",
    "\n",
    "oldSce_mean = oldSche.mean()\n",
    "newSce_mean = newSche.mean()\n",
    "print (\"Mean of old Scheme is - \", oldSce_mean, \"\\nMean of New Scheme is - \", newSce_mean)"
   ]
  },
  {
   "cell_type": "code",
   "execution_count": 3,
   "metadata": {},
   "outputs": [
    {
     "name": "stdout",
     "output_type": "stream",
     "text": [
      "T-Statistics of the sample -  -1.5559143823544377\n",
      "P-Value of the sample -  0.13057553961337662\n"
     ]
    }
   ],
   "source": [
    "#2.Use the five percent significance test over the data to determine the p value to check new scheme has significantly raised outputs? (10 points)\n",
    "\n",
    "#Answer:  paired t-Test is applied here \n",
    "# Null hypothesis - The mean of both the samples are same.\n",
    "# Alternate hypothesis - The mean of new sample is different from old sample. \n",
    "\n",
    "t_stat, p_val = ttest_1samp(oldSche - newSche, 0 )\n",
    "print(\"T-Statistics of the sample - \", t_stat)\n",
    "print(\"P-Value of the sample - \", p_val)"
   ]
  },
  {
   "cell_type": "code",
   "execution_count": 4,
   "metadata": {
    "collapsed": true
   },
   "outputs": [],
   "source": [
    "#3.What conclusion does the test (p-value) lead to? (2.5 points)\n",
    "# pvalue is > 0.05 - Null hypothesis is true.\n",
    "# there is no significant difference in the sample."
   ]
  },
  {
   "cell_type": "markdown",
   "metadata": {},
   "source": [
    "4.Suppose it has been calculated that in order for Titan to break even, the average output must increase by £5000 in the scheme compared to the old scheme. If this figure is alternative hypothesis, what is:\n",
    "\n",
    "        a) The probability of a type 1 error? (2.5 points)\n"
   ]
  },
  {
   "cell_type": "markdown",
   "metadata": {},
   "source": [
    "The Type 1 error is assumed as 5% "
   ]
  },
  {
   "cell_type": "code",
   "execution_count": 5,
   "metadata": {},
   "outputs": [
    {
     "name": "stdout",
     "output_type": "stream",
     "text": [
      "the pvalue is 0.7001334912613286\n"
     ]
    }
   ],
   "source": [
    "t_statistics, p_value = ttest_1samp(newSche - oldSche , 5)\n",
    "print  (\"the pvalue is\", p_value)"
   ]
  },
  {
   "cell_type": "markdown",
   "metadata": {
    "collapsed": true
   },
   "source": [
    " c) Power of the test (5 points)"
   ]
  },
  {
   "cell_type": "code",
   "execution_count": 13,
   "metadata": {},
   "outputs": [
    {
     "name": "stdout",
     "output_type": "stream",
     "text": [
      "0.16999561639014926\n"
     ]
    }
   ],
   "source": [
    "val = ( newSce_mean-oldSce_mean ) / np.sqrt(((30-1)*np.var(oldSche)+(30-1)*np.var(newSche)) / 30+30-2)\n",
    "print(ttest_power(val, nobs=30, alpha=0.05, alternative='larger'))"
   ]
  },
  {
   "cell_type": "code",
   "execution_count": null,
   "metadata": {
    "collapsed": true
   },
   "outputs": [],
   "source": []
  }
 ],
 "metadata": {
  "kernelspec": {
   "display_name": "Python 3",
   "language": "python",
   "name": "python3"
  },
  "language_info": {
   "codemirror_mode": {
    "name": "ipython",
    "version": 3
   },
   "file_extension": ".py",
   "mimetype": "text/x-python",
   "name": "python",
   "nbconvert_exporter": "python",
   "pygments_lexer": "ipython3",
   "version": "3.6.1"
  }
 },
 "nbformat": 4,
 "nbformat_minor": 2
}
