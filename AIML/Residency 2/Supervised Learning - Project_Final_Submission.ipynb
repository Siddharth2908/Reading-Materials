{
 "cells": [
  {
   "cell_type": "code",
   "execution_count": 1,
   "metadata": {
    "collapsed": true
   },
   "outputs": [],
   "source": [
    "import requests\n",
    "import pandas as pandas\n",
    "from urllib.request import urlopen\n",
    "import urllib\n",
    "import numpy as numpy"
   ]
  },
  {
   "cell_type": "markdown",
   "metadata": {},
   "source": [
    "# 1. Import and store the data in a data frame\n",
    "\n",
    "Approach Taken:\n",
    "\n",
    "1. Loaded the data from URL using \"requests\" package\n",
    "2. Parsed the data and appended into an empty list \"DF\"\n",
    "3. from \"DF\" remove html strings like \"b'\" and \"\\\\r\\\\n'\"\n",
    "4. extract all 11 required variables and store it in an individual lists/array with appropriate data type\n",
    "5. Create data frame \"Source\" using the extracted lists"
   ]
  },
  {
   "cell_type": "code",
   "execution_count": 2,
   "metadata": {
    "collapsed": true
   },
   "outputs": [],
   "source": [
    "Source = requests.get(\"http://users.stat.ufl.edu/winner/data/airq402.dat\")"
   ]
  },
  {
   "cell_type": "code",
   "execution_count": 19,
   "metadata": {},
   "outputs": [],
   "source": [
    "DF = []\n",
    "content1=urllib.request.urlopen(\"http://www.stat.ufl.edu/~winner/data/airq402.dat\")\n",
    "for word in content1:\n",
    "    DF.append(word)"
   ]
  },
  {
   "cell_type": "code",
   "execution_count": 20,
   "metadata": {},
   "outputs": [
    {
     "data": {
      "text/plain": [
       "1000"
      ]
     },
     "execution_count": 20,
     "metadata": {},
     "output_type": "execute_result"
    }
   ],
   "source": [
    "len(DF)"
   ]
  },
  {
   "cell_type": "code",
   "execution_count": 21,
   "metadata": {
    "collapsed": true
   },
   "outputs": [],
   "source": [
    "Source = []\n",
    "City1 = []\n",
    "City2 = []\n",
    "Average_Fare = []\n",
    "Distance = []\n",
    "Average_weekly_passengers=[]\n",
    "market_leading_airline = []\n",
    "market_share = []\n",
    "Average_fare2 = []\n",
    "Low_price_airline = []\n",
    "market_share2 = []\n",
    "price = []\n",
    "for i in range(0,1000):\n",
    "    b = (str(pandas.Series(DF)[i])).replace(\"\\\\r\\\\n'\",\"\")\n",
    "    b = (str(b)).replace(\"b'\",\"\")\n",
    "    a1,a2,a3,a4,a5,a6,a7,a8,a9,a10,a11 = b[0:3],b[4:7],float(b[10:17]),float(b[19:23]),float(b[25:33]),b[35:37],float(b[39:45]),float(b[47:54]),(b[56:58]), float(b[60:66]), float(b[68:75]) \n",
    "    City1.append(a1)\n",
    "    City2.append(a2)\n",
    "    Average_Fare.append(a3)\n",
    "    Distance.append(a4)\n",
    "    Average_weekly_passengers.append(a5)\n",
    "    market_leading_airline.append(a6)\n",
    "    market_share.append(a7)\n",
    "    Average_fare2.append(a8)\n",
    "    Low_price_airline.append(a9)\n",
    "    market_share2.append(a10)\n",
    "    price.append(a11)"
   ]
  },
  {
   "cell_type": "code",
   "execution_count": 22,
   "metadata": {
    "collapsed": true
   },
   "outputs": [],
   "source": [
    "Source = pandas.DataFrame({\"City1\":City1, \"City2\":City2,\"Average_Fare\":Average_Fare,\"Distance\" : Distance,\n",
    "                           \"Average_weekly_passengers\":Average_weekly_passengers, \n",
    "                           \"Market_Leading_Airline\" : market_leading_airline,\n",
    "                           \"Market_Share\" : market_share, \"Average_Fare2\":Average_fare2, \n",
    "                           \"Low_price_airline\" : Low_price_airline, \n",
    "                           \"Market_Share2\" : market_share2, \"Price\" : price})"
   ]
  },
  {
   "cell_type": "code",
   "execution_count": 23,
   "metadata": {},
   "outputs": [
    {
     "data": {
      "text/html": [
       "<div>\n",
       "<style>\n",
       "    .dataframe thead tr:only-child th {\n",
       "        text-align: right;\n",
       "    }\n",
       "\n",
       "    .dataframe thead th {\n",
       "        text-align: left;\n",
       "    }\n",
       "\n",
       "    .dataframe tbody tr th {\n",
       "        vertical-align: top;\n",
       "    }\n",
       "</style>\n",
       "<table border=\"1\" class=\"dataframe\">\n",
       "  <thead>\n",
       "    <tr style=\"text-align: right;\">\n",
       "      <th></th>\n",
       "      <th>Average_Fare</th>\n",
       "      <th>Average_Fare2</th>\n",
       "      <th>Average_weekly_passengers</th>\n",
       "      <th>City1</th>\n",
       "      <th>City2</th>\n",
       "      <th>Distance</th>\n",
       "      <th>Low_price_airline</th>\n",
       "      <th>Market_Leading_Airline</th>\n",
       "      <th>Market_Share</th>\n",
       "      <th>Market_Share2</th>\n",
       "      <th>Price</th>\n",
       "    </tr>\n",
       "  </thead>\n",
       "  <tbody>\n",
       "    <tr>\n",
       "      <th>0</th>\n",
       "      <td>114.47</td>\n",
       "      <td>111.03</td>\n",
       "      <td>424.56</td>\n",
       "      <td>CAK</td>\n",
       "      <td>ATL</td>\n",
       "      <td>528.0</td>\n",
       "      <td>FL</td>\n",
       "      <td>FL</td>\n",
       "      <td>70.19</td>\n",
       "      <td>70.19</td>\n",
       "      <td>111.03</td>\n",
       "    </tr>\n",
       "    <tr>\n",
       "      <th>1</th>\n",
       "      <td>122.47</td>\n",
       "      <td>123.09</td>\n",
       "      <td>276.84</td>\n",
       "      <td>CAK</td>\n",
       "      <td>MCO</td>\n",
       "      <td>860.0</td>\n",
       "      <td>DL</td>\n",
       "      <td>FL</td>\n",
       "      <td>75.10</td>\n",
       "      <td>17.23</td>\n",
       "      <td>118.94</td>\n",
       "    </tr>\n",
       "    <tr>\n",
       "      <th>2</th>\n",
       "      <td>214.42</td>\n",
       "      <td>223.98</td>\n",
       "      <td>215.76</td>\n",
       "      <td>ALB</td>\n",
       "      <td>ATL</td>\n",
       "      <td>852.0</td>\n",
       "      <td>CO</td>\n",
       "      <td>DL</td>\n",
       "      <td>78.89</td>\n",
       "      <td>2.77</td>\n",
       "      <td>167.12</td>\n",
       "    </tr>\n",
       "    <tr>\n",
       "      <th>3</th>\n",
       "      <td>69.40</td>\n",
       "      <td>68.86</td>\n",
       "      <td>606.84</td>\n",
       "      <td>ALB</td>\n",
       "      <td>BWI</td>\n",
       "      <td>288.0</td>\n",
       "      <td>WN</td>\n",
       "      <td>WN</td>\n",
       "      <td>96.97</td>\n",
       "      <td>96.97</td>\n",
       "      <td>68.86</td>\n",
       "    </tr>\n",
       "    <tr>\n",
       "      <th>4</th>\n",
       "      <td>158.13</td>\n",
       "      <td>161.36</td>\n",
       "      <td>313.04</td>\n",
       "      <td>ALB</td>\n",
       "      <td>ORD</td>\n",
       "      <td>723.0</td>\n",
       "      <td>WN</td>\n",
       "      <td>UA</td>\n",
       "      <td>39.79</td>\n",
       "      <td>15.34</td>\n",
       "      <td>145.42</td>\n",
       "    </tr>\n",
       "  </tbody>\n",
       "</table>\n",
       "</div>"
      ],
      "text/plain": [
       "   Average_Fare  Average_Fare2  Average_weekly_passengers City1 City2  \\\n",
       "0        114.47         111.03                     424.56   CAK   ATL   \n",
       "1        122.47         123.09                     276.84   CAK   MCO   \n",
       "2        214.42         223.98                     215.76   ALB   ATL   \n",
       "3         69.40          68.86                     606.84   ALB   BWI   \n",
       "4        158.13         161.36                     313.04   ALB   ORD   \n",
       "\n",
       "   Distance Low_price_airline Market_Leading_Airline  Market_Share  \\\n",
       "0     528.0                FL                     FL         70.19   \n",
       "1     860.0                DL                     FL         75.10   \n",
       "2     852.0                CO                     DL         78.89   \n",
       "3     288.0                WN                     WN         96.97   \n",
       "4     723.0                WN                     UA         39.79   \n",
       "\n",
       "   Market_Share2   Price  \n",
       "0          70.19  111.03  \n",
       "1          17.23  118.94  \n",
       "2           2.77  167.12  \n",
       "3          96.97   68.86  \n",
       "4          15.34  145.42  "
      ]
     },
     "execution_count": 23,
     "metadata": {},
     "output_type": "execute_result"
    }
   ],
   "source": [
    "Source.head()"
   ]
  },
  {
   "cell_type": "markdown",
   "metadata": {},
   "source": [
    "# 2. Remove the outliers from the data\n",
    "\n",
    "Approach Taken\n",
    "\n",
    "1. Using describe() function, 5 point summary determined and the output saved in a dataframe\n",
    "2. Index reset performed and only indices 4 to 6 were subset which consists Q1 and Q3 values\n",
    "3. IQR calculated \n",
    "4. Outliers in data set calculated using formula Q3+1.5*IQR and Q1-1.5*IQR \n",
    "5. Rows with outliers removed\n",
    "\n",
    "In total 115 records were removed"
   ]
  },
  {
   "cell_type": "code",
   "execution_count": 24,
   "metadata": {
    "collapsed": true
   },
   "outputs": [],
   "source": [
    "No_of_records_before_outlier_removal = len(Source)"
   ]
  },
  {
   "cell_type": "code",
   "execution_count": 25,
   "metadata": {
    "collapsed": true
   },
   "outputs": [],
   "source": [
    "Describe = (Source.describe()).reset_index().loc[4:6]"
   ]
  },
  {
   "cell_type": "code",
   "execution_count": 26,
   "metadata": {},
   "outputs": [
    {
     "data": {
      "text/html": [
       "<div>\n",
       "<style>\n",
       "    .dataframe thead tr:only-child th {\n",
       "        text-align: right;\n",
       "    }\n",
       "\n",
       "    .dataframe thead th {\n",
       "        text-align: left;\n",
       "    }\n",
       "\n",
       "    .dataframe tbody tr th {\n",
       "        vertical-align: top;\n",
       "    }\n",
       "</style>\n",
       "<table border=\"1\" class=\"dataframe\">\n",
       "  <thead>\n",
       "    <tr style=\"text-align: right;\">\n",
       "      <th></th>\n",
       "      <th>index</th>\n",
       "      <th>Average_Fare</th>\n",
       "      <th>Average_Fare2</th>\n",
       "      <th>Average_weekly_passengers</th>\n",
       "      <th>Distance</th>\n",
       "      <th>Market_Share</th>\n",
       "      <th>Market_Share2</th>\n",
       "      <th>Price</th>\n",
       "    </tr>\n",
       "  </thead>\n",
       "  <tbody>\n",
       "    <tr>\n",
       "      <th>4</th>\n",
       "      <td>25%</td>\n",
       "      <td>125.9750</td>\n",
       "      <td>124.0850</td>\n",
       "      <td>257.1975</td>\n",
       "      <td>553.5</td>\n",
       "      <td>46.51</td>\n",
       "      <td>13.1950</td>\n",
       "      <td>113.7675</td>\n",
       "    </tr>\n",
       "    <tr>\n",
       "      <th>5</th>\n",
       "      <td>50%</td>\n",
       "      <td>161.3450</td>\n",
       "      <td>161.4000</td>\n",
       "      <td>404.7800</td>\n",
       "      <td>919.0</td>\n",
       "      <td>59.24</td>\n",
       "      <td>26.1400</td>\n",
       "      <td>137.8250</td>\n",
       "    </tr>\n",
       "    <tr>\n",
       "      <th>6</th>\n",
       "      <td>75%</td>\n",
       "      <td>197.3925</td>\n",
       "      <td>202.9775</td>\n",
       "      <td>769.9125</td>\n",
       "      <td>1452.5</td>\n",
       "      <td>73.51</td>\n",
       "      <td>52.9725</td>\n",
       "      <td>168.5300</td>\n",
       "    </tr>\n",
       "  </tbody>\n",
       "</table>\n",
       "</div>"
      ],
      "text/plain": [
       "  index  Average_Fare  Average_Fare2  Average_weekly_passengers  Distance  \\\n",
       "4   25%      125.9750       124.0850                   257.1975     553.5   \n",
       "5   50%      161.3450       161.4000                   404.7800     919.0   \n",
       "6   75%      197.3925       202.9775                   769.9125    1452.5   \n",
       "\n",
       "   Market_Share  Market_Share2     Price  \n",
       "4         46.51        13.1950  113.7675  \n",
       "5         59.24        26.1400  137.8250  \n",
       "6         73.51        52.9725  168.5300  "
      ]
     },
     "execution_count": 26,
     "metadata": {},
     "output_type": "execute_result"
    }
   ],
   "source": [
    "Describe"
   ]
  },
  {
   "cell_type": "code",
   "execution_count": 27,
   "metadata": {
    "collapsed": true
   },
   "outputs": [],
   "source": [
    "del Describe[\"index\"]"
   ]
  },
  {
   "cell_type": "code",
   "execution_count": 28,
   "metadata": {},
   "outputs": [
    {
     "data": {
      "text/plain": [
       "Average_Fare                  71.4175\n",
       "Average_Fare2                 78.8925\n",
       "Average_weekly_passengers    512.7150\n",
       "Distance                     899.0000\n",
       "Market_Share                  27.0000\n",
       "Market_Share2                 39.7775\n",
       "Price                         54.7625\n",
       "dtype: float64"
      ]
     },
     "execution_count": 28,
     "metadata": {},
     "output_type": "execute_result"
    }
   ],
   "source": [
    "IQR = Describe.loc[6] - Describe.loc[4]\n",
    "IQR"
   ]
  },
  {
   "cell_type": "code",
   "execution_count": 29,
   "metadata": {
    "collapsed": true
   },
   "outputs": [],
   "source": [
    "Subset = Source[[\"Average_Fare\",\"Average_Fare2\",\"Average_weekly_passengers\",\"Distance\", \"Market_Share\",\"Market_Share2\",\"Price\"]]"
   ]
  },
  {
   "cell_type": "code",
   "execution_count": 30,
   "metadata": {},
   "outputs": [
    {
     "data": {
      "text/html": [
       "<div>\n",
       "<style>\n",
       "    .dataframe thead tr:only-child th {\n",
       "        text-align: right;\n",
       "    }\n",
       "\n",
       "    .dataframe thead th {\n",
       "        text-align: left;\n",
       "    }\n",
       "\n",
       "    .dataframe tbody tr th {\n",
       "        vertical-align: top;\n",
       "    }\n",
       "</style>\n",
       "<table border=\"1\" class=\"dataframe\">\n",
       "  <thead>\n",
       "    <tr style=\"text-align: right;\">\n",
       "      <th></th>\n",
       "      <th>Average_Fare</th>\n",
       "      <th>Average_Fare2</th>\n",
       "      <th>Average_weekly_passengers</th>\n",
       "      <th>Distance</th>\n",
       "      <th>Market_Share</th>\n",
       "      <th>Market_Share2</th>\n",
       "      <th>Price</th>\n",
       "    </tr>\n",
       "  </thead>\n",
       "  <tbody>\n",
       "    <tr>\n",
       "      <th>0</th>\n",
       "      <td>114.47</td>\n",
       "      <td>111.03</td>\n",
       "      <td>424.56</td>\n",
       "      <td>528.0</td>\n",
       "      <td>70.19</td>\n",
       "      <td>70.19</td>\n",
       "      <td>111.03</td>\n",
       "    </tr>\n",
       "    <tr>\n",
       "      <th>1</th>\n",
       "      <td>122.47</td>\n",
       "      <td>123.09</td>\n",
       "      <td>276.84</td>\n",
       "      <td>860.0</td>\n",
       "      <td>75.10</td>\n",
       "      <td>17.23</td>\n",
       "      <td>118.94</td>\n",
       "    </tr>\n",
       "    <tr>\n",
       "      <th>2</th>\n",
       "      <td>214.42</td>\n",
       "      <td>223.98</td>\n",
       "      <td>215.76</td>\n",
       "      <td>852.0</td>\n",
       "      <td>78.89</td>\n",
       "      <td>2.77</td>\n",
       "      <td>167.12</td>\n",
       "    </tr>\n",
       "    <tr>\n",
       "      <th>3</th>\n",
       "      <td>69.40</td>\n",
       "      <td>68.86</td>\n",
       "      <td>606.84</td>\n",
       "      <td>288.0</td>\n",
       "      <td>96.97</td>\n",
       "      <td>96.97</td>\n",
       "      <td>68.86</td>\n",
       "    </tr>\n",
       "    <tr>\n",
       "      <th>4</th>\n",
       "      <td>158.13</td>\n",
       "      <td>161.36</td>\n",
       "      <td>313.04</td>\n",
       "      <td>723.0</td>\n",
       "      <td>39.79</td>\n",
       "      <td>15.34</td>\n",
       "      <td>145.42</td>\n",
       "    </tr>\n",
       "  </tbody>\n",
       "</table>\n",
       "</div>"
      ],
      "text/plain": [
       "   Average_Fare  Average_Fare2  Average_weekly_passengers  Distance  \\\n",
       "0        114.47         111.03                     424.56     528.0   \n",
       "1        122.47         123.09                     276.84     860.0   \n",
       "2        214.42         223.98                     215.76     852.0   \n",
       "3         69.40          68.86                     606.84     288.0   \n",
       "4        158.13         161.36                     313.04     723.0   \n",
       "\n",
       "   Market_Share  Market_Share2   Price  \n",
       "0         70.19          70.19  111.03  \n",
       "1         75.10          17.23  118.94  \n",
       "2         78.89           2.77  167.12  \n",
       "3         96.97          96.97   68.86  \n",
       "4         39.79          15.34  145.42  "
      ]
     },
     "execution_count": 30,
     "metadata": {},
     "output_type": "execute_result"
    }
   ],
   "source": [
    "Subset.head()"
   ]
  },
  {
   "cell_type": "code",
   "execution_count": 31,
   "metadata": {
    "collapsed": true
   },
   "outputs": [],
   "source": [
    "a = Subset > Subset.quantile(0.75) + (1.5 * IQR)\n",
    "b = Subset < Subset.quantile(0.25) - (1.5 * IQR)\n",
    "Source[[\"Q31\",\"Q32\",\"Q33\",\"Q34\",\"Q35\",\"Q36\",\"Q37\"]] = a\n",
    "Source[[\"Q11\",\"Q12\",\"Q13\",\"Q14\",\"Q15\",\"Q16\",\"Q17\"]] = b"
   ]
  },
  {
   "cell_type": "code",
   "execution_count": 32,
   "metadata": {},
   "outputs": [
    {
     "data": {
      "text/html": [
       "<div>\n",
       "<style>\n",
       "    .dataframe thead tr:only-child th {\n",
       "        text-align: right;\n",
       "    }\n",
       "\n",
       "    .dataframe thead th {\n",
       "        text-align: left;\n",
       "    }\n",
       "\n",
       "    .dataframe tbody tr th {\n",
       "        vertical-align: top;\n",
       "    }\n",
       "</style>\n",
       "<table border=\"1\" class=\"dataframe\">\n",
       "  <thead>\n",
       "    <tr style=\"text-align: right;\">\n",
       "      <th></th>\n",
       "      <th>Average_Fare</th>\n",
       "      <th>Average_Fare2</th>\n",
       "      <th>Average_weekly_passengers</th>\n",
       "      <th>City1</th>\n",
       "      <th>City2</th>\n",
       "      <th>Distance</th>\n",
       "      <th>Low_price_airline</th>\n",
       "      <th>Market_Leading_Airline</th>\n",
       "      <th>Market_Share</th>\n",
       "      <th>Market_Share2</th>\n",
       "      <th>...</th>\n",
       "      <th>Q35</th>\n",
       "      <th>Q36</th>\n",
       "      <th>Q37</th>\n",
       "      <th>Q11</th>\n",
       "      <th>Q12</th>\n",
       "      <th>Q13</th>\n",
       "      <th>Q14</th>\n",
       "      <th>Q15</th>\n",
       "      <th>Q16</th>\n",
       "      <th>Q17</th>\n",
       "    </tr>\n",
       "  </thead>\n",
       "  <tbody>\n",
       "    <tr>\n",
       "      <th>0</th>\n",
       "      <td>114.47</td>\n",
       "      <td>111.03</td>\n",
       "      <td>424.56</td>\n",
       "      <td>CAK</td>\n",
       "      <td>ATL</td>\n",
       "      <td>528.0</td>\n",
       "      <td>FL</td>\n",
       "      <td>FL</td>\n",
       "      <td>70.19</td>\n",
       "      <td>70.19</td>\n",
       "      <td>...</td>\n",
       "      <td>False</td>\n",
       "      <td>False</td>\n",
       "      <td>False</td>\n",
       "      <td>False</td>\n",
       "      <td>False</td>\n",
       "      <td>False</td>\n",
       "      <td>False</td>\n",
       "      <td>False</td>\n",
       "      <td>False</td>\n",
       "      <td>False</td>\n",
       "    </tr>\n",
       "    <tr>\n",
       "      <th>1</th>\n",
       "      <td>122.47</td>\n",
       "      <td>123.09</td>\n",
       "      <td>276.84</td>\n",
       "      <td>CAK</td>\n",
       "      <td>MCO</td>\n",
       "      <td>860.0</td>\n",
       "      <td>DL</td>\n",
       "      <td>FL</td>\n",
       "      <td>75.10</td>\n",
       "      <td>17.23</td>\n",
       "      <td>...</td>\n",
       "      <td>False</td>\n",
       "      <td>False</td>\n",
       "      <td>False</td>\n",
       "      <td>False</td>\n",
       "      <td>False</td>\n",
       "      <td>False</td>\n",
       "      <td>False</td>\n",
       "      <td>False</td>\n",
       "      <td>False</td>\n",
       "      <td>False</td>\n",
       "    </tr>\n",
       "    <tr>\n",
       "      <th>2</th>\n",
       "      <td>214.42</td>\n",
       "      <td>223.98</td>\n",
       "      <td>215.76</td>\n",
       "      <td>ALB</td>\n",
       "      <td>ATL</td>\n",
       "      <td>852.0</td>\n",
       "      <td>CO</td>\n",
       "      <td>DL</td>\n",
       "      <td>78.89</td>\n",
       "      <td>2.77</td>\n",
       "      <td>...</td>\n",
       "      <td>False</td>\n",
       "      <td>False</td>\n",
       "      <td>False</td>\n",
       "      <td>False</td>\n",
       "      <td>False</td>\n",
       "      <td>False</td>\n",
       "      <td>False</td>\n",
       "      <td>False</td>\n",
       "      <td>False</td>\n",
       "      <td>False</td>\n",
       "    </tr>\n",
       "    <tr>\n",
       "      <th>3</th>\n",
       "      <td>69.40</td>\n",
       "      <td>68.86</td>\n",
       "      <td>606.84</td>\n",
       "      <td>ALB</td>\n",
       "      <td>BWI</td>\n",
       "      <td>288.0</td>\n",
       "      <td>WN</td>\n",
       "      <td>WN</td>\n",
       "      <td>96.97</td>\n",
       "      <td>96.97</td>\n",
       "      <td>...</td>\n",
       "      <td>False</td>\n",
       "      <td>False</td>\n",
       "      <td>False</td>\n",
       "      <td>False</td>\n",
       "      <td>False</td>\n",
       "      <td>False</td>\n",
       "      <td>False</td>\n",
       "      <td>False</td>\n",
       "      <td>False</td>\n",
       "      <td>False</td>\n",
       "    </tr>\n",
       "    <tr>\n",
       "      <th>4</th>\n",
       "      <td>158.13</td>\n",
       "      <td>161.36</td>\n",
       "      <td>313.04</td>\n",
       "      <td>ALB</td>\n",
       "      <td>ORD</td>\n",
       "      <td>723.0</td>\n",
       "      <td>WN</td>\n",
       "      <td>UA</td>\n",
       "      <td>39.79</td>\n",
       "      <td>15.34</td>\n",
       "      <td>...</td>\n",
       "      <td>False</td>\n",
       "      <td>False</td>\n",
       "      <td>False</td>\n",
       "      <td>False</td>\n",
       "      <td>False</td>\n",
       "      <td>False</td>\n",
       "      <td>False</td>\n",
       "      <td>False</td>\n",
       "      <td>False</td>\n",
       "      <td>False</td>\n",
       "    </tr>\n",
       "  </tbody>\n",
       "</table>\n",
       "<p>5 rows × 25 columns</p>\n",
       "</div>"
      ],
      "text/plain": [
       "   Average_Fare  Average_Fare2  Average_weekly_passengers City1 City2  \\\n",
       "0        114.47         111.03                     424.56   CAK   ATL   \n",
       "1        122.47         123.09                     276.84   CAK   MCO   \n",
       "2        214.42         223.98                     215.76   ALB   ATL   \n",
       "3         69.40          68.86                     606.84   ALB   BWI   \n",
       "4        158.13         161.36                     313.04   ALB   ORD   \n",
       "\n",
       "   Distance Low_price_airline Market_Leading_Airline  Market_Share  \\\n",
       "0     528.0                FL                     FL         70.19   \n",
       "1     860.0                DL                     FL         75.10   \n",
       "2     852.0                CO                     DL         78.89   \n",
       "3     288.0                WN                     WN         96.97   \n",
       "4     723.0                WN                     UA         39.79   \n",
       "\n",
       "   Market_Share2  ...      Q35    Q36    Q37    Q11    Q12    Q13    Q14  \\\n",
       "0          70.19  ...    False  False  False  False  False  False  False   \n",
       "1          17.23  ...    False  False  False  False  False  False  False   \n",
       "2           2.77  ...    False  False  False  False  False  False  False   \n",
       "3          96.97  ...    False  False  False  False  False  False  False   \n",
       "4          15.34  ...    False  False  False  False  False  False  False   \n",
       "\n",
       "     Q15    Q16    Q17  \n",
       "0  False  False  False  \n",
       "1  False  False  False  \n",
       "2  False  False  False  \n",
       "3  False  False  False  \n",
       "4  False  False  False  \n",
       "\n",
       "[5 rows x 25 columns]"
      ]
     },
     "execution_count": 32,
     "metadata": {},
     "output_type": "execute_result"
    }
   ],
   "source": [
    "Source.head()"
   ]
  },
  {
   "cell_type": "code",
   "execution_count": 33,
   "metadata": {
    "collapsed": true
   },
   "outputs": [],
   "source": [
    "Source = Source[Source[\"Q31\"] != True]\n",
    "Source = Source[Source[\"Q32\"] != True]\n",
    "Source = Source[Source[\"Q33\"] != True]\n",
    "Source = Source[Source[\"Q34\"] != True]\n",
    "Source = Source[Source[\"Q35\"] != True]\n",
    "Source = Source[Source[\"Q36\"] != True]\n",
    "Source = Source[Source[\"Q37\"] != True]\n",
    "Source = Source[Source[\"Q11\"] != True]\n",
    "Source = Source[Source[\"Q12\"] != True]\n",
    "Source = Source[Source[\"Q13\"] != True]\n",
    "Source = Source[Source[\"Q14\"] != True]\n",
    "Source = Source[Source[\"Q15\"] != True]\n",
    "Source = Source[Source[\"Q16\"] != True]\n",
    "Source = Source[Source[\"Q17\"] != True]"
   ]
  },
  {
   "cell_type": "code",
   "execution_count": 34,
   "metadata": {
    "collapsed": true
   },
   "outputs": [],
   "source": [
    "No_of_records_before_post_removal = len(Source)"
   ]
  },
  {
   "cell_type": "code",
   "execution_count": 35,
   "metadata": {
    "collapsed": true
   },
   "outputs": [],
   "source": [
    "Record_Removed = No_of_records_before_outlier_removal - No_of_records_before_post_removal"
   ]
  },
  {
   "cell_type": "code",
   "execution_count": 36,
   "metadata": {},
   "outputs": [
    {
     "data": {
      "text/plain": [
       "115"
      ]
     },
     "execution_count": 36,
     "metadata": {},
     "output_type": "execute_result"
    }
   ],
   "source": [
    "Record_Removed"
   ]
  },
  {
   "cell_type": "code",
   "execution_count": 37,
   "metadata": {
    "collapsed": true
   },
   "outputs": [],
   "source": [
    "Source = (Source.iloc[:,0:11])"
   ]
  },
  {
   "cell_type": "code",
   "execution_count": 38,
   "metadata": {},
   "outputs": [
    {
     "data": {
      "text/html": [
       "<div>\n",
       "<style>\n",
       "    .dataframe thead tr:only-child th {\n",
       "        text-align: right;\n",
       "    }\n",
       "\n",
       "    .dataframe thead th {\n",
       "        text-align: left;\n",
       "    }\n",
       "\n",
       "    .dataframe tbody tr th {\n",
       "        vertical-align: top;\n",
       "    }\n",
       "</style>\n",
       "<table border=\"1\" class=\"dataframe\">\n",
       "  <thead>\n",
       "    <tr style=\"text-align: right;\">\n",
       "      <th></th>\n",
       "      <th>Average_Fare</th>\n",
       "      <th>Average_Fare2</th>\n",
       "      <th>Average_weekly_passengers</th>\n",
       "      <th>City1</th>\n",
       "      <th>City2</th>\n",
       "      <th>Distance</th>\n",
       "      <th>Low_price_airline</th>\n",
       "      <th>Market_Leading_Airline</th>\n",
       "      <th>Market_Share</th>\n",
       "      <th>Market_Share2</th>\n",
       "      <th>Price</th>\n",
       "    </tr>\n",
       "  </thead>\n",
       "  <tbody>\n",
       "    <tr>\n",
       "      <th>0</th>\n",
       "      <td>114.47</td>\n",
       "      <td>111.03</td>\n",
       "      <td>424.56</td>\n",
       "      <td>CAK</td>\n",
       "      <td>ATL</td>\n",
       "      <td>528.0</td>\n",
       "      <td>FL</td>\n",
       "      <td>FL</td>\n",
       "      <td>70.19</td>\n",
       "      <td>70.19</td>\n",
       "      <td>111.03</td>\n",
       "    </tr>\n",
       "    <tr>\n",
       "      <th>1</th>\n",
       "      <td>122.47</td>\n",
       "      <td>123.09</td>\n",
       "      <td>276.84</td>\n",
       "      <td>CAK</td>\n",
       "      <td>MCO</td>\n",
       "      <td>860.0</td>\n",
       "      <td>DL</td>\n",
       "      <td>FL</td>\n",
       "      <td>75.10</td>\n",
       "      <td>17.23</td>\n",
       "      <td>118.94</td>\n",
       "    </tr>\n",
       "    <tr>\n",
       "      <th>2</th>\n",
       "      <td>214.42</td>\n",
       "      <td>223.98</td>\n",
       "      <td>215.76</td>\n",
       "      <td>ALB</td>\n",
       "      <td>ATL</td>\n",
       "      <td>852.0</td>\n",
       "      <td>CO</td>\n",
       "      <td>DL</td>\n",
       "      <td>78.89</td>\n",
       "      <td>2.77</td>\n",
       "      <td>167.12</td>\n",
       "    </tr>\n",
       "    <tr>\n",
       "      <th>3</th>\n",
       "      <td>69.40</td>\n",
       "      <td>68.86</td>\n",
       "      <td>606.84</td>\n",
       "      <td>ALB</td>\n",
       "      <td>BWI</td>\n",
       "      <td>288.0</td>\n",
       "      <td>WN</td>\n",
       "      <td>WN</td>\n",
       "      <td>96.97</td>\n",
       "      <td>96.97</td>\n",
       "      <td>68.86</td>\n",
       "    </tr>\n",
       "    <tr>\n",
       "      <th>4</th>\n",
       "      <td>158.13</td>\n",
       "      <td>161.36</td>\n",
       "      <td>313.04</td>\n",
       "      <td>ALB</td>\n",
       "      <td>ORD</td>\n",
       "      <td>723.0</td>\n",
       "      <td>WN</td>\n",
       "      <td>UA</td>\n",
       "      <td>39.79</td>\n",
       "      <td>15.34</td>\n",
       "      <td>145.42</td>\n",
       "    </tr>\n",
       "  </tbody>\n",
       "</table>\n",
       "</div>"
      ],
      "text/plain": [
       "   Average_Fare  Average_Fare2  Average_weekly_passengers City1 City2  \\\n",
       "0        114.47         111.03                     424.56   CAK   ATL   \n",
       "1        122.47         123.09                     276.84   CAK   MCO   \n",
       "2        214.42         223.98                     215.76   ALB   ATL   \n",
       "3         69.40          68.86                     606.84   ALB   BWI   \n",
       "4        158.13         161.36                     313.04   ALB   ORD   \n",
       "\n",
       "   Distance Low_price_airline Market_Leading_Airline  Market_Share  \\\n",
       "0     528.0                FL                     FL         70.19   \n",
       "1     860.0                DL                     FL         75.10   \n",
       "2     852.0                CO                     DL         78.89   \n",
       "3     288.0                WN                     WN         96.97   \n",
       "4     723.0                WN                     UA         39.79   \n",
       "\n",
       "   Market_Share2   Price  \n",
       "0          70.19  111.03  \n",
       "1          17.23  118.94  \n",
       "2           2.77  167.12  \n",
       "3          96.97   68.86  \n",
       "4          15.34  145.42  "
      ]
     },
     "execution_count": 38,
     "metadata": {},
     "output_type": "execute_result"
    }
   ],
   "source": [
    "Source.head()"
   ]
  },
  {
   "cell_type": "markdown",
   "metadata": {},
   "source": [
    "# 3. Treat “Average Fare” – 3rdColumn as your Dependent Variable and Rest of the columns as Independent Variable. (2.5 points)"
   ]
  },
  {
   "cell_type": "code",
   "execution_count": 39,
   "metadata": {
    "collapsed": true
   },
   "outputs": [],
   "source": [
    "Y = pandas.DataFrame(Source[\"Average_Fare\"])"
   ]
  },
  {
   "cell_type": "code",
   "execution_count": 40,
   "metadata": {
    "collapsed": true
   },
   "outputs": [],
   "source": [
    "X = Source.iloc[:,1:11]"
   ]
  },
  {
   "cell_type": "code",
   "execution_count": 41,
   "metadata": {},
   "outputs": [
    {
     "data": {
      "text/plain": [
       "Index(['Average_Fare'], dtype='object')"
      ]
     },
     "execution_count": 41,
     "metadata": {},
     "output_type": "execute_result"
    }
   ],
   "source": [
    "Y.columns"
   ]
  },
  {
   "cell_type": "code",
   "execution_count": 42,
   "metadata": {},
   "outputs": [
    {
     "data": {
      "text/plain": [
       "885"
      ]
     },
     "execution_count": 42,
     "metadata": {},
     "output_type": "execute_result"
    }
   ],
   "source": [
    "len(Y)"
   ]
  },
  {
   "cell_type": "code",
   "execution_count": 43,
   "metadata": {},
   "outputs": [
    {
     "data": {
      "text/plain": [
       "Index(['Average_Fare2', 'Average_weekly_passengers', 'City1', 'City2',\n",
       "       'Distance', 'Low_price_airline', 'Market_Leading_Airline',\n",
       "       'Market_Share', 'Market_Share2', 'Price'],\n",
       "      dtype='object')"
      ]
     },
     "execution_count": 43,
     "metadata": {},
     "output_type": "execute_result"
    }
   ],
   "source": [
    "X.columns"
   ]
  },
  {
   "cell_type": "code",
   "execution_count": 44,
   "metadata": {},
   "outputs": [
    {
     "data": {
      "text/plain": [
       "885"
      ]
     },
     "execution_count": 44,
     "metadata": {},
     "output_type": "execute_result"
    }
   ],
   "source": [
    "len(X)"
   ]
  },
  {
   "cell_type": "markdown",
   "metadata": {},
   "source": [
    "# 4. Drop the independent variables which has less than 0.1 correlation with the dependent variable (5 points)"
   ]
  },
  {
   "cell_type": "code",
   "execution_count": 45,
   "metadata": {},
   "outputs": [
    {
     "data": {
      "text/html": [
       "<div>\n",
       "<style>\n",
       "    .dataframe thead tr:only-child th {\n",
       "        text-align: right;\n",
       "    }\n",
       "\n",
       "    .dataframe thead th {\n",
       "        text-align: left;\n",
       "    }\n",
       "\n",
       "    .dataframe tbody tr th {\n",
       "        vertical-align: top;\n",
       "    }\n",
       "</style>\n",
       "<table border=\"1\" class=\"dataframe\">\n",
       "  <thead>\n",
       "    <tr style=\"text-align: right;\">\n",
       "      <th></th>\n",
       "      <th>Average_Fare</th>\n",
       "      <th>Average_Fare2</th>\n",
       "      <th>Average_weekly_passengers</th>\n",
       "      <th>Distance</th>\n",
       "      <th>Market_Share</th>\n",
       "      <th>Market_Share2</th>\n",
       "      <th>Price</th>\n",
       "    </tr>\n",
       "  </thead>\n",
       "  <tbody>\n",
       "    <tr>\n",
       "      <th>Average_Fare</th>\n",
       "      <td>1.000000</td>\n",
       "      <td>0.979713</td>\n",
       "      <td>-0.197005</td>\n",
       "      <td>0.522650</td>\n",
       "      <td>-0.207955</td>\n",
       "      <td>-0.493555</td>\n",
       "      <td>0.840993</td>\n",
       "    </tr>\n",
       "    <tr>\n",
       "      <th>Average_Fare2</th>\n",
       "      <td>0.979713</td>\n",
       "      <td>1.000000</td>\n",
       "      <td>-0.163736</td>\n",
       "      <td>0.489721</td>\n",
       "      <td>-0.193382</td>\n",
       "      <td>-0.519442</td>\n",
       "      <td>0.794157</td>\n",
       "    </tr>\n",
       "    <tr>\n",
       "      <th>Average_weekly_passengers</th>\n",
       "      <td>-0.197005</td>\n",
       "      <td>-0.163736</td>\n",
       "      <td>1.000000</td>\n",
       "      <td>-0.129632</td>\n",
       "      <td>0.021769</td>\n",
       "      <td>0.076176</td>\n",
       "      <td>-0.209018</td>\n",
       "    </tr>\n",
       "    <tr>\n",
       "      <th>Distance</th>\n",
       "      <td>0.522650</td>\n",
       "      <td>0.489721</td>\n",
       "      <td>-0.129632</td>\n",
       "      <td>1.000000</td>\n",
       "      <td>-0.547952</td>\n",
       "      <td>-0.361519</td>\n",
       "      <td>0.539894</td>\n",
       "    </tr>\n",
       "    <tr>\n",
       "      <th>Market_Share</th>\n",
       "      <td>-0.207955</td>\n",
       "      <td>-0.193382</td>\n",
       "      <td>0.021769</td>\n",
       "      <td>-0.547952</td>\n",
       "      <td>1.000000</td>\n",
       "      <td>0.281182</td>\n",
       "      <td>-0.314555</td>\n",
       "    </tr>\n",
       "    <tr>\n",
       "      <th>Market_Share2</th>\n",
       "      <td>-0.493555</td>\n",
       "      <td>-0.519442</td>\n",
       "      <td>0.076176</td>\n",
       "      <td>-0.361519</td>\n",
       "      <td>0.281182</td>\n",
       "      <td>1.000000</td>\n",
       "      <td>-0.260912</td>\n",
       "    </tr>\n",
       "    <tr>\n",
       "      <th>Price</th>\n",
       "      <td>0.840993</td>\n",
       "      <td>0.794157</td>\n",
       "      <td>-0.209018</td>\n",
       "      <td>0.539894</td>\n",
       "      <td>-0.314555</td>\n",
       "      <td>-0.260912</td>\n",
       "      <td>1.000000</td>\n",
       "    </tr>\n",
       "  </tbody>\n",
       "</table>\n",
       "</div>"
      ],
      "text/plain": [
       "                           Average_Fare  Average_Fare2  \\\n",
       "Average_Fare                   1.000000       0.979713   \n",
       "Average_Fare2                  0.979713       1.000000   \n",
       "Average_weekly_passengers     -0.197005      -0.163736   \n",
       "Distance                       0.522650       0.489721   \n",
       "Market_Share                  -0.207955      -0.193382   \n",
       "Market_Share2                 -0.493555      -0.519442   \n",
       "Price                          0.840993       0.794157   \n",
       "\n",
       "                           Average_weekly_passengers  Distance  Market_Share  \\\n",
       "Average_Fare                               -0.197005  0.522650     -0.207955   \n",
       "Average_Fare2                              -0.163736  0.489721     -0.193382   \n",
       "Average_weekly_passengers                   1.000000 -0.129632      0.021769   \n",
       "Distance                                   -0.129632  1.000000     -0.547952   \n",
       "Market_Share                                0.021769 -0.547952      1.000000   \n",
       "Market_Share2                               0.076176 -0.361519      0.281182   \n",
       "Price                                      -0.209018  0.539894     -0.314555   \n",
       "\n",
       "                           Market_Share2     Price  \n",
       "Average_Fare                   -0.493555  0.840993  \n",
       "Average_Fare2                  -0.519442  0.794157  \n",
       "Average_weekly_passengers       0.076176 -0.209018  \n",
       "Distance                       -0.361519  0.539894  \n",
       "Market_Share                    0.281182 -0.314555  \n",
       "Market_Share2                   1.000000 -0.260912  \n",
       "Price                          -0.260912  1.000000  "
      ]
     },
     "execution_count": 45,
     "metadata": {},
     "output_type": "execute_result"
    }
   ],
   "source": [
    "Source.corr()"
   ]
  },
  {
   "cell_type": "markdown",
   "metadata": {
    "collapsed": true
   },
   "source": [
    "Dependent Variable = Average_Fare\n",
    "Independent Variables < 0.1 Correlation are\n",
    "1. Average_weekly_passengers\n",
    "2. Market_Share\n",
    "3. Market_Share2\n",
    "\n",
    "Removing these variables from X"
   ]
  },
  {
   "cell_type": "code",
   "execution_count": 46,
   "metadata": {
    "collapsed": true
   },
   "outputs": [],
   "source": [
    "X = X.drop([\"Average_weekly_passengers\",\"Market_Share\",\"Market_Share2\"],axis = 1)"
   ]
  },
  {
   "cell_type": "code",
   "execution_count": 47,
   "metadata": {},
   "outputs": [
    {
     "data": {
      "text/html": [
       "<div>\n",
       "<style>\n",
       "    .dataframe thead tr:only-child th {\n",
       "        text-align: right;\n",
       "    }\n",
       "\n",
       "    .dataframe thead th {\n",
       "        text-align: left;\n",
       "    }\n",
       "\n",
       "    .dataframe tbody tr th {\n",
       "        vertical-align: top;\n",
       "    }\n",
       "</style>\n",
       "<table border=\"1\" class=\"dataframe\">\n",
       "  <thead>\n",
       "    <tr style=\"text-align: right;\">\n",
       "      <th></th>\n",
       "      <th>Average_Fare2</th>\n",
       "      <th>City1</th>\n",
       "      <th>City2</th>\n",
       "      <th>Distance</th>\n",
       "      <th>Low_price_airline</th>\n",
       "      <th>Market_Leading_Airline</th>\n",
       "      <th>Price</th>\n",
       "    </tr>\n",
       "  </thead>\n",
       "  <tbody>\n",
       "    <tr>\n",
       "      <th>0</th>\n",
       "      <td>111.03</td>\n",
       "      <td>CAK</td>\n",
       "      <td>ATL</td>\n",
       "      <td>528.0</td>\n",
       "      <td>FL</td>\n",
       "      <td>FL</td>\n",
       "      <td>111.03</td>\n",
       "    </tr>\n",
       "    <tr>\n",
       "      <th>1</th>\n",
       "      <td>123.09</td>\n",
       "      <td>CAK</td>\n",
       "      <td>MCO</td>\n",
       "      <td>860.0</td>\n",
       "      <td>DL</td>\n",
       "      <td>FL</td>\n",
       "      <td>118.94</td>\n",
       "    </tr>\n",
       "    <tr>\n",
       "      <th>2</th>\n",
       "      <td>223.98</td>\n",
       "      <td>ALB</td>\n",
       "      <td>ATL</td>\n",
       "      <td>852.0</td>\n",
       "      <td>CO</td>\n",
       "      <td>DL</td>\n",
       "      <td>167.12</td>\n",
       "    </tr>\n",
       "    <tr>\n",
       "      <th>3</th>\n",
       "      <td>68.86</td>\n",
       "      <td>ALB</td>\n",
       "      <td>BWI</td>\n",
       "      <td>288.0</td>\n",
       "      <td>WN</td>\n",
       "      <td>WN</td>\n",
       "      <td>68.86</td>\n",
       "    </tr>\n",
       "    <tr>\n",
       "      <th>4</th>\n",
       "      <td>161.36</td>\n",
       "      <td>ALB</td>\n",
       "      <td>ORD</td>\n",
       "      <td>723.0</td>\n",
       "      <td>WN</td>\n",
       "      <td>UA</td>\n",
       "      <td>145.42</td>\n",
       "    </tr>\n",
       "  </tbody>\n",
       "</table>\n",
       "</div>"
      ],
      "text/plain": [
       "   Average_Fare2 City1 City2  Distance Low_price_airline  \\\n",
       "0         111.03   CAK   ATL     528.0                FL   \n",
       "1         123.09   CAK   MCO     860.0                DL   \n",
       "2         223.98   ALB   ATL     852.0                CO   \n",
       "3          68.86   ALB   BWI     288.0                WN   \n",
       "4         161.36   ALB   ORD     723.0                WN   \n",
       "\n",
       "  Market_Leading_Airline   Price  \n",
       "0                     FL  111.03  \n",
       "1                     FL  118.94  \n",
       "2                     DL  167.12  \n",
       "3                     WN   68.86  \n",
       "4                     UA  145.42  "
      ]
     },
     "execution_count": 47,
     "metadata": {},
     "output_type": "execute_result"
    }
   ],
   "source": [
    "X.head()"
   ]
  },
  {
   "cell_type": "markdown",
   "metadata": {},
   "source": [
    "# 5. Create scatter Plot of Independent Variable vs Dependent Variable. (2.5 points)"
   ]
  },
  {
   "cell_type": "code",
   "execution_count": 48,
   "metadata": {
    "collapsed": true
   },
   "outputs": [],
   "source": [
    "import matplotlib.pyplot as plt\n",
    "import seaborn as sns\n",
    "%matplotlib inline\n",
    "sns.set_palette(\"BrBG\")\n",
    "sns.set_style('whitegrid')"
   ]
  },
  {
   "cell_type": "code",
   "execution_count": 49,
   "metadata": {},
   "outputs": [
    {
     "data": {
      "text/plain": [
       "<matplotlib.collections.PathCollection at 0x25f15f78358>"
      ]
     },
     "execution_count": 49,
     "metadata": {},
     "output_type": "execute_result"
    },
    {
     "data": {
      "image/png": "[encoded data removed]",
      "text/plain": [
       "<Figure size 432x288 with 1 Axes>"
      ]
     },
     "metadata": {},
     "output_type": "display_data"
    }
   ],
   "source": [
    "plt.scatter(X[\"Average_Fare2\"],Y[\"Average_Fare\"])"
   ]
  },
  {
   "cell_type": "code",
   "execution_count": 50,
   "metadata": {},
   "outputs": [
    {
     "data": {
      "text/plain": [
       "<matplotlib.collections.PathCollection at 0x25f160058d0>"
      ]
     },
     "execution_count": 50,
     "metadata": {},
     "output_type": "execute_result"
    },
    {
     "data": {
      "image/png": "[encoded data removed]",
      "text/plain": [
       "<Figure size 432x288 with 1 Axes>"
      ]
     },
     "metadata": {},
     "output_type": "display_data"
    }
   ],
   "source": [
    "plt.scatter(X[\"Distance\"],Y[\"Average_Fare\"])"
   ]
  },
  {
   "cell_type": "code",
   "execution_count": 51,
   "metadata": {},
   "outputs": [
    {
     "data": {
      "text/plain": [
       "<matplotlib.collections.PathCollection at 0x25f16067e48>"
      ]
     },
     "execution_count": 51,
     "metadata": {},
     "output_type": "execute_result"
    },
    {
     "data": {
      "image/png": "[encoded data removed]",
      "text/plain": [
       "<Figure size 432x288 with 1 Axes>"
      ]
     },
     "metadata": {},
     "output_type": "display_data"
    }
   ],
   "source": [
    "plt.scatter(X[\"Price\"],Y[\"Average_Fare\"])"
   ]
  },
  {
   "cell_type": "markdown",
   "metadata": {},
   "source": [
    "Inference :\n",
    "    Average Fare and Price, Distance has a strong postive correlation. This is evident in Correlation matrix as well"
   ]
  },
  {
   "cell_type": "code",
   "execution_count": 52,
   "metadata": {},
   "outputs": [
    {
     "data": {
      "text/plain": [
       "<BarContainer object of 885 artists>"
      ]
     },
     "execution_count": 52,
     "metadata": {},
     "output_type": "execute_result"
    },
    {
     "data": {
      "image/png": "[encoded data removed]",
      "text/plain": [
       "<Figure size 432x288 with 1 Axes>"
      ]
     },
     "metadata": {},
     "output_type": "display_data"
    }
   ],
   "source": [
    "plt.bar(X[\"City1\"],Y[\"Average_Fare\"])"
   ]
  },
  {
   "cell_type": "code",
   "execution_count": 53,
   "metadata": {},
   "outputs": [
    {
     "data": {
      "text/plain": [
       "<BarContainer object of 885 artists>"
      ]
     },
     "execution_count": 53,
     "metadata": {},
     "output_type": "execute_result"
    },
    {
     "data": {
      "image/png": "[encoded data removed]",
      "text/plain": [
       "<Figure size 432x288 with 1 Axes>"
      ]
     },
     "metadata": {},
     "output_type": "display_data"
    }
   ],
   "source": [
    "plt.bar(X[\"City2\"],Y[\"Average_Fare\"])"
   ]
  },
  {
   "cell_type": "code",
   "execution_count": 54,
   "metadata": {},
   "outputs": [
    {
     "data": {
      "text/plain": [
       "<BarContainer object of 885 artists>"
      ]
     },
     "execution_count": 54,
     "metadata": {},
     "output_type": "execute_result"
    },
    {
     "data": {
      "image/png": "[encoded data removed]",
      "text/plain": [
       "<Figure size 432x288 with 1 Axes>"
      ]
     },
     "metadata": {},
     "output_type": "display_data"
    }
   ],
   "source": [
    "plt.bar(X[\"Low_price_airline\"],Y[\"Average_Fare\"])"
   ]
  },
  {
   "cell_type": "code",
   "execution_count": 55,
   "metadata": {},
   "outputs": [
    {
     "data": {
      "text/plain": [
       "<BarContainer object of 885 artists>"
      ]
     },
     "execution_count": 55,
     "metadata": {},
     "output_type": "execute_result"
    },
    {
     "data": {
      "image/png": "[encoded data removed]",
      "text/plain": [
       "<Figure size 432x288 with 1 Axes>"
      ]
     },
     "metadata": {},
     "output_type": "display_data"
    }
   ],
   "source": [
    "plt.bar(X[\"Market_Leading_Airline\"],Y[\"Average_Fare\"])"
   ]
  },
  {
   "cell_type": "markdown",
   "metadata": {},
   "source": [
    "# 6 . Divide the data set into training and test data set and build a Multiple Linear Regression model. (5 points)"
   ]
  },
  {
   "cell_type": "code",
   "execution_count": 56,
   "metadata": {
    "collapsed": true
   },
   "outputs": [],
   "source": [
    "City1_dummies = pandas.get_dummies(X[\"City1\"])\n",
    "City2_dummies = pandas.get_dummies(X[\"City2\"])\n",
    "Market_Leading_Airline_dummies = pandas.get_dummies(X[\"Market_Leading_Airline\"])\n",
    "Low_price_airline_dummies = pandas.get_dummies(X[\"Low_price_airline\"])"
   ]
  },
  {
   "cell_type": "code",
   "execution_count": 57,
   "metadata": {
    "collapsed": true
   },
   "outputs": [],
   "source": [
    "City2_dummies.columns = City2_dummies.columns.str.lower()\n",
    "Low_price_airline_dummies.columns = Low_price_airline_dummies.columns.str.lower()"
   ]
  },
  {
   "cell_type": "code",
   "execution_count": 58,
   "metadata": {
    "collapsed": true
   },
   "outputs": [],
   "source": [
    "X = X.join([City1_dummies,City2_dummies,Market_Leading_Airline_dummies,Low_price_airline_dummies])"
   ]
  },
  {
   "cell_type": "code",
   "execution_count": 59,
   "metadata": {
    "collapsed": true
   },
   "outputs": [],
   "source": [
    "del X[\"City1\"]\n",
    "del X[\"City2\"]\n",
    "del X[\"Low_price_airline\"]\n",
    "del X[\"Market_Leading_Airline\"]"
   ]
  },
  {
   "cell_type": "code",
   "execution_count": 60,
   "metadata": {
    "collapsed": true
   },
   "outputs": [],
   "source": [
    "from sklearn.model_selection import train_test_split\n",
    "X_train, X_test, Y_train, Y_test = train_test_split(X, Y, test_size=0.3, random_state=100)"
   ]
  },
  {
   "cell_type": "code",
   "execution_count": 61,
   "metadata": {
    "collapsed": true
   },
   "outputs": [],
   "source": [
    "from sklearn.linear_model import LinearRegression"
   ]
  },
  {
   "cell_type": "code",
   "execution_count": 62,
   "metadata": {
    "collapsed": true
   },
   "outputs": [],
   "source": [
    "lm = LinearRegression()"
   ]
  },
  {
   "cell_type": "code",
   "execution_count": 63,
   "metadata": {},
   "outputs": [
    {
     "data": {
      "text/plain": [
       "LinearRegression(copy_X=True, fit_intercept=True, n_jobs=1, normalize=False)"
      ]
     },
     "execution_count": 63,
     "metadata": {},
     "output_type": "execute_result"
    }
   ],
   "source": [
    "lm.fit(X_train[[\"Distance\",\"Price\",\"Average_Fare2\"]],Y_train)"
   ]
  },
  {
   "cell_type": "markdown",
   "metadata": {},
   "source": [
    "# 7. Print the coefficients & intercepts of the linear regression model (5 points)"
   ]
  },
  {
   "cell_type": "code",
   "execution_count": 64,
   "metadata": {},
   "outputs": [
    {
     "name": "stdout",
     "output_type": "stream",
     "text": [
      "Coefficients: \n",
      "  [[0.00198613 0.20380978 0.75632333]]\n"
     ]
    }
   ],
   "source": [
    "print('Coefficients: \\n ', lm.coef_)"
   ]
  },
  {
   "cell_type": "code",
   "execution_count": 65,
   "metadata": {},
   "outputs": [
    {
     "name": "stdout",
     "output_type": "stream",
     "text": [
      "Coefficients: \n",
      "  [6.72922679]\n"
     ]
    }
   ],
   "source": [
    "print('Coefficients: \\n ', lm.intercept_)"
   ]
  },
  {
   "cell_type": "markdown",
   "metadata": {},
   "source": [
    "# 8. Print the accuracy of the overall model (2.5 points)"
   ]
  },
  {
   "cell_type": "code",
   "execution_count": 66,
   "metadata": {
    "collapsed": true
   },
   "outputs": [],
   "source": [
    "predictions = lm.predict(X_test[[\"Distance\",\"Price\",\"Average_Fare2\"]])"
   ]
  },
  {
   "cell_type": "code",
   "execution_count": 67,
   "metadata": {},
   "outputs": [
    {
     "data": {
      "text/plain": [
       "Text(0,0.5,'Predicted Y')"
      ]
     },
     "execution_count": 67,
     "metadata": {},
     "output_type": "execute_result"
    },
    {
     "data": {
      "image/png": "[encoded data removed]",
      "text/plain": [
       "<Figure size 432x288 with 1 Axes>"
      ]
     },
     "metadata": {},
     "output_type": "display_data"
    }
   ],
   "source": [
    "plt.scatter(Y_test,predictions)\n",
    "plt.xlabel('Y Test')\n",
    "plt.ylabel('Predicted Y')"
   ]
  },
  {
   "cell_type": "code",
   "execution_count": 68,
   "metadata": {},
   "outputs": [
    {
     "name": "stdout",
     "output_type": "stream",
     "text": [
      "MAE: 5.288154680751782\n",
      "MSE: 59.741318951286225\n",
      "RMSE: 7.729250866111555\n"
     ]
    }
   ],
   "source": [
    "from sklearn import metrics\n",
    "\n",
    "print('MAE:', metrics.mean_absolute_error(Y_test, predictions))\n",
    "print('MSE:', metrics.mean_squared_error(Y_test, predictions))\n",
    "print('RMSE:', numpy.sqrt(metrics.mean_squared_error(Y_test, predictions)))"
   ]
  },
  {
   "cell_type": "code",
   "execution_count": 69,
   "metadata": {},
   "outputs": [
    {
     "name": "stderr",
     "output_type": "stream",
     "text": [
      "C:\\ProgramData\\Anaconda3\\lib\\site-packages\\matplotlib\\axes\\_axes.py:6462: UserWarning: The 'normed' kwarg is deprecated, and has been replaced by the 'density' kwarg.\n",
      "  warnings.warn(\"The 'normed' kwarg is deprecated, and has been \"\n"
     ]
    },
    {
     "data": {
      "image/png": "[encoded data removed]",
      "text/plain": [
       "<Figure size 432x288 with 1 Axes>"
      ]
     },
     "metadata": {},
     "output_type": "display_data"
    }
   ],
   "source": [
    "sns.distplot((Y_test-predictions),bins=50);"
   ]
  },
  {
   "cell_type": "code",
   "execution_count": 70,
   "metadata": {},
   "outputs": [
    {
     "data": {
      "text/plain": [
       "0.974409205544432"
      ]
     },
     "execution_count": 70,
     "metadata": {},
     "output_type": "execute_result"
    }
   ],
   "source": [
    "r_squared = metrics.r2_score(Y_test,predictions)\n",
    "r_squared"
   ]
  }
 ],
 "metadata": {
  "kernelspec": {
   "display_name": "Python 3",
   "language": "python",
   "name": "python3"
  },
  "language_info": {
   "codemirror_mode": {
    "name": "ipython",
    "version": 3
   },
   "file_extension": ".py",
   "mimetype": "text/x-python",
   "name": "python",
   "nbconvert_exporter": "python",
   "pygments_lexer": "ipython3",
   "version": "3.6.1"
  }
 },
 "nbformat": 4,
 "nbformat_minor": 2
}
