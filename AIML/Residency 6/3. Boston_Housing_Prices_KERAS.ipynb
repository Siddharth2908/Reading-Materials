{
 "cells": [
  {
   "cell_type": "markdown",
   "metadata": {
    "colab_type": "text",
    "id": "XQd7q6QVtjuq",
    "slideshow": {
     "slide_type": "slide"
    }
   },
   "source": [
    "### Load tensorflow"
   ]
  },
  {
   "cell_type": "code",
   "execution_count": 1,
   "metadata": {
    "colab": {},
    "colab_type": "code",
    "collapsed": true,
    "id": "nmoXXaDCtjur"
   },
   "outputs": [],
   "source": [
    "import tensorflow as tf\n",
    "tf.reset_default_graph()"
   ]
  },
  {
   "cell_type": "markdown",
   "metadata": {
    "colab_type": "text",
    "id": "b2Hh5BOStjuv",
    "slideshow": {
     "slide_type": "slide"
    }
   },
   "source": [
    "### Collect Data"
   ]
  },
  {
   "cell_type": "code",
   "execution_count": 2,
   "metadata": {
    "colab": {},
    "colab_type": "code",
    "collapsed": true,
    "id": "B7RVc9Ettjuw"
   },
   "outputs": [],
   "source": [
    "(features, actual_prices),_ = tf.keras.datasets.boston_housing.load_data(test_split=0)"
   ]
  },
  {
   "cell_type": "code",
   "execution_count": 3,
   "metadata": {
    "colab": {},
    "colab_type": "code",
    "id": "Liir8Uw2tjuz",
    "slideshow": {
     "slide_type": "fragment"
    }
   },
   "outputs": [
    {
     "name": "stdout",
     "output_type": "stream",
     "text": [
      "Number of examples:  506\n",
      "Number of features for each example:  13\n",
      "Shape of actual prices data:  (506,)\n"
     ]
    }
   ],
   "source": [
    "print('Number of examples: ', features.shape[0])\n",
    "print('Number of features for each example: ', features.shape[1])\n",
    "print('Shape of actual prices data: ', actual_prices.shape)"
   ]
  },
  {
   "cell_type": "markdown",
   "metadata": {
    "colab_type": "text",
    "id": "VYKevQtMtju2",
    "slideshow": {
     "slide_type": "slide"
    }
   },
   "source": [
    "### Building the graph in Keras"
   ]
  },
  {
   "cell_type": "code",
   "execution_count": 4,
   "metadata": {
    "colab": {},
    "colab_type": "code",
    "collapsed": true,
    "id": "DwqnAbMttju3",
    "slideshow": {
     "slide_type": "fragment"
    }
   },
   "outputs": [],
   "source": [
    "#Initialize Sequential Graph (model)\n",
    "model = tf.keras.models.Sequential()\n",
    "\n",
    "#Normalize input data\n",
    "model.add(tf.keras.layers.BatchNormalization(input_shape=(13,)))\n",
    "\n",
    "#Add Dense layer for prediction - Keras declares weights and bias automatically\n",
    "model.add(tf.keras.layers.Dense(1))\n",
    "\n",
    "#Compile the model - add Loss and Gradient Descent optimizer\n",
    "model.compile(optimizer='sgd', loss='mse')"
   ]
  },
  {
   "cell_type": "markdown",
   "metadata": {
    "colab_type": "text",
    "id": "kbXIWW5Ptju6",
    "slideshow": {
     "slide_type": "slide"
    }
   },
   "source": [
    "### Execute the Graph"
   ]
  },
  {
   "cell_type": "code",
   "execution_count": 5,
   "metadata": {
    "colab": {},
    "colab_type": "code",
    "id": "fil-3oQVtju7",
    "scrolled": false,
    "slideshow": {
     "slide_type": "fragment"
    }
   },
   "outputs": [
    {
     "name": "stdout",
     "output_type": "stream",
     "text": [
      "Epoch 1/100\n",
      "506/506 [==============================] - 0s 429us/step - loss: 169.2292\n",
      "Epoch 2/100\n",
      "506/506 [==============================] - 0s 67us/step - loss: 39.5824\n",
      "Epoch 3/100\n",
      "506/506 [==============================] - 0s 105us/step - loss: 37.3174\n",
      "Epoch 4/100\n",
      "506/506 [==============================] - 0s 77us/step - loss: 33.4322\n",
      "Epoch 5/100\n",
      "506/506 [==============================] - 0s 89us/step - loss: 34.0956\n",
      "Epoch 6/100\n",
      "506/506 [==============================] - 0s 101us/step - loss: 31.9612\n",
      "Epoch 7/100\n",
      "506/506 [==============================] - 0s 89us/step - loss: 27.0790\n",
      "Epoch 8/100\n",
      "506/506 [==============================] - 0s 77us/step - loss: 30.3295\n",
      "Epoch 9/100\n",
      "506/506 [==============================] - 0s 59us/step - loss: 28.0254\n",
      "Epoch 10/100\n",
      "506/506 [==============================] - 0s 85us/step - loss: 28.3652\n",
      "Epoch 11/100\n",
      "506/506 [==============================] - 0s 89us/step - loss: 28.8509\n",
      "Epoch 12/100\n",
      "506/506 [==============================] - 0s 85us/step - loss: 28.8643\n",
      "Epoch 13/100\n",
      "506/506 [==============================] - 0s 81us/step - loss: 29.0785\n",
      "Epoch 14/100\n",
      "506/506 [==============================] - 0s 81us/step - loss: 32.7372\n",
      "Epoch 15/100\n",
      "506/506 [==============================] - 0s 89us/step - loss: 26.3790\n",
      "Epoch 16/100\n",
      "506/506 [==============================] - 0s 97us/step - loss: 29.5457\n",
      "Epoch 17/100\n",
      "506/506 [==============================] - 0s 99us/step - loss: 26.9909\n",
      "Epoch 18/100\n",
      "506/506 [==============================] - 0s 89us/step - loss: 28.4510\n",
      "Epoch 19/100\n",
      "506/506 [==============================] - 0s 85us/step - loss: 27.5914\n",
      "Epoch 20/100\n",
      "506/506 [==============================] - 0s 73us/step - loss: 29.1878\n",
      "Epoch 21/100\n",
      "506/506 [==============================] - 0s 95us/step - loss: 32.8143\n",
      "Epoch 22/100\n",
      "506/506 [==============================] - 0s 91us/step - loss: 27.6885\n",
      "Epoch 23/100\n",
      "506/506 [==============================] - 0s 83us/step - loss: 27.1871\n",
      "Epoch 24/100\n",
      "506/506 [==============================] - 0s 75us/step - loss: 28.8325\n",
      "Epoch 25/100\n",
      "506/506 [==============================] - 0s 65us/step - loss: 25.2744\n",
      "Epoch 26/100\n",
      "506/506 [==============================] - 0s 93us/step - loss: 29.9463\n",
      "Epoch 27/100\n",
      "506/506 [==============================] - 0s 87us/step - loss: 27.6602\n",
      "Epoch 28/100\n",
      "506/506 [==============================] - 0s 77us/step - loss: 27.4180\n",
      "Epoch 29/100\n",
      "506/506 [==============================] - 0s 77us/step - loss: 24.9537\n",
      "Epoch 30/100\n",
      "506/506 [==============================] - 0s 67us/step - loss: 28.0327\n",
      "Epoch 31/100\n",
      "506/506 [==============================] - 0s 77us/step - loss: 25.2251\n",
      "Epoch 32/100\n",
      "506/506 [==============================] - 0s 83us/step - loss: 24.0007\n",
      "Epoch 33/100\n",
      "506/506 [==============================] - 0s 89us/step - loss: 28.5488\n",
      "Epoch 34/100\n",
      "506/506 [==============================] - 0s 83us/step - loss: 29.8032\n",
      "Epoch 35/100\n",
      "506/506 [==============================] - 0s 61us/step - loss: 28.1838\n",
      "Epoch 36/100\n",
      "506/506 [==============================] - 0s 71us/step - loss: 26.9449\n",
      "Epoch 37/100\n",
      "506/506 [==============================] - 0s 79us/step - loss: 24.8319\n",
      "Epoch 38/100\n",
      "506/506 [==============================] - 0s 73us/step - loss: 27.7439\n",
      "Epoch 39/100\n",
      "506/506 [==============================] - 0s 75us/step - loss: 29.7327\n",
      "Epoch 40/100\n",
      "506/506 [==============================] - 0s 71us/step - loss: 30.2296\n",
      "Epoch 41/100\n",
      "506/506 [==============================] - 0s 69us/step - loss: 29.6867\n",
      "Epoch 42/100\n",
      "506/506 [==============================] - 0s 71us/step - loss: 28.4646\n",
      "Epoch 43/100\n",
      "506/506 [==============================] - 0s 65us/step - loss: 26.4635\n",
      "Epoch 44/100\n",
      "506/506 [==============================] - 0s 75us/step - loss: 28.0325\n",
      "Epoch 45/100\n",
      "506/506 [==============================] - 0s 55us/step - loss: 27.2756\n",
      "Epoch 46/100\n",
      "506/506 [==============================] - 0s 81us/step - loss: 26.8548\n",
      "Epoch 47/100\n",
      "506/506 [==============================] - 0s 79us/step - loss: 27.1466\n",
      "Epoch 48/100\n",
      "506/506 [==============================] - 0s 63us/step - loss: 26.3874\n",
      "Epoch 49/100\n",
      "506/506 [==============================] - 0s 95us/step - loss: 26.9345\n",
      "Epoch 50/100\n",
      "506/506 [==============================] - 0s 81us/step - loss: 25.4993\n",
      "Epoch 51/100\n",
      "506/506 [==============================] - 0s 65us/step - loss: 30.3075\n",
      "Epoch 52/100\n",
      "506/506 [==============================] - 0s 75us/step - loss: 25.7588\n",
      "Epoch 53/100\n",
      "506/506 [==============================] - 0s 77us/step - loss: 26.9925\n",
      "Epoch 54/100\n",
      "506/506 [==============================] - 0s 63us/step - loss: 29.1891\n",
      "Epoch 55/100\n",
      "506/506 [==============================] - 0s 93us/step - loss: 25.5783\n",
      "Epoch 56/100\n",
      "506/506 [==============================] - 0s 63us/step - loss: 25.9033\n",
      "Epoch 57/100\n",
      "506/506 [==============================] - 0s 87us/step - loss: 26.3732\n",
      "Epoch 58/100\n",
      "506/506 [==============================] - 0s 61us/step - loss: 25.6634\n",
      "Epoch 59/100\n",
      "506/506 [==============================] - 0s 75us/step - loss: 26.3900\n",
      "Epoch 60/100\n",
      "506/506 [==============================] - 0s 93us/step - loss: 23.6193\n",
      "Epoch 61/100\n",
      "506/506 [==============================] - ETA: 0s - loss: 24.48 - 0s 97us/step - loss: 27.9951\n",
      "Epoch 62/100\n",
      "506/506 [==============================] - 0s 71us/step - loss: 27.8383\n",
      "Epoch 63/100\n",
      "506/506 [==============================] - 0s 81us/step - loss: 26.5489\n",
      "Epoch 64/100\n",
      "506/506 [==============================] - 0s 71us/step - loss: 28.0742\n",
      "Epoch 65/100\n",
      "506/506 [==============================] - 0s 57us/step - loss: 28.3068\n",
      "Epoch 66/100\n",
      "506/506 [==============================] - 0s 75us/step - loss: 28.9882\n",
      "Epoch 67/100\n",
      "506/506 [==============================] - 0s 59us/step - loss: 31.6766\n",
      "Epoch 68/100\n",
      "506/506 [==============================] - 0s 87us/step - loss: 27.9540\n",
      "Epoch 69/100\n",
      "506/506 [==============================] - 0s 73us/step - loss: 23.7246\n",
      "Epoch 70/100\n",
      "506/506 [==============================] - 0s 83us/step - loss: 27.3072\n",
      "Epoch 71/100\n",
      "506/506 [==============================] - 0s 57us/step - loss: 28.0164\n",
      "Epoch 72/100\n",
      "506/506 [==============================] - 0s 69us/step - loss: 26.2498\n",
      "Epoch 73/100\n",
      "506/506 [==============================] - 0s 61us/step - loss: 27.7229\n",
      "Epoch 74/100\n",
      "506/506 [==============================] - 0s 67us/step - loss: 27.0184\n",
      "Epoch 75/100\n",
      "506/506 [==============================] - 0s 61us/step - loss: 31.6950\n",
      "Epoch 76/100\n",
      "506/506 [==============================] - 0s 67us/step - loss: 27.5918\n",
      "Epoch 77/100\n",
      "506/506 [==============================] - 0s 89us/step - loss: 26.8575\n",
      "Epoch 78/100\n",
      "506/506 [==============================] - 0s 57us/step - loss: 28.7849\n",
      "Epoch 79/100\n",
      "506/506 [==============================] - 0s 73us/step - loss: 31.1183\n",
      "Epoch 80/100\n",
      "506/506 [==============================] - 0s 65us/step - loss: 26.9214\n",
      "Epoch 81/100\n",
      "506/506 [==============================] - 0s 67us/step - loss: 28.8334\n",
      "Epoch 82/100\n",
      "506/506 [==============================] - 0s 63us/step - loss: 31.3703\n",
      "Epoch 83/100\n",
      "506/506 [==============================] - 0s 67us/step - loss: 25.2612\n",
      "Epoch 84/100\n",
      "506/506 [==============================] - 0s 83us/step - loss: 25.2937\n",
      "Epoch 85/100\n",
      "506/506 [==============================] - 0s 85us/step - loss: 27.4587\n",
      "Epoch 86/100\n",
      "506/506 [==============================] - 0s 73us/step - loss: 30.6107\n",
      "Epoch 87/100\n",
      "506/506 [==============================] - 0s 59us/step - loss: 30.4435\n",
      "Epoch 88/100\n",
      "506/506 [==============================] - 0s 85us/step - loss: 24.9700\n",
      "Epoch 89/100\n",
      "506/506 [==============================] - 0s 67us/step - loss: 27.8043\n",
      "Epoch 90/100\n",
      "506/506 [==============================] - 0s 91us/step - loss: 28.4866\n",
      "Epoch 91/100\n",
      "506/506 [==============================] - 0s 59us/step - loss: 29.1713\n",
      "Epoch 92/100\n",
      "506/506 [==============================] - 0s 73us/step - loss: 28.1107\n",
      "Epoch 93/100\n",
      "506/506 [==============================] - 0s 69us/step - loss: 28.5343\n",
      "Epoch 94/100\n",
      "506/506 [==============================] - 0s 77us/step - loss: 26.0719\n",
      "Epoch 95/100\n",
      "506/506 [==============================] - 0s 81us/step - loss: 23.7512\n",
      "Epoch 96/100\n",
      "506/506 [==============================] - 0s 79us/step - loss: 26.1740\n",
      "Epoch 97/100\n"
     ]
    },
    {
     "name": "stdout",
     "output_type": "stream",
     "text": [
      "506/506 [==============================] - 0s 67us/step - loss: 30.1372\n",
      "Epoch 98/100\n",
      "506/506 [==============================] - 0s 97us/step - loss: 29.6859\n",
      "Epoch 99/100\n",
      "506/506 [==============================] - 0s 83us/step - loss: 28.2763\n",
      "Epoch 100/100\n",
      "506/506 [==============================] - 0s 133us/step - loss: 26.6275\n"
     ]
    },
    {
     "data": {
      "text/plain": [
       "<tensorflow.python.keras.callbacks.History at 0x22093c14da0>"
      ]
     },
     "execution_count": 5,
     "metadata": {},
     "output_type": "execute_result"
    }
   ],
   "source": [
    "model.fit(features, actual_prices, epochs=100)"
   ]
  },
  {
   "cell_type": "markdown",
   "metadata": {
    "colab_type": "text",
    "id": "WEcEbkRhtju9",
    "slideshow": {
     "slide_type": "slide"
    }
   },
   "source": [
    "### Save the model"
   ]
  },
  {
   "cell_type": "code",
   "execution_count": 0,
   "metadata": {
    "colab": {},
    "colab_type": "code",
    "collapsed": true,
    "id": "theE0__Ltju-",
    "slideshow": {
     "slide_type": "fragment"
    }
   },
   "outputs": [],
   "source": [
    "model.save('boston_housing_lr.h5')"
   ]
  },
  {
   "cell_type": "code",
   "execution_count": 0,
   "metadata": {
    "colab": {},
    "colab_type": "code",
    "collapsed": true,
    "id": "0wIHJa-lVT-J"
   },
   "outputs": [],
   "source": [
    "model.to_json()"
   ]
  },
  {
   "cell_type": "code",
   "execution_count": 0,
   "metadata": {
    "colab": {},
    "colab_type": "code",
    "collapsed": true,
    "id": "I6pAcNJNVhex"
   },
   "outputs": [],
   "source": []
  }
 ],
 "metadata": {
  "colab": {
   "name": "3. Boston_Housing_Prices_KERAS.ipynb",
   "private_outputs": true,
   "provenance": [],
   "version": "0.3.2"
  },
  "kernelspec": {
   "display_name": "Python 3",
   "language": "python",
   "name": "python3"
  },
  "language_info": {
   "codemirror_mode": {
    "name": "ipython",
    "version": 3
   },
   "file_extension": ".py",
   "mimetype": "text/x-python",
   "name": "python",
   "nbconvert_exporter": "python",
   "pygments_lexer": "ipython3",
   "version": "3.6.1"
  }
 },
 "nbformat": 4,
 "nbformat_minor": 1
}
